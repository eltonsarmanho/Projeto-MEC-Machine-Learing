{
 "cells": [
  {
   "cell_type": "code",
   "execution_count": 1,
   "id": "6550c3df",
   "metadata": {},
   "outputs": [],
   "source": [
    "import pandas as pd\n",
    "import numpy as np\n",
    "import scipy.stats as st\n",
    "import plotly.express as px\n",
    "import plotly.graph_objects as go\n",
    "import psycopg2\n",
    "import random\n",
    "import sys"
   ]
  },
  {
   "cell_type": "code",
   "execution_count": 2,
   "id": "47132243",
   "metadata": {},
   "outputs": [],
   "source": [
    "def loadData(url):\n",
    "    try:\n",
    "        dataset = pd.read_csv(url,delimiter='\\t',)\n",
    "        print(dataset.shape)\n",
    "        dict_uf= {11:'RO',12:'AC',13:'AM',14:'RR',15:'PA',16:'AP',17:'TO',21:'MA',22:'PI',23:'CE',24:'RN',\n",
    "              25:'PB',26:'PE',27:'AL',28:'SE',29:'BA',31:'MG',32:'ES',33:'RJ',35:'SP',41:'PR',42:'SC',43:'RS',50:'MS',\n",
    "              51:'MT',52:'GO',53:'DF',}\n",
    "        dataset = dataset.replace({\"ID_UF\": dict_uf})\n",
    "        return dataset;\n",
    "    except:\n",
    "        print(\"Oops!\", sys.exc_info()[0], \"occurred.\")"
   ]
  },
  {
   "cell_type": "code",
   "execution_count": 3,
   "id": "fce8551a",
   "metadata": {},
   "outputs": [
    {
     "name": "stdout",
     "output_type": "stream",
     "text": [
      "(62668, 197)\n"
     ]
    }
   ],
   "source": [
    "path_file = '../Dataset/inep_saeb_merge_fatorial_2019.csv'\n",
    "df = loadData(path_file)\n"
   ]
  },
  {
   "cell_type": "code",
   "execution_count": 4,
   "id": "6c1bccf5",
   "metadata": {},
   "outputs": [
    {
     "data": {
      "text/html": [
       "<div>\n",
       "<style scoped>\n",
       "    .dataframe tbody tr th:only-of-type {\n",
       "        vertical-align: middle;\n",
       "    }\n",
       "\n",
       "    .dataframe tbody tr th {\n",
       "        vertical-align: top;\n",
       "    }\n",
       "\n",
       "    .dataframe thead th {\n",
       "        text-align: right;\n",
       "    }\n",
       "</style>\n",
       "<table border=\"1\" class=\"dataframe\">\n",
       "  <thead>\n",
       "    <tr style=\"text-align: right;\">\n",
       "      <th></th>\n",
       "      <th>ID_SAEB</th>\n",
       "      <th>ID_REGIAO</th>\n",
       "      <th>ID_UF</th>\n",
       "      <th>CO_ENTIDADE</th>\n",
       "      <th>NU_PRESENTES_5EF</th>\n",
       "      <th>NU_PRESENTES_9EF</th>\n",
       "      <th>NU_PRESENTES_EMT</th>\n",
       "      <th>NU_PRESENTES_EMI</th>\n",
       "      <th>NU_PRESENTES_EM</th>\n",
       "      <th>MEDIA_5EF_LP</th>\n",
       "      <th>...</th>\n",
       "      <th>IN_ESP_EXCLUSIVA_FUND_AF</th>\n",
       "      <th>IN_ESP_EXCLUSIVA_MEDIO_MEDIO</th>\n",
       "      <th>Estrutura</th>\n",
       "      <th>PED</th>\n",
       "      <th>LibrasBraile</th>\n",
       "      <th>TratamentoLixo</th>\n",
       "      <th>PCD</th>\n",
       "      <th>Acessibilidade</th>\n",
       "      <th>Internet</th>\n",
       "      <th>Transporte</th>\n",
       "    </tr>\n",
       "  </thead>\n",
       "  <tbody>\n",
       "    <tr>\n",
       "      <th>0</th>\n",
       "      <td>2019</td>\n",
       "      <td>1</td>\n",
       "      <td>RO</td>\n",
       "      <td>11024666</td>\n",
       "      <td>18.0</td>\n",
       "      <td>13.0</td>\n",
       "      <td>NaN</td>\n",
       "      <td>NaN</td>\n",
       "      <td>NaN</td>\n",
       "      <td>184.83</td>\n",
       "      <td>...</td>\n",
       "      <td>0.0</td>\n",
       "      <td>0.0</td>\n",
       "      <td>-1.09</td>\n",
       "      <td>-0.29</td>\n",
       "      <td>-0.28</td>\n",
       "      <td>-0.22</td>\n",
       "      <td>0.29</td>\n",
       "      <td>-1.51</td>\n",
       "      <td>0.14</td>\n",
       "      <td>0.32</td>\n",
       "    </tr>\n",
       "    <tr>\n",
       "      <th>1</th>\n",
       "      <td>2019</td>\n",
       "      <td>1</td>\n",
       "      <td>RO</td>\n",
       "      <td>11024682</td>\n",
       "      <td>149.0</td>\n",
       "      <td>NaN</td>\n",
       "      <td>NaN</td>\n",
       "      <td>NaN</td>\n",
       "      <td>NaN</td>\n",
       "      <td>223.45</td>\n",
       "      <td>...</td>\n",
       "      <td>0.0</td>\n",
       "      <td>0.0</td>\n",
       "      <td>-0.97</td>\n",
       "      <td>-0.28</td>\n",
       "      <td>-0.50</td>\n",
       "      <td>0.73</td>\n",
       "      <td>1.53</td>\n",
       "      <td>-1.18</td>\n",
       "      <td>0.58</td>\n",
       "      <td>0.16</td>\n",
       "    </tr>\n",
       "    <tr>\n",
       "      <th>2</th>\n",
       "      <td>2019</td>\n",
       "      <td>1</td>\n",
       "      <td>RO</td>\n",
       "      <td>11024828</td>\n",
       "      <td>21.0</td>\n",
       "      <td>14.0</td>\n",
       "      <td>NaN</td>\n",
       "      <td>NaN</td>\n",
       "      <td>NaN</td>\n",
       "      <td>158.06</td>\n",
       "      <td>...</td>\n",
       "      <td>0.0</td>\n",
       "      <td>0.0</td>\n",
       "      <td>-1.06</td>\n",
       "      <td>-0.29</td>\n",
       "      <td>-0.14</td>\n",
       "      <td>-0.23</td>\n",
       "      <td>-0.50</td>\n",
       "      <td>-1.40</td>\n",
       "      <td>0.04</td>\n",
       "      <td>0.28</td>\n",
       "    </tr>\n",
       "    <tr>\n",
       "      <th>3</th>\n",
       "      <td>2019</td>\n",
       "      <td>1</td>\n",
       "      <td>RO</td>\n",
       "      <td>11024968</td>\n",
       "      <td>NaN</td>\n",
       "      <td>NaN</td>\n",
       "      <td>66.0</td>\n",
       "      <td>NaN</td>\n",
       "      <td>66.0</td>\n",
       "      <td>NaN</td>\n",
       "      <td>...</td>\n",
       "      <td>0.0</td>\n",
       "      <td>0.0</td>\n",
       "      <td>-1.01</td>\n",
       "      <td>-0.29</td>\n",
       "      <td>-0.17</td>\n",
       "      <td>-0.24</td>\n",
       "      <td>-0.70</td>\n",
       "      <td>-1.49</td>\n",
       "      <td>0.55</td>\n",
       "      <td>-0.17</td>\n",
       "    </tr>\n",
       "    <tr>\n",
       "      <th>4</th>\n",
       "      <td>2019</td>\n",
       "      <td>1</td>\n",
       "      <td>RO</td>\n",
       "      <td>11025077</td>\n",
       "      <td>13.0</td>\n",
       "      <td>9.0</td>\n",
       "      <td>NaN</td>\n",
       "      <td>NaN</td>\n",
       "      <td>NaN</td>\n",
       "      <td>173.45</td>\n",
       "      <td>...</td>\n",
       "      <td>0.0</td>\n",
       "      <td>0.0</td>\n",
       "      <td>-1.09</td>\n",
       "      <td>-0.30</td>\n",
       "      <td>-0.29</td>\n",
       "      <td>-0.22</td>\n",
       "      <td>0.08</td>\n",
       "      <td>-1.36</td>\n",
       "      <td>-0.03</td>\n",
       "      <td>0.33</td>\n",
       "    </tr>\n",
       "  </tbody>\n",
       "</table>\n",
       "<p>5 rows × 197 columns</p>\n",
       "</div>"
      ],
      "text/plain": [
       "   ID_SAEB  ID_REGIAO ID_UF  CO_ENTIDADE  NU_PRESENTES_5EF  NU_PRESENTES_9EF  \\\n",
       "0     2019          1    RO     11024666              18.0              13.0   \n",
       "1     2019          1    RO     11024682             149.0               NaN   \n",
       "2     2019          1    RO     11024828              21.0              14.0   \n",
       "3     2019          1    RO     11024968               NaN               NaN   \n",
       "4     2019          1    RO     11025077              13.0               9.0   \n",
       "\n",
       "   NU_PRESENTES_EMT  NU_PRESENTES_EMI  NU_PRESENTES_EM  MEDIA_5EF_LP  ...  \\\n",
       "0               NaN               NaN              NaN        184.83  ...   \n",
       "1               NaN               NaN              NaN        223.45  ...   \n",
       "2               NaN               NaN              NaN        158.06  ...   \n",
       "3              66.0               NaN             66.0           NaN  ...   \n",
       "4               NaN               NaN              NaN        173.45  ...   \n",
       "\n",
       "   IN_ESP_EXCLUSIVA_FUND_AF  IN_ESP_EXCLUSIVA_MEDIO_MEDIO  Estrutura   PED  \\\n",
       "0                       0.0                           0.0      -1.09 -0.29   \n",
       "1                       0.0                           0.0      -0.97 -0.28   \n",
       "2                       0.0                           0.0      -1.06 -0.29   \n",
       "3                       0.0                           0.0      -1.01 -0.29   \n",
       "4                       0.0                           0.0      -1.09 -0.30   \n",
       "\n",
       "   LibrasBraile  TratamentoLixo   PCD  Acessibilidade  Internet  Transporte  \n",
       "0         -0.28           -0.22  0.29           -1.51      0.14        0.32  \n",
       "1         -0.50            0.73  1.53           -1.18      0.58        0.16  \n",
       "2         -0.14           -0.23 -0.50           -1.40      0.04        0.28  \n",
       "3         -0.17           -0.24 -0.70           -1.49      0.55       -0.17  \n",
       "4         -0.29           -0.22  0.08           -1.36     -0.03        0.33  \n",
       "\n",
       "[5 rows x 197 columns]"
      ]
     },
     "execution_count": 4,
     "metadata": {},
     "output_type": "execute_result"
    }
   ],
   "source": [
    "dict_uf= {11:'RO',12:'AC',13:'AM',14:'RR',15:'PA',16:'AP',17:'TO',21:'MA',22:'PI',23:'CE',24:'RN',\n",
    "              25:'PB',26:'PE',27:'AL',28:'SE',29:'BA',31:'MG',32:'ES',33:'RJ',35:'SP',41:'PR',42:'SC',43:'RS',50:'MS',\n",
    "              51:'MT',52:'GO',53:'DF',}\n",
    "df = df.replace({\"ID_UF\": dict_uf})\n",
    "df.head()"
   ]
  },
  {
   "cell_type": "code",
   "execution_count": 5,
   "id": "e1840738",
   "metadata": {},
   "outputs": [
    {
     "data": {
      "text/html": [
       "<div>\n",
       "<style scoped>\n",
       "    .dataframe tbody tr th:only-of-type {\n",
       "        vertical-align: middle;\n",
       "    }\n",
       "\n",
       "    .dataframe tbody tr th {\n",
       "        vertical-align: top;\n",
       "    }\n",
       "\n",
       "    .dataframe thead th {\n",
       "        text-align: right;\n",
       "    }\n",
       "</style>\n",
       "<table border=\"1\" class=\"dataframe\">\n",
       "  <thead>\n",
       "    <tr style=\"text-align: right;\">\n",
       "      <th></th>\n",
       "      <th>Estrutura</th>\n",
       "      <th>PED</th>\n",
       "      <th>LibrasBraile</th>\n",
       "      <th>TratamentoLixo</th>\n",
       "      <th>PCD</th>\n",
       "      <th>Acessibilidade</th>\n",
       "      <th>Internet</th>\n",
       "      <th>Transporte</th>\n",
       "    </tr>\n",
       "  </thead>\n",
       "  <tbody>\n",
       "    <tr>\n",
       "      <th>62667</th>\n",
       "      <td>-0.000006</td>\n",
       "      <td>-0.000005</td>\n",
       "      <td>0.000009</td>\n",
       "      <td>0.000014</td>\n",
       "      <td>0.000002</td>\n",
       "      <td>-0.000007</td>\n",
       "      <td>0.000005</td>\n",
       "      <td>-0.000011</td>\n",
       "    </tr>\n",
       "  </tbody>\n",
       "</table>\n",
       "</div>"
      ],
      "text/plain": [
       "       Estrutura       PED  LibrasBraile  TratamentoLixo       PCD  \\\n",
       "62667  -0.000006 -0.000005      0.000009        0.000014  0.000002   \n",
       "\n",
       "       Acessibilidade  Internet  Transporte  \n",
       "62667       -0.000007  0.000005   -0.000011  "
      ]
     },
     "execution_count": 5,
     "metadata": {},
     "output_type": "execute_result"
    }
   ],
   "source": [
    "#Agrupar por Nacional\n",
    "#Veririfcar Estado com maior/menor pontuacao \n",
    "cols = ['Estrutura','PED','LibrasBraile','TratamentoLixo','PCD','Acessibilidade','Internet','Transporte']\n",
    "#data_brasil_fatores = df[cols].mean()\n",
    "\n",
    "data_brasil_fatores = pd.DataFrame(df[cols].mean().to_dict(),index=[df[cols].index.values[-1]])\n",
    "\n",
    "data_brasil_fatores.head()"
   ]
  },
  {
   "cell_type": "code",
   "execution_count": 6,
   "id": "4c25b8c8",
   "metadata": {},
   "outputs": [
    {
     "data": {
      "text/html": [
       "<div>\n",
       "<style scoped>\n",
       "    .dataframe tbody tr th:only-of-type {\n",
       "        vertical-align: middle;\n",
       "    }\n",
       "\n",
       "    .dataframe tbody tr th {\n",
       "        vertical-align: top;\n",
       "    }\n",
       "\n",
       "    .dataframe thead th {\n",
       "        text-align: right;\n",
       "    }\n",
       "</style>\n",
       "<table border=\"1\" class=\"dataframe\">\n",
       "  <thead>\n",
       "    <tr style=\"text-align: right;\">\n",
       "      <th></th>\n",
       "      <th>Estrutura</th>\n",
       "      <th>PED</th>\n",
       "      <th>LibrasBraile</th>\n",
       "      <th>TratamentoLixo</th>\n",
       "      <th>PCD</th>\n",
       "      <th>Acessibilidade</th>\n",
       "      <th>Internet</th>\n",
       "      <th>Transporte</th>\n",
       "    </tr>\n",
       "  </thead>\n",
       "  <tbody>\n",
       "    <tr>\n",
       "      <th>5541</th>\n",
       "      <td>-0.575539</td>\n",
       "      <td>0.043245</td>\n",
       "      <td>0.30105</td>\n",
       "      <td>-0.024661</td>\n",
       "      <td>0.27091</td>\n",
       "      <td>-1.60798</td>\n",
       "      <td>-0.187623</td>\n",
       "      <td>-0.328272</td>\n",
       "    </tr>\n",
       "  </tbody>\n",
       "</table>\n",
       "</div>"
      ],
      "text/plain": [
       "      Estrutura       PED  LibrasBraile  TratamentoLixo      PCD  \\\n",
       "5541  -0.575539  0.043245       0.30105       -0.024661  0.27091   \n",
       "\n",
       "      Acessibilidade  Internet  Transporte  \n",
       "5541        -1.60798 -0.187623   -0.328272  "
      ]
     },
     "execution_count": 6,
     "metadata": {},
     "output_type": "execute_result"
    }
   ],
   "source": [
    "#Agrupar por Estados\n",
    "filter = (df['ID_UF'] == 'PA')\n",
    "data_estado_ = df[filter]\n",
    "\n",
    "cols = ['Estrutura','PED','LibrasBraile','TratamentoLixo','PCD','Acessibilidade','Internet','Transporte']\n",
    "\n",
    "\n",
    "data_estado_1_fatores = pd.DataFrame(data_estado_[cols].mean().to_dict(),index=[data_estado_[cols].index.values[-1]])\n",
    "data_estado_1_fatores.head()\n",
    "\n"
   ]
  },
  {
   "cell_type": "code",
   "execution_count": 7,
   "id": "ef26de7b",
   "metadata": {},
   "outputs": [
    {
     "data": {
      "text/html": [
       "<div>\n",
       "<style scoped>\n",
       "    .dataframe tbody tr th:only-of-type {\n",
       "        vertical-align: middle;\n",
       "    }\n",
       "\n",
       "    .dataframe tbody tr th {\n",
       "        vertical-align: top;\n",
       "    }\n",
       "\n",
       "    .dataframe thead th {\n",
       "        text-align: right;\n",
       "    }\n",
       "</style>\n",
       "<table border=\"1\" class=\"dataframe\">\n",
       "  <thead>\n",
       "    <tr style=\"text-align: right;\">\n",
       "      <th></th>\n",
       "      <th>Estrutura</th>\n",
       "      <th>PED</th>\n",
       "      <th>LibrasBraile</th>\n",
       "      <th>TratamentoLixo</th>\n",
       "      <th>PCD</th>\n",
       "      <th>Acessibilidade</th>\n",
       "      <th>Internet</th>\n",
       "      <th>Transporte</th>\n",
       "    </tr>\n",
       "  </thead>\n",
       "  <tbody>\n",
       "    <tr>\n",
       "      <th>58462</th>\n",
       "      <td>-0.57584</td>\n",
       "      <td>0.315529</td>\n",
       "      <td>-0.068447</td>\n",
       "      <td>0.03462</td>\n",
       "      <td>0.075431</td>\n",
       "      <td>1.146198</td>\n",
       "      <td>0.478045</td>\n",
       "      <td>-0.045082</td>\n",
       "    </tr>\n",
       "  </tbody>\n",
       "</table>\n",
       "</div>"
      ],
      "text/plain": [
       "       Estrutura       PED  LibrasBraile  TratamentoLixo       PCD  \\\n",
       "58462   -0.57584  0.315529     -0.068447         0.03462  0.075431   \n",
       "\n",
       "       Acessibilidade  Internet  Transporte  \n",
       "58462        1.146198  0.478045   -0.045082  "
      ]
     },
     "execution_count": 7,
     "metadata": {},
     "output_type": "execute_result"
    }
   ],
   "source": [
    "#Agrupar por Estados\n",
    "filter = (df['ID_UF'] == 'RS')\n",
    "data_estado_ = df[filter]\n",
    "\n",
    "cols = ['Estrutura','PED','LibrasBraile','TratamentoLixo','PCD','Acessibilidade','Internet','Transporte']\n",
    "\n",
    "\n",
    "data_estado_2_fatores = pd.DataFrame(data_estado_[cols].mean().to_dict(),index=[data_estado_[cols].index.values[-1]])\n",
    "data_estado_2_fatores.head()\n",
    "\n"
   ]
  },
  {
   "cell_type": "code",
   "execution_count": 8,
   "id": "2504d0dd",
   "metadata": {},
   "outputs": [],
   "source": [
    "def plotRadarCensoSaeb():\n",
    "   \n",
    "    #Carrega dados\n",
    "    #path_file = 'https://raw.githubusercontent.com/eltonsarmanho/GoogleFitDataFlow/main/data/inep_saeb_merge_fatorial_2019.csv'\n",
    "    path_file = '../Dataset/inep_saeb_merge_fatorial_2019.csv'\n",
    "\n",
    "    dataset = pd.read_csv(path_file, delimiter='\\t', )\n",
    "    dict_uf = {11: 'RO', 12: 'AC', 13: 'AM', 14: 'RR', 15: 'PA', 16: 'AP', 17: 'TO', 21: 'MA', 22: 'PI', 23: 'CE',\n",
    "               24: 'RN',\n",
    "               25: 'PB', 26: 'PE', 27: 'AL', 28: 'SE', 29: 'BA', 31: 'MG', 32: 'ES', 33: 'RJ', 35: 'SP', 41: 'PR',\n",
    "               42: 'SC', 43: 'RS', 50: 'MS',\n",
    "               51: 'MT', 52: 'GO', 53: 'DF', }\n",
    "    for k, v in dict_uf.items():\n",
    "    df = dataset.replace({\"ID_UF\": dict_uf})\n",
    "     \n",
    "    \n",
    "    #Processamento no contexto nacional\n",
    "    #Agrupar por Nacional\n",
    "    cols = ['Estrutura','PED','LibrasBraile','TratamentoLixo','PCD','Acessibilidade','Internet','Transporte']\n",
    "    \n",
    "    data_brasil_fatores = pd.DataFrame(df[cols].mean().to_dict(),index=[df[cols].index.values[-1]])\n",
    "\n",
    "    \n",
    "    dimensoes = list(data_brasil_fatores.columns)\n",
    "    dimensoes = [*dimensoes, dimensoes[0]]\n",
    "\n",
    "    esc = data_brasil_fatores.values.flatten().tolist()\n",
    "    esc = [*esc, esc[0]]\n",
    "    \n",
    "    regiao_norte = ['AM','PA','AC','RR','RO','AP','TO']\n",
    "    \n",
    "    estado_1 = 'PA'\n",
    "    #Processamento no contexto Estadual\n",
    "    filter = (df['ID_UF'].isin(regiao_norte))\n",
    "    data_estado_ = df[filter]\n",
    "\n",
    "    data_estado_1_fatores = pd.DataFrame(data_estado_[cols].mean().to_dict(),index=[data_estado_[cols].index.values[-1]])\n",
    "\n",
    "    \n",
    "    dimensoes_estado_1 = list(data_estado_1_fatores.columns)\n",
    "    dimensoes_estado_1 = [*dimensoes_estado_1, dimensoes_estado_1[0]]\n",
    "\n",
    "    esc_estado_1 = data_estado_1_fatores.values.flatten().tolist()\n",
    "    esc_estado_1 = [*esc_estado_1, esc_estado_1[0]]    \n",
    "    \n",
    "    \n",
    "    #Processamento no contexto Escolar    \n",
    "    regiao_sul = ['PR','SC','RS']\n",
    "    \n",
    "    estado_2 = 'MA'   \n",
    "    \n",
    "    filter = (df['ID_UF'].isin(regiao_sul))\n",
    "    data_estado_ = df[filter]\n",
    "\n",
    "    data_estado_2_fatores = pd.DataFrame(data_estado_[cols].mean().to_dict(),index=[data_estado_[cols].index.values[-1]])\n",
    "\n",
    "    \n",
    "    dimensoes_estado_2 = list(data_estado_2_fatores.columns)\n",
    "    dimensoes_estado_2 = [*dimensoes_estado_2, dimensoes_estado_2[0]]\n",
    "\n",
    "    esc_estado_2 = data_estado_2_fatores.values.flatten().tolist()\n",
    "    esc_estado_2 = [*esc_estado_2, esc_estado_2[0]]    \n",
    "    \n",
    "    \n",
    "    fig = go.Figure(\n",
    "        data=[\n",
    "            go.Scatterpolar(r=esc_estado_1, theta=dimensoes_estado_1, name='Região Norte'),\n",
    "            go.Scatterpolar(r=esc_estado_2, theta=dimensoes_estado_2, name='Região Sul'),\n",
    "            go.Scatterpolar(r=esc, theta=dimensoes, name='Nacional')\n",
    "        \n",
    "        ],\n",
    "        layout=go.Layout(\n",
    "            title_y=0.98,title_x=0.5,\n",
    "            title=go.layout.Title(text='Fatores SAEB-CENSO'),\n",
    "            polar={'radialaxis': {'visible': False}},\n",
    "            showlegend=True\n",
    "        )\n",
    "    )\n",
    "    return fig"
   ]
  },
  {
   "cell_type": "code",
   "execution_count": 10,
   "id": "16cf55bf",
   "metadata": {},
   "outputs": [
    {
     "data": {
      "application/vnd.plotly.v1+json": {
       "config": {
        "plotlyServerURL": "https://plot.ly"
       },
       "data": [
        {
         "name": "Região Norte",
         "r": [
          -0.6929243542435424,
          -0.05452644526445264,
          0.04983087330873309,
          -0.07528905289052891,
          0.35380535055350554,
          -1.4938299507995079,
          -0.014120541205412054,
          -0.37205565805658053,
          -0.6929243542435424
         ],
         "theta": [
          "Estrutura",
          "PED",
          "LibrasBraile",
          "TratamentoLixo",
          "PCD",
          "Acessibilidade",
          "Internet",
          "Transporte",
          "Estrutura"
         ],
         "type": "scatterpolar"
        },
        {
         "name": "Região Sul",
         "r": [
          -0.5369837686767709,
          0.009790390196710737,
          0.026490379447490053,
          -0.010543910566483935,
          -0.1572836719337848,
          1.1608352144469527,
          0.31024078254326565,
          0.12801891862839945,
          -0.5369837686767709
         ],
         "theta": [
          "Estrutura",
          "PED",
          "LibrasBraile",
          "TratamentoLixo",
          "PCD",
          "Acessibilidade",
          "Internet",
          "Transporte",
          "Estrutura"
         ],
         "type": "scatterpolar"
        },
        {
         "name": "Nacional",
         "r": [
          -5.904129699351844e-06,
          -5.425416480507272e-06,
          9.095551158484974e-06,
          1.3723112274198079e-05,
          1.5957107295479703e-06,
          -7.180698283084917e-06,
          4.946703261646374e-06,
          -1.0691261888040654e-05,
          -5.904129699351844e-06
         ],
         "theta": [
          "Estrutura",
          "PED",
          "LibrasBraile",
          "TratamentoLixo",
          "PCD",
          "Acessibilidade",
          "Internet",
          "Transporte",
          "Estrutura"
         ],
         "type": "scatterpolar"
        }
       ],
       "layout": {
        "polar": {
         "radialaxis": {
          "visible": false
         }
        },
        "showlegend": true,
        "template": {
         "data": {
          "bar": [
           {
            "error_x": {
             "color": "#2a3f5f"
            },
            "error_y": {
             "color": "#2a3f5f"
            },
            "marker": {
             "line": {
              "color": "#E5ECF6",
              "width": 0.5
             },
             "pattern": {
              "fillmode": "overlay",
              "size": 10,
              "solidity": 0.2
             }
            },
            "type": "bar"
           }
          ],
          "barpolar": [
           {
            "marker": {
             "line": {
              "color": "#E5ECF6",
              "width": 0.5
             },
             "pattern": {
              "fillmode": "overlay",
              "size": 10,
              "solidity": 0.2
             }
            },
            "type": "barpolar"
           }
          ],
          "carpet": [
           {
            "aaxis": {
             "endlinecolor": "#2a3f5f",
             "gridcolor": "white",
             "linecolor": "white",
             "minorgridcolor": "white",
             "startlinecolor": "#2a3f5f"
            },
            "baxis": {
             "endlinecolor": "#2a3f5f",
             "gridcolor": "white",
             "linecolor": "white",
             "minorgridcolor": "white",
             "startlinecolor": "#2a3f5f"
            },
            "type": "carpet"
           }
          ],
          "choropleth": [
           {
            "colorbar": {
             "outlinewidth": 0,
             "ticks": ""
            },
            "type": "choropleth"
           }
          ],
          "contour": [
           {
            "colorbar": {
             "outlinewidth": 0,
             "ticks": ""
            },
            "colorscale": [
             [
              0,
              "#0d0887"
             ],
             [
              0.1111111111111111,
              "#46039f"
             ],
             [
              0.2222222222222222,
              "#7201a8"
             ],
             [
              0.3333333333333333,
              "#9c179e"
             ],
             [
              0.4444444444444444,
              "#bd3786"
             ],
             [
              0.5555555555555556,
              "#d8576b"
             ],
             [
              0.6666666666666666,
              "#ed7953"
             ],
             [
              0.7777777777777778,
              "#fb9f3a"
             ],
             [
              0.8888888888888888,
              "#fdca26"
             ],
             [
              1,
              "#f0f921"
             ]
            ],
            "type": "contour"
           }
          ],
          "contourcarpet": [
           {
            "colorbar": {
             "outlinewidth": 0,
             "ticks": ""
            },
            "type": "contourcarpet"
           }
          ],
          "heatmap": [
           {
            "colorbar": {
             "outlinewidth": 0,
             "ticks": ""
            },
            "colorscale": [
             [
              0,
              "#0d0887"
             ],
             [
              0.1111111111111111,
              "#46039f"
             ],
             [
              0.2222222222222222,
              "#7201a8"
             ],
             [
              0.3333333333333333,
              "#9c179e"
             ],
             [
              0.4444444444444444,
              "#bd3786"
             ],
             [
              0.5555555555555556,
              "#d8576b"
             ],
             [
              0.6666666666666666,
              "#ed7953"
             ],
             [
              0.7777777777777778,
              "#fb9f3a"
             ],
             [
              0.8888888888888888,
              "#fdca26"
             ],
             [
              1,
              "#f0f921"
             ]
            ],
            "type": "heatmap"
           }
          ],
          "heatmapgl": [
           {
            "colorbar": {
             "outlinewidth": 0,
             "ticks": ""
            },
            "colorscale": [
             [
              0,
              "#0d0887"
             ],
             [
              0.1111111111111111,
              "#46039f"
             ],
             [
              0.2222222222222222,
              "#7201a8"
             ],
             [
              0.3333333333333333,
              "#9c179e"
             ],
             [
              0.4444444444444444,
              "#bd3786"
             ],
             [
              0.5555555555555556,
              "#d8576b"
             ],
             [
              0.6666666666666666,
              "#ed7953"
             ],
             [
              0.7777777777777778,
              "#fb9f3a"
             ],
             [
              0.8888888888888888,
              "#fdca26"
             ],
             [
              1,
              "#f0f921"
             ]
            ],
            "type": "heatmapgl"
           }
          ],
          "histogram": [
           {
            "marker": {
             "pattern": {
              "fillmode": "overlay",
              "size": 10,
              "solidity": 0.2
             }
            },
            "type": "histogram"
           }
          ],
          "histogram2d": [
           {
            "colorbar": {
             "outlinewidth": 0,
             "ticks": ""
            },
            "colorscale": [
             [
              0,
              "#0d0887"
             ],
             [
              0.1111111111111111,
              "#46039f"
             ],
             [
              0.2222222222222222,
              "#7201a8"
             ],
             [
              0.3333333333333333,
              "#9c179e"
             ],
             [
              0.4444444444444444,
              "#bd3786"
             ],
             [
              0.5555555555555556,
              "#d8576b"
             ],
             [
              0.6666666666666666,
              "#ed7953"
             ],
             [
              0.7777777777777778,
              "#fb9f3a"
             ],
             [
              0.8888888888888888,
              "#fdca26"
             ],
             [
              1,
              "#f0f921"
             ]
            ],
            "type": "histogram2d"
           }
          ],
          "histogram2dcontour": [
           {
            "colorbar": {
             "outlinewidth": 0,
             "ticks": ""
            },
            "colorscale": [
             [
              0,
              "#0d0887"
             ],
             [
              0.1111111111111111,
              "#46039f"
             ],
             [
              0.2222222222222222,
              "#7201a8"
             ],
             [
              0.3333333333333333,
              "#9c179e"
             ],
             [
              0.4444444444444444,
              "#bd3786"
             ],
             [
              0.5555555555555556,
              "#d8576b"
             ],
             [
              0.6666666666666666,
              "#ed7953"
             ],
             [
              0.7777777777777778,
              "#fb9f3a"
             ],
             [
              0.8888888888888888,
              "#fdca26"
             ],
             [
              1,
              "#f0f921"
             ]
            ],
            "type": "histogram2dcontour"
           }
          ],
          "mesh3d": [
           {
            "colorbar": {
             "outlinewidth": 0,
             "ticks": ""
            },
            "type": "mesh3d"
           }
          ],
          "parcoords": [
           {
            "line": {
             "colorbar": {
              "outlinewidth": 0,
              "ticks": ""
             }
            },
            "type": "parcoords"
           }
          ],
          "pie": [
           {
            "automargin": true,
            "type": "pie"
           }
          ],
          "scatter": [
           {
            "fillpattern": {
             "fillmode": "overlay",
             "size": 10,
             "solidity": 0.2
            },
            "type": "scatter"
           }
          ],
          "scatter3d": [
           {
            "line": {
             "colorbar": {
              "outlinewidth": 0,
              "ticks": ""
             }
            },
            "marker": {
             "colorbar": {
              "outlinewidth": 0,
              "ticks": ""
             }
            },
            "type": "scatter3d"
           }
          ],
          "scattercarpet": [
           {
            "marker": {
             "colorbar": {
              "outlinewidth": 0,
              "ticks": ""
             }
            },
            "type": "scattercarpet"
           }
          ],
          "scattergeo": [
           {
            "marker": {
             "colorbar": {
              "outlinewidth": 0,
              "ticks": ""
             }
            },
            "type": "scattergeo"
           }
          ],
          "scattergl": [
           {
            "marker": {
             "colorbar": {
              "outlinewidth": 0,
              "ticks": ""
             }
            },
            "type": "scattergl"
           }
          ],
          "scattermapbox": [
           {
            "marker": {
             "colorbar": {
              "outlinewidth": 0,
              "ticks": ""
             }
            },
            "type": "scattermapbox"
           }
          ],
          "scatterpolar": [
           {
            "marker": {
             "colorbar": {
              "outlinewidth": 0,
              "ticks": ""
             }
            },
            "type": "scatterpolar"
           }
          ],
          "scatterpolargl": [
           {
            "marker": {
             "colorbar": {
              "outlinewidth": 0,
              "ticks": ""
             }
            },
            "type": "scatterpolargl"
           }
          ],
          "scatterternary": [
           {
            "marker": {
             "colorbar": {
              "outlinewidth": 0,
              "ticks": ""
             }
            },
            "type": "scatterternary"
           }
          ],
          "surface": [
           {
            "colorbar": {
             "outlinewidth": 0,
             "ticks": ""
            },
            "colorscale": [
             [
              0,
              "#0d0887"
             ],
             [
              0.1111111111111111,
              "#46039f"
             ],
             [
              0.2222222222222222,
              "#7201a8"
             ],
             [
              0.3333333333333333,
              "#9c179e"
             ],
             [
              0.4444444444444444,
              "#bd3786"
             ],
             [
              0.5555555555555556,
              "#d8576b"
             ],
             [
              0.6666666666666666,
              "#ed7953"
             ],
             [
              0.7777777777777778,
              "#fb9f3a"
             ],
             [
              0.8888888888888888,
              "#fdca26"
             ],
             [
              1,
              "#f0f921"
             ]
            ],
            "type": "surface"
           }
          ],
          "table": [
           {
            "cells": {
             "fill": {
              "color": "#EBF0F8"
             },
             "line": {
              "color": "white"
             }
            },
            "header": {
             "fill": {
              "color": "#C8D4E3"
             },
             "line": {
              "color": "white"
             }
            },
            "type": "table"
           }
          ]
         },
         "layout": {
          "annotationdefaults": {
           "arrowcolor": "#2a3f5f",
           "arrowhead": 0,
           "arrowwidth": 1
          },
          "autotypenumbers": "strict",
          "coloraxis": {
           "colorbar": {
            "outlinewidth": 0,
            "ticks": ""
           }
          },
          "colorscale": {
           "diverging": [
            [
             0,
             "#8e0152"
            ],
            [
             0.1,
             "#c51b7d"
            ],
            [
             0.2,
             "#de77ae"
            ],
            [
             0.3,
             "#f1b6da"
            ],
            [
             0.4,
             "#fde0ef"
            ],
            [
             0.5,
             "#f7f7f7"
            ],
            [
             0.6,
             "#e6f5d0"
            ],
            [
             0.7,
             "#b8e186"
            ],
            [
             0.8,
             "#7fbc41"
            ],
            [
             0.9,
             "#4d9221"
            ],
            [
             1,
             "#276419"
            ]
           ],
           "sequential": [
            [
             0,
             "#0d0887"
            ],
            [
             0.1111111111111111,
             "#46039f"
            ],
            [
             0.2222222222222222,
             "#7201a8"
            ],
            [
             0.3333333333333333,
             "#9c179e"
            ],
            [
             0.4444444444444444,
             "#bd3786"
            ],
            [
             0.5555555555555556,
             "#d8576b"
            ],
            [
             0.6666666666666666,
             "#ed7953"
            ],
            [
             0.7777777777777778,
             "#fb9f3a"
            ],
            [
             0.8888888888888888,
             "#fdca26"
            ],
            [
             1,
             "#f0f921"
            ]
           ],
           "sequentialminus": [
            [
             0,
             "#0d0887"
            ],
            [
             0.1111111111111111,
             "#46039f"
            ],
            [
             0.2222222222222222,
             "#7201a8"
            ],
            [
             0.3333333333333333,
             "#9c179e"
            ],
            [
             0.4444444444444444,
             "#bd3786"
            ],
            [
             0.5555555555555556,
             "#d8576b"
            ],
            [
             0.6666666666666666,
             "#ed7953"
            ],
            [
             0.7777777777777778,
             "#fb9f3a"
            ],
            [
             0.8888888888888888,
             "#fdca26"
            ],
            [
             1,
             "#f0f921"
            ]
           ]
          },
          "colorway": [
           "#636efa",
           "#EF553B",
           "#00cc96",
           "#ab63fa",
           "#FFA15A",
           "#19d3f3",
           "#FF6692",
           "#B6E880",
           "#FF97FF",
           "#FECB52"
          ],
          "font": {
           "color": "#2a3f5f"
          },
          "geo": {
           "bgcolor": "white",
           "lakecolor": "white",
           "landcolor": "#E5ECF6",
           "showlakes": true,
           "showland": true,
           "subunitcolor": "white"
          },
          "hoverlabel": {
           "align": "left"
          },
          "hovermode": "closest",
          "mapbox": {
           "style": "light"
          },
          "paper_bgcolor": "white",
          "plot_bgcolor": "#E5ECF6",
          "polar": {
           "angularaxis": {
            "gridcolor": "white",
            "linecolor": "white",
            "ticks": ""
           },
           "bgcolor": "#E5ECF6",
           "radialaxis": {
            "gridcolor": "white",
            "linecolor": "white",
            "ticks": ""
           }
          },
          "scene": {
           "xaxis": {
            "backgroundcolor": "#E5ECF6",
            "gridcolor": "white",
            "gridwidth": 2,
            "linecolor": "white",
            "showbackground": true,
            "ticks": "",
            "zerolinecolor": "white"
           },
           "yaxis": {
            "backgroundcolor": "#E5ECF6",
            "gridcolor": "white",
            "gridwidth": 2,
            "linecolor": "white",
            "showbackground": true,
            "ticks": "",
            "zerolinecolor": "white"
           },
           "zaxis": {
            "backgroundcolor": "#E5ECF6",
            "gridcolor": "white",
            "gridwidth": 2,
            "linecolor": "white",
            "showbackground": true,
            "ticks": "",
            "zerolinecolor": "white"
           }
          },
          "shapedefaults": {
           "line": {
            "color": "#2a3f5f"
           }
          },
          "ternary": {
           "aaxis": {
            "gridcolor": "white",
            "linecolor": "white",
            "ticks": ""
           },
           "baxis": {
            "gridcolor": "white",
            "linecolor": "white",
            "ticks": ""
           },
           "bgcolor": "#E5ECF6",
           "caxis": {
            "gridcolor": "white",
            "linecolor": "white",
            "ticks": ""
           }
          },
          "title": {
           "x": 0.05
          },
          "xaxis": {
           "automargin": true,
           "gridcolor": "white",
           "linecolor": "white",
           "ticks": "",
           "title": {
            "standoff": 15
           },
           "zerolinecolor": "white",
           "zerolinewidth": 2
          },
          "yaxis": {
           "automargin": true,
           "gridcolor": "white",
           "linecolor": "white",
           "ticks": "",
           "title": {
            "standoff": 15
           },
           "zerolinecolor": "white",
           "zerolinewidth": 2
          }
         }
        },
        "title": {
         "text": "Fatores SAEB-CENSO",
         "x": 0.5,
         "y": 0.98
        }
       }
      },
      "text/html": [
       "<div>                            <div id=\"f95b8ba4-89e3-4e27-b996-253f8794b53f\" class=\"plotly-graph-div\" style=\"height:525px; width:100%;\"></div>            <script type=\"text/javascript\">                require([\"plotly\"], function(Plotly) {                    window.PLOTLYENV=window.PLOTLYENV || {};                                    if (document.getElementById(\"f95b8ba4-89e3-4e27-b996-253f8794b53f\")) {                    Plotly.newPlot(                        \"f95b8ba4-89e3-4e27-b996-253f8794b53f\",                        [{\"name\":\"Regi\\u00e3o Norte\",\"r\":[-0.6929243542435424,-0.05452644526445264,0.04983087330873309,-0.07528905289052891,0.35380535055350554,-1.4938299507995079,-0.014120541205412054,-0.37205565805658053,-0.6929243542435424],\"theta\":[\"Estrutura\",\"PED\",\"LibrasBraile\",\"TratamentoLixo\",\"PCD\",\"Acessibilidade\",\"Internet\",\"Transporte\",\"Estrutura\"],\"type\":\"scatterpolar\"},{\"name\":\"Regi\\u00e3o Sul\",\"r\":[-0.5369837686767709,0.009790390196710737,0.026490379447490053,-0.010543910566483935,-0.1572836719337848,1.1608352144469527,0.31024078254326565,0.12801891862839945,-0.5369837686767709],\"theta\":[\"Estrutura\",\"PED\",\"LibrasBraile\",\"TratamentoLixo\",\"PCD\",\"Acessibilidade\",\"Internet\",\"Transporte\",\"Estrutura\"],\"type\":\"scatterpolar\"},{\"name\":\"Nacional\",\"r\":[-5.904129699351844e-06,-5.425416480507272e-06,9.095551158484974e-06,1.3723112274198079e-05,1.5957107295479703e-06,-7.180698283084917e-06,4.946703261646374e-06,-1.0691261888040654e-05,-5.904129699351844e-06],\"theta\":[\"Estrutura\",\"PED\",\"LibrasBraile\",\"TratamentoLixo\",\"PCD\",\"Acessibilidade\",\"Internet\",\"Transporte\",\"Estrutura\"],\"type\":\"scatterpolar\"}],                        {\"polar\":{\"radialaxis\":{\"visible\":false}},\"showlegend\":true,\"title\":{\"text\":\"Fatores SAEB-CENSO\",\"x\":0.5,\"y\":0.98},\"template\":{\"data\":{\"histogram2dcontour\":[{\"type\":\"histogram2dcontour\",\"colorbar\":{\"outlinewidth\":0,\"ticks\":\"\"},\"colorscale\":[[0.0,\"#0d0887\"],[0.1111111111111111,\"#46039f\"],[0.2222222222222222,\"#7201a8\"],[0.3333333333333333,\"#9c179e\"],[0.4444444444444444,\"#bd3786\"],[0.5555555555555556,\"#d8576b\"],[0.6666666666666666,\"#ed7953\"],[0.7777777777777778,\"#fb9f3a\"],[0.8888888888888888,\"#fdca26\"],[1.0,\"#f0f921\"]]}],\"choropleth\":[{\"type\":\"choropleth\",\"colorbar\":{\"outlinewidth\":0,\"ticks\":\"\"}}],\"histogram2d\":[{\"type\":\"histogram2d\",\"colorbar\":{\"outlinewidth\":0,\"ticks\":\"\"},\"colorscale\":[[0.0,\"#0d0887\"],[0.1111111111111111,\"#46039f\"],[0.2222222222222222,\"#7201a8\"],[0.3333333333333333,\"#9c179e\"],[0.4444444444444444,\"#bd3786\"],[0.5555555555555556,\"#d8576b\"],[0.6666666666666666,\"#ed7953\"],[0.7777777777777778,\"#fb9f3a\"],[0.8888888888888888,\"#fdca26\"],[1.0,\"#f0f921\"]]}],\"heatmap\":[{\"type\":\"heatmap\",\"colorbar\":{\"outlinewidth\":0,\"ticks\":\"\"},\"colorscale\":[[0.0,\"#0d0887\"],[0.1111111111111111,\"#46039f\"],[0.2222222222222222,\"#7201a8\"],[0.3333333333333333,\"#9c179e\"],[0.4444444444444444,\"#bd3786\"],[0.5555555555555556,\"#d8576b\"],[0.6666666666666666,\"#ed7953\"],[0.7777777777777778,\"#fb9f3a\"],[0.8888888888888888,\"#fdca26\"],[1.0,\"#f0f921\"]]}],\"heatmapgl\":[{\"type\":\"heatmapgl\",\"colorbar\":{\"outlinewidth\":0,\"ticks\":\"\"},\"colorscale\":[[0.0,\"#0d0887\"],[0.1111111111111111,\"#46039f\"],[0.2222222222222222,\"#7201a8\"],[0.3333333333333333,\"#9c179e\"],[0.4444444444444444,\"#bd3786\"],[0.5555555555555556,\"#d8576b\"],[0.6666666666666666,\"#ed7953\"],[0.7777777777777778,\"#fb9f3a\"],[0.8888888888888888,\"#fdca26\"],[1.0,\"#f0f921\"]]}],\"contourcarpet\":[{\"type\":\"contourcarpet\",\"colorbar\":{\"outlinewidth\":0,\"ticks\":\"\"}}],\"contour\":[{\"type\":\"contour\",\"colorbar\":{\"outlinewidth\":0,\"ticks\":\"\"},\"colorscale\":[[0.0,\"#0d0887\"],[0.1111111111111111,\"#46039f\"],[0.2222222222222222,\"#7201a8\"],[0.3333333333333333,\"#9c179e\"],[0.4444444444444444,\"#bd3786\"],[0.5555555555555556,\"#d8576b\"],[0.6666666666666666,\"#ed7953\"],[0.7777777777777778,\"#fb9f3a\"],[0.8888888888888888,\"#fdca26\"],[1.0,\"#f0f921\"]]}],\"surface\":[{\"type\":\"surface\",\"colorbar\":{\"outlinewidth\":0,\"ticks\":\"\"},\"colorscale\":[[0.0,\"#0d0887\"],[0.1111111111111111,\"#46039f\"],[0.2222222222222222,\"#7201a8\"],[0.3333333333333333,\"#9c179e\"],[0.4444444444444444,\"#bd3786\"],[0.5555555555555556,\"#d8576b\"],[0.6666666666666666,\"#ed7953\"],[0.7777777777777778,\"#fb9f3a\"],[0.8888888888888888,\"#fdca26\"],[1.0,\"#f0f921\"]]}],\"mesh3d\":[{\"type\":\"mesh3d\",\"colorbar\":{\"outlinewidth\":0,\"ticks\":\"\"}}],\"scatter\":[{\"fillpattern\":{\"fillmode\":\"overlay\",\"size\":10,\"solidity\":0.2},\"type\":\"scatter\"}],\"parcoords\":[{\"type\":\"parcoords\",\"line\":{\"colorbar\":{\"outlinewidth\":0,\"ticks\":\"\"}}}],\"scatterpolargl\":[{\"type\":\"scatterpolargl\",\"marker\":{\"colorbar\":{\"outlinewidth\":0,\"ticks\":\"\"}}}],\"bar\":[{\"error_x\":{\"color\":\"#2a3f5f\"},\"error_y\":{\"color\":\"#2a3f5f\"},\"marker\":{\"line\":{\"color\":\"#E5ECF6\",\"width\":0.5},\"pattern\":{\"fillmode\":\"overlay\",\"size\":10,\"solidity\":0.2}},\"type\":\"bar\"}],\"scattergeo\":[{\"type\":\"scattergeo\",\"marker\":{\"colorbar\":{\"outlinewidth\":0,\"ticks\":\"\"}}}],\"scatterpolar\":[{\"type\":\"scatterpolar\",\"marker\":{\"colorbar\":{\"outlinewidth\":0,\"ticks\":\"\"}}}],\"histogram\":[{\"marker\":{\"pattern\":{\"fillmode\":\"overlay\",\"size\":10,\"solidity\":0.2}},\"type\":\"histogram\"}],\"scattergl\":[{\"type\":\"scattergl\",\"marker\":{\"colorbar\":{\"outlinewidth\":0,\"ticks\":\"\"}}}],\"scatter3d\":[{\"type\":\"scatter3d\",\"line\":{\"colorbar\":{\"outlinewidth\":0,\"ticks\":\"\"}},\"marker\":{\"colorbar\":{\"outlinewidth\":0,\"ticks\":\"\"}}}],\"scattermapbox\":[{\"type\":\"scattermapbox\",\"marker\":{\"colorbar\":{\"outlinewidth\":0,\"ticks\":\"\"}}}],\"scatterternary\":[{\"type\":\"scatterternary\",\"marker\":{\"colorbar\":{\"outlinewidth\":0,\"ticks\":\"\"}}}],\"scattercarpet\":[{\"type\":\"scattercarpet\",\"marker\":{\"colorbar\":{\"outlinewidth\":0,\"ticks\":\"\"}}}],\"carpet\":[{\"aaxis\":{\"endlinecolor\":\"#2a3f5f\",\"gridcolor\":\"white\",\"linecolor\":\"white\",\"minorgridcolor\":\"white\",\"startlinecolor\":\"#2a3f5f\"},\"baxis\":{\"endlinecolor\":\"#2a3f5f\",\"gridcolor\":\"white\",\"linecolor\":\"white\",\"minorgridcolor\":\"white\",\"startlinecolor\":\"#2a3f5f\"},\"type\":\"carpet\"}],\"table\":[{\"cells\":{\"fill\":{\"color\":\"#EBF0F8\"},\"line\":{\"color\":\"white\"}},\"header\":{\"fill\":{\"color\":\"#C8D4E3\"},\"line\":{\"color\":\"white\"}},\"type\":\"table\"}],\"barpolar\":[{\"marker\":{\"line\":{\"color\":\"#E5ECF6\",\"width\":0.5},\"pattern\":{\"fillmode\":\"overlay\",\"size\":10,\"solidity\":0.2}},\"type\":\"barpolar\"}],\"pie\":[{\"automargin\":true,\"type\":\"pie\"}]},\"layout\":{\"autotypenumbers\":\"strict\",\"colorway\":[\"#636efa\",\"#EF553B\",\"#00cc96\",\"#ab63fa\",\"#FFA15A\",\"#19d3f3\",\"#FF6692\",\"#B6E880\",\"#FF97FF\",\"#FECB52\"],\"font\":{\"color\":\"#2a3f5f\"},\"hovermode\":\"closest\",\"hoverlabel\":{\"align\":\"left\"},\"paper_bgcolor\":\"white\",\"plot_bgcolor\":\"#E5ECF6\",\"polar\":{\"bgcolor\":\"#E5ECF6\",\"angularaxis\":{\"gridcolor\":\"white\",\"linecolor\":\"white\",\"ticks\":\"\"},\"radialaxis\":{\"gridcolor\":\"white\",\"linecolor\":\"white\",\"ticks\":\"\"}},\"ternary\":{\"bgcolor\":\"#E5ECF6\",\"aaxis\":{\"gridcolor\":\"white\",\"linecolor\":\"white\",\"ticks\":\"\"},\"baxis\":{\"gridcolor\":\"white\",\"linecolor\":\"white\",\"ticks\":\"\"},\"caxis\":{\"gridcolor\":\"white\",\"linecolor\":\"white\",\"ticks\":\"\"}},\"coloraxis\":{\"colorbar\":{\"outlinewidth\":0,\"ticks\":\"\"}},\"colorscale\":{\"sequential\":[[0.0,\"#0d0887\"],[0.1111111111111111,\"#46039f\"],[0.2222222222222222,\"#7201a8\"],[0.3333333333333333,\"#9c179e\"],[0.4444444444444444,\"#bd3786\"],[0.5555555555555556,\"#d8576b\"],[0.6666666666666666,\"#ed7953\"],[0.7777777777777778,\"#fb9f3a\"],[0.8888888888888888,\"#fdca26\"],[1.0,\"#f0f921\"]],\"sequentialminus\":[[0.0,\"#0d0887\"],[0.1111111111111111,\"#46039f\"],[0.2222222222222222,\"#7201a8\"],[0.3333333333333333,\"#9c179e\"],[0.4444444444444444,\"#bd3786\"],[0.5555555555555556,\"#d8576b\"],[0.6666666666666666,\"#ed7953\"],[0.7777777777777778,\"#fb9f3a\"],[0.8888888888888888,\"#fdca26\"],[1.0,\"#f0f921\"]],\"diverging\":[[0,\"#8e0152\"],[0.1,\"#c51b7d\"],[0.2,\"#de77ae\"],[0.3,\"#f1b6da\"],[0.4,\"#fde0ef\"],[0.5,\"#f7f7f7\"],[0.6,\"#e6f5d0\"],[0.7,\"#b8e186\"],[0.8,\"#7fbc41\"],[0.9,\"#4d9221\"],[1,\"#276419\"]]},\"xaxis\":{\"gridcolor\":\"white\",\"linecolor\":\"white\",\"ticks\":\"\",\"title\":{\"standoff\":15},\"zerolinecolor\":\"white\",\"automargin\":true,\"zerolinewidth\":2},\"yaxis\":{\"gridcolor\":\"white\",\"linecolor\":\"white\",\"ticks\":\"\",\"title\":{\"standoff\":15},\"zerolinecolor\":\"white\",\"automargin\":true,\"zerolinewidth\":2},\"scene\":{\"xaxis\":{\"backgroundcolor\":\"#E5ECF6\",\"gridcolor\":\"white\",\"linecolor\":\"white\",\"showbackground\":true,\"ticks\":\"\",\"zerolinecolor\":\"white\",\"gridwidth\":2},\"yaxis\":{\"backgroundcolor\":\"#E5ECF6\",\"gridcolor\":\"white\",\"linecolor\":\"white\",\"showbackground\":true,\"ticks\":\"\",\"zerolinecolor\":\"white\",\"gridwidth\":2},\"zaxis\":{\"backgroundcolor\":\"#E5ECF6\",\"gridcolor\":\"white\",\"linecolor\":\"white\",\"showbackground\":true,\"ticks\":\"\",\"zerolinecolor\":\"white\",\"gridwidth\":2}},\"shapedefaults\":{\"line\":{\"color\":\"#2a3f5f\"}},\"annotationdefaults\":{\"arrowcolor\":\"#2a3f5f\",\"arrowhead\":0,\"arrowwidth\":1},\"geo\":{\"bgcolor\":\"white\",\"landcolor\":\"#E5ECF6\",\"subunitcolor\":\"white\",\"showland\":true,\"showlakes\":true,\"lakecolor\":\"white\"},\"title\":{\"x\":0.05},\"mapbox\":{\"style\":\"light\"}}}},                        {\"responsive\": true}                    ).then(function(){\n",
       "                            \n",
       "var gd = document.getElementById('f95b8ba4-89e3-4e27-b996-253f8794b53f');\n",
       "var x = new MutationObserver(function (mutations, observer) {{\n",
       "        var display = window.getComputedStyle(gd).display;\n",
       "        if (!display || display === 'none') {{\n",
       "            console.log([gd, 'removed!']);\n",
       "            Plotly.purge(gd);\n",
       "            observer.disconnect();\n",
       "        }}\n",
       "}});\n",
       "\n",
       "// Listen for the removal of the full notebook cells\n",
       "var notebookContainer = gd.closest('#notebook-container');\n",
       "if (notebookContainer) {{\n",
       "    x.observe(notebookContainer, {childList: true});\n",
       "}}\n",
       "\n",
       "// Listen for the clearing of the current output cell\n",
       "var outputEl = gd.closest('.output');\n",
       "if (outputEl) {{\n",
       "    x.observe(outputEl, {childList: true});\n",
       "}}\n",
       "\n",
       "                        })                };                });            </script>        </div>"
      ]
     },
     "metadata": {},
     "output_type": "display_data"
    }
   ],
   "source": [
    "fig = plotRadarCensoSaeb()\n",
    "fig.write_html(\"file.html\")\n",
    "fig.show()"
   ]
  },
  {
   "cell_type": "code",
   "execution_count": 32,
   "id": "8cc0c4a6",
   "metadata": {},
   "outputs": [],
   "source": [
    "def plotRadarEstadosCensoSaeb():\n",
    "   \n",
    "    #Carrega dados\n",
    "    #path_file = 'https://raw.githubusercontent.com/eltonsarmanho/GoogleFitDataFlow/main/data/inep_saeb_merge_fatorial_2019.csv'\n",
    "    path_file = '../Dataset/inep_saeb_merge_fatorial_2019.csv'\n",
    "\n",
    "    dataset = pd.read_csv(path_file, delimiter='\\t', )\n",
    "    dict_uf = {11: 'RO', 12: 'AC', 13: 'AM', 14: 'RR', 15: 'PA', 16: 'AP', 17: 'TO', 21: 'MA', 22: 'PI', 23: 'CE',\n",
    "               24: 'RN',\n",
    "               25: 'PB', 26: 'PE', 27: 'AL', 28: 'SE', 29: 'BA', 31: 'MG', 32: 'ES', 33: 'RJ', 35: 'SP', 41: 'PR',\n",
    "               42: 'SC', 43: 'RS', 50: 'MS',\n",
    "               51: 'MT', 52: 'GO', 53: 'DF', }\n",
    "   \n",
    "     \n",
    "    \n",
    "    #Processamento no contexto nacional\n",
    "    #Agrupar por Nacional\n",
    "    cols = ['Estrutura','PED','LibrasBraile','TratamentoLixo','PCD','Acessibilidade','Internet','Transporte']\n",
    "    \n",
    "    data_brasil_fatores = pd.DataFrame(df[cols].mean().to_dict(),index=[df[cols].index.values[-1]])\n",
    "\n",
    "    \n",
    "    dimensoes = list(data_brasil_fatores.columns)\n",
    "    dimensoes = [*dimensoes, dimensoes[0]]\n",
    "\n",
    "    esc = data_brasil_fatores.values.flatten().tolist()\n",
    "    esc = [*esc, esc[0]]\n",
    "    \n",
    "    lst = []\n",
    "    for k, v in dict_uf.items():\n",
    "        filter = df['ID_UF'] == v\n",
    "        data_estado_ = df[filter]\n",
    "\n",
    "        data_estado_1_fatores = pd.DataFrame(data_estado_[cols].mean().to_dict(),index=[data_estado_[cols].index.values[-1]])\n",
    "\n",
    "\n",
    "        dimensoes_estado_1 = list(data_estado_1_fatores.columns)\n",
    "        dimensoes_estado_1 = [*dimensoes_estado_1, dimensoes_estado_1[0]]\n",
    "\n",
    "        esc_estado_1 = data_estado_1_fatores.values.flatten().tolist()\n",
    "        esc_estado_1 = [*esc_estado_1, esc_estado_1[0]]    \n",
    "        lst.append(go.Scatterpolar(r=esc_estado_1, theta=dimensoes_estado_1, name=v))\n",
    "        #lst.append(v)\n",
    "    #print(lst)\n",
    "      \n",
    "    \n",
    "    fig = go.Figure(\n",
    "        data=[\n",
    "            *lst, \n",
    "            go.Scatterpolar(r=esc, theta=dimensoes, name='Nacional')\n",
    "        \n",
    "        ],\n",
    "        layout=go.Layout(\n",
    "            title_y=0.98,title_x=0.5,\n",
    "            title=go.layout.Title(text='Fatores SAEB-CENSO'),\n",
    "            polar={'radialaxis': {'visible': False}},\n",
    "            showlegend=True\n",
    "        )\n",
    "    )\n",
    "    return fig"
   ]
  },
  {
   "cell_type": "code",
   "execution_count": 33,
   "id": "83a7aa9a",
   "metadata": {},
   "outputs": [
    {
     "data": {
      "application/vnd.plotly.v1+json": {
       "config": {
        "plotlyServerURL": "https://plot.ly"
       },
       "data": [
        {
         "name": "RO",
         "r": [
          -1.016851851851852,
          -0.241986531986532,
          -0.02890572390572392,
          -0.0932996632996633,
          0.6779629629629629,
          -1.2365319865319864,
          0.2258754208754209,
          -0.29814814814814816,
          -1.016851851851852
         ],
         "theta": [
          "Estrutura",
          "PED",
          "LibrasBraile",
          "TratamentoLixo",
          "PCD",
          "Acessibilidade",
          "Internet",
          "Transporte",
          "Estrutura"
         ],
         "type": "scatterpolar"
        },
        {
         "name": "AC",
         "r": [
          -1.0719207317073172,
          -0.11417682926829269,
          -0.02664634146341463,
          -0.05972560975609756,
          1.140487804878049,
          -1.2389634146341464,
          0.11996951219512193,
          -0.6694512195121951,
          -1.0719207317073172
         ],
         "theta": [
          "Estrutura",
          "PED",
          "LibrasBraile",
          "TratamentoLixo",
          "PCD",
          "Acessibilidade",
          "Internet",
          "Transporte",
          "Estrutura"
         ],
         "type": "scatterpolar"
        },
        {
         "name": "AM",
         "r": [
          -0.5432795698924732,
          -0.04476190476190476,
          -0.29269585253456226,
          -0.14338709677419353,
          0.014354838709677417,
          -1.5623886328725036,
          0.09015360983102917,
          -0.5313056835637481,
          -0.5432795698924732
         ],
         "theta": [
          "Estrutura",
          "PED",
          "LibrasBraile",
          "TratamentoLixo",
          "PCD",
          "Acessibilidade",
          "Internet",
          "Transporte",
          "Estrutura"
         ],
         "type": "scatterpolar"
        },
        {
         "name": "RR",
         "r": [
          -1.3813714285714285,
          -0.1534285714285714,
          -0.12937142857142858,
          -0.21474285714285712,
          0.39405714285714283,
          -1.2592,
          0.3708571428571429,
          -0.6941714285714286,
          -1.3813714285714285
         ],
         "theta": [
          "Estrutura",
          "PED",
          "LibrasBraile",
          "TratamentoLixo",
          "PCD",
          "Acessibilidade",
          "Internet",
          "Transporte",
          "Estrutura"
         ],
         "type": "scatterpolar"
        },
        {
         "name": "PA",
         "r": [
          -0.5755392936684696,
          0.04324530703149856,
          0.30104995227489667,
          -0.024661151765828834,
          0.27090995863824374,
          -1.6079796372892141,
          -0.18762328985046137,
          -0.3282723512567611,
          -0.5755392936684696
         ],
         "theta": [
          "Estrutura",
          "PED",
          "LibrasBraile",
          "TratamentoLixo",
          "PCD",
          "Acessibilidade",
          "Internet",
          "Transporte",
          "Estrutura"
         ],
         "type": "scatterpolar"
        },
        {
         "name": "AP",
         "r": [
          -1.0959246575342465,
          -0.13664383561643836,
          -0.11743150684931507,
          -0.07054794520547944,
          0.7465068493150685,
          -1.3598972602739725,
          0.1871917808219178,
          -0.7384246575342466,
          -1.0959246575342465
         ],
         "theta": [
          "Estrutura",
          "PED",
          "LibrasBraile",
          "TratamentoLixo",
          "PCD",
          "Acessibilidade",
          "Internet",
          "Transporte",
          "Estrutura"
         ],
         "type": "scatterpolar"
        },
        {
         "name": "TO",
         "r": [
          -0.7062089552238806,
          -0.27513432835820895,
          -0.23607462686567166,
          -0.13774626865671644,
          0.5481492537313433,
          -1.2976567164179105,
          0.13044776119402987,
          0.055895522388059705,
          -0.7062089552238806
         ],
         "theta": [
          "Estrutura",
          "PED",
          "LibrasBraile",
          "TratamentoLixo",
          "PCD",
          "Acessibilidade",
          "Internet",
          "Transporte",
          "Estrutura"
         ],
         "type": "scatterpolar"
        },
        {
         "name": "MA",
         "r": [
          -0.3997672438262844,
          0.3173715583309679,
          -0.01589838206074369,
          0.11893272778881633,
          -0.29856940107862623,
          -0.7867016747090548,
          -0.33003406187908035,
          -0.05611126880499573,
          -0.3997672438262844
         ],
         "theta": [
          "Estrutura",
          "PED",
          "LibrasBraile",
          "TratamentoLixo",
          "PCD",
          "Acessibilidade",
          "Internet",
          "Transporte",
          "Estrutura"
         ],
         "type": "scatterpolar"
        },
        {
         "name": "PI",
         "r": [
          -1.1099716553287982,
          -0.14115079365079367,
          -0.0910090702947846,
          -0.15721088435374153,
          0.008367346938775505,
          -0.5477607709750567,
          0.27598639455782314,
          0.023735827664399096,
          -1.1099716553287982
         ],
         "theta": [
          "Estrutura",
          "PED",
          "LibrasBraile",
          "TratamentoLixo",
          "PCD",
          "Acessibilidade",
          "Internet",
          "Transporte",
          "Estrutura"
         ],
         "type": "scatterpolar"
        },
        {
         "name": "CE",
         "r": [
          0.1560289210233593,
          -0.2128837597330367,
          -0.1805061179087875,
          0.037508342602892104,
          0.10996662958843158,
          -0.6986290322580645,
          -0.2688431590656285,
          0.30251946607341496,
          0.1560289210233593
         ],
         "theta": [
          "Estrutura",
          "PED",
          "LibrasBraile",
          "TratamentoLixo",
          "PCD",
          "Acessibilidade",
          "Internet",
          "Transporte",
          "Estrutura"
         ],
         "type": "scatterpolar"
        },
        {
         "name": "RN",
         "r": [
          -0.4970577777777778,
          -0.17036444444444446,
          -0.1900888888888889,
          0.012533333333333339,
          0.07292444444444443,
          -0.5230044444444445,
          -0.07052444444444443,
          -0.012808888888888885,
          -0.4970577777777778
         ],
         "theta": [
          "Estrutura",
          "PED",
          "LibrasBraile",
          "TratamentoLixo",
          "PCD",
          "Acessibilidade",
          "Internet",
          "Transporte",
          "Estrutura"
         ],
         "type": "scatterpolar"
        },
        {
         "name": "PB",
         "r": [
          -1.1031093463653023,
          -0.15756261453879047,
          -0.16150274893097127,
          -0.08487477092241906,
          0.15128283445326818,
          -0.4660415394013439,
          0.21383017715332928,
          -0.23709224190592548,
          -1.1031093463653023
         ],
         "theta": [
          "Estrutura",
          "PED",
          "LibrasBraile",
          "TratamentoLixo",
          "PCD",
          "Acessibilidade",
          "Internet",
          "Transporte",
          "Estrutura"
         ],
         "type": "scatterpolar"
        },
        {
         "name": "PE",
         "r": [
          -0.5319459993414554,
          -0.11064208100098782,
          -0.21324333223575898,
          0.005373724069805723,
          0.061511359894632855,
          -0.5209614751399407,
          -0.06709581824168587,
          -0.17524860059269015,
          -0.5319459993414554
         ],
         "theta": [
          "Estrutura",
          "PED",
          "LibrasBraile",
          "TratamentoLixo",
          "PCD",
          "Acessibilidade",
          "Internet",
          "Transporte",
          "Estrutura"
         ],
         "type": "scatterpolar"
        },
        {
         "name": "AL",
         "r": [
          -1.093892828999212,
          -0.15675334909377464,
          -0.17226162332545314,
          -0.165973207249803,
          0.34397951142631994,
          -0.5073916469661149,
          0.16556343577620172,
          0.046524822695035474,
          -1.093892828999212
         ],
         "theta": [
          "Estrutura",
          "PED",
          "LibrasBraile",
          "TratamentoLixo",
          "PCD",
          "Acessibilidade",
          "Internet",
          "Transporte",
          "Estrutura"
         ],
         "type": "scatterpolar"
        },
        {
         "name": "SE",
         "r": [
          -0.7975502958579882,
          -0.21250887573964497,
          -0.16026035502958583,
          -0.15009467455621303,
          -0.015408284023668643,
          -0.508603550295858,
          0.004023668639053259,
          -0.04498224852071004,
          -0.7975502958579882
         ],
         "theta": [
          "Estrutura",
          "PED",
          "LibrasBraile",
          "TratamentoLixo",
          "PCD",
          "Acessibilidade",
          "Internet",
          "Transporte",
          "Estrutura"
         ],
         "type": "scatterpolar"
        },
        {
         "name": "BA",
         "r": [
          0.29294160451155177,
          0.05810442059305076,
          0.13416408950336547,
          0.22268510096416225,
          -0.17082044751682737,
          -0.631629979989085,
          -0.7343605603056212,
          0.20379843551027832,
          0.29294160451155177
         ],
         "theta": [
          "Estrutura",
          "PED",
          "LibrasBraile",
          "TratamentoLixo",
          "PCD",
          "Acessibilidade",
          "Internet",
          "Transporte",
          "Estrutura"
         ],
         "type": "scatterpolar"
        },
        {
         "name": "MG",
         "r": [
          0.45245925447797325,
          -0.147944166532193,
          -0.2577860254962078,
          0.04677101823462967,
          0.11441019848313702,
          0.3110053251573342,
          0.14387122801355492,
          0.31247055026625786,
          0.45245925447797325
         ],
         "theta": [
          "Estrutura",
          "PED",
          "LibrasBraile",
          "TratamentoLixo",
          "PCD",
          "Acessibilidade",
          "Internet",
          "Transporte",
          "Estrutura"
         ],
         "type": "scatterpolar"
        },
        {
         "name": "ES",
         "r": [
          -1.086657824933687,
          -0.1627939876215738,
          0.022961980548187433,
          -0.14364279398762156,
          0.49064544650751546,
          0.3925198938992043,
          0.30329796640141465,
          -0.24247568523430593,
          -1.086657824933687
         ],
         "theta": [
          "Estrutura",
          "PED",
          "LibrasBraile",
          "TratamentoLixo",
          "PCD",
          "Acessibilidade",
          "Internet",
          "Transporte",
          "Estrutura"
         ],
         "type": "scatterpolar"
        },
        {
         "name": "RJ",
         "r": [
          0.1700463096960926,
          -0.06181186685962373,
          -0.01614182344428365,
          0.12151953690303909,
          -0.0027062228654124443,
          0.3532416787264834,
          -0.2943039073806078,
          0.12726483357452967,
          0.1700463096960926
         ],
         "theta": [
          "Estrutura",
          "PED",
          "LibrasBraile",
          "TratamentoLixo",
          "PCD",
          "Acessibilidade",
          "Internet",
          "Transporte",
          "Estrutura"
         ],
         "type": "scatterpolar"
        },
        {
         "name": "SP",
         "r": [
          1.9574060542797491,
          0.28629958246346554,
          0.11975469728601253,
          -0.06274217118997913,
          -0.14824425887265139,
          0.12323173277661795,
          0.1395073068893528,
          -0.2407964509394572,
          1.9574060542797491
         ],
         "theta": [
          "Estrutura",
          "PED",
          "LibrasBraile",
          "TratamentoLixo",
          "PCD",
          "Acessibilidade",
          "Internet",
          "Transporte",
          "Estrutura"
         ],
         "type": "scatterpolar"
        },
        {
         "name": "PR",
         "r": [
          -0.519683158664392,
          -0.14981476968072144,
          0.1332342188642457,
          -0.08800633682671218,
          -0.3760857908847185,
          1.1894686814525957,
          0.19778698513282963,
          0.18359005605654402,
          -0.519683158664392
         ],
         "theta": [
          "Estrutura",
          "PED",
          "LibrasBraile",
          "TratamentoLixo",
          "PCD",
          "Acessibilidade",
          "Internet",
          "Transporte",
          "Estrutura"
         ],
         "type": "scatterpolar"
        },
        {
         "name": "SC",
         "r": [
          -0.5117172211350294,
          -0.1418982387475538,
          -0.04119373776908023,
          0.07521526418786693,
          -0.07739236790606653,
          1.125958904109589,
          0.2768786692759296,
          0.2837426614481409,
          -0.5117172211350294
         ],
         "theta": [
          "Estrutura",
          "PED",
          "LibrasBraile",
          "TratamentoLixo",
          "PCD",
          "Acessibilidade",
          "Internet",
          "Transporte",
          "Estrutura"
         ],
         "type": "scatterpolar"
        },
        {
         "name": "RS",
         "r": [
          -0.575839670468948,
          0.3155291508238276,
          -0.06844740177439797,
          0.03461977186311787,
          0.07543092522179974,
          1.1461977186311787,
          0.4780449936628644,
          -0.04508238276299111,
          -0.575839670468948
         ],
         "theta": [
          "Estrutura",
          "PED",
          "LibrasBraile",
          "TratamentoLixo",
          "PCD",
          "Acessibilidade",
          "Internet",
          "Transporte",
          "Estrutura"
         ],
         "type": "scatterpolar"
        },
        {
         "name": "MS",
         "r": [
          -0.8314243759177681,
          -0.12232011747430246,
          -0.02002936857562409,
          -0.055565345080763585,
          0.13202643171806167,
          1.8939941262848752,
          0.35189427312775334,
          0.16684287812041115,
          -0.8314243759177681
         ],
         "theta": [
          "Estrutura",
          "PED",
          "LibrasBraile",
          "TratamentoLixo",
          "PCD",
          "Acessibilidade",
          "Internet",
          "Transporte",
          "Estrutura"
         ],
         "type": "scatterpolar"
        },
        {
         "name": "MT",
         "r": [
          -0.5881231079717456,
          -0.1048234106962664,
          1.4001311806256307,
          -0.08505549949545914,
          -0.1523915237134208,
          1.7215438950554995,
          0.18554994954591322,
          0.31880928355196764,
          -0.5881231079717456
         ],
         "theta": [
          "Estrutura",
          "PED",
          "LibrasBraile",
          "TratamentoLixo",
          "PCD",
          "Acessibilidade",
          "Internet",
          "Transporte",
          "Estrutura"
         ],
         "type": "scatterpolar"
        },
        {
         "name": "GO",
         "r": [
          -1.1986396526772791,
          -0.09,
          -0.06758803666184275,
          -0.12477086348287506,
          -0.12021225277375783,
          1.9233043897732753,
          0.2698022190062711,
          -0.027491558128316454,
          -1.1986396526772791
         ],
         "theta": [
          "Estrutura",
          "PED",
          "LibrasBraile",
          "TratamentoLixo",
          "PCD",
          "Acessibilidade",
          "Internet",
          "Transporte",
          "Estrutura"
         ],
         "type": "scatterpolar"
        },
        {
         "name": "DF",
         "r": [
          -1.1760652173913044,
          -0.10906521739130436,
          0.6180869565217391,
          -0.06834782608695653,
          0.6059782608695652,
          1.9354130434782608,
          0.14756521739130435,
          -0.16947826086956522,
          -1.1760652173913044
         ],
         "theta": [
          "Estrutura",
          "PED",
          "LibrasBraile",
          "TratamentoLixo",
          "PCD",
          "Acessibilidade",
          "Internet",
          "Transporte",
          "Estrutura"
         ],
         "type": "scatterpolar"
        },
        {
         "name": "Nacional",
         "r": [
          -5.904129699351844e-06,
          -5.425416480507272e-06,
          9.095551158484974e-06,
          1.3723112274198079e-05,
          1.5957107295479703e-06,
          -7.180698283084917e-06,
          4.946703261646374e-06,
          -1.0691261888040654e-05,
          -5.904129699351844e-06
         ],
         "theta": [
          "Estrutura",
          "PED",
          "LibrasBraile",
          "TratamentoLixo",
          "PCD",
          "Acessibilidade",
          "Internet",
          "Transporte",
          "Estrutura"
         ],
         "type": "scatterpolar"
        }
       ],
       "layout": {
        "polar": {
         "radialaxis": {
          "visible": false
         }
        },
        "showlegend": true,
        "template": {
         "data": {
          "bar": [
           {
            "error_x": {
             "color": "#2a3f5f"
            },
            "error_y": {
             "color": "#2a3f5f"
            },
            "marker": {
             "line": {
              "color": "#E5ECF6",
              "width": 0.5
             },
             "pattern": {
              "fillmode": "overlay",
              "size": 10,
              "solidity": 0.2
             }
            },
            "type": "bar"
           }
          ],
          "barpolar": [
           {
            "marker": {
             "line": {
              "color": "#E5ECF6",
              "width": 0.5
             },
             "pattern": {
              "fillmode": "overlay",
              "size": 10,
              "solidity": 0.2
             }
            },
            "type": "barpolar"
           }
          ],
          "carpet": [
           {
            "aaxis": {
             "endlinecolor": "#2a3f5f",
             "gridcolor": "white",
             "linecolor": "white",
             "minorgridcolor": "white",
             "startlinecolor": "#2a3f5f"
            },
            "baxis": {
             "endlinecolor": "#2a3f5f",
             "gridcolor": "white",
             "linecolor": "white",
             "minorgridcolor": "white",
             "startlinecolor": "#2a3f5f"
            },
            "type": "carpet"
           }
          ],
          "choropleth": [
           {
            "colorbar": {
             "outlinewidth": 0,
             "ticks": ""
            },
            "type": "choropleth"
           }
          ],
          "contour": [
           {
            "colorbar": {
             "outlinewidth": 0,
             "ticks": ""
            },
            "colorscale": [
             [
              0,
              "#0d0887"
             ],
             [
              0.1111111111111111,
              "#46039f"
             ],
             [
              0.2222222222222222,
              "#7201a8"
             ],
             [
              0.3333333333333333,
              "#9c179e"
             ],
             [
              0.4444444444444444,
              "#bd3786"
             ],
             [
              0.5555555555555556,
              "#d8576b"
             ],
             [
              0.6666666666666666,
              "#ed7953"
             ],
             [
              0.7777777777777778,
              "#fb9f3a"
             ],
             [
              0.8888888888888888,
              "#fdca26"
             ],
             [
              1,
              "#f0f921"
             ]
            ],
            "type": "contour"
           }
          ],
          "contourcarpet": [
           {
            "colorbar": {
             "outlinewidth": 0,
             "ticks": ""
            },
            "type": "contourcarpet"
           }
          ],
          "heatmap": [
           {
            "colorbar": {
             "outlinewidth": 0,
             "ticks": ""
            },
            "colorscale": [
             [
              0,
              "#0d0887"
             ],
             [
              0.1111111111111111,
              "#46039f"
             ],
             [
              0.2222222222222222,
              "#7201a8"
             ],
             [
              0.3333333333333333,
              "#9c179e"
             ],
             [
              0.4444444444444444,
              "#bd3786"
             ],
             [
              0.5555555555555556,
              "#d8576b"
             ],
             [
              0.6666666666666666,
              "#ed7953"
             ],
             [
              0.7777777777777778,
              "#fb9f3a"
             ],
             [
              0.8888888888888888,
              "#fdca26"
             ],
             [
              1,
              "#f0f921"
             ]
            ],
            "type": "heatmap"
           }
          ],
          "heatmapgl": [
           {
            "colorbar": {
             "outlinewidth": 0,
             "ticks": ""
            },
            "colorscale": [
             [
              0,
              "#0d0887"
             ],
             [
              0.1111111111111111,
              "#46039f"
             ],
             [
              0.2222222222222222,
              "#7201a8"
             ],
             [
              0.3333333333333333,
              "#9c179e"
             ],
             [
              0.4444444444444444,
              "#bd3786"
             ],
             [
              0.5555555555555556,
              "#d8576b"
             ],
             [
              0.6666666666666666,
              "#ed7953"
             ],
             [
              0.7777777777777778,
              "#fb9f3a"
             ],
             [
              0.8888888888888888,
              "#fdca26"
             ],
             [
              1,
              "#f0f921"
             ]
            ],
            "type": "heatmapgl"
           }
          ],
          "histogram": [
           {
            "marker": {
             "pattern": {
              "fillmode": "overlay",
              "size": 10,
              "solidity": 0.2
             }
            },
            "type": "histogram"
           }
          ],
          "histogram2d": [
           {
            "colorbar": {
             "outlinewidth": 0,
             "ticks": ""
            },
            "colorscale": [
             [
              0,
              "#0d0887"
             ],
             [
              0.1111111111111111,
              "#46039f"
             ],
             [
              0.2222222222222222,
              "#7201a8"
             ],
             [
              0.3333333333333333,
              "#9c179e"
             ],
             [
              0.4444444444444444,
              "#bd3786"
             ],
             [
              0.5555555555555556,
              "#d8576b"
             ],
             [
              0.6666666666666666,
              "#ed7953"
             ],
             [
              0.7777777777777778,
              "#fb9f3a"
             ],
             [
              0.8888888888888888,
              "#fdca26"
             ],
             [
              1,
              "#f0f921"
             ]
            ],
            "type": "histogram2d"
           }
          ],
          "histogram2dcontour": [
           {
            "colorbar": {
             "outlinewidth": 0,
             "ticks": ""
            },
            "colorscale": [
             [
              0,
              "#0d0887"
             ],
             [
              0.1111111111111111,
              "#46039f"
             ],
             [
              0.2222222222222222,
              "#7201a8"
             ],
             [
              0.3333333333333333,
              "#9c179e"
             ],
             [
              0.4444444444444444,
              "#bd3786"
             ],
             [
              0.5555555555555556,
              "#d8576b"
             ],
             [
              0.6666666666666666,
              "#ed7953"
             ],
             [
              0.7777777777777778,
              "#fb9f3a"
             ],
             [
              0.8888888888888888,
              "#fdca26"
             ],
             [
              1,
              "#f0f921"
             ]
            ],
            "type": "histogram2dcontour"
           }
          ],
          "mesh3d": [
           {
            "colorbar": {
             "outlinewidth": 0,
             "ticks": ""
            },
            "type": "mesh3d"
           }
          ],
          "parcoords": [
           {
            "line": {
             "colorbar": {
              "outlinewidth": 0,
              "ticks": ""
             }
            },
            "type": "parcoords"
           }
          ],
          "pie": [
           {
            "automargin": true,
            "type": "pie"
           }
          ],
          "scatter": [
           {
            "fillpattern": {
             "fillmode": "overlay",
             "size": 10,
             "solidity": 0.2
            },
            "type": "scatter"
           }
          ],
          "scatter3d": [
           {
            "line": {
             "colorbar": {
              "outlinewidth": 0,
              "ticks": ""
             }
            },
            "marker": {
             "colorbar": {
              "outlinewidth": 0,
              "ticks": ""
             }
            },
            "type": "scatter3d"
           }
          ],
          "scattercarpet": [
           {
            "marker": {
             "colorbar": {
              "outlinewidth": 0,
              "ticks": ""
             }
            },
            "type": "scattercarpet"
           }
          ],
          "scattergeo": [
           {
            "marker": {
             "colorbar": {
              "outlinewidth": 0,
              "ticks": ""
             }
            },
            "type": "scattergeo"
           }
          ],
          "scattergl": [
           {
            "marker": {
             "colorbar": {
              "outlinewidth": 0,
              "ticks": ""
             }
            },
            "type": "scattergl"
           }
          ],
          "scattermapbox": [
           {
            "marker": {
             "colorbar": {
              "outlinewidth": 0,
              "ticks": ""
             }
            },
            "type": "scattermapbox"
           }
          ],
          "scatterpolar": [
           {
            "marker": {
             "colorbar": {
              "outlinewidth": 0,
              "ticks": ""
             }
            },
            "type": "scatterpolar"
           }
          ],
          "scatterpolargl": [
           {
            "marker": {
             "colorbar": {
              "outlinewidth": 0,
              "ticks": ""
             }
            },
            "type": "scatterpolargl"
           }
          ],
          "scatterternary": [
           {
            "marker": {
             "colorbar": {
              "outlinewidth": 0,
              "ticks": ""
             }
            },
            "type": "scatterternary"
           }
          ],
          "surface": [
           {
            "colorbar": {
             "outlinewidth": 0,
             "ticks": ""
            },
            "colorscale": [
             [
              0,
              "#0d0887"
             ],
             [
              0.1111111111111111,
              "#46039f"
             ],
             [
              0.2222222222222222,
              "#7201a8"
             ],
             [
              0.3333333333333333,
              "#9c179e"
             ],
             [
              0.4444444444444444,
              "#bd3786"
             ],
             [
              0.5555555555555556,
              "#d8576b"
             ],
             [
              0.6666666666666666,
              "#ed7953"
             ],
             [
              0.7777777777777778,
              "#fb9f3a"
             ],
             [
              0.8888888888888888,
              "#fdca26"
             ],
             [
              1,
              "#f0f921"
             ]
            ],
            "type": "surface"
           }
          ],
          "table": [
           {
            "cells": {
             "fill": {
              "color": "#EBF0F8"
             },
             "line": {
              "color": "white"
             }
            },
            "header": {
             "fill": {
              "color": "#C8D4E3"
             },
             "line": {
              "color": "white"
             }
            },
            "type": "table"
           }
          ]
         },
         "layout": {
          "annotationdefaults": {
           "arrowcolor": "#2a3f5f",
           "arrowhead": 0,
           "arrowwidth": 1
          },
          "autotypenumbers": "strict",
          "coloraxis": {
           "colorbar": {
            "outlinewidth": 0,
            "ticks": ""
           }
          },
          "colorscale": {
           "diverging": [
            [
             0,
             "#8e0152"
            ],
            [
             0.1,
             "#c51b7d"
            ],
            [
             0.2,
             "#de77ae"
            ],
            [
             0.3,
             "#f1b6da"
            ],
            [
             0.4,
             "#fde0ef"
            ],
            [
             0.5,
             "#f7f7f7"
            ],
            [
             0.6,
             "#e6f5d0"
            ],
            [
             0.7,
             "#b8e186"
            ],
            [
             0.8,
             "#7fbc41"
            ],
            [
             0.9,
             "#4d9221"
            ],
            [
             1,
             "#276419"
            ]
           ],
           "sequential": [
            [
             0,
             "#0d0887"
            ],
            [
             0.1111111111111111,
             "#46039f"
            ],
            [
             0.2222222222222222,
             "#7201a8"
            ],
            [
             0.3333333333333333,
             "#9c179e"
            ],
            [
             0.4444444444444444,
             "#bd3786"
            ],
            [
             0.5555555555555556,
             "#d8576b"
            ],
            [
             0.6666666666666666,
             "#ed7953"
            ],
            [
             0.7777777777777778,
             "#fb9f3a"
            ],
            [
             0.8888888888888888,
             "#fdca26"
            ],
            [
             1,
             "#f0f921"
            ]
           ],
           "sequentialminus": [
            [
             0,
             "#0d0887"
            ],
            [
             0.1111111111111111,
             "#46039f"
            ],
            [
             0.2222222222222222,
             "#7201a8"
            ],
            [
             0.3333333333333333,
             "#9c179e"
            ],
            [
             0.4444444444444444,
             "#bd3786"
            ],
            [
             0.5555555555555556,
             "#d8576b"
            ],
            [
             0.6666666666666666,
             "#ed7953"
            ],
            [
             0.7777777777777778,
             "#fb9f3a"
            ],
            [
             0.8888888888888888,
             "#fdca26"
            ],
            [
             1,
             "#f0f921"
            ]
           ]
          },
          "colorway": [
           "#636efa",
           "#EF553B",
           "#00cc96",
           "#ab63fa",
           "#FFA15A",
           "#19d3f3",
           "#FF6692",
           "#B6E880",
           "#FF97FF",
           "#FECB52"
          ],
          "font": {
           "color": "#2a3f5f"
          },
          "geo": {
           "bgcolor": "white",
           "lakecolor": "white",
           "landcolor": "#E5ECF6",
           "showlakes": true,
           "showland": true,
           "subunitcolor": "white"
          },
          "hoverlabel": {
           "align": "left"
          },
          "hovermode": "closest",
          "mapbox": {
           "style": "light"
          },
          "paper_bgcolor": "white",
          "plot_bgcolor": "#E5ECF6",
          "polar": {
           "angularaxis": {
            "gridcolor": "white",
            "linecolor": "white",
            "ticks": ""
           },
           "bgcolor": "#E5ECF6",
           "radialaxis": {
            "gridcolor": "white",
            "linecolor": "white",
            "ticks": ""
           }
          },
          "scene": {
           "xaxis": {
            "backgroundcolor": "#E5ECF6",
            "gridcolor": "white",
            "gridwidth": 2,
            "linecolor": "white",
            "showbackground": true,
            "ticks": "",
            "zerolinecolor": "white"
           },
           "yaxis": {
            "backgroundcolor": "#E5ECF6",
            "gridcolor": "white",
            "gridwidth": 2,
            "linecolor": "white",
            "showbackground": true,
            "ticks": "",
            "zerolinecolor": "white"
           },
           "zaxis": {
            "backgroundcolor": "#E5ECF6",
            "gridcolor": "white",
            "gridwidth": 2,
            "linecolor": "white",
            "showbackground": true,
            "ticks": "",
            "zerolinecolor": "white"
           }
          },
          "shapedefaults": {
           "line": {
            "color": "#2a3f5f"
           }
          },
          "ternary": {
           "aaxis": {
            "gridcolor": "white",
            "linecolor": "white",
            "ticks": ""
           },
           "baxis": {
            "gridcolor": "white",
            "linecolor": "white",
            "ticks": ""
           },
           "bgcolor": "#E5ECF6",
           "caxis": {
            "gridcolor": "white",
            "linecolor": "white",
            "ticks": ""
           }
          },
          "title": {
           "x": 0.05
          },
          "xaxis": {
           "automargin": true,
           "gridcolor": "white",
           "linecolor": "white",
           "ticks": "",
           "title": {
            "standoff": 15
           },
           "zerolinecolor": "white",
           "zerolinewidth": 2
          },
          "yaxis": {
           "automargin": true,
           "gridcolor": "white",
           "linecolor": "white",
           "ticks": "",
           "title": {
            "standoff": 15
           },
           "zerolinecolor": "white",
           "zerolinewidth": 2
          }
         }
        },
        "title": {
         "text": "Fatores SAEB-CENSO",
         "x": 0.5,
         "y": 0.98
        }
       }
      },
      "text/html": [
       "<div>                            <div id=\"fa1f9dd4-f773-4c60-bed5-abb110a3eb3a\" class=\"plotly-graph-div\" style=\"height:525px; width:100%;\"></div>            <script type=\"text/javascript\">                require([\"plotly\"], function(Plotly) {                    window.PLOTLYENV=window.PLOTLYENV || {};                                    if (document.getElementById(\"fa1f9dd4-f773-4c60-bed5-abb110a3eb3a\")) {                    Plotly.newPlot(                        \"fa1f9dd4-f773-4c60-bed5-abb110a3eb3a\",                        [{\"name\":\"RO\",\"r\":[-1.016851851851852,-0.241986531986532,-0.02890572390572392,-0.0932996632996633,0.6779629629629629,-1.2365319865319864,0.2258754208754209,-0.29814814814814816,-1.016851851851852],\"theta\":[\"Estrutura\",\"PED\",\"LibrasBraile\",\"TratamentoLixo\",\"PCD\",\"Acessibilidade\",\"Internet\",\"Transporte\",\"Estrutura\"],\"type\":\"scatterpolar\"},{\"name\":\"AC\",\"r\":[-1.0719207317073172,-0.11417682926829269,-0.02664634146341463,-0.05972560975609756,1.140487804878049,-1.2389634146341464,0.11996951219512193,-0.6694512195121951,-1.0719207317073172],\"theta\":[\"Estrutura\",\"PED\",\"LibrasBraile\",\"TratamentoLixo\",\"PCD\",\"Acessibilidade\",\"Internet\",\"Transporte\",\"Estrutura\"],\"type\":\"scatterpolar\"},{\"name\":\"AM\",\"r\":[-0.5432795698924732,-0.04476190476190476,-0.29269585253456226,-0.14338709677419353,0.014354838709677417,-1.5623886328725036,0.09015360983102917,-0.5313056835637481,-0.5432795698924732],\"theta\":[\"Estrutura\",\"PED\",\"LibrasBraile\",\"TratamentoLixo\",\"PCD\",\"Acessibilidade\",\"Internet\",\"Transporte\",\"Estrutura\"],\"type\":\"scatterpolar\"},{\"name\":\"RR\",\"r\":[-1.3813714285714285,-0.1534285714285714,-0.12937142857142858,-0.21474285714285712,0.39405714285714283,-1.2592,0.3708571428571429,-0.6941714285714286,-1.3813714285714285],\"theta\":[\"Estrutura\",\"PED\",\"LibrasBraile\",\"TratamentoLixo\",\"PCD\",\"Acessibilidade\",\"Internet\",\"Transporte\",\"Estrutura\"],\"type\":\"scatterpolar\"},{\"name\":\"PA\",\"r\":[-0.5755392936684696,0.04324530703149856,0.30104995227489667,-0.024661151765828834,0.27090995863824374,-1.6079796372892141,-0.18762328985046137,-0.3282723512567611,-0.5755392936684696],\"theta\":[\"Estrutura\",\"PED\",\"LibrasBraile\",\"TratamentoLixo\",\"PCD\",\"Acessibilidade\",\"Internet\",\"Transporte\",\"Estrutura\"],\"type\":\"scatterpolar\"},{\"name\":\"AP\",\"r\":[-1.0959246575342465,-0.13664383561643836,-0.11743150684931507,-0.07054794520547944,0.7465068493150685,-1.3598972602739725,0.1871917808219178,-0.7384246575342466,-1.0959246575342465],\"theta\":[\"Estrutura\",\"PED\",\"LibrasBraile\",\"TratamentoLixo\",\"PCD\",\"Acessibilidade\",\"Internet\",\"Transporte\",\"Estrutura\"],\"type\":\"scatterpolar\"},{\"name\":\"TO\",\"r\":[-0.7062089552238806,-0.27513432835820895,-0.23607462686567166,-0.13774626865671644,0.5481492537313433,-1.2976567164179105,0.13044776119402987,0.055895522388059705,-0.7062089552238806],\"theta\":[\"Estrutura\",\"PED\",\"LibrasBraile\",\"TratamentoLixo\",\"PCD\",\"Acessibilidade\",\"Internet\",\"Transporte\",\"Estrutura\"],\"type\":\"scatterpolar\"},{\"name\":\"MA\",\"r\":[-0.3997672438262844,0.3173715583309679,-0.01589838206074369,0.11893272778881633,-0.29856940107862623,-0.7867016747090548,-0.33003406187908035,-0.05611126880499573,-0.3997672438262844],\"theta\":[\"Estrutura\",\"PED\",\"LibrasBraile\",\"TratamentoLixo\",\"PCD\",\"Acessibilidade\",\"Internet\",\"Transporte\",\"Estrutura\"],\"type\":\"scatterpolar\"},{\"name\":\"PI\",\"r\":[-1.1099716553287982,-0.14115079365079367,-0.0910090702947846,-0.15721088435374153,0.008367346938775505,-0.5477607709750567,0.27598639455782314,0.023735827664399096,-1.1099716553287982],\"theta\":[\"Estrutura\",\"PED\",\"LibrasBraile\",\"TratamentoLixo\",\"PCD\",\"Acessibilidade\",\"Internet\",\"Transporte\",\"Estrutura\"],\"type\":\"scatterpolar\"},{\"name\":\"CE\",\"r\":[0.1560289210233593,-0.2128837597330367,-0.1805061179087875,0.037508342602892104,0.10996662958843158,-0.6986290322580645,-0.2688431590656285,0.30251946607341496,0.1560289210233593],\"theta\":[\"Estrutura\",\"PED\",\"LibrasBraile\",\"TratamentoLixo\",\"PCD\",\"Acessibilidade\",\"Internet\",\"Transporte\",\"Estrutura\"],\"type\":\"scatterpolar\"},{\"name\":\"RN\",\"r\":[-0.4970577777777778,-0.17036444444444446,-0.1900888888888889,0.012533333333333339,0.07292444444444443,-0.5230044444444445,-0.07052444444444443,-0.012808888888888885,-0.4970577777777778],\"theta\":[\"Estrutura\",\"PED\",\"LibrasBraile\",\"TratamentoLixo\",\"PCD\",\"Acessibilidade\",\"Internet\",\"Transporte\",\"Estrutura\"],\"type\":\"scatterpolar\"},{\"name\":\"PB\",\"r\":[-1.1031093463653023,-0.15756261453879047,-0.16150274893097127,-0.08487477092241906,0.15128283445326818,-0.4660415394013439,0.21383017715332928,-0.23709224190592548,-1.1031093463653023],\"theta\":[\"Estrutura\",\"PED\",\"LibrasBraile\",\"TratamentoLixo\",\"PCD\",\"Acessibilidade\",\"Internet\",\"Transporte\",\"Estrutura\"],\"type\":\"scatterpolar\"},{\"name\":\"PE\",\"r\":[-0.5319459993414554,-0.11064208100098782,-0.21324333223575898,0.005373724069805723,0.061511359894632855,-0.5209614751399407,-0.06709581824168587,-0.17524860059269015,-0.5319459993414554],\"theta\":[\"Estrutura\",\"PED\",\"LibrasBraile\",\"TratamentoLixo\",\"PCD\",\"Acessibilidade\",\"Internet\",\"Transporte\",\"Estrutura\"],\"type\":\"scatterpolar\"},{\"name\":\"AL\",\"r\":[-1.093892828999212,-0.15675334909377464,-0.17226162332545314,-0.165973207249803,0.34397951142631994,-0.5073916469661149,0.16556343577620172,0.046524822695035474,-1.093892828999212],\"theta\":[\"Estrutura\",\"PED\",\"LibrasBraile\",\"TratamentoLixo\",\"PCD\",\"Acessibilidade\",\"Internet\",\"Transporte\",\"Estrutura\"],\"type\":\"scatterpolar\"},{\"name\":\"SE\",\"r\":[-0.7975502958579882,-0.21250887573964497,-0.16026035502958583,-0.15009467455621303,-0.015408284023668643,-0.508603550295858,0.004023668639053259,-0.04498224852071004,-0.7975502958579882],\"theta\":[\"Estrutura\",\"PED\",\"LibrasBraile\",\"TratamentoLixo\",\"PCD\",\"Acessibilidade\",\"Internet\",\"Transporte\",\"Estrutura\"],\"type\":\"scatterpolar\"},{\"name\":\"BA\",\"r\":[0.29294160451155177,0.05810442059305076,0.13416408950336547,0.22268510096416225,-0.17082044751682737,-0.631629979989085,-0.7343605603056212,0.20379843551027832,0.29294160451155177],\"theta\":[\"Estrutura\",\"PED\",\"LibrasBraile\",\"TratamentoLixo\",\"PCD\",\"Acessibilidade\",\"Internet\",\"Transporte\",\"Estrutura\"],\"type\":\"scatterpolar\"},{\"name\":\"MG\",\"r\":[0.45245925447797325,-0.147944166532193,-0.2577860254962078,0.04677101823462967,0.11441019848313702,0.3110053251573342,0.14387122801355492,0.31247055026625786,0.45245925447797325],\"theta\":[\"Estrutura\",\"PED\",\"LibrasBraile\",\"TratamentoLixo\",\"PCD\",\"Acessibilidade\",\"Internet\",\"Transporte\",\"Estrutura\"],\"type\":\"scatterpolar\"},{\"name\":\"ES\",\"r\":[-1.086657824933687,-0.1627939876215738,0.022961980548187433,-0.14364279398762156,0.49064544650751546,0.3925198938992043,0.30329796640141465,-0.24247568523430593,-1.086657824933687],\"theta\":[\"Estrutura\",\"PED\",\"LibrasBraile\",\"TratamentoLixo\",\"PCD\",\"Acessibilidade\",\"Internet\",\"Transporte\",\"Estrutura\"],\"type\":\"scatterpolar\"},{\"name\":\"RJ\",\"r\":[0.1700463096960926,-0.06181186685962373,-0.01614182344428365,0.12151953690303909,-0.0027062228654124443,0.3532416787264834,-0.2943039073806078,0.12726483357452967,0.1700463096960926],\"theta\":[\"Estrutura\",\"PED\",\"LibrasBraile\",\"TratamentoLixo\",\"PCD\",\"Acessibilidade\",\"Internet\",\"Transporte\",\"Estrutura\"],\"type\":\"scatterpolar\"},{\"name\":\"SP\",\"r\":[1.9574060542797491,0.28629958246346554,0.11975469728601253,-0.06274217118997913,-0.14824425887265139,0.12323173277661795,0.1395073068893528,-0.2407964509394572,1.9574060542797491],\"theta\":[\"Estrutura\",\"PED\",\"LibrasBraile\",\"TratamentoLixo\",\"PCD\",\"Acessibilidade\",\"Internet\",\"Transporte\",\"Estrutura\"],\"type\":\"scatterpolar\"},{\"name\":\"PR\",\"r\":[-0.519683158664392,-0.14981476968072144,0.1332342188642457,-0.08800633682671218,-0.3760857908847185,1.1894686814525957,0.19778698513282963,0.18359005605654402,-0.519683158664392],\"theta\":[\"Estrutura\",\"PED\",\"LibrasBraile\",\"TratamentoLixo\",\"PCD\",\"Acessibilidade\",\"Internet\",\"Transporte\",\"Estrutura\"],\"type\":\"scatterpolar\"},{\"name\":\"SC\",\"r\":[-0.5117172211350294,-0.1418982387475538,-0.04119373776908023,0.07521526418786693,-0.07739236790606653,1.125958904109589,0.2768786692759296,0.2837426614481409,-0.5117172211350294],\"theta\":[\"Estrutura\",\"PED\",\"LibrasBraile\",\"TratamentoLixo\",\"PCD\",\"Acessibilidade\",\"Internet\",\"Transporte\",\"Estrutura\"],\"type\":\"scatterpolar\"},{\"name\":\"RS\",\"r\":[-0.575839670468948,0.3155291508238276,-0.06844740177439797,0.03461977186311787,0.07543092522179974,1.1461977186311787,0.4780449936628644,-0.04508238276299111,-0.575839670468948],\"theta\":[\"Estrutura\",\"PED\",\"LibrasBraile\",\"TratamentoLixo\",\"PCD\",\"Acessibilidade\",\"Internet\",\"Transporte\",\"Estrutura\"],\"type\":\"scatterpolar\"},{\"name\":\"MS\",\"r\":[-0.8314243759177681,-0.12232011747430246,-0.02002936857562409,-0.055565345080763585,0.13202643171806167,1.8939941262848752,0.35189427312775334,0.16684287812041115,-0.8314243759177681],\"theta\":[\"Estrutura\",\"PED\",\"LibrasBraile\",\"TratamentoLixo\",\"PCD\",\"Acessibilidade\",\"Internet\",\"Transporte\",\"Estrutura\"],\"type\":\"scatterpolar\"},{\"name\":\"MT\",\"r\":[-0.5881231079717456,-0.1048234106962664,1.4001311806256307,-0.08505549949545914,-0.1523915237134208,1.7215438950554995,0.18554994954591322,0.31880928355196764,-0.5881231079717456],\"theta\":[\"Estrutura\",\"PED\",\"LibrasBraile\",\"TratamentoLixo\",\"PCD\",\"Acessibilidade\",\"Internet\",\"Transporte\",\"Estrutura\"],\"type\":\"scatterpolar\"},{\"name\":\"GO\",\"r\":[-1.1986396526772791,-0.09,-0.06758803666184275,-0.12477086348287506,-0.12021225277375783,1.9233043897732753,0.2698022190062711,-0.027491558128316454,-1.1986396526772791],\"theta\":[\"Estrutura\",\"PED\",\"LibrasBraile\",\"TratamentoLixo\",\"PCD\",\"Acessibilidade\",\"Internet\",\"Transporte\",\"Estrutura\"],\"type\":\"scatterpolar\"},{\"name\":\"DF\",\"r\":[-1.1760652173913044,-0.10906521739130436,0.6180869565217391,-0.06834782608695653,0.6059782608695652,1.9354130434782608,0.14756521739130435,-0.16947826086956522,-1.1760652173913044],\"theta\":[\"Estrutura\",\"PED\",\"LibrasBraile\",\"TratamentoLixo\",\"PCD\",\"Acessibilidade\",\"Internet\",\"Transporte\",\"Estrutura\"],\"type\":\"scatterpolar\"},{\"name\":\"Nacional\",\"r\":[-5.904129699351844e-06,-5.425416480507272e-06,9.095551158484974e-06,1.3723112274198079e-05,1.5957107295479703e-06,-7.180698283084917e-06,4.946703261646374e-06,-1.0691261888040654e-05,-5.904129699351844e-06],\"theta\":[\"Estrutura\",\"PED\",\"LibrasBraile\",\"TratamentoLixo\",\"PCD\",\"Acessibilidade\",\"Internet\",\"Transporte\",\"Estrutura\"],\"type\":\"scatterpolar\"}],                        {\"polar\":{\"radialaxis\":{\"visible\":false}},\"showlegend\":true,\"title\":{\"text\":\"Fatores SAEB-CENSO\",\"x\":0.5,\"y\":0.98},\"template\":{\"data\":{\"histogram2dcontour\":[{\"type\":\"histogram2dcontour\",\"colorbar\":{\"outlinewidth\":0,\"ticks\":\"\"},\"colorscale\":[[0.0,\"#0d0887\"],[0.1111111111111111,\"#46039f\"],[0.2222222222222222,\"#7201a8\"],[0.3333333333333333,\"#9c179e\"],[0.4444444444444444,\"#bd3786\"],[0.5555555555555556,\"#d8576b\"],[0.6666666666666666,\"#ed7953\"],[0.7777777777777778,\"#fb9f3a\"],[0.8888888888888888,\"#fdca26\"],[1.0,\"#f0f921\"]]}],\"choropleth\":[{\"type\":\"choropleth\",\"colorbar\":{\"outlinewidth\":0,\"ticks\":\"\"}}],\"histogram2d\":[{\"type\":\"histogram2d\",\"colorbar\":{\"outlinewidth\":0,\"ticks\":\"\"},\"colorscale\":[[0.0,\"#0d0887\"],[0.1111111111111111,\"#46039f\"],[0.2222222222222222,\"#7201a8\"],[0.3333333333333333,\"#9c179e\"],[0.4444444444444444,\"#bd3786\"],[0.5555555555555556,\"#d8576b\"],[0.6666666666666666,\"#ed7953\"],[0.7777777777777778,\"#fb9f3a\"],[0.8888888888888888,\"#fdca26\"],[1.0,\"#f0f921\"]]}],\"heatmap\":[{\"type\":\"heatmap\",\"colorbar\":{\"outlinewidth\":0,\"ticks\":\"\"},\"colorscale\":[[0.0,\"#0d0887\"],[0.1111111111111111,\"#46039f\"],[0.2222222222222222,\"#7201a8\"],[0.3333333333333333,\"#9c179e\"],[0.4444444444444444,\"#bd3786\"],[0.5555555555555556,\"#d8576b\"],[0.6666666666666666,\"#ed7953\"],[0.7777777777777778,\"#fb9f3a\"],[0.8888888888888888,\"#fdca26\"],[1.0,\"#f0f921\"]]}],\"heatmapgl\":[{\"type\":\"heatmapgl\",\"colorbar\":{\"outlinewidth\":0,\"ticks\":\"\"},\"colorscale\":[[0.0,\"#0d0887\"],[0.1111111111111111,\"#46039f\"],[0.2222222222222222,\"#7201a8\"],[0.3333333333333333,\"#9c179e\"],[0.4444444444444444,\"#bd3786\"],[0.5555555555555556,\"#d8576b\"],[0.6666666666666666,\"#ed7953\"],[0.7777777777777778,\"#fb9f3a\"],[0.8888888888888888,\"#fdca26\"],[1.0,\"#f0f921\"]]}],\"contourcarpet\":[{\"type\":\"contourcarpet\",\"colorbar\":{\"outlinewidth\":0,\"ticks\":\"\"}}],\"contour\":[{\"type\":\"contour\",\"colorbar\":{\"outlinewidth\":0,\"ticks\":\"\"},\"colorscale\":[[0.0,\"#0d0887\"],[0.1111111111111111,\"#46039f\"],[0.2222222222222222,\"#7201a8\"],[0.3333333333333333,\"#9c179e\"],[0.4444444444444444,\"#bd3786\"],[0.5555555555555556,\"#d8576b\"],[0.6666666666666666,\"#ed7953\"],[0.7777777777777778,\"#fb9f3a\"],[0.8888888888888888,\"#fdca26\"],[1.0,\"#f0f921\"]]}],\"surface\":[{\"type\":\"surface\",\"colorbar\":{\"outlinewidth\":0,\"ticks\":\"\"},\"colorscale\":[[0.0,\"#0d0887\"],[0.1111111111111111,\"#46039f\"],[0.2222222222222222,\"#7201a8\"],[0.3333333333333333,\"#9c179e\"],[0.4444444444444444,\"#bd3786\"],[0.5555555555555556,\"#d8576b\"],[0.6666666666666666,\"#ed7953\"],[0.7777777777777778,\"#fb9f3a\"],[0.8888888888888888,\"#fdca26\"],[1.0,\"#f0f921\"]]}],\"mesh3d\":[{\"type\":\"mesh3d\",\"colorbar\":{\"outlinewidth\":0,\"ticks\":\"\"}}],\"scatter\":[{\"fillpattern\":{\"fillmode\":\"overlay\",\"size\":10,\"solidity\":0.2},\"type\":\"scatter\"}],\"parcoords\":[{\"type\":\"parcoords\",\"line\":{\"colorbar\":{\"outlinewidth\":0,\"ticks\":\"\"}}}],\"scatterpolargl\":[{\"type\":\"scatterpolargl\",\"marker\":{\"colorbar\":{\"outlinewidth\":0,\"ticks\":\"\"}}}],\"bar\":[{\"error_x\":{\"color\":\"#2a3f5f\"},\"error_y\":{\"color\":\"#2a3f5f\"},\"marker\":{\"line\":{\"color\":\"#E5ECF6\",\"width\":0.5},\"pattern\":{\"fillmode\":\"overlay\",\"size\":10,\"solidity\":0.2}},\"type\":\"bar\"}],\"scattergeo\":[{\"type\":\"scattergeo\",\"marker\":{\"colorbar\":{\"outlinewidth\":0,\"ticks\":\"\"}}}],\"scatterpolar\":[{\"type\":\"scatterpolar\",\"marker\":{\"colorbar\":{\"outlinewidth\":0,\"ticks\":\"\"}}}],\"histogram\":[{\"marker\":{\"pattern\":{\"fillmode\":\"overlay\",\"size\":10,\"solidity\":0.2}},\"type\":\"histogram\"}],\"scattergl\":[{\"type\":\"scattergl\",\"marker\":{\"colorbar\":{\"outlinewidth\":0,\"ticks\":\"\"}}}],\"scatter3d\":[{\"type\":\"scatter3d\",\"line\":{\"colorbar\":{\"outlinewidth\":0,\"ticks\":\"\"}},\"marker\":{\"colorbar\":{\"outlinewidth\":0,\"ticks\":\"\"}}}],\"scattermapbox\":[{\"type\":\"scattermapbox\",\"marker\":{\"colorbar\":{\"outlinewidth\":0,\"ticks\":\"\"}}}],\"scatterternary\":[{\"type\":\"scatterternary\",\"marker\":{\"colorbar\":{\"outlinewidth\":0,\"ticks\":\"\"}}}],\"scattercarpet\":[{\"type\":\"scattercarpet\",\"marker\":{\"colorbar\":{\"outlinewidth\":0,\"ticks\":\"\"}}}],\"carpet\":[{\"aaxis\":{\"endlinecolor\":\"#2a3f5f\",\"gridcolor\":\"white\",\"linecolor\":\"white\",\"minorgridcolor\":\"white\",\"startlinecolor\":\"#2a3f5f\"},\"baxis\":{\"endlinecolor\":\"#2a3f5f\",\"gridcolor\":\"white\",\"linecolor\":\"white\",\"minorgridcolor\":\"white\",\"startlinecolor\":\"#2a3f5f\"},\"type\":\"carpet\"}],\"table\":[{\"cells\":{\"fill\":{\"color\":\"#EBF0F8\"},\"line\":{\"color\":\"white\"}},\"header\":{\"fill\":{\"color\":\"#C8D4E3\"},\"line\":{\"color\":\"white\"}},\"type\":\"table\"}],\"barpolar\":[{\"marker\":{\"line\":{\"color\":\"#E5ECF6\",\"width\":0.5},\"pattern\":{\"fillmode\":\"overlay\",\"size\":10,\"solidity\":0.2}},\"type\":\"barpolar\"}],\"pie\":[{\"automargin\":true,\"type\":\"pie\"}]},\"layout\":{\"autotypenumbers\":\"strict\",\"colorway\":[\"#636efa\",\"#EF553B\",\"#00cc96\",\"#ab63fa\",\"#FFA15A\",\"#19d3f3\",\"#FF6692\",\"#B6E880\",\"#FF97FF\",\"#FECB52\"],\"font\":{\"color\":\"#2a3f5f\"},\"hovermode\":\"closest\",\"hoverlabel\":{\"align\":\"left\"},\"paper_bgcolor\":\"white\",\"plot_bgcolor\":\"#E5ECF6\",\"polar\":{\"bgcolor\":\"#E5ECF6\",\"angularaxis\":{\"gridcolor\":\"white\",\"linecolor\":\"white\",\"ticks\":\"\"},\"radialaxis\":{\"gridcolor\":\"white\",\"linecolor\":\"white\",\"ticks\":\"\"}},\"ternary\":{\"bgcolor\":\"#E5ECF6\",\"aaxis\":{\"gridcolor\":\"white\",\"linecolor\":\"white\",\"ticks\":\"\"},\"baxis\":{\"gridcolor\":\"white\",\"linecolor\":\"white\",\"ticks\":\"\"},\"caxis\":{\"gridcolor\":\"white\",\"linecolor\":\"white\",\"ticks\":\"\"}},\"coloraxis\":{\"colorbar\":{\"outlinewidth\":0,\"ticks\":\"\"}},\"colorscale\":{\"sequential\":[[0.0,\"#0d0887\"],[0.1111111111111111,\"#46039f\"],[0.2222222222222222,\"#7201a8\"],[0.3333333333333333,\"#9c179e\"],[0.4444444444444444,\"#bd3786\"],[0.5555555555555556,\"#d8576b\"],[0.6666666666666666,\"#ed7953\"],[0.7777777777777778,\"#fb9f3a\"],[0.8888888888888888,\"#fdca26\"],[1.0,\"#f0f921\"]],\"sequentialminus\":[[0.0,\"#0d0887\"],[0.1111111111111111,\"#46039f\"],[0.2222222222222222,\"#7201a8\"],[0.3333333333333333,\"#9c179e\"],[0.4444444444444444,\"#bd3786\"],[0.5555555555555556,\"#d8576b\"],[0.6666666666666666,\"#ed7953\"],[0.7777777777777778,\"#fb9f3a\"],[0.8888888888888888,\"#fdca26\"],[1.0,\"#f0f921\"]],\"diverging\":[[0,\"#8e0152\"],[0.1,\"#c51b7d\"],[0.2,\"#de77ae\"],[0.3,\"#f1b6da\"],[0.4,\"#fde0ef\"],[0.5,\"#f7f7f7\"],[0.6,\"#e6f5d0\"],[0.7,\"#b8e186\"],[0.8,\"#7fbc41\"],[0.9,\"#4d9221\"],[1,\"#276419\"]]},\"xaxis\":{\"gridcolor\":\"white\",\"linecolor\":\"white\",\"ticks\":\"\",\"title\":{\"standoff\":15},\"zerolinecolor\":\"white\",\"automargin\":true,\"zerolinewidth\":2},\"yaxis\":{\"gridcolor\":\"white\",\"linecolor\":\"white\",\"ticks\":\"\",\"title\":{\"standoff\":15},\"zerolinecolor\":\"white\",\"automargin\":true,\"zerolinewidth\":2},\"scene\":{\"xaxis\":{\"backgroundcolor\":\"#E5ECF6\",\"gridcolor\":\"white\",\"linecolor\":\"white\",\"showbackground\":true,\"ticks\":\"\",\"zerolinecolor\":\"white\",\"gridwidth\":2},\"yaxis\":{\"backgroundcolor\":\"#E5ECF6\",\"gridcolor\":\"white\",\"linecolor\":\"white\",\"showbackground\":true,\"ticks\":\"\",\"zerolinecolor\":\"white\",\"gridwidth\":2},\"zaxis\":{\"backgroundcolor\":\"#E5ECF6\",\"gridcolor\":\"white\",\"linecolor\":\"white\",\"showbackground\":true,\"ticks\":\"\",\"zerolinecolor\":\"white\",\"gridwidth\":2}},\"shapedefaults\":{\"line\":{\"color\":\"#2a3f5f\"}},\"annotationdefaults\":{\"arrowcolor\":\"#2a3f5f\",\"arrowhead\":0,\"arrowwidth\":1},\"geo\":{\"bgcolor\":\"white\",\"landcolor\":\"#E5ECF6\",\"subunitcolor\":\"white\",\"showland\":true,\"showlakes\":true,\"lakecolor\":\"white\"},\"title\":{\"x\":0.05},\"mapbox\":{\"style\":\"light\"}}}},                        {\"responsive\": true}                    ).then(function(){\n",
       "                            \n",
       "var gd = document.getElementById('fa1f9dd4-f773-4c60-bed5-abb110a3eb3a');\n",
       "var x = new MutationObserver(function (mutations, observer) {{\n",
       "        var display = window.getComputedStyle(gd).display;\n",
       "        if (!display || display === 'none') {{\n",
       "            console.log([gd, 'removed!']);\n",
       "            Plotly.purge(gd);\n",
       "            observer.disconnect();\n",
       "        }}\n",
       "}});\n",
       "\n",
       "// Listen for the removal of the full notebook cells\n",
       "var notebookContainer = gd.closest('#notebook-container');\n",
       "if (notebookContainer) {{\n",
       "    x.observe(notebookContainer, {childList: true});\n",
       "}}\n",
       "\n",
       "// Listen for the clearing of the current output cell\n",
       "var outputEl = gd.closest('.output');\n",
       "if (outputEl) {{\n",
       "    x.observe(outputEl, {childList: true});\n",
       "}}\n",
       "\n",
       "                        })                };                });            </script>        </div>"
      ]
     },
     "metadata": {},
     "output_type": "display_data"
    }
   ],
   "source": [
    "fig = plotRadarEstadosCensoSaeb()\n",
    "fig.write_html(\"RadarTodosEstados.html\")\n",
    "fig.show()"
   ]
  },
  {
   "cell_type": "code",
   "execution_count": 37,
   "id": "924be569",
   "metadata": {},
   "outputs": [],
   "source": [
    "def plotRadarRegiaoCensoSaeb():\n",
    "   \n",
    "    #Carrega dados\n",
    "    #path_file = 'https://raw.githubusercontent.com/eltonsarmanho/GoogleFitDataFlow/main/data/inep_saeb_merge_fatorial_2019.csv'\n",
    "    path_file = '../Dataset/inep_saeb_merge_fatorial_2019.csv'\n",
    "\n",
    "    dataset = pd.read_csv(path_file, delimiter='\\t', )\n",
    "    dict_uf = {11: 'RO', 12: 'AC', 13: 'AM', 14: 'RR', 15: 'PA', 16: 'AP', 17: 'TO', 21: 'MA', 22: 'PI', 23: 'CE',\n",
    "               24: 'RN',\n",
    "               25: 'PB', 26: 'PE', 27: 'AL', 28: 'SE', 29: 'BA', 31: 'MG', 32: 'ES', 33: 'RJ', 35: 'SP', 41: 'PR',\n",
    "               42: 'SC', 43: 'RS', 50: 'MS',\n",
    "               51: 'MT', 52: 'GO', 53: 'DF', }\n",
    "   \n",
    "     \n",
    "    \n",
    "    #Processamento no contexto nacional\n",
    "    #Agrupar por Nacional\n",
    "    cols = ['Estrutura','PED','LibrasBraile','TratamentoLixo','PCD','Acessibilidade','Internet','Transporte']\n",
    "    \n",
    "    data_brasil_fatores = pd.DataFrame(df[cols].mean().to_dict(),index=[df[cols].index.values[-1]])\n",
    "\n",
    "    \n",
    "    dimensoes = list(data_brasil_fatores.columns)\n",
    "    dimensoes = [*dimensoes, dimensoes[0]]\n",
    "\n",
    "    esc = data_brasil_fatores.values.flatten().tolist()\n",
    "    esc = [*esc, esc[0]]\n",
    "    \n",
    "    \n",
    "    regiao_norte = ['AM','PA','AC','RR','RO','AP','TO']\n",
    "    regiao_sul = ['PR','SC','RS']\n",
    "    regiao_sudeste = ['ES','MG','RJ','SP']\n",
    "    regiao_nordeste=['AL','BA','CE','MA','PB','PE','PI','RN','SE']\n",
    "    regiao_centro = ['DF','GO','MT','MS']\n",
    "    dict_regiao = {'Norte':regiao_norte,'Sul': regiao_sul,\"Sudeste\":\n",
    "                   regiao_sudeste,\"Centro-Oeste\":regiao_centro,\"Nordeste\":regiao_nordeste }\n",
    "    lst = []\n",
    "    for k, v in dict_regiao.items():\n",
    "        filter = (df['ID_UF'].isin(v))\n",
    "        data_estado_ = df[filter]\n",
    "\n",
    "        data_estado_1_fatores = pd.DataFrame(data_estado_[cols].mean().to_dict(),index=[data_estado_[cols].index.values[-1]])\n",
    "\n",
    "\n",
    "        dimensoes_estado_1 = list(data_estado_1_fatores.columns)\n",
    "        dimensoes_estado_1 = [*dimensoes_estado_1, dimensoes_estado_1[0]]\n",
    "\n",
    "        esc_estado_1 = data_estado_1_fatores.values.flatten().tolist()\n",
    "        esc_estado_1 = [*esc_estado_1, esc_estado_1[0]]    \n",
    "        lst.append(go.Scatterpolar(r=esc_estado_1, theta=dimensoes_estado_1, name=k))\n",
    "        #lst.append(v)\n",
    "    #print(lst)\n",
    "      \n",
    "    \n",
    "    fig = go.Figure(\n",
    "        data=[\n",
    "            *lst, \n",
    "            go.Scatterpolar(r=esc, theta=dimensoes, name='Nacional')\n",
    "        \n",
    "        ],\n",
    "        layout=go.Layout(\n",
    "            title_y=0.98,title_x=0.5,\n",
    "            title=go.layout.Title(text='Fatores SAEB-CENSO'),\n",
    "            polar={'radialaxis': {'visible': False}},\n",
    "            showlegend=True\n",
    "        )\n",
    "    )\n",
    "    return fig"
   ]
  },
  {
   "cell_type": "code",
   "execution_count": 38,
   "id": "876facca",
   "metadata": {},
   "outputs": [
    {
     "data": {
      "application/vnd.plotly.v1+json": {
       "config": {
        "plotlyServerURL": "https://plot.ly"
       },
       "data": [
        {
         "name": "Norte",
         "r": [
          -0.6929243542435424,
          -0.05452644526445264,
          0.04983087330873309,
          -0.07528905289052891,
          0.35380535055350554,
          -1.4938299507995079,
          -0.014120541205412054,
          -0.37205565805658053,
          -0.6929243542435424
         ],
         "theta": [
          "Estrutura",
          "PED",
          "LibrasBraile",
          "TratamentoLixo",
          "PCD",
          "Acessibilidade",
          "Internet",
          "Transporte",
          "Estrutura"
         ],
         "type": "scatterpolar"
        },
        {
         "name": "Sul",
         "r": [
          -0.5369837686767709,
          0.009790390196710737,
          0.026490379447490053,
          -0.010543910566483935,
          -0.1572836719337848,
          1.1608352144469527,
          0.31024078254326565,
          0.12801891862839945,
          -0.5369837686767709
         ],
         "theta": [
          "Estrutura",
          "PED",
          "LibrasBraile",
          "TratamentoLixo",
          "PCD",
          "Acessibilidade",
          "Internet",
          "Transporte",
          "Estrutura"
         ],
         "type": "scatterpolar"
        },
        {
         "name": "Sudeste",
         "r": [
          1.0270755782546777,
          0.07013995973088444,
          -0.02357462063546629,
          -0.002644011196778478,
          -0.008132888081323982,
          0.2343588862151942,
          0.0763276530963021,
          -0.01006678780140451,
          1.0270755782546777
         ],
         "theta": [
          "Estrutura",
          "PED",
          "LibrasBraile",
          "TratamentoLixo",
          "PCD",
          "Acessibilidade",
          "Internet",
          "Transporte",
          "Estrutura"
         ],
         "type": "scatterpolar"
        },
        {
         "name": "Centro-Oeste",
         "r": [
          -0.9928180737217599,
          -0.10081331747919142,
          0.3610225921521997,
          -0.09803091557669442,
          -0.007505350772889418,
          1.8723329369797859,
          0.24986920332936977,
          0.07006183115338879,
          -0.9928180737217599
         ],
         "theta": [
          "Estrutura",
          "PED",
          "LibrasBraile",
          "TratamentoLixo",
          "PCD",
          "Acessibilidade",
          "Internet",
          "Transporte",
          "Estrutura"
         ],
         "type": "scatterpolar"
        },
        {
         "name": "Nordeste",
         "r": [
          -0.3246566186695376,
          -0.03324451621585252,
          -0.07213116224823937,
          0.04731036648275243,
          -0.028738617503252146,
          -0.6158543040416274,
          -0.24218274794778627,
          0.051074328264477636,
          -0.3246566186695376
         ],
         "theta": [
          "Estrutura",
          "PED",
          "LibrasBraile",
          "TratamentoLixo",
          "PCD",
          "Acessibilidade",
          "Internet",
          "Transporte",
          "Estrutura"
         ],
         "type": "scatterpolar"
        },
        {
         "name": "Nacional",
         "r": [
          -5.904129699351844e-06,
          -5.425416480507272e-06,
          9.095551158484974e-06,
          1.3723112274198079e-05,
          1.5957107295479703e-06,
          -7.180698283084917e-06,
          4.946703261646374e-06,
          -1.0691261888040654e-05,
          -5.904129699351844e-06
         ],
         "theta": [
          "Estrutura",
          "PED",
          "LibrasBraile",
          "TratamentoLixo",
          "PCD",
          "Acessibilidade",
          "Internet",
          "Transporte",
          "Estrutura"
         ],
         "type": "scatterpolar"
        }
       ],
       "layout": {
        "polar": {
         "radialaxis": {
          "visible": false
         }
        },
        "showlegend": true,
        "template": {
         "data": {
          "bar": [
           {
            "error_x": {
             "color": "#2a3f5f"
            },
            "error_y": {
             "color": "#2a3f5f"
            },
            "marker": {
             "line": {
              "color": "#E5ECF6",
              "width": 0.5
             },
             "pattern": {
              "fillmode": "overlay",
              "size": 10,
              "solidity": 0.2
             }
            },
            "type": "bar"
           }
          ],
          "barpolar": [
           {
            "marker": {
             "line": {
              "color": "#E5ECF6",
              "width": 0.5
             },
             "pattern": {
              "fillmode": "overlay",
              "size": 10,
              "solidity": 0.2
             }
            },
            "type": "barpolar"
           }
          ],
          "carpet": [
           {
            "aaxis": {
             "endlinecolor": "#2a3f5f",
             "gridcolor": "white",
             "linecolor": "white",
             "minorgridcolor": "white",
             "startlinecolor": "#2a3f5f"
            },
            "baxis": {
             "endlinecolor": "#2a3f5f",
             "gridcolor": "white",
             "linecolor": "white",
             "minorgridcolor": "white",
             "startlinecolor": "#2a3f5f"
            },
            "type": "carpet"
           }
          ],
          "choropleth": [
           {
            "colorbar": {
             "outlinewidth": 0,
             "ticks": ""
            },
            "type": "choropleth"
           }
          ],
          "contour": [
           {
            "colorbar": {
             "outlinewidth": 0,
             "ticks": ""
            },
            "colorscale": [
             [
              0,
              "#0d0887"
             ],
             [
              0.1111111111111111,
              "#46039f"
             ],
             [
              0.2222222222222222,
              "#7201a8"
             ],
             [
              0.3333333333333333,
              "#9c179e"
             ],
             [
              0.4444444444444444,
              "#bd3786"
             ],
             [
              0.5555555555555556,
              "#d8576b"
             ],
             [
              0.6666666666666666,
              "#ed7953"
             ],
             [
              0.7777777777777778,
              "#fb9f3a"
             ],
             [
              0.8888888888888888,
              "#fdca26"
             ],
             [
              1,
              "#f0f921"
             ]
            ],
            "type": "contour"
           }
          ],
          "contourcarpet": [
           {
            "colorbar": {
             "outlinewidth": 0,
             "ticks": ""
            },
            "type": "contourcarpet"
           }
          ],
          "heatmap": [
           {
            "colorbar": {
             "outlinewidth": 0,
             "ticks": ""
            },
            "colorscale": [
             [
              0,
              "#0d0887"
             ],
             [
              0.1111111111111111,
              "#46039f"
             ],
             [
              0.2222222222222222,
              "#7201a8"
             ],
             [
              0.3333333333333333,
              "#9c179e"
             ],
             [
              0.4444444444444444,
              "#bd3786"
             ],
             [
              0.5555555555555556,
              "#d8576b"
             ],
             [
              0.6666666666666666,
              "#ed7953"
             ],
             [
              0.7777777777777778,
              "#fb9f3a"
             ],
             [
              0.8888888888888888,
              "#fdca26"
             ],
             [
              1,
              "#f0f921"
             ]
            ],
            "type": "heatmap"
           }
          ],
          "heatmapgl": [
           {
            "colorbar": {
             "outlinewidth": 0,
             "ticks": ""
            },
            "colorscale": [
             [
              0,
              "#0d0887"
             ],
             [
              0.1111111111111111,
              "#46039f"
             ],
             [
              0.2222222222222222,
              "#7201a8"
             ],
             [
              0.3333333333333333,
              "#9c179e"
             ],
             [
              0.4444444444444444,
              "#bd3786"
             ],
             [
              0.5555555555555556,
              "#d8576b"
             ],
             [
              0.6666666666666666,
              "#ed7953"
             ],
             [
              0.7777777777777778,
              "#fb9f3a"
             ],
             [
              0.8888888888888888,
              "#fdca26"
             ],
             [
              1,
              "#f0f921"
             ]
            ],
            "type": "heatmapgl"
           }
          ],
          "histogram": [
           {
            "marker": {
             "pattern": {
              "fillmode": "overlay",
              "size": 10,
              "solidity": 0.2
             }
            },
            "type": "histogram"
           }
          ],
          "histogram2d": [
           {
            "colorbar": {
             "outlinewidth": 0,
             "ticks": ""
            },
            "colorscale": [
             [
              0,
              "#0d0887"
             ],
             [
              0.1111111111111111,
              "#46039f"
             ],
             [
              0.2222222222222222,
              "#7201a8"
             ],
             [
              0.3333333333333333,
              "#9c179e"
             ],
             [
              0.4444444444444444,
              "#bd3786"
             ],
             [
              0.5555555555555556,
              "#d8576b"
             ],
             [
              0.6666666666666666,
              "#ed7953"
             ],
             [
              0.7777777777777778,
              "#fb9f3a"
             ],
             [
              0.8888888888888888,
              "#fdca26"
             ],
             [
              1,
              "#f0f921"
             ]
            ],
            "type": "histogram2d"
           }
          ],
          "histogram2dcontour": [
           {
            "colorbar": {
             "outlinewidth": 0,
             "ticks": ""
            },
            "colorscale": [
             [
              0,
              "#0d0887"
             ],
             [
              0.1111111111111111,
              "#46039f"
             ],
             [
              0.2222222222222222,
              "#7201a8"
             ],
             [
              0.3333333333333333,
              "#9c179e"
             ],
             [
              0.4444444444444444,
              "#bd3786"
             ],
             [
              0.5555555555555556,
              "#d8576b"
             ],
             [
              0.6666666666666666,
              "#ed7953"
             ],
             [
              0.7777777777777778,
              "#fb9f3a"
             ],
             [
              0.8888888888888888,
              "#fdca26"
             ],
             [
              1,
              "#f0f921"
             ]
            ],
            "type": "histogram2dcontour"
           }
          ],
          "mesh3d": [
           {
            "colorbar": {
             "outlinewidth": 0,
             "ticks": ""
            },
            "type": "mesh3d"
           }
          ],
          "parcoords": [
           {
            "line": {
             "colorbar": {
              "outlinewidth": 0,
              "ticks": ""
             }
            },
            "type": "parcoords"
           }
          ],
          "pie": [
           {
            "automargin": true,
            "type": "pie"
           }
          ],
          "scatter": [
           {
            "fillpattern": {
             "fillmode": "overlay",
             "size": 10,
             "solidity": 0.2
            },
            "type": "scatter"
           }
          ],
          "scatter3d": [
           {
            "line": {
             "colorbar": {
              "outlinewidth": 0,
              "ticks": ""
             }
            },
            "marker": {
             "colorbar": {
              "outlinewidth": 0,
              "ticks": ""
             }
            },
            "type": "scatter3d"
           }
          ],
          "scattercarpet": [
           {
            "marker": {
             "colorbar": {
              "outlinewidth": 0,
              "ticks": ""
             }
            },
            "type": "scattercarpet"
           }
          ],
          "scattergeo": [
           {
            "marker": {
             "colorbar": {
              "outlinewidth": 0,
              "ticks": ""
             }
            },
            "type": "scattergeo"
           }
          ],
          "scattergl": [
           {
            "marker": {
             "colorbar": {
              "outlinewidth": 0,
              "ticks": ""
             }
            },
            "type": "scattergl"
           }
          ],
          "scattermapbox": [
           {
            "marker": {
             "colorbar": {
              "outlinewidth": 0,
              "ticks": ""
             }
            },
            "type": "scattermapbox"
           }
          ],
          "scatterpolar": [
           {
            "marker": {
             "colorbar": {
              "outlinewidth": 0,
              "ticks": ""
             }
            },
            "type": "scatterpolar"
           }
          ],
          "scatterpolargl": [
           {
            "marker": {
             "colorbar": {
              "outlinewidth": 0,
              "ticks": ""
             }
            },
            "type": "scatterpolargl"
           }
          ],
          "scatterternary": [
           {
            "marker": {
             "colorbar": {
              "outlinewidth": 0,
              "ticks": ""
             }
            },
            "type": "scatterternary"
           }
          ],
          "surface": [
           {
            "colorbar": {
             "outlinewidth": 0,
             "ticks": ""
            },
            "colorscale": [
             [
              0,
              "#0d0887"
             ],
             [
              0.1111111111111111,
              "#46039f"
             ],
             [
              0.2222222222222222,
              "#7201a8"
             ],
             [
              0.3333333333333333,
              "#9c179e"
             ],
             [
              0.4444444444444444,
              "#bd3786"
             ],
             [
              0.5555555555555556,
              "#d8576b"
             ],
             [
              0.6666666666666666,
              "#ed7953"
             ],
             [
              0.7777777777777778,
              "#fb9f3a"
             ],
             [
              0.8888888888888888,
              "#fdca26"
             ],
             [
              1,
              "#f0f921"
             ]
            ],
            "type": "surface"
           }
          ],
          "table": [
           {
            "cells": {
             "fill": {
              "color": "#EBF0F8"
             },
             "line": {
              "color": "white"
             }
            },
            "header": {
             "fill": {
              "color": "#C8D4E3"
             },
             "line": {
              "color": "white"
             }
            },
            "type": "table"
           }
          ]
         },
         "layout": {
          "annotationdefaults": {
           "arrowcolor": "#2a3f5f",
           "arrowhead": 0,
           "arrowwidth": 1
          },
          "autotypenumbers": "strict",
          "coloraxis": {
           "colorbar": {
            "outlinewidth": 0,
            "ticks": ""
           }
          },
          "colorscale": {
           "diverging": [
            [
             0,
             "#8e0152"
            ],
            [
             0.1,
             "#c51b7d"
            ],
            [
             0.2,
             "#de77ae"
            ],
            [
             0.3,
             "#f1b6da"
            ],
            [
             0.4,
             "#fde0ef"
            ],
            [
             0.5,
             "#f7f7f7"
            ],
            [
             0.6,
             "#e6f5d0"
            ],
            [
             0.7,
             "#b8e186"
            ],
            [
             0.8,
             "#7fbc41"
            ],
            [
             0.9,
             "#4d9221"
            ],
            [
             1,
             "#276419"
            ]
           ],
           "sequential": [
            [
             0,
             "#0d0887"
            ],
            [
             0.1111111111111111,
             "#46039f"
            ],
            [
             0.2222222222222222,
             "#7201a8"
            ],
            [
             0.3333333333333333,
             "#9c179e"
            ],
            [
             0.4444444444444444,
             "#bd3786"
            ],
            [
             0.5555555555555556,
             "#d8576b"
            ],
            [
             0.6666666666666666,
             "#ed7953"
            ],
            [
             0.7777777777777778,
             "#fb9f3a"
            ],
            [
             0.8888888888888888,
             "#fdca26"
            ],
            [
             1,
             "#f0f921"
            ]
           ],
           "sequentialminus": [
            [
             0,
             "#0d0887"
            ],
            [
             0.1111111111111111,
             "#46039f"
            ],
            [
             0.2222222222222222,
             "#7201a8"
            ],
            [
             0.3333333333333333,
             "#9c179e"
            ],
            [
             0.4444444444444444,
             "#bd3786"
            ],
            [
             0.5555555555555556,
             "#d8576b"
            ],
            [
             0.6666666666666666,
             "#ed7953"
            ],
            [
             0.7777777777777778,
             "#fb9f3a"
            ],
            [
             0.8888888888888888,
             "#fdca26"
            ],
            [
             1,
             "#f0f921"
            ]
           ]
          },
          "colorway": [
           "#636efa",
           "#EF553B",
           "#00cc96",
           "#ab63fa",
           "#FFA15A",
           "#19d3f3",
           "#FF6692",
           "#B6E880",
           "#FF97FF",
           "#FECB52"
          ],
          "font": {
           "color": "#2a3f5f"
          },
          "geo": {
           "bgcolor": "white",
           "lakecolor": "white",
           "landcolor": "#E5ECF6",
           "showlakes": true,
           "showland": true,
           "subunitcolor": "white"
          },
          "hoverlabel": {
           "align": "left"
          },
          "hovermode": "closest",
          "mapbox": {
           "style": "light"
          },
          "paper_bgcolor": "white",
          "plot_bgcolor": "#E5ECF6",
          "polar": {
           "angularaxis": {
            "gridcolor": "white",
            "linecolor": "white",
            "ticks": ""
           },
           "bgcolor": "#E5ECF6",
           "radialaxis": {
            "gridcolor": "white",
            "linecolor": "white",
            "ticks": ""
           }
          },
          "scene": {
           "xaxis": {
            "backgroundcolor": "#E5ECF6",
            "gridcolor": "white",
            "gridwidth": 2,
            "linecolor": "white",
            "showbackground": true,
            "ticks": "",
            "zerolinecolor": "white"
           },
           "yaxis": {
            "backgroundcolor": "#E5ECF6",
            "gridcolor": "white",
            "gridwidth": 2,
            "linecolor": "white",
            "showbackground": true,
            "ticks": "",
            "zerolinecolor": "white"
           },
           "zaxis": {
            "backgroundcolor": "#E5ECF6",
            "gridcolor": "white",
            "gridwidth": 2,
            "linecolor": "white",
            "showbackground": true,
            "ticks": "",
            "zerolinecolor": "white"
           }
          },
          "shapedefaults": {
           "line": {
            "color": "#2a3f5f"
           }
          },
          "ternary": {
           "aaxis": {
            "gridcolor": "white",
            "linecolor": "white",
            "ticks": ""
           },
           "baxis": {
            "gridcolor": "white",
            "linecolor": "white",
            "ticks": ""
           },
           "bgcolor": "#E5ECF6",
           "caxis": {
            "gridcolor": "white",
            "linecolor": "white",
            "ticks": ""
           }
          },
          "title": {
           "x": 0.05
          },
          "xaxis": {
           "automargin": true,
           "gridcolor": "white",
           "linecolor": "white",
           "ticks": "",
           "title": {
            "standoff": 15
           },
           "zerolinecolor": "white",
           "zerolinewidth": 2
          },
          "yaxis": {
           "automargin": true,
           "gridcolor": "white",
           "linecolor": "white",
           "ticks": "",
           "title": {
            "standoff": 15
           },
           "zerolinecolor": "white",
           "zerolinewidth": 2
          }
         }
        },
        "title": {
         "text": "Fatores SAEB-CENSO",
         "x": 0.5,
         "y": 0.98
        }
       }
      },
      "text/html": [
       "<div>                            <div id=\"67948ac3-dda3-471d-9136-1b1c7d608ae9\" class=\"plotly-graph-div\" style=\"height:525px; width:100%;\"></div>            <script type=\"text/javascript\">                require([\"plotly\"], function(Plotly) {                    window.PLOTLYENV=window.PLOTLYENV || {};                                    if (document.getElementById(\"67948ac3-dda3-471d-9136-1b1c7d608ae9\")) {                    Plotly.newPlot(                        \"67948ac3-dda3-471d-9136-1b1c7d608ae9\",                        [{\"name\":\"Norte\",\"r\":[-0.6929243542435424,-0.05452644526445264,0.04983087330873309,-0.07528905289052891,0.35380535055350554,-1.4938299507995079,-0.014120541205412054,-0.37205565805658053,-0.6929243542435424],\"theta\":[\"Estrutura\",\"PED\",\"LibrasBraile\",\"TratamentoLixo\",\"PCD\",\"Acessibilidade\",\"Internet\",\"Transporte\",\"Estrutura\"],\"type\":\"scatterpolar\"},{\"name\":\"Sul\",\"r\":[-0.5369837686767709,0.009790390196710737,0.026490379447490053,-0.010543910566483935,-0.1572836719337848,1.1608352144469527,0.31024078254326565,0.12801891862839945,-0.5369837686767709],\"theta\":[\"Estrutura\",\"PED\",\"LibrasBraile\",\"TratamentoLixo\",\"PCD\",\"Acessibilidade\",\"Internet\",\"Transporte\",\"Estrutura\"],\"type\":\"scatterpolar\"},{\"name\":\"Sudeste\",\"r\":[1.0270755782546777,0.07013995973088444,-0.02357462063546629,-0.002644011196778478,-0.008132888081323982,0.2343588862151942,0.0763276530963021,-0.01006678780140451,1.0270755782546777],\"theta\":[\"Estrutura\",\"PED\",\"LibrasBraile\",\"TratamentoLixo\",\"PCD\",\"Acessibilidade\",\"Internet\",\"Transporte\",\"Estrutura\"],\"type\":\"scatterpolar\"},{\"name\":\"Centro-Oeste\",\"r\":[-0.9928180737217599,-0.10081331747919142,0.3610225921521997,-0.09803091557669442,-0.007505350772889418,1.8723329369797859,0.24986920332936977,0.07006183115338879,-0.9928180737217599],\"theta\":[\"Estrutura\",\"PED\",\"LibrasBraile\",\"TratamentoLixo\",\"PCD\",\"Acessibilidade\",\"Internet\",\"Transporte\",\"Estrutura\"],\"type\":\"scatterpolar\"},{\"name\":\"Nordeste\",\"r\":[-0.3246566186695376,-0.03324451621585252,-0.07213116224823937,0.04731036648275243,-0.028738617503252146,-0.6158543040416274,-0.24218274794778627,0.051074328264477636,-0.3246566186695376],\"theta\":[\"Estrutura\",\"PED\",\"LibrasBraile\",\"TratamentoLixo\",\"PCD\",\"Acessibilidade\",\"Internet\",\"Transporte\",\"Estrutura\"],\"type\":\"scatterpolar\"},{\"name\":\"Nacional\",\"r\":[-5.904129699351844e-06,-5.425416480507272e-06,9.095551158484974e-06,1.3723112274198079e-05,1.5957107295479703e-06,-7.180698283084917e-06,4.946703261646374e-06,-1.0691261888040654e-05,-5.904129699351844e-06],\"theta\":[\"Estrutura\",\"PED\",\"LibrasBraile\",\"TratamentoLixo\",\"PCD\",\"Acessibilidade\",\"Internet\",\"Transporte\",\"Estrutura\"],\"type\":\"scatterpolar\"}],                        {\"polar\":{\"radialaxis\":{\"visible\":false}},\"showlegend\":true,\"title\":{\"text\":\"Fatores SAEB-CENSO\",\"x\":0.5,\"y\":0.98},\"template\":{\"data\":{\"histogram2dcontour\":[{\"type\":\"histogram2dcontour\",\"colorbar\":{\"outlinewidth\":0,\"ticks\":\"\"},\"colorscale\":[[0.0,\"#0d0887\"],[0.1111111111111111,\"#46039f\"],[0.2222222222222222,\"#7201a8\"],[0.3333333333333333,\"#9c179e\"],[0.4444444444444444,\"#bd3786\"],[0.5555555555555556,\"#d8576b\"],[0.6666666666666666,\"#ed7953\"],[0.7777777777777778,\"#fb9f3a\"],[0.8888888888888888,\"#fdca26\"],[1.0,\"#f0f921\"]]}],\"choropleth\":[{\"type\":\"choropleth\",\"colorbar\":{\"outlinewidth\":0,\"ticks\":\"\"}}],\"histogram2d\":[{\"type\":\"histogram2d\",\"colorbar\":{\"outlinewidth\":0,\"ticks\":\"\"},\"colorscale\":[[0.0,\"#0d0887\"],[0.1111111111111111,\"#46039f\"],[0.2222222222222222,\"#7201a8\"],[0.3333333333333333,\"#9c179e\"],[0.4444444444444444,\"#bd3786\"],[0.5555555555555556,\"#d8576b\"],[0.6666666666666666,\"#ed7953\"],[0.7777777777777778,\"#fb9f3a\"],[0.8888888888888888,\"#fdca26\"],[1.0,\"#f0f921\"]]}],\"heatmap\":[{\"type\":\"heatmap\",\"colorbar\":{\"outlinewidth\":0,\"ticks\":\"\"},\"colorscale\":[[0.0,\"#0d0887\"],[0.1111111111111111,\"#46039f\"],[0.2222222222222222,\"#7201a8\"],[0.3333333333333333,\"#9c179e\"],[0.4444444444444444,\"#bd3786\"],[0.5555555555555556,\"#d8576b\"],[0.6666666666666666,\"#ed7953\"],[0.7777777777777778,\"#fb9f3a\"],[0.8888888888888888,\"#fdca26\"],[1.0,\"#f0f921\"]]}],\"heatmapgl\":[{\"type\":\"heatmapgl\",\"colorbar\":{\"outlinewidth\":0,\"ticks\":\"\"},\"colorscale\":[[0.0,\"#0d0887\"],[0.1111111111111111,\"#46039f\"],[0.2222222222222222,\"#7201a8\"],[0.3333333333333333,\"#9c179e\"],[0.4444444444444444,\"#bd3786\"],[0.5555555555555556,\"#d8576b\"],[0.6666666666666666,\"#ed7953\"],[0.7777777777777778,\"#fb9f3a\"],[0.8888888888888888,\"#fdca26\"],[1.0,\"#f0f921\"]]}],\"contourcarpet\":[{\"type\":\"contourcarpet\",\"colorbar\":{\"outlinewidth\":0,\"ticks\":\"\"}}],\"contour\":[{\"type\":\"contour\",\"colorbar\":{\"outlinewidth\":0,\"ticks\":\"\"},\"colorscale\":[[0.0,\"#0d0887\"],[0.1111111111111111,\"#46039f\"],[0.2222222222222222,\"#7201a8\"],[0.3333333333333333,\"#9c179e\"],[0.4444444444444444,\"#bd3786\"],[0.5555555555555556,\"#d8576b\"],[0.6666666666666666,\"#ed7953\"],[0.7777777777777778,\"#fb9f3a\"],[0.8888888888888888,\"#fdca26\"],[1.0,\"#f0f921\"]]}],\"surface\":[{\"type\":\"surface\",\"colorbar\":{\"outlinewidth\":0,\"ticks\":\"\"},\"colorscale\":[[0.0,\"#0d0887\"],[0.1111111111111111,\"#46039f\"],[0.2222222222222222,\"#7201a8\"],[0.3333333333333333,\"#9c179e\"],[0.4444444444444444,\"#bd3786\"],[0.5555555555555556,\"#d8576b\"],[0.6666666666666666,\"#ed7953\"],[0.7777777777777778,\"#fb9f3a\"],[0.8888888888888888,\"#fdca26\"],[1.0,\"#f0f921\"]]}],\"mesh3d\":[{\"type\":\"mesh3d\",\"colorbar\":{\"outlinewidth\":0,\"ticks\":\"\"}}],\"scatter\":[{\"fillpattern\":{\"fillmode\":\"overlay\",\"size\":10,\"solidity\":0.2},\"type\":\"scatter\"}],\"parcoords\":[{\"type\":\"parcoords\",\"line\":{\"colorbar\":{\"outlinewidth\":0,\"ticks\":\"\"}}}],\"scatterpolargl\":[{\"type\":\"scatterpolargl\",\"marker\":{\"colorbar\":{\"outlinewidth\":0,\"ticks\":\"\"}}}],\"bar\":[{\"error_x\":{\"color\":\"#2a3f5f\"},\"error_y\":{\"color\":\"#2a3f5f\"},\"marker\":{\"line\":{\"color\":\"#E5ECF6\",\"width\":0.5},\"pattern\":{\"fillmode\":\"overlay\",\"size\":10,\"solidity\":0.2}},\"type\":\"bar\"}],\"scattergeo\":[{\"type\":\"scattergeo\",\"marker\":{\"colorbar\":{\"outlinewidth\":0,\"ticks\":\"\"}}}],\"scatterpolar\":[{\"type\":\"scatterpolar\",\"marker\":{\"colorbar\":{\"outlinewidth\":0,\"ticks\":\"\"}}}],\"histogram\":[{\"marker\":{\"pattern\":{\"fillmode\":\"overlay\",\"size\":10,\"solidity\":0.2}},\"type\":\"histogram\"}],\"scattergl\":[{\"type\":\"scattergl\",\"marker\":{\"colorbar\":{\"outlinewidth\":0,\"ticks\":\"\"}}}],\"scatter3d\":[{\"type\":\"scatter3d\",\"line\":{\"colorbar\":{\"outlinewidth\":0,\"ticks\":\"\"}},\"marker\":{\"colorbar\":{\"outlinewidth\":0,\"ticks\":\"\"}}}],\"scattermapbox\":[{\"type\":\"scattermapbox\",\"marker\":{\"colorbar\":{\"outlinewidth\":0,\"ticks\":\"\"}}}],\"scatterternary\":[{\"type\":\"scatterternary\",\"marker\":{\"colorbar\":{\"outlinewidth\":0,\"ticks\":\"\"}}}],\"scattercarpet\":[{\"type\":\"scattercarpet\",\"marker\":{\"colorbar\":{\"outlinewidth\":0,\"ticks\":\"\"}}}],\"carpet\":[{\"aaxis\":{\"endlinecolor\":\"#2a3f5f\",\"gridcolor\":\"white\",\"linecolor\":\"white\",\"minorgridcolor\":\"white\",\"startlinecolor\":\"#2a3f5f\"},\"baxis\":{\"endlinecolor\":\"#2a3f5f\",\"gridcolor\":\"white\",\"linecolor\":\"white\",\"minorgridcolor\":\"white\",\"startlinecolor\":\"#2a3f5f\"},\"type\":\"carpet\"}],\"table\":[{\"cells\":{\"fill\":{\"color\":\"#EBF0F8\"},\"line\":{\"color\":\"white\"}},\"header\":{\"fill\":{\"color\":\"#C8D4E3\"},\"line\":{\"color\":\"white\"}},\"type\":\"table\"}],\"barpolar\":[{\"marker\":{\"line\":{\"color\":\"#E5ECF6\",\"width\":0.5},\"pattern\":{\"fillmode\":\"overlay\",\"size\":10,\"solidity\":0.2}},\"type\":\"barpolar\"}],\"pie\":[{\"automargin\":true,\"type\":\"pie\"}]},\"layout\":{\"autotypenumbers\":\"strict\",\"colorway\":[\"#636efa\",\"#EF553B\",\"#00cc96\",\"#ab63fa\",\"#FFA15A\",\"#19d3f3\",\"#FF6692\",\"#B6E880\",\"#FF97FF\",\"#FECB52\"],\"font\":{\"color\":\"#2a3f5f\"},\"hovermode\":\"closest\",\"hoverlabel\":{\"align\":\"left\"},\"paper_bgcolor\":\"white\",\"plot_bgcolor\":\"#E5ECF6\",\"polar\":{\"bgcolor\":\"#E5ECF6\",\"angularaxis\":{\"gridcolor\":\"white\",\"linecolor\":\"white\",\"ticks\":\"\"},\"radialaxis\":{\"gridcolor\":\"white\",\"linecolor\":\"white\",\"ticks\":\"\"}},\"ternary\":{\"bgcolor\":\"#E5ECF6\",\"aaxis\":{\"gridcolor\":\"white\",\"linecolor\":\"white\",\"ticks\":\"\"},\"baxis\":{\"gridcolor\":\"white\",\"linecolor\":\"white\",\"ticks\":\"\"},\"caxis\":{\"gridcolor\":\"white\",\"linecolor\":\"white\",\"ticks\":\"\"}},\"coloraxis\":{\"colorbar\":{\"outlinewidth\":0,\"ticks\":\"\"}},\"colorscale\":{\"sequential\":[[0.0,\"#0d0887\"],[0.1111111111111111,\"#46039f\"],[0.2222222222222222,\"#7201a8\"],[0.3333333333333333,\"#9c179e\"],[0.4444444444444444,\"#bd3786\"],[0.5555555555555556,\"#d8576b\"],[0.6666666666666666,\"#ed7953\"],[0.7777777777777778,\"#fb9f3a\"],[0.8888888888888888,\"#fdca26\"],[1.0,\"#f0f921\"]],\"sequentialminus\":[[0.0,\"#0d0887\"],[0.1111111111111111,\"#46039f\"],[0.2222222222222222,\"#7201a8\"],[0.3333333333333333,\"#9c179e\"],[0.4444444444444444,\"#bd3786\"],[0.5555555555555556,\"#d8576b\"],[0.6666666666666666,\"#ed7953\"],[0.7777777777777778,\"#fb9f3a\"],[0.8888888888888888,\"#fdca26\"],[1.0,\"#f0f921\"]],\"diverging\":[[0,\"#8e0152\"],[0.1,\"#c51b7d\"],[0.2,\"#de77ae\"],[0.3,\"#f1b6da\"],[0.4,\"#fde0ef\"],[0.5,\"#f7f7f7\"],[0.6,\"#e6f5d0\"],[0.7,\"#b8e186\"],[0.8,\"#7fbc41\"],[0.9,\"#4d9221\"],[1,\"#276419\"]]},\"xaxis\":{\"gridcolor\":\"white\",\"linecolor\":\"white\",\"ticks\":\"\",\"title\":{\"standoff\":15},\"zerolinecolor\":\"white\",\"automargin\":true,\"zerolinewidth\":2},\"yaxis\":{\"gridcolor\":\"white\",\"linecolor\":\"white\",\"ticks\":\"\",\"title\":{\"standoff\":15},\"zerolinecolor\":\"white\",\"automargin\":true,\"zerolinewidth\":2},\"scene\":{\"xaxis\":{\"backgroundcolor\":\"#E5ECF6\",\"gridcolor\":\"white\",\"linecolor\":\"white\",\"showbackground\":true,\"ticks\":\"\",\"zerolinecolor\":\"white\",\"gridwidth\":2},\"yaxis\":{\"backgroundcolor\":\"#E5ECF6\",\"gridcolor\":\"white\",\"linecolor\":\"white\",\"showbackground\":true,\"ticks\":\"\",\"zerolinecolor\":\"white\",\"gridwidth\":2},\"zaxis\":{\"backgroundcolor\":\"#E5ECF6\",\"gridcolor\":\"white\",\"linecolor\":\"white\",\"showbackground\":true,\"ticks\":\"\",\"zerolinecolor\":\"white\",\"gridwidth\":2}},\"shapedefaults\":{\"line\":{\"color\":\"#2a3f5f\"}},\"annotationdefaults\":{\"arrowcolor\":\"#2a3f5f\",\"arrowhead\":0,\"arrowwidth\":1},\"geo\":{\"bgcolor\":\"white\",\"landcolor\":\"#E5ECF6\",\"subunitcolor\":\"white\",\"showland\":true,\"showlakes\":true,\"lakecolor\":\"white\"},\"title\":{\"x\":0.05},\"mapbox\":{\"style\":\"light\"}}}},                        {\"responsive\": true}                    ).then(function(){\n",
       "                            \n",
       "var gd = document.getElementById('67948ac3-dda3-471d-9136-1b1c7d608ae9');\n",
       "var x = new MutationObserver(function (mutations, observer) {{\n",
       "        var display = window.getComputedStyle(gd).display;\n",
       "        if (!display || display === 'none') {{\n",
       "            console.log([gd, 'removed!']);\n",
       "            Plotly.purge(gd);\n",
       "            observer.disconnect();\n",
       "        }}\n",
       "}});\n",
       "\n",
       "// Listen for the removal of the full notebook cells\n",
       "var notebookContainer = gd.closest('#notebook-container');\n",
       "if (notebookContainer) {{\n",
       "    x.observe(notebookContainer, {childList: true});\n",
       "}}\n",
       "\n",
       "// Listen for the clearing of the current output cell\n",
       "var outputEl = gd.closest('.output');\n",
       "if (outputEl) {{\n",
       "    x.observe(outputEl, {childList: true});\n",
       "}}\n",
       "\n",
       "                        })                };                });            </script>        </div>"
      ]
     },
     "metadata": {},
     "output_type": "display_data"
    }
   ],
   "source": [
    "fig = plotRadarRegiaoCensoSaeb()\n",
    "fig.write_html(\"RadarTodasRegioes.html\")\n",
    "fig.show()"
   ]
  },
  {
   "cell_type": "code",
   "execution_count": null,
   "id": "89bc8709",
   "metadata": {},
   "outputs": [],
   "source": []
  }
 ],
 "metadata": {
  "kernelspec": {
   "display_name": "Python 3 (ipykernel)",
   "language": "python",
   "name": "python3"
  },
  "language_info": {
   "codemirror_mode": {
    "name": "ipython",
    "version": 3
   },
   "file_extension": ".py",
   "mimetype": "text/x-python",
   "name": "python",
   "nbconvert_exporter": "python",
   "pygments_lexer": "ipython3",
   "version": "3.9.13"
  }
 },
 "nbformat": 4,
 "nbformat_minor": 5
}
