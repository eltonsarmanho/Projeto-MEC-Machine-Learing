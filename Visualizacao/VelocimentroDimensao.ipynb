{
 "cells": [
  {
   "cell_type": "code",
   "execution_count": 27,
   "id": "5495ab98",
   "metadata": {},
   "outputs": [],
   "source": [
    "import pandas as pd\n",
    "import numpy as np\n",
    "import scipy.stats as st\n",
    "import plotly.express as px\n",
    "import plotly.graph_objects as go\n",
    "import psycopg2\n",
    "import random\n",
    "from plotly.subplots import make_subplots\n",
    "from decouple import config\n"
   ]
  },
  {
   "cell_type": "code",
   "execution_count": 28,
   "id": "4a70bbe2",
   "metadata": {},
   "outputs": [],
   "source": [
    "def connection(sql):\n",
    "    con = psycopg2.connect(host='35.247.202.234', database='dw',\n",
    "    user='consulta', password='teste123')\n",
    "    cur = con.cursor()    \n",
    "    cur.execute(sql)\n",
    "    data = cur.fetchall()\n",
    "    cols = []\n",
    "    for elt in cur.description:\n",
    "        cols.append(elt[0])\n",
    "\n",
    "    df = pd.DataFrame(data=data,columns=cols)\n",
    "    con.close();\n",
    "    return df"
   ]
  },
  {
   "cell_type": "code",
   "execution_count": 34,
   "id": "5211588e",
   "metadata": {},
   "outputs": [],
   "source": [
    "def velocimetro_dimensao():\n",
    "    # dataframe para os indices fatores medio baixo e medio alto\n",
    "    d = {'Dimensao': ['E-ESC', 'E-PROF', 'E-FAM', 'E-COM', 'E-EST'],\n",
    "         'Medio_Baixo': [2.84, 2.67, 3.34, 2.45, 2.44],\n",
    "         'Medio_Alto': [4, 3.66, 4.33, 3.55, 3.41]}\n",
    "    dimensoes = pd.DataFrame(data=d)\n",
    "    #print(dimensoes)\n",
    "    query = \"\"\"select * from public.dimensoes_est de\n",
    "    inner join escolas.aluno a \n",
    "    on de.id_aluno = a.id_aluno \n",
    "    inner join escolas.turma t \n",
    "    on a.id_turma = t.id_turma \n",
    "    inner join escolas.escola e \n",
    "    on t.id_escola = e.cod_escola\"\"\"\n",
    "    # df = pd.read_sql(con_db_caio2(query))\n",
    "    df = connection(query)\n",
    "\n",
    "\n",
    "    df = df.loc[:, ~df.columns.duplicated()].copy()\n",
    "\n",
    "    cross_tab_prop = df[\n",
    "        ['id_aluno', 'nome_aluno', 'id_turma', 'escola', 'uf', 'municipio', 'cod_escola', 'nome_turma', \n",
    "         'E_ESCV','E_PROFV','E_FAMV', 'E_COMV','E_ESTV',\n",
    "         'E_ESCC',  'E_PROFC', 'E_FAMC', 'E_COMC',  'E_ESTC',]]\n",
    "\n",
    "    cross_tab_prop.set_index('id_aluno')\n",
    "    # cross_tab_prop\n",
    "\n",
    "  \n",
    "    nomeEscola = 'E M E F PROFESSORA DALILA LEAO'\n",
    "    filter = cross_tab_prop['escola']==nomeEscola\n",
    "    #escola_dimensao = cross_tab_prop[filter]\n",
    "    escola_dimensao = cross_tab_prop\n",
    " \n",
    "\n",
    "    #filter = (cross_tab_prop['escola']=='E M E F PROFESSORA DALILA LEAO') & (cross_tab_prop['id_turma']==1064)\n",
    "    #turma_dimensao = cross_tab_prop[filter]\n",
    "  \n",
    "    \n",
    "    #filter = (cross_tab_prop['escola']=='E M E F PROFESSORA DALILA LEAO') & (cross_tab_prop['id_turma']==1064) & (cross_tab_prop['nome_aluno']=='Jeferson Oliveira dos Santos')\n",
    "    #aluno_dimensao = cross_tab_prop[filter]\n",
    "    dictionary_name = { 'E-ESC':   'Dimensão Estudante-Escola',\n",
    "                        'E-PROF': 'Dimensão Estudante-Profissionais',\n",
    "                        'E-FAM' : 'Dimensão Estudante-Familia',\n",
    "                        'E-COM' : 'Dimensão Estudante-Comunidade',\n",
    "                        'E-EST' : 'Dimensão Estudante-Estudante'}\n",
    "\n",
    "    \n",
    "\n",
    "    cols = escola_dimensao.loc[:, escola_dimensao.columns.str.startswith(\"E_\")]\n",
    "    cols = cols.loc[:, cols.columns.str.endswith(\"V\")]\n",
    "    r = 1\n",
    "    c = 1\n",
    "    n = 1\n",
    "    tracer = {}\n",
    "    \n",
    "    for (columnName, columnData) in cols.iteritems():\n",
    "        cols[columnName] = cols[columnName].astype(np.float16)\n",
    "        mean = cols[columnName].mean()\n",
    "       \n",
    "        nameC = columnName\n",
    "        nameC = nameC.replace('V', \"\")\n",
    "        f2 = dimensoes[dimensoes['Dimensao'] == nameC.replace('_', \"-\")]\n",
    "        columnName =nameC.replace('_', \"-\")\n",
    "        tracer[n] = go.Indicator(\n",
    "            mode=\"gauge+number+delta\",\n",
    "            value=mean,\n",
    "            domain={'x': [0, 1], 'y': [0, 1]},\n",
    "            title={'text': dictionary_name[columnName], 'font': {'size': 18}},\n",
    "            # reference é pode ser a média geral\n",
    "            delta={'reference': f2['Medio_Baixo'].values[0], 'increasing': {'color': \"RebeccaPurple\"}},\n",
    "            gauge={\n",
    "                'axis': {'range': [None, 7], 'tickwidth': 1, 'tickcolor': \"darkblue\"},\n",
    "                'bar': {'color': \"darkblue\"},\n",
    "                'bgcolor': \"red\",\n",
    "                'borderwidth': 2,\n",
    "                'bordercolor': \"gray\",\n",
    "                'steps': [\n",
    "                    {'range': [0, f2['Medio_Baixo'].values[0]], 'color': 'green'},\n",
    "                    {'range': [f2['Medio_Baixo'].values[0], f2['Medio_Alto'].values[0]], 'color': 'yellow'},\n",
    "                    {'range': [f2['Medio_Alto'].values[0], 7], 'color': 'red'}\n",
    "\n",
    "                ],\n",
    "                'threshold': {\n",
    "                    'line': {'color': \"red\", 'width': 4},\n",
    "                    'thickness': 0.75,\n",
    "                    'value': 490}})\n",
    "        r = 1\n",
    "        c = 1\n",
    "        n = n + 1\n",
    "\n",
    "    fig = make_subplots(\n",
    "        rows=4,\n",
    "        cols=3,\n",
    "        specs=[[{'type': 'indicator'}, {'type': 'indicator'}, {'type': 'indicator'}],\n",
    "               [{'type': 'indicator'}, {'type': 'indicator'}, {'type': 'indicator'}],\n",
    "               [{'type': 'indicator'}, {'type': 'indicator'}, {'type': 'indicator'}],\n",
    "               [{'type': 'indicator'}, {'type': 'indicator'}, {'type': 'indicator'}],\n",
    "\n",
    "               ],\n",
    "    )\n",
    "    for i in range(1, 6):\n",
    "        if (c % 2 != 0):\n",
    "            # fig.append_trace(trace1, row=1, col=1)\n",
    "            # fig.append_trace(trace, row=r, col=c)\n",
    "            # r = r + 1\n",
    "            # print ('if, r: ', r, ' C: ', c)\n",
    "            fig.append_trace(tracer[i], row=r, col=c)\n",
    "            c = c + 1\n",
    "\n",
    "        else:\n",
    "            # print ('else, r: ', r, ' C: ', c)\n",
    "            fig.append_trace(tracer[i], row=r, col=c)\n",
    "            c = 1\n",
    "            r = r + 1\n",
    "\n",
    "            # fig.append_trace(trace, row=r, col=c)\n",
    "            \n",
    "\n",
    "    #fig.update_layout(height=1000, width=1200,title_y=0.98,title_x=0.25, title_text=\"<b>Dimensões de todas as escolas {0}</b>\".format(nomeEscola))\n",
    "    fig.update_layout(height=1000, width=1200,title_y=0.98,title_x=0.25, title_text=\"<b>Dimensões no Contexto Nacional</b>\")\n",
    "\n",
    "    return fig"
   ]
  },
  {
   "cell_type": "code",
   "execution_count": 35,
   "id": "aafd8d66",
   "metadata": {},
   "outputs": [
    {
     "name": "stderr",
     "output_type": "stream",
     "text": [
      "/tmp/ipykernel_28302/1333763628.py:57: FutureWarning:\n",
      "\n",
      "iteritems is deprecated and will be removed in a future version. Use .items instead.\n",
      "\n"
     ]
    },
    {
     "data": {
      "application/vnd.plotly.v1+json": {
       "config": {
        "plotlyServerURL": "https://plot.ly"
       },
       "data": [
        {
         "delta": {
          "increasing": {
           "color": "RebeccaPurple"
          },
          "reference": 2.84
         },
         "domain": {
          "x": [
           0,
           0.2888888888888889
          ],
          "y": [
           0.80625,
           1
          ]
         },
         "gauge": {
          "axis": {
           "range": [
            null,
            7
           ],
           "tickcolor": "darkblue",
           "tickwidth": 1
          },
          "bar": {
           "color": "darkblue"
          },
          "bgcolor": "red",
          "bordercolor": "gray",
          "borderwidth": 2,
          "steps": [
           {
            "color": "green",
            "range": [
             0,
             2.84
            ]
           },
           {
            "color": "yellow",
            "range": [
             2.84,
             4
            ]
           },
           {
            "color": "red",
            "range": [
             4,
             7
            ]
           }
          ],
          "threshold": {
           "line": {
            "color": "red",
            "width": 4
           },
           "thickness": 0.75,
           "value": 490
          }
         },
         "mode": "gauge+number+delta",
         "title": {
          "font": {
           "size": 18
          },
          "text": "Dimensão Estudante-Escola"
         },
         "type": "indicator",
         "value": 1.58203125
        },
        {
         "delta": {
          "increasing": {
           "color": "RebeccaPurple"
          },
          "reference": 2.67
         },
         "domain": {
          "x": [
           0.35555555555555557,
           0.6444444444444445
          ],
          "y": [
           0.80625,
           1
          ]
         },
         "gauge": {
          "axis": {
           "range": [
            null,
            7
           ],
           "tickcolor": "darkblue",
           "tickwidth": 1
          },
          "bar": {
           "color": "darkblue"
          },
          "bgcolor": "red",
          "bordercolor": "gray",
          "borderwidth": 2,
          "steps": [
           {
            "color": "green",
            "range": [
             0,
             2.67
            ]
           },
           {
            "color": "yellow",
            "range": [
             2.67,
             3.66
            ]
           },
           {
            "color": "red",
            "range": [
             3.66,
             7
            ]
           }
          ],
          "threshold": {
           "line": {
            "color": "red",
            "width": 4
           },
           "thickness": 0.75,
           "value": 490
          }
         },
         "mode": "gauge+number+delta",
         "title": {
          "font": {
           "size": 18
          },
          "text": "Dimensão Estudante-Profissionais"
         },
         "type": "indicator",
         "value": 1.359375
        },
        {
         "delta": {
          "increasing": {
           "color": "RebeccaPurple"
          },
          "reference": 3.34
         },
         "domain": {
          "x": [
           0,
           0.2888888888888889
          ],
          "y": [
           0.5375,
           0.73125
          ]
         },
         "gauge": {
          "axis": {
           "range": [
            null,
            7
           ],
           "tickcolor": "darkblue",
           "tickwidth": 1
          },
          "bar": {
           "color": "darkblue"
          },
          "bgcolor": "red",
          "bordercolor": "gray",
          "borderwidth": 2,
          "steps": [
           {
            "color": "green",
            "range": [
             0,
             3.34
            ]
           },
           {
            "color": "yellow",
            "range": [
             3.34,
             4.33
            ]
           },
           {
            "color": "red",
            "range": [
             4.33,
             7
            ]
           }
          ],
          "threshold": {
           "line": {
            "color": "red",
            "width": 4
           },
           "thickness": 0.75,
           "value": 490
          }
         },
         "mode": "gauge+number+delta",
         "title": {
          "font": {
           "size": 18
          },
          "text": "Dimensão Estudante-Familia"
         },
         "type": "indicator",
         "value": 1.341796875
        },
        {
         "delta": {
          "increasing": {
           "color": "RebeccaPurple"
          },
          "reference": 2.45
         },
         "domain": {
          "x": [
           0.35555555555555557,
           0.6444444444444445
          ],
          "y": [
           0.5375,
           0.73125
          ]
         },
         "gauge": {
          "axis": {
           "range": [
            null,
            7
           ],
           "tickcolor": "darkblue",
           "tickwidth": 1
          },
          "bar": {
           "color": "darkblue"
          },
          "bgcolor": "red",
          "bordercolor": "gray",
          "borderwidth": 2,
          "steps": [
           {
            "color": "green",
            "range": [
             0,
             2.45
            ]
           },
           {
            "color": "yellow",
            "range": [
             2.45,
             3.55
            ]
           },
           {
            "color": "red",
            "range": [
             3.55,
             7
            ]
           }
          ],
          "threshold": {
           "line": {
            "color": "red",
            "width": 4
           },
           "thickness": 0.75,
           "value": 490
          }
         },
         "mode": "gauge+number+delta",
         "title": {
          "font": {
           "size": 18
          },
          "text": "Dimensão Estudante-Comunidade"
         },
         "type": "indicator",
         "value": 1.4970703125
        },
        {
         "delta": {
          "increasing": {
           "color": "RebeccaPurple"
          },
          "reference": 2.44
         },
         "domain": {
          "x": [
           0,
           0.2888888888888889
          ],
          "y": [
           0.26875,
           0.4625
          ]
         },
         "gauge": {
          "axis": {
           "range": [
            null,
            7
           ],
           "tickcolor": "darkblue",
           "tickwidth": 1
          },
          "bar": {
           "color": "darkblue"
          },
          "bgcolor": "red",
          "bordercolor": "gray",
          "borderwidth": 2,
          "steps": [
           {
            "color": "green",
            "range": [
             0,
             2.44
            ]
           },
           {
            "color": "yellow",
            "range": [
             2.44,
             3.41
            ]
           },
           {
            "color": "red",
            "range": [
             3.41,
             7
            ]
           }
          ],
          "threshold": {
           "line": {
            "color": "red",
            "width": 4
           },
           "thickness": 0.75,
           "value": 490
          }
         },
         "mode": "gauge+number+delta",
         "title": {
          "font": {
           "size": 18
          },
          "text": "Dimensão Estudante-Estudante"
         },
         "type": "indicator",
         "value": 1.49609375
        }
       ],
       "layout": {
        "height": 1000,
        "template": {
         "data": {
          "bar": [
           {
            "error_x": {
             "color": "#2a3f5f"
            },
            "error_y": {
             "color": "#2a3f5f"
            },
            "marker": {
             "line": {
              "color": "#E5ECF6",
              "width": 0.5
             },
             "pattern": {
              "fillmode": "overlay",
              "size": 10,
              "solidity": 0.2
             }
            },
            "type": "bar"
           }
          ],
          "barpolar": [
           {
            "marker": {
             "line": {
              "color": "#E5ECF6",
              "width": 0.5
             },
             "pattern": {
              "fillmode": "overlay",
              "size": 10,
              "solidity": 0.2
             }
            },
            "type": "barpolar"
           }
          ],
          "carpet": [
           {
            "aaxis": {
             "endlinecolor": "#2a3f5f",
             "gridcolor": "white",
             "linecolor": "white",
             "minorgridcolor": "white",
             "startlinecolor": "#2a3f5f"
            },
            "baxis": {
             "endlinecolor": "#2a3f5f",
             "gridcolor": "white",
             "linecolor": "white",
             "minorgridcolor": "white",
             "startlinecolor": "#2a3f5f"
            },
            "type": "carpet"
           }
          ],
          "choropleth": [
           {
            "colorbar": {
             "outlinewidth": 0,
             "ticks": ""
            },
            "type": "choropleth"
           }
          ],
          "contour": [
           {
            "colorbar": {
             "outlinewidth": 0,
             "ticks": ""
            },
            "colorscale": [
             [
              0,
              "#0d0887"
             ],
             [
              0.1111111111111111,
              "#46039f"
             ],
             [
              0.2222222222222222,
              "#7201a8"
             ],
             [
              0.3333333333333333,
              "#9c179e"
             ],
             [
              0.4444444444444444,
              "#bd3786"
             ],
             [
              0.5555555555555556,
              "#d8576b"
             ],
             [
              0.6666666666666666,
              "#ed7953"
             ],
             [
              0.7777777777777778,
              "#fb9f3a"
             ],
             [
              0.8888888888888888,
              "#fdca26"
             ],
             [
              1,
              "#f0f921"
             ]
            ],
            "type": "contour"
           }
          ],
          "contourcarpet": [
           {
            "colorbar": {
             "outlinewidth": 0,
             "ticks": ""
            },
            "type": "contourcarpet"
           }
          ],
          "heatmap": [
           {
            "colorbar": {
             "outlinewidth": 0,
             "ticks": ""
            },
            "colorscale": [
             [
              0,
              "#0d0887"
             ],
             [
              0.1111111111111111,
              "#46039f"
             ],
             [
              0.2222222222222222,
              "#7201a8"
             ],
             [
              0.3333333333333333,
              "#9c179e"
             ],
             [
              0.4444444444444444,
              "#bd3786"
             ],
             [
              0.5555555555555556,
              "#d8576b"
             ],
             [
              0.6666666666666666,
              "#ed7953"
             ],
             [
              0.7777777777777778,
              "#fb9f3a"
             ],
             [
              0.8888888888888888,
              "#fdca26"
             ],
             [
              1,
              "#f0f921"
             ]
            ],
            "type": "heatmap"
           }
          ],
          "heatmapgl": [
           {
            "colorbar": {
             "outlinewidth": 0,
             "ticks": ""
            },
            "colorscale": [
             [
              0,
              "#0d0887"
             ],
             [
              0.1111111111111111,
              "#46039f"
             ],
             [
              0.2222222222222222,
              "#7201a8"
             ],
             [
              0.3333333333333333,
              "#9c179e"
             ],
             [
              0.4444444444444444,
              "#bd3786"
             ],
             [
              0.5555555555555556,
              "#d8576b"
             ],
             [
              0.6666666666666666,
              "#ed7953"
             ],
             [
              0.7777777777777778,
              "#fb9f3a"
             ],
             [
              0.8888888888888888,
              "#fdca26"
             ],
             [
              1,
              "#f0f921"
             ]
            ],
            "type": "heatmapgl"
           }
          ],
          "histogram": [
           {
            "marker": {
             "pattern": {
              "fillmode": "overlay",
              "size": 10,
              "solidity": 0.2
             }
            },
            "type": "histogram"
           }
          ],
          "histogram2d": [
           {
            "colorbar": {
             "outlinewidth": 0,
             "ticks": ""
            },
            "colorscale": [
             [
              0,
              "#0d0887"
             ],
             [
              0.1111111111111111,
              "#46039f"
             ],
             [
              0.2222222222222222,
              "#7201a8"
             ],
             [
              0.3333333333333333,
              "#9c179e"
             ],
             [
              0.4444444444444444,
              "#bd3786"
             ],
             [
              0.5555555555555556,
              "#d8576b"
             ],
             [
              0.6666666666666666,
              "#ed7953"
             ],
             [
              0.7777777777777778,
              "#fb9f3a"
             ],
             [
              0.8888888888888888,
              "#fdca26"
             ],
             [
              1,
              "#f0f921"
             ]
            ],
            "type": "histogram2d"
           }
          ],
          "histogram2dcontour": [
           {
            "colorbar": {
             "outlinewidth": 0,
             "ticks": ""
            },
            "colorscale": [
             [
              0,
              "#0d0887"
             ],
             [
              0.1111111111111111,
              "#46039f"
             ],
             [
              0.2222222222222222,
              "#7201a8"
             ],
             [
              0.3333333333333333,
              "#9c179e"
             ],
             [
              0.4444444444444444,
              "#bd3786"
             ],
             [
              0.5555555555555556,
              "#d8576b"
             ],
             [
              0.6666666666666666,
              "#ed7953"
             ],
             [
              0.7777777777777778,
              "#fb9f3a"
             ],
             [
              0.8888888888888888,
              "#fdca26"
             ],
             [
              1,
              "#f0f921"
             ]
            ],
            "type": "histogram2dcontour"
           }
          ],
          "mesh3d": [
           {
            "colorbar": {
             "outlinewidth": 0,
             "ticks": ""
            },
            "type": "mesh3d"
           }
          ],
          "parcoords": [
           {
            "line": {
             "colorbar": {
              "outlinewidth": 0,
              "ticks": ""
             }
            },
            "type": "parcoords"
           }
          ],
          "pie": [
           {
            "automargin": true,
            "type": "pie"
           }
          ],
          "scatter": [
           {
            "fillpattern": {
             "fillmode": "overlay",
             "size": 10,
             "solidity": 0.2
            },
            "type": "scatter"
           }
          ],
          "scatter3d": [
           {
            "line": {
             "colorbar": {
              "outlinewidth": 0,
              "ticks": ""
             }
            },
            "marker": {
             "colorbar": {
              "outlinewidth": 0,
              "ticks": ""
             }
            },
            "type": "scatter3d"
           }
          ],
          "scattercarpet": [
           {
            "marker": {
             "colorbar": {
              "outlinewidth": 0,
              "ticks": ""
             }
            },
            "type": "scattercarpet"
           }
          ],
          "scattergeo": [
           {
            "marker": {
             "colorbar": {
              "outlinewidth": 0,
              "ticks": ""
             }
            },
            "type": "scattergeo"
           }
          ],
          "scattergl": [
           {
            "marker": {
             "colorbar": {
              "outlinewidth": 0,
              "ticks": ""
             }
            },
            "type": "scattergl"
           }
          ],
          "scattermapbox": [
           {
            "marker": {
             "colorbar": {
              "outlinewidth": 0,
              "ticks": ""
             }
            },
            "type": "scattermapbox"
           }
          ],
          "scatterpolar": [
           {
            "marker": {
             "colorbar": {
              "outlinewidth": 0,
              "ticks": ""
             }
            },
            "type": "scatterpolar"
           }
          ],
          "scatterpolargl": [
           {
            "marker": {
             "colorbar": {
              "outlinewidth": 0,
              "ticks": ""
             }
            },
            "type": "scatterpolargl"
           }
          ],
          "scatterternary": [
           {
            "marker": {
             "colorbar": {
              "outlinewidth": 0,
              "ticks": ""
             }
            },
            "type": "scatterternary"
           }
          ],
          "surface": [
           {
            "colorbar": {
             "outlinewidth": 0,
             "ticks": ""
            },
            "colorscale": [
             [
              0,
              "#0d0887"
             ],
             [
              0.1111111111111111,
              "#46039f"
             ],
             [
              0.2222222222222222,
              "#7201a8"
             ],
             [
              0.3333333333333333,
              "#9c179e"
             ],
             [
              0.4444444444444444,
              "#bd3786"
             ],
             [
              0.5555555555555556,
              "#d8576b"
             ],
             [
              0.6666666666666666,
              "#ed7953"
             ],
             [
              0.7777777777777778,
              "#fb9f3a"
             ],
             [
              0.8888888888888888,
              "#fdca26"
             ],
             [
              1,
              "#f0f921"
             ]
            ],
            "type": "surface"
           }
          ],
          "table": [
           {
            "cells": {
             "fill": {
              "color": "#EBF0F8"
             },
             "line": {
              "color": "white"
             }
            },
            "header": {
             "fill": {
              "color": "#C8D4E3"
             },
             "line": {
              "color": "white"
             }
            },
            "type": "table"
           }
          ]
         },
         "layout": {
          "annotationdefaults": {
           "arrowcolor": "#2a3f5f",
           "arrowhead": 0,
           "arrowwidth": 1
          },
          "autotypenumbers": "strict",
          "coloraxis": {
           "colorbar": {
            "outlinewidth": 0,
            "ticks": ""
           }
          },
          "colorscale": {
           "diverging": [
            [
             0,
             "#8e0152"
            ],
            [
             0.1,
             "#c51b7d"
            ],
            [
             0.2,
             "#de77ae"
            ],
            [
             0.3,
             "#f1b6da"
            ],
            [
             0.4,
             "#fde0ef"
            ],
            [
             0.5,
             "#f7f7f7"
            ],
            [
             0.6,
             "#e6f5d0"
            ],
            [
             0.7,
             "#b8e186"
            ],
            [
             0.8,
             "#7fbc41"
            ],
            [
             0.9,
             "#4d9221"
            ],
            [
             1,
             "#276419"
            ]
           ],
           "sequential": [
            [
             0,
             "#0d0887"
            ],
            [
             0.1111111111111111,
             "#46039f"
            ],
            [
             0.2222222222222222,
             "#7201a8"
            ],
            [
             0.3333333333333333,
             "#9c179e"
            ],
            [
             0.4444444444444444,
             "#bd3786"
            ],
            [
             0.5555555555555556,
             "#d8576b"
            ],
            [
             0.6666666666666666,
             "#ed7953"
            ],
            [
             0.7777777777777778,
             "#fb9f3a"
            ],
            [
             0.8888888888888888,
             "#fdca26"
            ],
            [
             1,
             "#f0f921"
            ]
           ],
           "sequentialminus": [
            [
             0,
             "#0d0887"
            ],
            [
             0.1111111111111111,
             "#46039f"
            ],
            [
             0.2222222222222222,
             "#7201a8"
            ],
            [
             0.3333333333333333,
             "#9c179e"
            ],
            [
             0.4444444444444444,
             "#bd3786"
            ],
            [
             0.5555555555555556,
             "#d8576b"
            ],
            [
             0.6666666666666666,
             "#ed7953"
            ],
            [
             0.7777777777777778,
             "#fb9f3a"
            ],
            [
             0.8888888888888888,
             "#fdca26"
            ],
            [
             1,
             "#f0f921"
            ]
           ]
          },
          "colorway": [
           "#636efa",
           "#EF553B",
           "#00cc96",
           "#ab63fa",
           "#FFA15A",
           "#19d3f3",
           "#FF6692",
           "#B6E880",
           "#FF97FF",
           "#FECB52"
          ],
          "font": {
           "color": "#2a3f5f"
          },
          "geo": {
           "bgcolor": "white",
           "lakecolor": "white",
           "landcolor": "#E5ECF6",
           "showlakes": true,
           "showland": true,
           "subunitcolor": "white"
          },
          "hoverlabel": {
           "align": "left"
          },
          "hovermode": "closest",
          "mapbox": {
           "style": "light"
          },
          "paper_bgcolor": "white",
          "plot_bgcolor": "#E5ECF6",
          "polar": {
           "angularaxis": {
            "gridcolor": "white",
            "linecolor": "white",
            "ticks": ""
           },
           "bgcolor": "#E5ECF6",
           "radialaxis": {
            "gridcolor": "white",
            "linecolor": "white",
            "ticks": ""
           }
          },
          "scene": {
           "xaxis": {
            "backgroundcolor": "#E5ECF6",
            "gridcolor": "white",
            "gridwidth": 2,
            "linecolor": "white",
            "showbackground": true,
            "ticks": "",
            "zerolinecolor": "white"
           },
           "yaxis": {
            "backgroundcolor": "#E5ECF6",
            "gridcolor": "white",
            "gridwidth": 2,
            "linecolor": "white",
            "showbackground": true,
            "ticks": "",
            "zerolinecolor": "white"
           },
           "zaxis": {
            "backgroundcolor": "#E5ECF6",
            "gridcolor": "white",
            "gridwidth": 2,
            "linecolor": "white",
            "showbackground": true,
            "ticks": "",
            "zerolinecolor": "white"
           }
          },
          "shapedefaults": {
           "line": {
            "color": "#2a3f5f"
           }
          },
          "ternary": {
           "aaxis": {
            "gridcolor": "white",
            "linecolor": "white",
            "ticks": ""
           },
           "baxis": {
            "gridcolor": "white",
            "linecolor": "white",
            "ticks": ""
           },
           "bgcolor": "#E5ECF6",
           "caxis": {
            "gridcolor": "white",
            "linecolor": "white",
            "ticks": ""
           }
          },
          "title": {
           "x": 0.05
          },
          "xaxis": {
           "automargin": true,
           "gridcolor": "white",
           "linecolor": "white",
           "ticks": "",
           "title": {
            "standoff": 15
           },
           "zerolinecolor": "white",
           "zerolinewidth": 2
          },
          "yaxis": {
           "automargin": true,
           "gridcolor": "white",
           "linecolor": "white",
           "ticks": "",
           "title": {
            "standoff": 15
           },
           "zerolinecolor": "white",
           "zerolinewidth": 2
          }
         }
        },
        "title": {
         "text": "<b>Dimensões no Contexto Nacional</b>",
         "x": 0.25,
         "y": 0.98
        },
        "width": 1200
       }
      },
      "text/html": [
       "<div>                            <div id=\"48f6e8f2-2345-40e3-b85c-8e96678af3d8\" class=\"plotly-graph-div\" style=\"height:1000px; width:1200px;\"></div>            <script type=\"text/javascript\">                require([\"plotly\"], function(Plotly) {                    window.PLOTLYENV=window.PLOTLYENV || {};                                    if (document.getElementById(\"48f6e8f2-2345-40e3-b85c-8e96678af3d8\")) {                    Plotly.newPlot(                        \"48f6e8f2-2345-40e3-b85c-8e96678af3d8\",                        [{\"delta\":{\"increasing\":{\"color\":\"RebeccaPurple\"},\"reference\":2.84},\"domain\":{\"x\":[0.0,0.2888888888888889],\"y\":[0.80625,1.0]},\"gauge\":{\"axis\":{\"range\":[null,7],\"tickcolor\":\"darkblue\",\"tickwidth\":1},\"bar\":{\"color\":\"darkblue\"},\"bgcolor\":\"red\",\"bordercolor\":\"gray\",\"borderwidth\":2,\"steps\":[{\"color\":\"green\",\"range\":[0,2.84]},{\"color\":\"yellow\",\"range\":[2.84,4.0]},{\"color\":\"red\",\"range\":[4.0,7]}],\"threshold\":{\"line\":{\"color\":\"red\",\"width\":4},\"thickness\":0.75,\"value\":490}},\"mode\":\"gauge+number+delta\",\"title\":{\"font\":{\"size\":18},\"text\":\"Dimens\\u00e3o Estudante-Escola\"},\"value\":1.58203125,\"type\":\"indicator\"},{\"delta\":{\"increasing\":{\"color\":\"RebeccaPurple\"},\"reference\":2.67},\"domain\":{\"x\":[0.35555555555555557,0.6444444444444445],\"y\":[0.80625,1.0]},\"gauge\":{\"axis\":{\"range\":[null,7],\"tickcolor\":\"darkblue\",\"tickwidth\":1},\"bar\":{\"color\":\"darkblue\"},\"bgcolor\":\"red\",\"bordercolor\":\"gray\",\"borderwidth\":2,\"steps\":[{\"color\":\"green\",\"range\":[0,2.67]},{\"color\":\"yellow\",\"range\":[2.67,3.66]},{\"color\":\"red\",\"range\":[3.66,7]}],\"threshold\":{\"line\":{\"color\":\"red\",\"width\":4},\"thickness\":0.75,\"value\":490}},\"mode\":\"gauge+number+delta\",\"title\":{\"font\":{\"size\":18},\"text\":\"Dimens\\u00e3o Estudante-Profissionais\"},\"value\":1.359375,\"type\":\"indicator\"},{\"delta\":{\"increasing\":{\"color\":\"RebeccaPurple\"},\"reference\":3.34},\"domain\":{\"x\":[0.0,0.2888888888888889],\"y\":[0.5375,0.73125]},\"gauge\":{\"axis\":{\"range\":[null,7],\"tickcolor\":\"darkblue\",\"tickwidth\":1},\"bar\":{\"color\":\"darkblue\"},\"bgcolor\":\"red\",\"bordercolor\":\"gray\",\"borderwidth\":2,\"steps\":[{\"color\":\"green\",\"range\":[0,3.34]},{\"color\":\"yellow\",\"range\":[3.34,4.33]},{\"color\":\"red\",\"range\":[4.33,7]}],\"threshold\":{\"line\":{\"color\":\"red\",\"width\":4},\"thickness\":0.75,\"value\":490}},\"mode\":\"gauge+number+delta\",\"title\":{\"font\":{\"size\":18},\"text\":\"Dimens\\u00e3o Estudante-Familia\"},\"value\":1.341796875,\"type\":\"indicator\"},{\"delta\":{\"increasing\":{\"color\":\"RebeccaPurple\"},\"reference\":2.45},\"domain\":{\"x\":[0.35555555555555557,0.6444444444444445],\"y\":[0.5375,0.73125]},\"gauge\":{\"axis\":{\"range\":[null,7],\"tickcolor\":\"darkblue\",\"tickwidth\":1},\"bar\":{\"color\":\"darkblue\"},\"bgcolor\":\"red\",\"bordercolor\":\"gray\",\"borderwidth\":2,\"steps\":[{\"color\":\"green\",\"range\":[0,2.45]},{\"color\":\"yellow\",\"range\":[2.45,3.55]},{\"color\":\"red\",\"range\":[3.55,7]}],\"threshold\":{\"line\":{\"color\":\"red\",\"width\":4},\"thickness\":0.75,\"value\":490}},\"mode\":\"gauge+number+delta\",\"title\":{\"font\":{\"size\":18},\"text\":\"Dimens\\u00e3o Estudante-Comunidade\"},\"value\":1.4970703125,\"type\":\"indicator\"},{\"delta\":{\"increasing\":{\"color\":\"RebeccaPurple\"},\"reference\":2.44},\"domain\":{\"x\":[0.0,0.2888888888888889],\"y\":[0.26875,0.4625]},\"gauge\":{\"axis\":{\"range\":[null,7],\"tickcolor\":\"darkblue\",\"tickwidth\":1},\"bar\":{\"color\":\"darkblue\"},\"bgcolor\":\"red\",\"bordercolor\":\"gray\",\"borderwidth\":2,\"steps\":[{\"color\":\"green\",\"range\":[0,2.44]},{\"color\":\"yellow\",\"range\":[2.44,3.41]},{\"color\":\"red\",\"range\":[3.41,7]}],\"threshold\":{\"line\":{\"color\":\"red\",\"width\":4},\"thickness\":0.75,\"value\":490}},\"mode\":\"gauge+number+delta\",\"title\":{\"font\":{\"size\":18},\"text\":\"Dimens\\u00e3o Estudante-Estudante\"},\"value\":1.49609375,\"type\":\"indicator\"}],                        {\"template\":{\"data\":{\"histogram2dcontour\":[{\"type\":\"histogram2dcontour\",\"colorbar\":{\"outlinewidth\":0,\"ticks\":\"\"},\"colorscale\":[[0.0,\"#0d0887\"],[0.1111111111111111,\"#46039f\"],[0.2222222222222222,\"#7201a8\"],[0.3333333333333333,\"#9c179e\"],[0.4444444444444444,\"#bd3786\"],[0.5555555555555556,\"#d8576b\"],[0.6666666666666666,\"#ed7953\"],[0.7777777777777778,\"#fb9f3a\"],[0.8888888888888888,\"#fdca26\"],[1.0,\"#f0f921\"]]}],\"choropleth\":[{\"type\":\"choropleth\",\"colorbar\":{\"outlinewidth\":0,\"ticks\":\"\"}}],\"histogram2d\":[{\"type\":\"histogram2d\",\"colorbar\":{\"outlinewidth\":0,\"ticks\":\"\"},\"colorscale\":[[0.0,\"#0d0887\"],[0.1111111111111111,\"#46039f\"],[0.2222222222222222,\"#7201a8\"],[0.3333333333333333,\"#9c179e\"],[0.4444444444444444,\"#bd3786\"],[0.5555555555555556,\"#d8576b\"],[0.6666666666666666,\"#ed7953\"],[0.7777777777777778,\"#fb9f3a\"],[0.8888888888888888,\"#fdca26\"],[1.0,\"#f0f921\"]]}],\"heatmap\":[{\"type\":\"heatmap\",\"colorbar\":{\"outlinewidth\":0,\"ticks\":\"\"},\"colorscale\":[[0.0,\"#0d0887\"],[0.1111111111111111,\"#46039f\"],[0.2222222222222222,\"#7201a8\"],[0.3333333333333333,\"#9c179e\"],[0.4444444444444444,\"#bd3786\"],[0.5555555555555556,\"#d8576b\"],[0.6666666666666666,\"#ed7953\"],[0.7777777777777778,\"#fb9f3a\"],[0.8888888888888888,\"#fdca26\"],[1.0,\"#f0f921\"]]}],\"heatmapgl\":[{\"type\":\"heatmapgl\",\"colorbar\":{\"outlinewidth\":0,\"ticks\":\"\"},\"colorscale\":[[0.0,\"#0d0887\"],[0.1111111111111111,\"#46039f\"],[0.2222222222222222,\"#7201a8\"],[0.3333333333333333,\"#9c179e\"],[0.4444444444444444,\"#bd3786\"],[0.5555555555555556,\"#d8576b\"],[0.6666666666666666,\"#ed7953\"],[0.7777777777777778,\"#fb9f3a\"],[0.8888888888888888,\"#fdca26\"],[1.0,\"#f0f921\"]]}],\"contourcarpet\":[{\"type\":\"contourcarpet\",\"colorbar\":{\"outlinewidth\":0,\"ticks\":\"\"}}],\"contour\":[{\"type\":\"contour\",\"colorbar\":{\"outlinewidth\":0,\"ticks\":\"\"},\"colorscale\":[[0.0,\"#0d0887\"],[0.1111111111111111,\"#46039f\"],[0.2222222222222222,\"#7201a8\"],[0.3333333333333333,\"#9c179e\"],[0.4444444444444444,\"#bd3786\"],[0.5555555555555556,\"#d8576b\"],[0.6666666666666666,\"#ed7953\"],[0.7777777777777778,\"#fb9f3a\"],[0.8888888888888888,\"#fdca26\"],[1.0,\"#f0f921\"]]}],\"surface\":[{\"type\":\"surface\",\"colorbar\":{\"outlinewidth\":0,\"ticks\":\"\"},\"colorscale\":[[0.0,\"#0d0887\"],[0.1111111111111111,\"#46039f\"],[0.2222222222222222,\"#7201a8\"],[0.3333333333333333,\"#9c179e\"],[0.4444444444444444,\"#bd3786\"],[0.5555555555555556,\"#d8576b\"],[0.6666666666666666,\"#ed7953\"],[0.7777777777777778,\"#fb9f3a\"],[0.8888888888888888,\"#fdca26\"],[1.0,\"#f0f921\"]]}],\"mesh3d\":[{\"type\":\"mesh3d\",\"colorbar\":{\"outlinewidth\":0,\"ticks\":\"\"}}],\"scatter\":[{\"fillpattern\":{\"fillmode\":\"overlay\",\"size\":10,\"solidity\":0.2},\"type\":\"scatter\"}],\"parcoords\":[{\"type\":\"parcoords\",\"line\":{\"colorbar\":{\"outlinewidth\":0,\"ticks\":\"\"}}}],\"scatterpolargl\":[{\"type\":\"scatterpolargl\",\"marker\":{\"colorbar\":{\"outlinewidth\":0,\"ticks\":\"\"}}}],\"bar\":[{\"error_x\":{\"color\":\"#2a3f5f\"},\"error_y\":{\"color\":\"#2a3f5f\"},\"marker\":{\"line\":{\"color\":\"#E5ECF6\",\"width\":0.5},\"pattern\":{\"fillmode\":\"overlay\",\"size\":10,\"solidity\":0.2}},\"type\":\"bar\"}],\"scattergeo\":[{\"type\":\"scattergeo\",\"marker\":{\"colorbar\":{\"outlinewidth\":0,\"ticks\":\"\"}}}],\"scatterpolar\":[{\"type\":\"scatterpolar\",\"marker\":{\"colorbar\":{\"outlinewidth\":0,\"ticks\":\"\"}}}],\"histogram\":[{\"marker\":{\"pattern\":{\"fillmode\":\"overlay\",\"size\":10,\"solidity\":0.2}},\"type\":\"histogram\"}],\"scattergl\":[{\"type\":\"scattergl\",\"marker\":{\"colorbar\":{\"outlinewidth\":0,\"ticks\":\"\"}}}],\"scatter3d\":[{\"type\":\"scatter3d\",\"line\":{\"colorbar\":{\"outlinewidth\":0,\"ticks\":\"\"}},\"marker\":{\"colorbar\":{\"outlinewidth\":0,\"ticks\":\"\"}}}],\"scattermapbox\":[{\"type\":\"scattermapbox\",\"marker\":{\"colorbar\":{\"outlinewidth\":0,\"ticks\":\"\"}}}],\"scatterternary\":[{\"type\":\"scatterternary\",\"marker\":{\"colorbar\":{\"outlinewidth\":0,\"ticks\":\"\"}}}],\"scattercarpet\":[{\"type\":\"scattercarpet\",\"marker\":{\"colorbar\":{\"outlinewidth\":0,\"ticks\":\"\"}}}],\"carpet\":[{\"aaxis\":{\"endlinecolor\":\"#2a3f5f\",\"gridcolor\":\"white\",\"linecolor\":\"white\",\"minorgridcolor\":\"white\",\"startlinecolor\":\"#2a3f5f\"},\"baxis\":{\"endlinecolor\":\"#2a3f5f\",\"gridcolor\":\"white\",\"linecolor\":\"white\",\"minorgridcolor\":\"white\",\"startlinecolor\":\"#2a3f5f\"},\"type\":\"carpet\"}],\"table\":[{\"cells\":{\"fill\":{\"color\":\"#EBF0F8\"},\"line\":{\"color\":\"white\"}},\"header\":{\"fill\":{\"color\":\"#C8D4E3\"},\"line\":{\"color\":\"white\"}},\"type\":\"table\"}],\"barpolar\":[{\"marker\":{\"line\":{\"color\":\"#E5ECF6\",\"width\":0.5},\"pattern\":{\"fillmode\":\"overlay\",\"size\":10,\"solidity\":0.2}},\"type\":\"barpolar\"}],\"pie\":[{\"automargin\":true,\"type\":\"pie\"}]},\"layout\":{\"autotypenumbers\":\"strict\",\"colorway\":[\"#636efa\",\"#EF553B\",\"#00cc96\",\"#ab63fa\",\"#FFA15A\",\"#19d3f3\",\"#FF6692\",\"#B6E880\",\"#FF97FF\",\"#FECB52\"],\"font\":{\"color\":\"#2a3f5f\"},\"hovermode\":\"closest\",\"hoverlabel\":{\"align\":\"left\"},\"paper_bgcolor\":\"white\",\"plot_bgcolor\":\"#E5ECF6\",\"polar\":{\"bgcolor\":\"#E5ECF6\",\"angularaxis\":{\"gridcolor\":\"white\",\"linecolor\":\"white\",\"ticks\":\"\"},\"radialaxis\":{\"gridcolor\":\"white\",\"linecolor\":\"white\",\"ticks\":\"\"}},\"ternary\":{\"bgcolor\":\"#E5ECF6\",\"aaxis\":{\"gridcolor\":\"white\",\"linecolor\":\"white\",\"ticks\":\"\"},\"baxis\":{\"gridcolor\":\"white\",\"linecolor\":\"white\",\"ticks\":\"\"},\"caxis\":{\"gridcolor\":\"white\",\"linecolor\":\"white\",\"ticks\":\"\"}},\"coloraxis\":{\"colorbar\":{\"outlinewidth\":0,\"ticks\":\"\"}},\"colorscale\":{\"sequential\":[[0.0,\"#0d0887\"],[0.1111111111111111,\"#46039f\"],[0.2222222222222222,\"#7201a8\"],[0.3333333333333333,\"#9c179e\"],[0.4444444444444444,\"#bd3786\"],[0.5555555555555556,\"#d8576b\"],[0.6666666666666666,\"#ed7953\"],[0.7777777777777778,\"#fb9f3a\"],[0.8888888888888888,\"#fdca26\"],[1.0,\"#f0f921\"]],\"sequentialminus\":[[0.0,\"#0d0887\"],[0.1111111111111111,\"#46039f\"],[0.2222222222222222,\"#7201a8\"],[0.3333333333333333,\"#9c179e\"],[0.4444444444444444,\"#bd3786\"],[0.5555555555555556,\"#d8576b\"],[0.6666666666666666,\"#ed7953\"],[0.7777777777777778,\"#fb9f3a\"],[0.8888888888888888,\"#fdca26\"],[1.0,\"#f0f921\"]],\"diverging\":[[0,\"#8e0152\"],[0.1,\"#c51b7d\"],[0.2,\"#de77ae\"],[0.3,\"#f1b6da\"],[0.4,\"#fde0ef\"],[0.5,\"#f7f7f7\"],[0.6,\"#e6f5d0\"],[0.7,\"#b8e186\"],[0.8,\"#7fbc41\"],[0.9,\"#4d9221\"],[1,\"#276419\"]]},\"xaxis\":{\"gridcolor\":\"white\",\"linecolor\":\"white\",\"ticks\":\"\",\"title\":{\"standoff\":15},\"zerolinecolor\":\"white\",\"automargin\":true,\"zerolinewidth\":2},\"yaxis\":{\"gridcolor\":\"white\",\"linecolor\":\"white\",\"ticks\":\"\",\"title\":{\"standoff\":15},\"zerolinecolor\":\"white\",\"automargin\":true,\"zerolinewidth\":2},\"scene\":{\"xaxis\":{\"backgroundcolor\":\"#E5ECF6\",\"gridcolor\":\"white\",\"linecolor\":\"white\",\"showbackground\":true,\"ticks\":\"\",\"zerolinecolor\":\"white\",\"gridwidth\":2},\"yaxis\":{\"backgroundcolor\":\"#E5ECF6\",\"gridcolor\":\"white\",\"linecolor\":\"white\",\"showbackground\":true,\"ticks\":\"\",\"zerolinecolor\":\"white\",\"gridwidth\":2},\"zaxis\":{\"backgroundcolor\":\"#E5ECF6\",\"gridcolor\":\"white\",\"linecolor\":\"white\",\"showbackground\":true,\"ticks\":\"\",\"zerolinecolor\":\"white\",\"gridwidth\":2}},\"shapedefaults\":{\"line\":{\"color\":\"#2a3f5f\"}},\"annotationdefaults\":{\"arrowcolor\":\"#2a3f5f\",\"arrowhead\":0,\"arrowwidth\":1},\"geo\":{\"bgcolor\":\"white\",\"landcolor\":\"#E5ECF6\",\"subunitcolor\":\"white\",\"showland\":true,\"showlakes\":true,\"lakecolor\":\"white\"},\"title\":{\"x\":0.05},\"mapbox\":{\"style\":\"light\"}}},\"title\":{\"y\":0.98,\"x\":0.25,\"text\":\"<b>Dimens\\u00f5es no Contexto Nacional</b>\"},\"height\":1000,\"width\":1200},                        {\"responsive\": true}                    ).then(function(){\n",
       "                            \n",
       "var gd = document.getElementById('48f6e8f2-2345-40e3-b85c-8e96678af3d8');\n",
       "var x = new MutationObserver(function (mutations, observer) {{\n",
       "        var display = window.getComputedStyle(gd).display;\n",
       "        if (!display || display === 'none') {{\n",
       "            console.log([gd, 'removed!']);\n",
       "            Plotly.purge(gd);\n",
       "            observer.disconnect();\n",
       "        }}\n",
       "}});\n",
       "\n",
       "// Listen for the removal of the full notebook cells\n",
       "var notebookContainer = gd.closest('#notebook-container');\n",
       "if (notebookContainer) {{\n",
       "    x.observe(notebookContainer, {childList: true});\n",
       "}}\n",
       "\n",
       "// Listen for the clearing of the current output cell\n",
       "var outputEl = gd.closest('.output');\n",
       "if (outputEl) {{\n",
       "    x.observe(outputEl, {childList: true});\n",
       "}}\n",
       "\n",
       "                        })                };                });            </script>        </div>"
      ]
     },
     "metadata": {},
     "output_type": "display_data"
    }
   ],
   "source": [
    "fig = velocimetro_dimensao()\n",
    "fig.show()"
   ]
  },
  {
   "cell_type": "code",
   "execution_count": 38,
   "id": "8ea00794",
   "metadata": {},
   "outputs": [],
   "source": [
    "def velocimetro_fator():\n",
    "    #dataframe para os indices fatores medio baixo e medio alto\n",
    "    d = {'Fator': ['E_ESC1', 'E_ESC2', 'E_PROF1', 'E_PROF2', 'E_FAM1', 'E_FAM2', 'E_COM1', 'E_COM2', 'E_COM3', 'E_EST1',\n",
    "               'E_EST2', 'E_EST3'], 'Medio_Baixo': [3.66, 2.01, 2.34, 2.34, 3.01, 3.34, 2.01, 2.01, 2.01, 2.01, 2.34, 2.01], \n",
    "     'Medio_Alto': [5.33, 3.33, 4.33, 4.00, 5.00, 5.00, 3.66, 3.66, 3.66, 4.00, 4.00, 3.33]}\n",
    "    fatores = pd.DataFrame(data = d)\n",
    "    query = \"\"\"select * from public.fatores_est fe\n",
    "    inner join escolas.aluno a \n",
    "    on fe.id_aluno = a.id_aluno \n",
    "    inner join escolas.turma t \n",
    "    on a.id_turma = t.id_turma \n",
    "    inner join escolas.escola e \n",
    "    on t.id_escola = e.cod_escola\"\"\"\n",
    "    #df = pd.read_sql(con_db_caio2(query))\n",
    "    #df = pd.read_sql(query, con_db_caio())\n",
    "    df = connection(query)\n",
    "\n",
    "    df = df.loc[:,~df.columns.duplicated()].copy()\n",
    "    \n",
    "    cross_tab_prop = df[['id_aluno','nome_aluno','id_turma', 'escola', 'uf', 'municipio','cod_escola','nome_turma','E_ESC1V', 'E_ESC2V', 'E_PROF1V', 'E_PROF2V',\n",
    "       'E_FAM1V', 'E_FAM2V', 'E_COM1V', 'E_COM2V', 'E_COM3V', 'E_EST1V',\n",
    "       'E_EST2V', 'E_EST3V', 'E_ESC1C', 'E_ESC2C', 'E_PROF1C', 'E_PROF2C',\n",
    "       'E_FAM1C', 'E_FAM2C', 'E_COM1C', 'E_COM2C', 'E_COM3C', 'E_EST1C',\n",
    "       'E_EST2C', 'E_EST3C']]\n",
    "\n",
    "    cross_tab_prop.set_index('id_aluno')\n",
    "    #cross_tab_prop\n",
    "    \n",
    "    filter_column = cross_tab_prop.columns.str.startswith(\"E_\") | cross_tab_prop.columns.str.startswith(\"id\") | cross_tab_prop.columns.str.startswith(\"cod\")|cross_tab_prop.columns.str.startswith(\"nome\")|cross_tab_prop.columns.str.startswith(\"escola\") |cross_tab_prop.columns.str.startswith(\"uf\")|cross_tab_prop.columns.str.startswith(\"municipio\")\n",
    "    df_col = cross_tab_prop.loc[:,filter_column]\n",
    "    filter_column = df_col.columns.str.endswith(\"V\") | df_col.columns.str.startswith(\"id\") | df_col.columns.str.startswith(\"cod\")|df_col.columns.str.startswith(\"nome\")|df_col.columns.str.startswith(\"escola\") |df_col.columns.str.startswith(\"uf\")|df_col.columns.str.startswith(\"municipio\")\n",
    "    df_col = df_col.loc[:, filter_column]\n",
    "    #df_col.info()\n",
    "    \n",
    "    df_col['E_ESCV'] = (df_col['E_ESC2V'] +df_col['E_ESC2V'])/2\n",
    "    df_col['E_PROFV'] = (df_col['E_PROF1V'] +df_col['E_PROF1V'])/2\n",
    "    df_col['E_FAMV'] = (df_col['E_FAM1V'] +df_col['E_FAM1V'])/2\n",
    "    df_col['E_COMV'] = (df_col['E_COM1V'] +df_col['E_COM2V']+df_col['E_COM3V'])/3\n",
    "    df_col['E_ESTV'] = (df_col['E_EST1V'] +df_col['E_EST2V']+df_col['E_EST3V'])/3\n",
    "    \n",
    "    nomeEscola = 'E M E F PROFESSORA DALILA LEAO'\n",
    "    filter = cross_tab_prop['escola']==nomeEscola\n",
    "    #escola_fator = cross_tab_prop[filter]\n",
    "    escola_fator = cross_tab_prop\n",
    "    \n",
    "    \n",
    "    filter = (cross_tab_prop['escola']=='E M E F PROFESSORA DALILA LEAO') & (cross_tab_prop['id_turma']==1064)\n",
    "    turma_fator = cross_tab_prop[filter]\n",
    "\n",
    "    \n",
    "    filter = (cross_tab_prop['escola']=='E M E F PROFESSORA DALILA LEAO') & (cross_tab_prop['id_turma']==1064) & (cross_tab_prop['nome_aluno']=='Jeferson Oliveira dos Santos')\n",
    "    aluno_fator = cross_tab_prop[filter]\n",
    "\n",
    "    \n",
    "    cols = escola_fator.loc[:, escola_fator.columns.str.startswith(\"E_\")]\n",
    "    cols = cols.loc[:, cols.columns.str.endswith(\"V\")]\n",
    "    r = 1\n",
    "    c = 1\n",
    "    n = 1\n",
    "    tracer = {}\n",
    "    dictionary_name = {'E_ESC1V': 'Condições Materiais da Escola',\n",
    "                              'E_ESC2V':  'Condições Materiais do Estudante',\n",
    "                              'E_PROF1V': 'Inflexibilidade<br>Pedagógica',\n",
    "                              'E_PROF2V': 'Qualidade<br>Pedagógica',\n",
    "                              'E_FAM1V':  'Suporte<br>Familiar',\n",
    "                              'E_FAM2V':  'Gravidez-Parentalidade<br>Atividades Domésticas de Cuidado',\n",
    "                              'E_COM1V':  'Medidas Socioeducativas<br>Contextos de Violência',\n",
    "                              'E_COM2V':  'Distanciamento<br>Escola-Comunidade',\n",
    "                              'E_COM3V':  'Acessibilidade<br>Frequência Escolar',\n",
    "                              'E_EST1V':  'Significados da Escolarização',\n",
    "                              'E_EST2V':  'Aspectos Emocionais e Afetivos',\n",
    "                              'E_EST3V':  'Reprovações e Distorção Idade-Série',\n",
    "                              }\n",
    "\n",
    "    for (columnName, columnData) in cols.iteritems():\n",
    "        \n",
    "        cols[columnName] = cols[columnName].astype(np.float16)\n",
    "        mean = cols[columnName].mean()\n",
    "        \n",
    "        nameC = columnName\n",
    "        nameC = nameC.replace('V',\"\")\n",
    "        f2 = fatores[fatores['Fator'] == nameC]\n",
    "        \n",
    "        \n",
    "        tracer[n] = go.Indicator(\n",
    "            mode = \"gauge+number+delta\",\n",
    "            value = mean,\n",
    "            domain = {'x': [0, 1], 'y': [0, 1]},\n",
    "            title = {'text': dictionary_name[columnName], 'font': {'size': 18}},\n",
    "            #reference é pode ser a média geral\n",
    "            delta = {'reference': f2['Medio_Baixo'].values[0], 'increasing': {'color': \"RebeccaPurple\"}},\n",
    "            gauge = {\n",
    "                'axis': {'range': [None, 7], 'tickwidth': 1, 'tickcolor': \"darkblue\"},\n",
    "                'bar': {'color': \"darkblue\"},\n",
    "                'bgcolor': \"red\",\n",
    "                'borderwidth': 2,\n",
    "                'bordercolor': \"gray\",\n",
    "                'steps': [\n",
    "                    {'range': [0, f2['Medio_Baixo'].values[0]], 'color': 'green'},\n",
    "                    {'range': [f2['Medio_Baixo'].values[0], f2['Medio_Alto'].values[0]], 'color': 'yellow'},\n",
    "                    {'range': [f2['Medio_Alto'].values[0], 7], 'color': 'red'}\n",
    "                    \n",
    "                ],\n",
    "                'threshold': {\n",
    "                    'line': {'color': \"red\", 'width': 4},\n",
    "                    'thickness': 0.75,\n",
    "                    'value': 490}})\n",
    "        r = 1\n",
    "        c = 1\n",
    "        n = n + 1\n",
    "\n",
    "\n",
    "\n",
    "    fig = make_subplots(\n",
    "        rows=4,\n",
    "        cols=3,\n",
    "        specs=[[{'type' : 'indicator'}, {'type' : 'indicator'}, {'type' : 'indicator'}],\n",
    "              [{'type' : 'indicator'}, {'type' : 'indicator'}, {'type' : 'indicator'}],\n",
    "               [{'type' : 'indicator'}, {'type' : 'indicator'}, {'type' : 'indicator'}],\n",
    "               [{'type' : 'indicator'}, {'type' : 'indicator'}, {'type' : 'indicator'}],\n",
    "\n",
    "        ],\n",
    "        )\n",
    "    for i in range (1, 13):\n",
    "            if(c%3 != 0):\n",
    "                #fig.append_trace(trace1, row=1, col=1)\n",
    "                #fig.append_trace(trace, row=r, col=c)\n",
    "                #r = r + 1\n",
    "                #print ('if, r: ', r, ' C: ', c)\n",
    "                fig.append_trace(tracer[i], row=r, col=c)\n",
    "                c = c + 1\n",
    "\n",
    "            else:\n",
    "                #print ('else, r: ', r, ' C: ', c)\n",
    "                fig.append_trace(tracer[i], row=r, col=c)\n",
    "                c = 1\n",
    "                r = r + 1\n",
    "\n",
    "                #fig.append_trace(trace, row=r, col=c)\n",
    "\n",
    "    #fig.update_layout(height=1000, width=1200,title_y=0.99,title_x=0.5, title_text=\"<b>Fatores da {0}</b>\".format(nomeEscola))\n",
    "    fig.update_layout(height=1000, width=1200,title_y=0.99,title_x=0.5, title_text=\"<b>Fatores no Contexto Nacional</b>\")\n",
    "    \n",
    "    #fig.show()\n",
    "    return fig"
   ]
  },
  {
   "cell_type": "code",
   "execution_count": 39,
   "id": "cae2c1d6",
   "metadata": {},
   "outputs": [
    {
     "name": "stderr",
     "output_type": "stream",
     "text": [
      "/tmp/ipykernel_28302/3803881708.py:75: FutureWarning:\n",
      "\n",
      "iteritems is deprecated and will be removed in a future version. Use .items instead.\n",
      "\n"
     ]
    },
    {
     "data": {
      "application/vnd.plotly.v1+json": {
       "config": {
        "plotlyServerURL": "https://plot.ly"
       },
       "data": [
        {
         "delta": {
          "increasing": {
           "color": "RebeccaPurple"
          },
          "reference": 3.66
         },
         "domain": {
          "x": [
           0,
           0.2888888888888889
          ],
          "y": [
           0.80625,
           1
          ]
         },
         "gauge": {
          "axis": {
           "range": [
            null,
            7
           ],
           "tickcolor": "darkblue",
           "tickwidth": 1
          },
          "bar": {
           "color": "darkblue"
          },
          "bgcolor": "red",
          "bordercolor": "gray",
          "borderwidth": 2,
          "steps": [
           {
            "color": "green",
            "range": [
             0,
             3.66
            ]
           },
           {
            "color": "yellow",
            "range": [
             3.66,
             5.33
            ]
           },
           {
            "color": "red",
            "range": [
             5.33,
             7
            ]
           }
          ],
          "threshold": {
           "line": {
            "color": "red",
            "width": 4
           },
           "thickness": 0.75,
           "value": 490
          }
         },
         "mode": "gauge+number+delta",
         "title": {
          "font": {
           "size": 18
          },
          "text": "Condições Materiais da Escola"
         },
         "type": "indicator",
         "value": 1.4208984375
        },
        {
         "delta": {
          "increasing": {
           "color": "RebeccaPurple"
          },
          "reference": 2.01
         },
         "domain": {
          "x": [
           0.35555555555555557,
           0.6444444444444445
          ],
          "y": [
           0.80625,
           1
          ]
         },
         "gauge": {
          "axis": {
           "range": [
            null,
            7
           ],
           "tickcolor": "darkblue",
           "tickwidth": 1
          },
          "bar": {
           "color": "darkblue"
          },
          "bgcolor": "red",
          "bordercolor": "gray",
          "borderwidth": 2,
          "steps": [
           {
            "color": "green",
            "range": [
             0,
             2.01
            ]
           },
           {
            "color": "yellow",
            "range": [
             2.01,
             3.33
            ]
           },
           {
            "color": "red",
            "range": [
             3.33,
             7
            ]
           }
          ],
          "threshold": {
           "line": {
            "color": "red",
            "width": 4
           },
           "thickness": 0.75,
           "value": 490
          }
         },
         "mode": "gauge+number+delta",
         "title": {
          "font": {
           "size": 18
          },
          "text": "Condições Materiais do Estudante"
         },
         "type": "indicator",
         "value": 1.7421875
        },
        {
         "delta": {
          "increasing": {
           "color": "RebeccaPurple"
          },
          "reference": 2.34
         },
         "domain": {
          "x": [
           0.7111111111111111,
           1
          ],
          "y": [
           0.80625,
           1
          ]
         },
         "gauge": {
          "axis": {
           "range": [
            null,
            7
           ],
           "tickcolor": "darkblue",
           "tickwidth": 1
          },
          "bar": {
           "color": "darkblue"
          },
          "bgcolor": "red",
          "bordercolor": "gray",
          "borderwidth": 2,
          "steps": [
           {
            "color": "green",
            "range": [
             0,
             2.34
            ]
           },
           {
            "color": "yellow",
            "range": [
             2.34,
             4.33
            ]
           },
           {
            "color": "red",
            "range": [
             4.33,
             7
            ]
           }
          ],
          "threshold": {
           "line": {
            "color": "red",
            "width": 4
           },
           "thickness": 0.75,
           "value": 490
          }
         },
         "mode": "gauge+number+delta",
         "title": {
          "font": {
           "size": 18
          },
          "text": "Inflexibilidade<br>Pedagógica"
         },
         "type": "indicator",
         "value": 1.2587890625
        },
        {
         "delta": {
          "increasing": {
           "color": "RebeccaPurple"
          },
          "reference": 2.34
         },
         "domain": {
          "x": [
           0,
           0.2888888888888889
          ],
          "y": [
           0.5375,
           0.73125
          ]
         },
         "gauge": {
          "axis": {
           "range": [
            null,
            7
           ],
           "tickcolor": "darkblue",
           "tickwidth": 1
          },
          "bar": {
           "color": "darkblue"
          },
          "bgcolor": "red",
          "bordercolor": "gray",
          "borderwidth": 2,
          "steps": [
           {
            "color": "green",
            "range": [
             0,
             2.34
            ]
           },
           {
            "color": "yellow",
            "range": [
             2.34,
             4
            ]
           },
           {
            "color": "red",
            "range": [
             4,
             7
            ]
           }
          ],
          "threshold": {
           "line": {
            "color": "red",
            "width": 4
           },
           "thickness": 0.75,
           "value": 490
          }
         },
         "mode": "gauge+number+delta",
         "title": {
          "font": {
           "size": 18
          },
          "text": "Qualidade<br>Pedagógica"
         },
         "type": "indicator",
         "value": 1.4619140625
        },
        {
         "delta": {
          "increasing": {
           "color": "RebeccaPurple"
          },
          "reference": 3.01
         },
         "domain": {
          "x": [
           0.35555555555555557,
           0.6444444444444445
          ],
          "y": [
           0.5375,
           0.73125
          ]
         },
         "gauge": {
          "axis": {
           "range": [
            null,
            7
           ],
           "tickcolor": "darkblue",
           "tickwidth": 1
          },
          "bar": {
           "color": "darkblue"
          },
          "bgcolor": "red",
          "bordercolor": "gray",
          "borderwidth": 2,
          "steps": [
           {
            "color": "green",
            "range": [
             0,
             3.01
            ]
           },
           {
            "color": "yellow",
            "range": [
             3.01,
             5
            ]
           },
           {
            "color": "red",
            "range": [
             5,
             7
            ]
           }
          ],
          "threshold": {
           "line": {
            "color": "red",
            "width": 4
           },
           "thickness": 0.75,
           "value": 490
          }
         },
         "mode": "gauge+number+delta",
         "title": {
          "font": {
           "size": 18
          },
          "text": "Suporte<br>Familiar"
         },
         "type": "indicator",
         "value": 1.3056640625
        },
        {
         "delta": {
          "increasing": {
           "color": "RebeccaPurple"
          },
          "reference": 3.34
         },
         "domain": {
          "x": [
           0.7111111111111111,
           1
          ],
          "y": [
           0.5375,
           0.73125
          ]
         },
         "gauge": {
          "axis": {
           "range": [
            null,
            7
           ],
           "tickcolor": "darkblue",
           "tickwidth": 1
          },
          "bar": {
           "color": "darkblue"
          },
          "bgcolor": "red",
          "bordercolor": "gray",
          "borderwidth": 2,
          "steps": [
           {
            "color": "green",
            "range": [
             0,
             3.34
            ]
           },
           {
            "color": "yellow",
            "range": [
             3.34,
             5
            ]
           },
           {
            "color": "red",
            "range": [
             5,
             7
            ]
           }
          ],
          "threshold": {
           "line": {
            "color": "red",
            "width": 4
           },
           "thickness": 0.75,
           "value": 490
          }
         },
         "mode": "gauge+number+delta",
         "title": {
          "font": {
           "size": 18
          },
          "text": "Gravidez-Parentalidade<br>Atividades Domésticas de Cuidado"
         },
         "type": "indicator",
         "value": 1.37890625
        },
        {
         "delta": {
          "increasing": {
           "color": "RebeccaPurple"
          },
          "reference": 2.01
         },
         "domain": {
          "x": [
           0,
           0.2888888888888889
          ],
          "y": [
           0.26875,
           0.4625
          ]
         },
         "gauge": {
          "axis": {
           "range": [
            null,
            7
           ],
           "tickcolor": "darkblue",
           "tickwidth": 1
          },
          "bar": {
           "color": "darkblue"
          },
          "bgcolor": "red",
          "bordercolor": "gray",
          "borderwidth": 2,
          "steps": [
           {
            "color": "green",
            "range": [
             0,
             2.01
            ]
           },
           {
            "color": "yellow",
            "range": [
             2.01,
             3.66
            ]
           },
           {
            "color": "red",
            "range": [
             3.66,
             7
            ]
           }
          ],
          "threshold": {
           "line": {
            "color": "red",
            "width": 4
           },
           "thickness": 0.75,
           "value": 490
          }
         },
         "mode": "gauge+number+delta",
         "title": {
          "font": {
           "size": 18
          },
          "text": "Medidas Socioeducativas<br>Contextos de Violência"
         },
         "type": "indicator",
         "value": 1.8203125
        },
        {
         "delta": {
          "increasing": {
           "color": "RebeccaPurple"
          },
          "reference": 2.01
         },
         "domain": {
          "x": [
           0.35555555555555557,
           0.6444444444444445
          ],
          "y": [
           0.26875,
           0.4625
          ]
         },
         "gauge": {
          "axis": {
           "range": [
            null,
            7
           ],
           "tickcolor": "darkblue",
           "tickwidth": 1
          },
          "bar": {
           "color": "darkblue"
          },
          "bgcolor": "red",
          "bordercolor": "gray",
          "borderwidth": 2,
          "steps": [
           {
            "color": "green",
            "range": [
             0,
             2.01
            ]
           },
           {
            "color": "yellow",
            "range": [
             2.01,
             3.66
            ]
           },
           {
            "color": "red",
            "range": [
             3.66,
             7
            ]
           }
          ],
          "threshold": {
           "line": {
            "color": "red",
            "width": 4
           },
           "thickness": 0.75,
           "value": 490
          }
         },
         "mode": "gauge+number+delta",
         "title": {
          "font": {
           "size": 18
          },
          "text": "Distanciamento<br>Escola-Comunidade"
         },
         "type": "indicator",
         "value": 1.4453125
        },
        {
         "delta": {
          "increasing": {
           "color": "RebeccaPurple"
          },
          "reference": 2.01
         },
         "domain": {
          "x": [
           0.7111111111111111,
           1
          ],
          "y": [
           0.26875,
           0.4625
          ]
         },
         "gauge": {
          "axis": {
           "range": [
            null,
            7
           ],
           "tickcolor": "darkblue",
           "tickwidth": 1
          },
          "bar": {
           "color": "darkblue"
          },
          "bgcolor": "red",
          "bordercolor": "gray",
          "borderwidth": 2,
          "steps": [
           {
            "color": "green",
            "range": [
             0,
             2.01
            ]
           },
           {
            "color": "yellow",
            "range": [
             2.01,
             3.66
            ]
           },
           {
            "color": "red",
            "range": [
             3.66,
             7
            ]
           }
          ],
          "threshold": {
           "line": {
            "color": "red",
            "width": 4
           },
           "thickness": 0.75,
           "value": 490
          }
         },
         "mode": "gauge+number+delta",
         "title": {
          "font": {
           "size": 18
          },
          "text": "Acessibilidade<br>Frequência Escolar"
         },
         "type": "indicator",
         "value": 1.224609375
        },
        {
         "delta": {
          "increasing": {
           "color": "RebeccaPurple"
          },
          "reference": 2.01
         },
         "domain": {
          "x": [
           0,
           0.2888888888888889
          ],
          "y": [
           0,
           0.19375
          ]
         },
         "gauge": {
          "axis": {
           "range": [
            null,
            7
           ],
           "tickcolor": "darkblue",
           "tickwidth": 1
          },
          "bar": {
           "color": "darkblue"
          },
          "bgcolor": "red",
          "bordercolor": "gray",
          "borderwidth": 2,
          "steps": [
           {
            "color": "green",
            "range": [
             0,
             2.01
            ]
           },
           {
            "color": "yellow",
            "range": [
             2.01,
             4
            ]
           },
           {
            "color": "red",
            "range": [
             4,
             7
            ]
           }
          ],
          "threshold": {
           "line": {
            "color": "red",
            "width": 4
           },
           "thickness": 0.75,
           "value": 490
          }
         },
         "mode": "gauge+number+delta",
         "title": {
          "font": {
           "size": 18
          },
          "text": "Significados da Escolarização"
         },
         "type": "indicator",
         "value": 1.2607421875
        },
        {
         "delta": {
          "increasing": {
           "color": "RebeccaPurple"
          },
          "reference": 2.34
         },
         "domain": {
          "x": [
           0.35555555555555557,
           0.6444444444444445
          ],
          "y": [
           0,
           0.19375
          ]
         },
         "gauge": {
          "axis": {
           "range": [
            null,
            7
           ],
           "tickcolor": "darkblue",
           "tickwidth": 1
          },
          "bar": {
           "color": "darkblue"
          },
          "bgcolor": "red",
          "bordercolor": "gray",
          "borderwidth": 2,
          "steps": [
           {
            "color": "green",
            "range": [
             0,
             2.34
            ]
           },
           {
            "color": "yellow",
            "range": [
             2.34,
             4
            ]
           },
           {
            "color": "red",
            "range": [
             4,
             7
            ]
           }
          ],
          "threshold": {
           "line": {
            "color": "red",
            "width": 4
           },
           "thickness": 0.75,
           "value": 490
          }
         },
         "mode": "gauge+number+delta",
         "title": {
          "font": {
           "size": 18
          },
          "text": "Aspectos Emocionais e Afetivos"
         },
         "type": "indicator",
         "value": 1.8447265625
        },
        {
         "delta": {
          "increasing": {
           "color": "RebeccaPurple"
          },
          "reference": 2.01
         },
         "domain": {
          "x": [
           0.7111111111111111,
           1
          ],
          "y": [
           0,
           0.19375
          ]
         },
         "gauge": {
          "axis": {
           "range": [
            null,
            7
           ],
           "tickcolor": "darkblue",
           "tickwidth": 1
          },
          "bar": {
           "color": "darkblue"
          },
          "bgcolor": "red",
          "bordercolor": "gray",
          "borderwidth": 2,
          "steps": [
           {
            "color": "green",
            "range": [
             0,
             2.01
            ]
           },
           {
            "color": "yellow",
            "range": [
             2.01,
             3.33
            ]
           },
           {
            "color": "red",
            "range": [
             3.33,
             7
            ]
           }
          ],
          "threshold": {
           "line": {
            "color": "red",
            "width": 4
           },
           "thickness": 0.75,
           "value": 490
          }
         },
         "mode": "gauge+number+delta",
         "title": {
          "font": {
           "size": 18
          },
          "text": "Reprovações e Distorção Idade-Série"
         },
         "type": "indicator",
         "value": 1.384765625
        }
       ],
       "layout": {
        "height": 1000,
        "template": {
         "data": {
          "bar": [
           {
            "error_x": {
             "color": "#2a3f5f"
            },
            "error_y": {
             "color": "#2a3f5f"
            },
            "marker": {
             "line": {
              "color": "#E5ECF6",
              "width": 0.5
             },
             "pattern": {
              "fillmode": "overlay",
              "size": 10,
              "solidity": 0.2
             }
            },
            "type": "bar"
           }
          ],
          "barpolar": [
           {
            "marker": {
             "line": {
              "color": "#E5ECF6",
              "width": 0.5
             },
             "pattern": {
              "fillmode": "overlay",
              "size": 10,
              "solidity": 0.2
             }
            },
            "type": "barpolar"
           }
          ],
          "carpet": [
           {
            "aaxis": {
             "endlinecolor": "#2a3f5f",
             "gridcolor": "white",
             "linecolor": "white",
             "minorgridcolor": "white",
             "startlinecolor": "#2a3f5f"
            },
            "baxis": {
             "endlinecolor": "#2a3f5f",
             "gridcolor": "white",
             "linecolor": "white",
             "minorgridcolor": "white",
             "startlinecolor": "#2a3f5f"
            },
            "type": "carpet"
           }
          ],
          "choropleth": [
           {
            "colorbar": {
             "outlinewidth": 0,
             "ticks": ""
            },
            "type": "choropleth"
           }
          ],
          "contour": [
           {
            "colorbar": {
             "outlinewidth": 0,
             "ticks": ""
            },
            "colorscale": [
             [
              0,
              "#0d0887"
             ],
             [
              0.1111111111111111,
              "#46039f"
             ],
             [
              0.2222222222222222,
              "#7201a8"
             ],
             [
              0.3333333333333333,
              "#9c179e"
             ],
             [
              0.4444444444444444,
              "#bd3786"
             ],
             [
              0.5555555555555556,
              "#d8576b"
             ],
             [
              0.6666666666666666,
              "#ed7953"
             ],
             [
              0.7777777777777778,
              "#fb9f3a"
             ],
             [
              0.8888888888888888,
              "#fdca26"
             ],
             [
              1,
              "#f0f921"
             ]
            ],
            "type": "contour"
           }
          ],
          "contourcarpet": [
           {
            "colorbar": {
             "outlinewidth": 0,
             "ticks": ""
            },
            "type": "contourcarpet"
           }
          ],
          "heatmap": [
           {
            "colorbar": {
             "outlinewidth": 0,
             "ticks": ""
            },
            "colorscale": [
             [
              0,
              "#0d0887"
             ],
             [
              0.1111111111111111,
              "#46039f"
             ],
             [
              0.2222222222222222,
              "#7201a8"
             ],
             [
              0.3333333333333333,
              "#9c179e"
             ],
             [
              0.4444444444444444,
              "#bd3786"
             ],
             [
              0.5555555555555556,
              "#d8576b"
             ],
             [
              0.6666666666666666,
              "#ed7953"
             ],
             [
              0.7777777777777778,
              "#fb9f3a"
             ],
             [
              0.8888888888888888,
              "#fdca26"
             ],
             [
              1,
              "#f0f921"
             ]
            ],
            "type": "heatmap"
           }
          ],
          "heatmapgl": [
           {
            "colorbar": {
             "outlinewidth": 0,
             "ticks": ""
            },
            "colorscale": [
             [
              0,
              "#0d0887"
             ],
             [
              0.1111111111111111,
              "#46039f"
             ],
             [
              0.2222222222222222,
              "#7201a8"
             ],
             [
              0.3333333333333333,
              "#9c179e"
             ],
             [
              0.4444444444444444,
              "#bd3786"
             ],
             [
              0.5555555555555556,
              "#d8576b"
             ],
             [
              0.6666666666666666,
              "#ed7953"
             ],
             [
              0.7777777777777778,
              "#fb9f3a"
             ],
             [
              0.8888888888888888,
              "#fdca26"
             ],
             [
              1,
              "#f0f921"
             ]
            ],
            "type": "heatmapgl"
           }
          ],
          "histogram": [
           {
            "marker": {
             "pattern": {
              "fillmode": "overlay",
              "size": 10,
              "solidity": 0.2
             }
            },
            "type": "histogram"
           }
          ],
          "histogram2d": [
           {
            "colorbar": {
             "outlinewidth": 0,
             "ticks": ""
            },
            "colorscale": [
             [
              0,
              "#0d0887"
             ],
             [
              0.1111111111111111,
              "#46039f"
             ],
             [
              0.2222222222222222,
              "#7201a8"
             ],
             [
              0.3333333333333333,
              "#9c179e"
             ],
             [
              0.4444444444444444,
              "#bd3786"
             ],
             [
              0.5555555555555556,
              "#d8576b"
             ],
             [
              0.6666666666666666,
              "#ed7953"
             ],
             [
              0.7777777777777778,
              "#fb9f3a"
             ],
             [
              0.8888888888888888,
              "#fdca26"
             ],
             [
              1,
              "#f0f921"
             ]
            ],
            "type": "histogram2d"
           }
          ],
          "histogram2dcontour": [
           {
            "colorbar": {
             "outlinewidth": 0,
             "ticks": ""
            },
            "colorscale": [
             [
              0,
              "#0d0887"
             ],
             [
              0.1111111111111111,
              "#46039f"
             ],
             [
              0.2222222222222222,
              "#7201a8"
             ],
             [
              0.3333333333333333,
              "#9c179e"
             ],
             [
              0.4444444444444444,
              "#bd3786"
             ],
             [
              0.5555555555555556,
              "#d8576b"
             ],
             [
              0.6666666666666666,
              "#ed7953"
             ],
             [
              0.7777777777777778,
              "#fb9f3a"
             ],
             [
              0.8888888888888888,
              "#fdca26"
             ],
             [
              1,
              "#f0f921"
             ]
            ],
            "type": "histogram2dcontour"
           }
          ],
          "mesh3d": [
           {
            "colorbar": {
             "outlinewidth": 0,
             "ticks": ""
            },
            "type": "mesh3d"
           }
          ],
          "parcoords": [
           {
            "line": {
             "colorbar": {
              "outlinewidth": 0,
              "ticks": ""
             }
            },
            "type": "parcoords"
           }
          ],
          "pie": [
           {
            "automargin": true,
            "type": "pie"
           }
          ],
          "scatter": [
           {
            "fillpattern": {
             "fillmode": "overlay",
             "size": 10,
             "solidity": 0.2
            },
            "type": "scatter"
           }
          ],
          "scatter3d": [
           {
            "line": {
             "colorbar": {
              "outlinewidth": 0,
              "ticks": ""
             }
            },
            "marker": {
             "colorbar": {
              "outlinewidth": 0,
              "ticks": ""
             }
            },
            "type": "scatter3d"
           }
          ],
          "scattercarpet": [
           {
            "marker": {
             "colorbar": {
              "outlinewidth": 0,
              "ticks": ""
             }
            },
            "type": "scattercarpet"
           }
          ],
          "scattergeo": [
           {
            "marker": {
             "colorbar": {
              "outlinewidth": 0,
              "ticks": ""
             }
            },
            "type": "scattergeo"
           }
          ],
          "scattergl": [
           {
            "marker": {
             "colorbar": {
              "outlinewidth": 0,
              "ticks": ""
             }
            },
            "type": "scattergl"
           }
          ],
          "scattermapbox": [
           {
            "marker": {
             "colorbar": {
              "outlinewidth": 0,
              "ticks": ""
             }
            },
            "type": "scattermapbox"
           }
          ],
          "scatterpolar": [
           {
            "marker": {
             "colorbar": {
              "outlinewidth": 0,
              "ticks": ""
             }
            },
            "type": "scatterpolar"
           }
          ],
          "scatterpolargl": [
           {
            "marker": {
             "colorbar": {
              "outlinewidth": 0,
              "ticks": ""
             }
            },
            "type": "scatterpolargl"
           }
          ],
          "scatterternary": [
           {
            "marker": {
             "colorbar": {
              "outlinewidth": 0,
              "ticks": ""
             }
            },
            "type": "scatterternary"
           }
          ],
          "surface": [
           {
            "colorbar": {
             "outlinewidth": 0,
             "ticks": ""
            },
            "colorscale": [
             [
              0,
              "#0d0887"
             ],
             [
              0.1111111111111111,
              "#46039f"
             ],
             [
              0.2222222222222222,
              "#7201a8"
             ],
             [
              0.3333333333333333,
              "#9c179e"
             ],
             [
              0.4444444444444444,
              "#bd3786"
             ],
             [
              0.5555555555555556,
              "#d8576b"
             ],
             [
              0.6666666666666666,
              "#ed7953"
             ],
             [
              0.7777777777777778,
              "#fb9f3a"
             ],
             [
              0.8888888888888888,
              "#fdca26"
             ],
             [
              1,
              "#f0f921"
             ]
            ],
            "type": "surface"
           }
          ],
          "table": [
           {
            "cells": {
             "fill": {
              "color": "#EBF0F8"
             },
             "line": {
              "color": "white"
             }
            },
            "header": {
             "fill": {
              "color": "#C8D4E3"
             },
             "line": {
              "color": "white"
             }
            },
            "type": "table"
           }
          ]
         },
         "layout": {
          "annotationdefaults": {
           "arrowcolor": "#2a3f5f",
           "arrowhead": 0,
           "arrowwidth": 1
          },
          "autotypenumbers": "strict",
          "coloraxis": {
           "colorbar": {
            "outlinewidth": 0,
            "ticks": ""
           }
          },
          "colorscale": {
           "diverging": [
            [
             0,
             "#8e0152"
            ],
            [
             0.1,
             "#c51b7d"
            ],
            [
             0.2,
             "#de77ae"
            ],
            [
             0.3,
             "#f1b6da"
            ],
            [
             0.4,
             "#fde0ef"
            ],
            [
             0.5,
             "#f7f7f7"
            ],
            [
             0.6,
             "#e6f5d0"
            ],
            [
             0.7,
             "#b8e186"
            ],
            [
             0.8,
             "#7fbc41"
            ],
            [
             0.9,
             "#4d9221"
            ],
            [
             1,
             "#276419"
            ]
           ],
           "sequential": [
            [
             0,
             "#0d0887"
            ],
            [
             0.1111111111111111,
             "#46039f"
            ],
            [
             0.2222222222222222,
             "#7201a8"
            ],
            [
             0.3333333333333333,
             "#9c179e"
            ],
            [
             0.4444444444444444,
             "#bd3786"
            ],
            [
             0.5555555555555556,
             "#d8576b"
            ],
            [
             0.6666666666666666,
             "#ed7953"
            ],
            [
             0.7777777777777778,
             "#fb9f3a"
            ],
            [
             0.8888888888888888,
             "#fdca26"
            ],
            [
             1,
             "#f0f921"
            ]
           ],
           "sequentialminus": [
            [
             0,
             "#0d0887"
            ],
            [
             0.1111111111111111,
             "#46039f"
            ],
            [
             0.2222222222222222,
             "#7201a8"
            ],
            [
             0.3333333333333333,
             "#9c179e"
            ],
            [
             0.4444444444444444,
             "#bd3786"
            ],
            [
             0.5555555555555556,
             "#d8576b"
            ],
            [
             0.6666666666666666,
             "#ed7953"
            ],
            [
             0.7777777777777778,
             "#fb9f3a"
            ],
            [
             0.8888888888888888,
             "#fdca26"
            ],
            [
             1,
             "#f0f921"
            ]
           ]
          },
          "colorway": [
           "#636efa",
           "#EF553B",
           "#00cc96",
           "#ab63fa",
           "#FFA15A",
           "#19d3f3",
           "#FF6692",
           "#B6E880",
           "#FF97FF",
           "#FECB52"
          ],
          "font": {
           "color": "#2a3f5f"
          },
          "geo": {
           "bgcolor": "white",
           "lakecolor": "white",
           "landcolor": "#E5ECF6",
           "showlakes": true,
           "showland": true,
           "subunitcolor": "white"
          },
          "hoverlabel": {
           "align": "left"
          },
          "hovermode": "closest",
          "mapbox": {
           "style": "light"
          },
          "paper_bgcolor": "white",
          "plot_bgcolor": "#E5ECF6",
          "polar": {
           "angularaxis": {
            "gridcolor": "white",
            "linecolor": "white",
            "ticks": ""
           },
           "bgcolor": "#E5ECF6",
           "radialaxis": {
            "gridcolor": "white",
            "linecolor": "white",
            "ticks": ""
           }
          },
          "scene": {
           "xaxis": {
            "backgroundcolor": "#E5ECF6",
            "gridcolor": "white",
            "gridwidth": 2,
            "linecolor": "white",
            "showbackground": true,
            "ticks": "",
            "zerolinecolor": "white"
           },
           "yaxis": {
            "backgroundcolor": "#E5ECF6",
            "gridcolor": "white",
            "gridwidth": 2,
            "linecolor": "white",
            "showbackground": true,
            "ticks": "",
            "zerolinecolor": "white"
           },
           "zaxis": {
            "backgroundcolor": "#E5ECF6",
            "gridcolor": "white",
            "gridwidth": 2,
            "linecolor": "white",
            "showbackground": true,
            "ticks": "",
            "zerolinecolor": "white"
           }
          },
          "shapedefaults": {
           "line": {
            "color": "#2a3f5f"
           }
          },
          "ternary": {
           "aaxis": {
            "gridcolor": "white",
            "linecolor": "white",
            "ticks": ""
           },
           "baxis": {
            "gridcolor": "white",
            "linecolor": "white",
            "ticks": ""
           },
           "bgcolor": "#E5ECF6",
           "caxis": {
            "gridcolor": "white",
            "linecolor": "white",
            "ticks": ""
           }
          },
          "title": {
           "x": 0.05
          },
          "xaxis": {
           "automargin": true,
           "gridcolor": "white",
           "linecolor": "white",
           "ticks": "",
           "title": {
            "standoff": 15
           },
           "zerolinecolor": "white",
           "zerolinewidth": 2
          },
          "yaxis": {
           "automargin": true,
           "gridcolor": "white",
           "linecolor": "white",
           "ticks": "",
           "title": {
            "standoff": 15
           },
           "zerolinecolor": "white",
           "zerolinewidth": 2
          }
         }
        },
        "title": {
         "text": "<b>Fatores no Contexto Nacional</b>",
         "x": 0.5,
         "y": 0.99
        },
        "width": 1200
       }
      },
      "text/html": [
       "<div>                            <div id=\"08a0847e-553d-4941-9d8f-d1cb88120c31\" class=\"plotly-graph-div\" style=\"height:1000px; width:1200px;\"></div>            <script type=\"text/javascript\">                require([\"plotly\"], function(Plotly) {                    window.PLOTLYENV=window.PLOTLYENV || {};                                    if (document.getElementById(\"08a0847e-553d-4941-9d8f-d1cb88120c31\")) {                    Plotly.newPlot(                        \"08a0847e-553d-4941-9d8f-d1cb88120c31\",                        [{\"delta\":{\"increasing\":{\"color\":\"RebeccaPurple\"},\"reference\":3.66},\"domain\":{\"x\":[0.0,0.2888888888888889],\"y\":[0.80625,1.0]},\"gauge\":{\"axis\":{\"range\":[null,7],\"tickcolor\":\"darkblue\",\"tickwidth\":1},\"bar\":{\"color\":\"darkblue\"},\"bgcolor\":\"red\",\"bordercolor\":\"gray\",\"borderwidth\":2,\"steps\":[{\"color\":\"green\",\"range\":[0,3.66]},{\"color\":\"yellow\",\"range\":[3.66,5.33]},{\"color\":\"red\",\"range\":[5.33,7]}],\"threshold\":{\"line\":{\"color\":\"red\",\"width\":4},\"thickness\":0.75,\"value\":490}},\"mode\":\"gauge+number+delta\",\"title\":{\"font\":{\"size\":18},\"text\":\"Condi\\u00e7\\u00f5es Materiais da Escola\"},\"value\":1.4208984375,\"type\":\"indicator\"},{\"delta\":{\"increasing\":{\"color\":\"RebeccaPurple\"},\"reference\":2.01},\"domain\":{\"x\":[0.35555555555555557,0.6444444444444445],\"y\":[0.80625,1.0]},\"gauge\":{\"axis\":{\"range\":[null,7],\"tickcolor\":\"darkblue\",\"tickwidth\":1},\"bar\":{\"color\":\"darkblue\"},\"bgcolor\":\"red\",\"bordercolor\":\"gray\",\"borderwidth\":2,\"steps\":[{\"color\":\"green\",\"range\":[0,2.01]},{\"color\":\"yellow\",\"range\":[2.01,3.33]},{\"color\":\"red\",\"range\":[3.33,7]}],\"threshold\":{\"line\":{\"color\":\"red\",\"width\":4},\"thickness\":0.75,\"value\":490}},\"mode\":\"gauge+number+delta\",\"title\":{\"font\":{\"size\":18},\"text\":\"Condi\\u00e7\\u00f5es Materiais do Estudante\"},\"value\":1.7421875,\"type\":\"indicator\"},{\"delta\":{\"increasing\":{\"color\":\"RebeccaPurple\"},\"reference\":2.34},\"domain\":{\"x\":[0.7111111111111111,1.0],\"y\":[0.80625,1.0]},\"gauge\":{\"axis\":{\"range\":[null,7],\"tickcolor\":\"darkblue\",\"tickwidth\":1},\"bar\":{\"color\":\"darkblue\"},\"bgcolor\":\"red\",\"bordercolor\":\"gray\",\"borderwidth\":2,\"steps\":[{\"color\":\"green\",\"range\":[0,2.34]},{\"color\":\"yellow\",\"range\":[2.34,4.33]},{\"color\":\"red\",\"range\":[4.33,7]}],\"threshold\":{\"line\":{\"color\":\"red\",\"width\":4},\"thickness\":0.75,\"value\":490}},\"mode\":\"gauge+number+delta\",\"title\":{\"font\":{\"size\":18},\"text\":\"Inflexibilidade<br>Pedag\\u00f3gica\"},\"value\":1.2587890625,\"type\":\"indicator\"},{\"delta\":{\"increasing\":{\"color\":\"RebeccaPurple\"},\"reference\":2.34},\"domain\":{\"x\":[0.0,0.2888888888888889],\"y\":[0.5375,0.73125]},\"gauge\":{\"axis\":{\"range\":[null,7],\"tickcolor\":\"darkblue\",\"tickwidth\":1},\"bar\":{\"color\":\"darkblue\"},\"bgcolor\":\"red\",\"bordercolor\":\"gray\",\"borderwidth\":2,\"steps\":[{\"color\":\"green\",\"range\":[0,2.34]},{\"color\":\"yellow\",\"range\":[2.34,4.0]},{\"color\":\"red\",\"range\":[4.0,7]}],\"threshold\":{\"line\":{\"color\":\"red\",\"width\":4},\"thickness\":0.75,\"value\":490}},\"mode\":\"gauge+number+delta\",\"title\":{\"font\":{\"size\":18},\"text\":\"Qualidade<br>Pedag\\u00f3gica\"},\"value\":1.4619140625,\"type\":\"indicator\"},{\"delta\":{\"increasing\":{\"color\":\"RebeccaPurple\"},\"reference\":3.01},\"domain\":{\"x\":[0.35555555555555557,0.6444444444444445],\"y\":[0.5375,0.73125]},\"gauge\":{\"axis\":{\"range\":[null,7],\"tickcolor\":\"darkblue\",\"tickwidth\":1},\"bar\":{\"color\":\"darkblue\"},\"bgcolor\":\"red\",\"bordercolor\":\"gray\",\"borderwidth\":2,\"steps\":[{\"color\":\"green\",\"range\":[0,3.01]},{\"color\":\"yellow\",\"range\":[3.01,5.0]},{\"color\":\"red\",\"range\":[5.0,7]}],\"threshold\":{\"line\":{\"color\":\"red\",\"width\":4},\"thickness\":0.75,\"value\":490}},\"mode\":\"gauge+number+delta\",\"title\":{\"font\":{\"size\":18},\"text\":\"Suporte<br>Familiar\"},\"value\":1.3056640625,\"type\":\"indicator\"},{\"delta\":{\"increasing\":{\"color\":\"RebeccaPurple\"},\"reference\":3.34},\"domain\":{\"x\":[0.7111111111111111,1.0],\"y\":[0.5375,0.73125]},\"gauge\":{\"axis\":{\"range\":[null,7],\"tickcolor\":\"darkblue\",\"tickwidth\":1},\"bar\":{\"color\":\"darkblue\"},\"bgcolor\":\"red\",\"bordercolor\":\"gray\",\"borderwidth\":2,\"steps\":[{\"color\":\"green\",\"range\":[0,3.34]},{\"color\":\"yellow\",\"range\":[3.34,5.0]},{\"color\":\"red\",\"range\":[5.0,7]}],\"threshold\":{\"line\":{\"color\":\"red\",\"width\":4},\"thickness\":0.75,\"value\":490}},\"mode\":\"gauge+number+delta\",\"title\":{\"font\":{\"size\":18},\"text\":\"Gravidez-Parentalidade<br>Atividades Dom\\u00e9sticas de Cuidado\"},\"value\":1.37890625,\"type\":\"indicator\"},{\"delta\":{\"increasing\":{\"color\":\"RebeccaPurple\"},\"reference\":2.01},\"domain\":{\"x\":[0.0,0.2888888888888889],\"y\":[0.26875,0.4625]},\"gauge\":{\"axis\":{\"range\":[null,7],\"tickcolor\":\"darkblue\",\"tickwidth\":1},\"bar\":{\"color\":\"darkblue\"},\"bgcolor\":\"red\",\"bordercolor\":\"gray\",\"borderwidth\":2,\"steps\":[{\"color\":\"green\",\"range\":[0,2.01]},{\"color\":\"yellow\",\"range\":[2.01,3.66]},{\"color\":\"red\",\"range\":[3.66,7]}],\"threshold\":{\"line\":{\"color\":\"red\",\"width\":4},\"thickness\":0.75,\"value\":490}},\"mode\":\"gauge+number+delta\",\"title\":{\"font\":{\"size\":18},\"text\":\"Medidas Socioeducativas<br>Contextos de Viol\\u00eancia\"},\"value\":1.8203125,\"type\":\"indicator\"},{\"delta\":{\"increasing\":{\"color\":\"RebeccaPurple\"},\"reference\":2.01},\"domain\":{\"x\":[0.35555555555555557,0.6444444444444445],\"y\":[0.26875,0.4625]},\"gauge\":{\"axis\":{\"range\":[null,7],\"tickcolor\":\"darkblue\",\"tickwidth\":1},\"bar\":{\"color\":\"darkblue\"},\"bgcolor\":\"red\",\"bordercolor\":\"gray\",\"borderwidth\":2,\"steps\":[{\"color\":\"green\",\"range\":[0,2.01]},{\"color\":\"yellow\",\"range\":[2.01,3.66]},{\"color\":\"red\",\"range\":[3.66,7]}],\"threshold\":{\"line\":{\"color\":\"red\",\"width\":4},\"thickness\":0.75,\"value\":490}},\"mode\":\"gauge+number+delta\",\"title\":{\"font\":{\"size\":18},\"text\":\"Distanciamento<br>Escola-Comunidade\"},\"value\":1.4453125,\"type\":\"indicator\"},{\"delta\":{\"increasing\":{\"color\":\"RebeccaPurple\"},\"reference\":2.01},\"domain\":{\"x\":[0.7111111111111111,1.0],\"y\":[0.26875,0.4625]},\"gauge\":{\"axis\":{\"range\":[null,7],\"tickcolor\":\"darkblue\",\"tickwidth\":1},\"bar\":{\"color\":\"darkblue\"},\"bgcolor\":\"red\",\"bordercolor\":\"gray\",\"borderwidth\":2,\"steps\":[{\"color\":\"green\",\"range\":[0,2.01]},{\"color\":\"yellow\",\"range\":[2.01,3.66]},{\"color\":\"red\",\"range\":[3.66,7]}],\"threshold\":{\"line\":{\"color\":\"red\",\"width\":4},\"thickness\":0.75,\"value\":490}},\"mode\":\"gauge+number+delta\",\"title\":{\"font\":{\"size\":18},\"text\":\"Acessibilidade<br>Frequ\\u00eancia Escolar\"},\"value\":1.224609375,\"type\":\"indicator\"},{\"delta\":{\"increasing\":{\"color\":\"RebeccaPurple\"},\"reference\":2.01},\"domain\":{\"x\":[0.0,0.2888888888888889],\"y\":[0.0,0.19375]},\"gauge\":{\"axis\":{\"range\":[null,7],\"tickcolor\":\"darkblue\",\"tickwidth\":1},\"bar\":{\"color\":\"darkblue\"},\"bgcolor\":\"red\",\"bordercolor\":\"gray\",\"borderwidth\":2,\"steps\":[{\"color\":\"green\",\"range\":[0,2.01]},{\"color\":\"yellow\",\"range\":[2.01,4.0]},{\"color\":\"red\",\"range\":[4.0,7]}],\"threshold\":{\"line\":{\"color\":\"red\",\"width\":4},\"thickness\":0.75,\"value\":490}},\"mode\":\"gauge+number+delta\",\"title\":{\"font\":{\"size\":18},\"text\":\"Significados da Escolariza\\u00e7\\u00e3o\"},\"value\":1.2607421875,\"type\":\"indicator\"},{\"delta\":{\"increasing\":{\"color\":\"RebeccaPurple\"},\"reference\":2.34},\"domain\":{\"x\":[0.35555555555555557,0.6444444444444445],\"y\":[0.0,0.19375]},\"gauge\":{\"axis\":{\"range\":[null,7],\"tickcolor\":\"darkblue\",\"tickwidth\":1},\"bar\":{\"color\":\"darkblue\"},\"bgcolor\":\"red\",\"bordercolor\":\"gray\",\"borderwidth\":2,\"steps\":[{\"color\":\"green\",\"range\":[0,2.34]},{\"color\":\"yellow\",\"range\":[2.34,4.0]},{\"color\":\"red\",\"range\":[4.0,7]}],\"threshold\":{\"line\":{\"color\":\"red\",\"width\":4},\"thickness\":0.75,\"value\":490}},\"mode\":\"gauge+number+delta\",\"title\":{\"font\":{\"size\":18},\"text\":\"Aspectos Emocionais e Afetivos\"},\"value\":1.8447265625,\"type\":\"indicator\"},{\"delta\":{\"increasing\":{\"color\":\"RebeccaPurple\"},\"reference\":2.01},\"domain\":{\"x\":[0.7111111111111111,1.0],\"y\":[0.0,0.19375]},\"gauge\":{\"axis\":{\"range\":[null,7],\"tickcolor\":\"darkblue\",\"tickwidth\":1},\"bar\":{\"color\":\"darkblue\"},\"bgcolor\":\"red\",\"bordercolor\":\"gray\",\"borderwidth\":2,\"steps\":[{\"color\":\"green\",\"range\":[0,2.01]},{\"color\":\"yellow\",\"range\":[2.01,3.33]},{\"color\":\"red\",\"range\":[3.33,7]}],\"threshold\":{\"line\":{\"color\":\"red\",\"width\":4},\"thickness\":0.75,\"value\":490}},\"mode\":\"gauge+number+delta\",\"title\":{\"font\":{\"size\":18},\"text\":\"Reprova\\u00e7\\u00f5es e Distor\\u00e7\\u00e3o Idade-S\\u00e9rie\"},\"value\":1.384765625,\"type\":\"indicator\"}],                        {\"template\":{\"data\":{\"histogram2dcontour\":[{\"type\":\"histogram2dcontour\",\"colorbar\":{\"outlinewidth\":0,\"ticks\":\"\"},\"colorscale\":[[0.0,\"#0d0887\"],[0.1111111111111111,\"#46039f\"],[0.2222222222222222,\"#7201a8\"],[0.3333333333333333,\"#9c179e\"],[0.4444444444444444,\"#bd3786\"],[0.5555555555555556,\"#d8576b\"],[0.6666666666666666,\"#ed7953\"],[0.7777777777777778,\"#fb9f3a\"],[0.8888888888888888,\"#fdca26\"],[1.0,\"#f0f921\"]]}],\"choropleth\":[{\"type\":\"choropleth\",\"colorbar\":{\"outlinewidth\":0,\"ticks\":\"\"}}],\"histogram2d\":[{\"type\":\"histogram2d\",\"colorbar\":{\"outlinewidth\":0,\"ticks\":\"\"},\"colorscale\":[[0.0,\"#0d0887\"],[0.1111111111111111,\"#46039f\"],[0.2222222222222222,\"#7201a8\"],[0.3333333333333333,\"#9c179e\"],[0.4444444444444444,\"#bd3786\"],[0.5555555555555556,\"#d8576b\"],[0.6666666666666666,\"#ed7953\"],[0.7777777777777778,\"#fb9f3a\"],[0.8888888888888888,\"#fdca26\"],[1.0,\"#f0f921\"]]}],\"heatmap\":[{\"type\":\"heatmap\",\"colorbar\":{\"outlinewidth\":0,\"ticks\":\"\"},\"colorscale\":[[0.0,\"#0d0887\"],[0.1111111111111111,\"#46039f\"],[0.2222222222222222,\"#7201a8\"],[0.3333333333333333,\"#9c179e\"],[0.4444444444444444,\"#bd3786\"],[0.5555555555555556,\"#d8576b\"],[0.6666666666666666,\"#ed7953\"],[0.7777777777777778,\"#fb9f3a\"],[0.8888888888888888,\"#fdca26\"],[1.0,\"#f0f921\"]]}],\"heatmapgl\":[{\"type\":\"heatmapgl\",\"colorbar\":{\"outlinewidth\":0,\"ticks\":\"\"},\"colorscale\":[[0.0,\"#0d0887\"],[0.1111111111111111,\"#46039f\"],[0.2222222222222222,\"#7201a8\"],[0.3333333333333333,\"#9c179e\"],[0.4444444444444444,\"#bd3786\"],[0.5555555555555556,\"#d8576b\"],[0.6666666666666666,\"#ed7953\"],[0.7777777777777778,\"#fb9f3a\"],[0.8888888888888888,\"#fdca26\"],[1.0,\"#f0f921\"]]}],\"contourcarpet\":[{\"type\":\"contourcarpet\",\"colorbar\":{\"outlinewidth\":0,\"ticks\":\"\"}}],\"contour\":[{\"type\":\"contour\",\"colorbar\":{\"outlinewidth\":0,\"ticks\":\"\"},\"colorscale\":[[0.0,\"#0d0887\"],[0.1111111111111111,\"#46039f\"],[0.2222222222222222,\"#7201a8\"],[0.3333333333333333,\"#9c179e\"],[0.4444444444444444,\"#bd3786\"],[0.5555555555555556,\"#d8576b\"],[0.6666666666666666,\"#ed7953\"],[0.7777777777777778,\"#fb9f3a\"],[0.8888888888888888,\"#fdca26\"],[1.0,\"#f0f921\"]]}],\"surface\":[{\"type\":\"surface\",\"colorbar\":{\"outlinewidth\":0,\"ticks\":\"\"},\"colorscale\":[[0.0,\"#0d0887\"],[0.1111111111111111,\"#46039f\"],[0.2222222222222222,\"#7201a8\"],[0.3333333333333333,\"#9c179e\"],[0.4444444444444444,\"#bd3786\"],[0.5555555555555556,\"#d8576b\"],[0.6666666666666666,\"#ed7953\"],[0.7777777777777778,\"#fb9f3a\"],[0.8888888888888888,\"#fdca26\"],[1.0,\"#f0f921\"]]}],\"mesh3d\":[{\"type\":\"mesh3d\",\"colorbar\":{\"outlinewidth\":0,\"ticks\":\"\"}}],\"scatter\":[{\"fillpattern\":{\"fillmode\":\"overlay\",\"size\":10,\"solidity\":0.2},\"type\":\"scatter\"}],\"parcoords\":[{\"type\":\"parcoords\",\"line\":{\"colorbar\":{\"outlinewidth\":0,\"ticks\":\"\"}}}],\"scatterpolargl\":[{\"type\":\"scatterpolargl\",\"marker\":{\"colorbar\":{\"outlinewidth\":0,\"ticks\":\"\"}}}],\"bar\":[{\"error_x\":{\"color\":\"#2a3f5f\"},\"error_y\":{\"color\":\"#2a3f5f\"},\"marker\":{\"line\":{\"color\":\"#E5ECF6\",\"width\":0.5},\"pattern\":{\"fillmode\":\"overlay\",\"size\":10,\"solidity\":0.2}},\"type\":\"bar\"}],\"scattergeo\":[{\"type\":\"scattergeo\",\"marker\":{\"colorbar\":{\"outlinewidth\":0,\"ticks\":\"\"}}}],\"scatterpolar\":[{\"type\":\"scatterpolar\",\"marker\":{\"colorbar\":{\"outlinewidth\":0,\"ticks\":\"\"}}}],\"histogram\":[{\"marker\":{\"pattern\":{\"fillmode\":\"overlay\",\"size\":10,\"solidity\":0.2}},\"type\":\"histogram\"}],\"scattergl\":[{\"type\":\"scattergl\",\"marker\":{\"colorbar\":{\"outlinewidth\":0,\"ticks\":\"\"}}}],\"scatter3d\":[{\"type\":\"scatter3d\",\"line\":{\"colorbar\":{\"outlinewidth\":0,\"ticks\":\"\"}},\"marker\":{\"colorbar\":{\"outlinewidth\":0,\"ticks\":\"\"}}}],\"scattermapbox\":[{\"type\":\"scattermapbox\",\"marker\":{\"colorbar\":{\"outlinewidth\":0,\"ticks\":\"\"}}}],\"scatterternary\":[{\"type\":\"scatterternary\",\"marker\":{\"colorbar\":{\"outlinewidth\":0,\"ticks\":\"\"}}}],\"scattercarpet\":[{\"type\":\"scattercarpet\",\"marker\":{\"colorbar\":{\"outlinewidth\":0,\"ticks\":\"\"}}}],\"carpet\":[{\"aaxis\":{\"endlinecolor\":\"#2a3f5f\",\"gridcolor\":\"white\",\"linecolor\":\"white\",\"minorgridcolor\":\"white\",\"startlinecolor\":\"#2a3f5f\"},\"baxis\":{\"endlinecolor\":\"#2a3f5f\",\"gridcolor\":\"white\",\"linecolor\":\"white\",\"minorgridcolor\":\"white\",\"startlinecolor\":\"#2a3f5f\"},\"type\":\"carpet\"}],\"table\":[{\"cells\":{\"fill\":{\"color\":\"#EBF0F8\"},\"line\":{\"color\":\"white\"}},\"header\":{\"fill\":{\"color\":\"#C8D4E3\"},\"line\":{\"color\":\"white\"}},\"type\":\"table\"}],\"barpolar\":[{\"marker\":{\"line\":{\"color\":\"#E5ECF6\",\"width\":0.5},\"pattern\":{\"fillmode\":\"overlay\",\"size\":10,\"solidity\":0.2}},\"type\":\"barpolar\"}],\"pie\":[{\"automargin\":true,\"type\":\"pie\"}]},\"layout\":{\"autotypenumbers\":\"strict\",\"colorway\":[\"#636efa\",\"#EF553B\",\"#00cc96\",\"#ab63fa\",\"#FFA15A\",\"#19d3f3\",\"#FF6692\",\"#B6E880\",\"#FF97FF\",\"#FECB52\"],\"font\":{\"color\":\"#2a3f5f\"},\"hovermode\":\"closest\",\"hoverlabel\":{\"align\":\"left\"},\"paper_bgcolor\":\"white\",\"plot_bgcolor\":\"#E5ECF6\",\"polar\":{\"bgcolor\":\"#E5ECF6\",\"angularaxis\":{\"gridcolor\":\"white\",\"linecolor\":\"white\",\"ticks\":\"\"},\"radialaxis\":{\"gridcolor\":\"white\",\"linecolor\":\"white\",\"ticks\":\"\"}},\"ternary\":{\"bgcolor\":\"#E5ECF6\",\"aaxis\":{\"gridcolor\":\"white\",\"linecolor\":\"white\",\"ticks\":\"\"},\"baxis\":{\"gridcolor\":\"white\",\"linecolor\":\"white\",\"ticks\":\"\"},\"caxis\":{\"gridcolor\":\"white\",\"linecolor\":\"white\",\"ticks\":\"\"}},\"coloraxis\":{\"colorbar\":{\"outlinewidth\":0,\"ticks\":\"\"}},\"colorscale\":{\"sequential\":[[0.0,\"#0d0887\"],[0.1111111111111111,\"#46039f\"],[0.2222222222222222,\"#7201a8\"],[0.3333333333333333,\"#9c179e\"],[0.4444444444444444,\"#bd3786\"],[0.5555555555555556,\"#d8576b\"],[0.6666666666666666,\"#ed7953\"],[0.7777777777777778,\"#fb9f3a\"],[0.8888888888888888,\"#fdca26\"],[1.0,\"#f0f921\"]],\"sequentialminus\":[[0.0,\"#0d0887\"],[0.1111111111111111,\"#46039f\"],[0.2222222222222222,\"#7201a8\"],[0.3333333333333333,\"#9c179e\"],[0.4444444444444444,\"#bd3786\"],[0.5555555555555556,\"#d8576b\"],[0.6666666666666666,\"#ed7953\"],[0.7777777777777778,\"#fb9f3a\"],[0.8888888888888888,\"#fdca26\"],[1.0,\"#f0f921\"]],\"diverging\":[[0,\"#8e0152\"],[0.1,\"#c51b7d\"],[0.2,\"#de77ae\"],[0.3,\"#f1b6da\"],[0.4,\"#fde0ef\"],[0.5,\"#f7f7f7\"],[0.6,\"#e6f5d0\"],[0.7,\"#b8e186\"],[0.8,\"#7fbc41\"],[0.9,\"#4d9221\"],[1,\"#276419\"]]},\"xaxis\":{\"gridcolor\":\"white\",\"linecolor\":\"white\",\"ticks\":\"\",\"title\":{\"standoff\":15},\"zerolinecolor\":\"white\",\"automargin\":true,\"zerolinewidth\":2},\"yaxis\":{\"gridcolor\":\"white\",\"linecolor\":\"white\",\"ticks\":\"\",\"title\":{\"standoff\":15},\"zerolinecolor\":\"white\",\"automargin\":true,\"zerolinewidth\":2},\"scene\":{\"xaxis\":{\"backgroundcolor\":\"#E5ECF6\",\"gridcolor\":\"white\",\"linecolor\":\"white\",\"showbackground\":true,\"ticks\":\"\",\"zerolinecolor\":\"white\",\"gridwidth\":2},\"yaxis\":{\"backgroundcolor\":\"#E5ECF6\",\"gridcolor\":\"white\",\"linecolor\":\"white\",\"showbackground\":true,\"ticks\":\"\",\"zerolinecolor\":\"white\",\"gridwidth\":2},\"zaxis\":{\"backgroundcolor\":\"#E5ECF6\",\"gridcolor\":\"white\",\"linecolor\":\"white\",\"showbackground\":true,\"ticks\":\"\",\"zerolinecolor\":\"white\",\"gridwidth\":2}},\"shapedefaults\":{\"line\":{\"color\":\"#2a3f5f\"}},\"annotationdefaults\":{\"arrowcolor\":\"#2a3f5f\",\"arrowhead\":0,\"arrowwidth\":1},\"geo\":{\"bgcolor\":\"white\",\"landcolor\":\"#E5ECF6\",\"subunitcolor\":\"white\",\"showland\":true,\"showlakes\":true,\"lakecolor\":\"white\"},\"title\":{\"x\":0.05},\"mapbox\":{\"style\":\"light\"}}},\"title\":{\"y\":0.99,\"x\":0.5,\"text\":\"<b>Fatores no Contexto Nacional</b>\"},\"height\":1000,\"width\":1200},                        {\"responsive\": true}                    ).then(function(){\n",
       "                            \n",
       "var gd = document.getElementById('08a0847e-553d-4941-9d8f-d1cb88120c31');\n",
       "var x = new MutationObserver(function (mutations, observer) {{\n",
       "        var display = window.getComputedStyle(gd).display;\n",
       "        if (!display || display === 'none') {{\n",
       "            console.log([gd, 'removed!']);\n",
       "            Plotly.purge(gd);\n",
       "            observer.disconnect();\n",
       "        }}\n",
       "}});\n",
       "\n",
       "// Listen for the removal of the full notebook cells\n",
       "var notebookContainer = gd.closest('#notebook-container');\n",
       "if (notebookContainer) {{\n",
       "    x.observe(notebookContainer, {childList: true});\n",
       "}}\n",
       "\n",
       "// Listen for the clearing of the current output cell\n",
       "var outputEl = gd.closest('.output');\n",
       "if (outputEl) {{\n",
       "    x.observe(outputEl, {childList: true});\n",
       "}}\n",
       "\n",
       "                        })                };                });            </script>        </div>"
      ]
     },
     "metadata": {},
     "output_type": "display_data"
    }
   ],
   "source": [
    "fig = velocimetro_fator()\n",
    "fig.show()"
   ]
  },
  {
   "cell_type": "code",
   "execution_count": null,
   "id": "1e020647",
   "metadata": {},
   "outputs": [],
   "source": []
  }
 ],
 "metadata": {
  "kernelspec": {
   "display_name": "Python 3 (ipykernel)",
   "language": "python",
   "name": "python3"
  },
  "language_info": {
   "codemirror_mode": {
    "name": "ipython",
    "version": 3
   },
   "file_extension": ".py",
   "mimetype": "text/x-python",
   "name": "python",
   "nbconvert_exporter": "python",
   "pygments_lexer": "ipython3",
   "version": "3.9.13"
  }
 },
 "nbformat": 4,
 "nbformat_minor": 5
}
