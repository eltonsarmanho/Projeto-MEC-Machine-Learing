{
 "cells": [
  {
   "cell_type": "code",
   "execution_count": 2,
   "id": "disabled-prayer",
   "metadata": {},
   "outputs": [],
   "source": [
    "import pandas as pd\n",
    "import os\n",
    "\n",
    "import plotly.graph_objects as go\n",
    "import plotly.express as px\n",
    "from plotly.subplots import make_subplots\n",
    "import plotly.figure_factory as ff\n",
    "\n",
    "from urllib.request import urlopen\n",
    "\n",
    "#import json\n",
    "import psycopg2"
   ]
  },
  {
   "cell_type": "code",
   "execution_count": 3,
   "id": "common-impression",
   "metadata": {},
   "outputs": [],
   "source": [
    "File = os.path.join('D:',os.sep,'IG Data', 'escolasLatitude.csv')\n",
    "#File = os.path.join('C:',os.sep,'Users', 'emanuelqueiroga', 'scripts', 'data' , 'escolasLatitude.csv')\n",
    "df = pd.read_csv(File, sep=';')"
   ]
  },
  {
   "cell_type": "code",
   "execution_count": 4,
   "id": "proud-blank",
   "metadata": {},
   "outputs": [],
   "source": [
    "conn = psycopg2.connect(host=\"35.247.202.234\",database=\"dw\",user=\"consulta\",password=\"teste123\")\n",
    "query = \"\"\"\n",
    "select * from public.dimensoes_est de\n",
    "inner join escolas.aluno a \n",
    "on de.id_aluno = a.id_aluno \n",
    "inner join escolas.turma t \n",
    "on a.id_turma = t.id_turma \n",
    "inner join escolas.escola e \n",
    "on t.id_escola = e.cod_escola;\n",
    "\"\"\"\n",
    "df2 = pd.read_sql(query,conn)\n",
    "conn.close() #close the connection"
   ]
  },
  {
   "cell_type": "code",
   "execution_count": null,
   "id": "institutional-tuesday",
   "metadata": {},
   "outputs": [],
   "source": []
  },
  {
   "cell_type": "code",
   "execution_count": null,
   "id": "detected-fifteen",
   "metadata": {},
   "outputs": [],
   "source": []
  },
  {
   "cell_type": "code",
   "execution_count": 7,
   "id": "uniform-sheriff",
   "metadata": {},
   "outputs": [
    {
     "data": {
      "text/plain": [
       "['id',\n",
       " 'id_aluno',\n",
       " 'E_ESCV',\n",
       " 'E_PROFV',\n",
       " 'E_FAMV',\n",
       " 'E_COMV',\n",
       " 'E_ESTV',\n",
       " 'E_ESCC',\n",
       " 'E_PROFC',\n",
       " 'E_FAMC',\n",
       " 'E_COMC',\n",
       " 'E_ESTC',\n",
       " 'created_date',\n",
       " 'updated_date',\n",
       " 'id_aluno',\n",
       " 'id_turma',\n",
       " 'cod_matricula',\n",
       " 'nome_turma',\n",
       " 'nome_aluno',\n",
       " 'tp_sexo',\n",
       " 'id_turma',\n",
       " 'id_escola',\n",
       " 'nome_turma',\n",
       " 'modo_ensino',\n",
       " 'etapa_ensino',\n",
       " 'ano_turma',\n",
       " 'data_criacao',\n",
       " 'resticao_de_atendimento',\n",
       " 'escola',\n",
       " 'cod_escola',\n",
       " 'uf',\n",
       " 'municipio',\n",
       " 'localizacao',\n",
       " 'localidade_diferenciada',\n",
       " 'categoria_administrativa',\n",
       " 'endereco',\n",
       " 'telefone',\n",
       " 'dependencia_administrativa',\n",
       " 'categoria_escola',\n",
       " 'conveniada_poder_publico',\n",
       " 'regulamentacao_conselho',\n",
       " 'porte',\n",
       " 'etapas_e_modalidade_ensino',\n",
       " 'outras_ofertas',\n",
       " 'cod_regiao',\n",
       " 'micro',\n",
       " 'meso',\n",
       " 'regiao',\n",
       " 'cod_estado']"
      ]
     },
     "execution_count": 7,
     "metadata": {},
     "output_type": "execute_result"
    }
   ],
   "source": [
    "list(df2)"
   ]
  },
  {
   "cell_type": "code",
   "execution_count": 12,
   "id": "embedded-department",
   "metadata": {},
   "outputs": [
    {
     "data": {
      "text/html": [
       "<div>\n",
       "<style scoped>\n",
       "    .dataframe tbody tr th:only-of-type {\n",
       "        vertical-align: middle;\n",
       "    }\n",
       "\n",
       "    .dataframe tbody tr th {\n",
       "        vertical-align: top;\n",
       "    }\n",
       "\n",
       "    .dataframe thead th {\n",
       "        text-align: right;\n",
       "    }\n",
       "</style>\n",
       "<table border=\"1\" class=\"dataframe\">\n",
       "  <thead>\n",
       "    <tr style=\"text-align: right;\">\n",
       "      <th></th>\n",
       "      <th>id_escola</th>\n",
       "      <th>Quant. Estudantes</th>\n",
       "    </tr>\n",
       "  </thead>\n",
       "  <tbody>\n",
       "    <tr>\n",
       "      <th>0</th>\n",
       "      <td>15562158</td>\n",
       "      <td>28</td>\n",
       "    </tr>\n",
       "    <tr>\n",
       "      <th>1</th>\n",
       "      <td>15547574</td>\n",
       "      <td>18</td>\n",
       "    </tr>\n",
       "    <tr>\n",
       "      <th>2</th>\n",
       "      <td>15070387</td>\n",
       "      <td>14</td>\n",
       "    </tr>\n",
       "    <tr>\n",
       "      <th>3</th>\n",
       "      <td>23095776</td>\n",
       "      <td>1</td>\n",
       "    </tr>\n",
       "    <tr>\n",
       "      <th>4</th>\n",
       "      <td>11000937</td>\n",
       "      <td>1</td>\n",
       "    </tr>\n",
       "  </tbody>\n",
       "</table>\n",
       "</div>"
      ],
      "text/plain": [
       "   id_escola  Quant. Estudantes\n",
       "0   15562158                 28\n",
       "1   15547574                 18\n",
       "2   15070387                 14\n",
       "3   23095776                  1\n",
       "4   11000937                  1"
      ]
     },
     "execution_count": 12,
     "metadata": {},
     "output_type": "execute_result"
    }
   ],
   "source": [
    "df_escolas = df2['id_escola'].value_counts()\n",
    "df_escolas = df_escolas.reset_index()\n",
    "df_escolas.columns = ['id_escola', 'Quant. Estudantes']\n",
    "df_escolas"
   ]
  },
  {
   "cell_type": "code",
   "execution_count": 20,
   "id": "through-blast",
   "metadata": {},
   "outputs": [
    {
     "data": {
      "text/plain": [
       "5"
      ]
     },
     "execution_count": 20,
     "metadata": {},
     "output_type": "execute_result"
    }
   ],
   "source": [
    "df2['id_escola'].nunique()"
   ]
  },
  {
   "cell_type": "code",
   "execution_count": 24,
   "id": "micro-thompson",
   "metadata": {},
   "outputs": [
    {
     "data": {
      "text/html": [
       "<div>\n",
       "<style scoped>\n",
       "    .dataframe tbody tr th:only-of-type {\n",
       "        vertical-align: middle;\n",
       "    }\n",
       "\n",
       "    .dataframe tbody tr th {\n",
       "        vertical-align: top;\n",
       "    }\n",
       "\n",
       "    .dataframe thead th {\n",
       "        text-align: right;\n",
       "    }\n",
       "</style>\n",
       "<table border=\"1\" class=\"dataframe\">\n",
       "  <thead>\n",
       "    <tr style=\"text-align: right;\">\n",
       "      <th></th>\n",
       "      <th>id</th>\n",
       "      <th>id_aluno</th>\n",
       "      <th>E_ESCV</th>\n",
       "      <th>E_PROFV</th>\n",
       "      <th>E_FAMV</th>\n",
       "      <th>E_COMV</th>\n",
       "      <th>E_ESTV</th>\n",
       "      <th>E_ESCC</th>\n",
       "      <th>E_PROFC</th>\n",
       "      <th>E_FAMC</th>\n",
       "      <th>...</th>\n",
       "      <th>conveniada_poder_publico</th>\n",
       "      <th>regulamentacao_conselho</th>\n",
       "      <th>porte</th>\n",
       "      <th>etapas_e_modalidade_ensino</th>\n",
       "      <th>outras_ofertas</th>\n",
       "      <th>cod_regiao</th>\n",
       "      <th>micro</th>\n",
       "      <th>meso</th>\n",
       "      <th>regiao</th>\n",
       "      <th>cod_estado</th>\n",
       "    </tr>\n",
       "  </thead>\n",
       "  <tbody>\n",
       "    <tr>\n",
       "      <th>0</th>\n",
       "      <td>62</td>\n",
       "      <td>14799</td>\n",
       "      <td>0.00</td>\n",
       "      <td>0.00</td>\n",
       "      <td>0.00</td>\n",
       "      <td>0.00</td>\n",
       "      <td>0.00</td>\n",
       "      <td>1</td>\n",
       "      <td>1</td>\n",
       "      <td>1</td>\n",
       "      <td>...</td>\n",
       "      <td>Não</td>\n",
       "      <td>Sim</td>\n",
       "      <td>Entre 501 e 1000 matrículas de escolarização</td>\n",
       "      <td>Ensino Fundamental, Educação de Jovens Adultos</td>\n",
       "      <td>None</td>\n",
       "      <td>3</td>\n",
       "      <td>ALVORADA D'OESTE</td>\n",
       "      <td>LESTE RONDONIENSE</td>\n",
       "      <td>Norte</td>\n",
       "      <td>11</td>\n",
       "    </tr>\n",
       "    <tr>\n",
       "      <th>1</th>\n",
       "      <td>31</td>\n",
       "      <td>19175</td>\n",
       "      <td>2.00</td>\n",
       "      <td>1.00</td>\n",
       "      <td>2.00</td>\n",
       "      <td>1.00</td>\n",
       "      <td>1.78</td>\n",
       "      <td>1</td>\n",
       "      <td>1</td>\n",
       "      <td>1</td>\n",
       "      <td>...</td>\n",
       "      <td>Não</td>\n",
       "      <td>Sim</td>\n",
       "      <td>Entre 201 e 500 matrículas de escolarização</td>\n",
       "      <td>Ensino Fundamental</td>\n",
       "      <td>Atendimento Educacional Especializado</td>\n",
       "      <td>3</td>\n",
       "      <td>ALMEIRIM</td>\n",
       "      <td>BAIXO AMAZONAS</td>\n",
       "      <td>Norte</td>\n",
       "      <td>15</td>\n",
       "    </tr>\n",
       "    <tr>\n",
       "      <th>2</th>\n",
       "      <td>30</td>\n",
       "      <td>19174</td>\n",
       "      <td>2.50</td>\n",
       "      <td>1.00</td>\n",
       "      <td>3.50</td>\n",
       "      <td>1.89</td>\n",
       "      <td>2.89</td>\n",
       "      <td>1</td>\n",
       "      <td>1</td>\n",
       "      <td>2</td>\n",
       "      <td>...</td>\n",
       "      <td>Não</td>\n",
       "      <td>Sim</td>\n",
       "      <td>Entre 201 e 500 matrículas de escolarização</td>\n",
       "      <td>Ensino Fundamental</td>\n",
       "      <td>Atendimento Educacional Especializado</td>\n",
       "      <td>3</td>\n",
       "      <td>ALMEIRIM</td>\n",
       "      <td>BAIXO AMAZONAS</td>\n",
       "      <td>Norte</td>\n",
       "      <td>15</td>\n",
       "    </tr>\n",
       "    <tr>\n",
       "      <th>3</th>\n",
       "      <td>29</td>\n",
       "      <td>19152</td>\n",
       "      <td>2.00</td>\n",
       "      <td>1.50</td>\n",
       "      <td>3.33</td>\n",
       "      <td>1.89</td>\n",
       "      <td>2.89</td>\n",
       "      <td>1</td>\n",
       "      <td>1</td>\n",
       "      <td>1</td>\n",
       "      <td>...</td>\n",
       "      <td>Não</td>\n",
       "      <td>Sim</td>\n",
       "      <td>Entre 201 e 500 matrículas de escolarização</td>\n",
       "      <td>Ensino Fundamental</td>\n",
       "      <td>Atendimento Educacional Especializado</td>\n",
       "      <td>3</td>\n",
       "      <td>ALMEIRIM</td>\n",
       "      <td>BAIXO AMAZONAS</td>\n",
       "      <td>Norte</td>\n",
       "      <td>15</td>\n",
       "    </tr>\n",
       "    <tr>\n",
       "      <th>4</th>\n",
       "      <td>28</td>\n",
       "      <td>19150</td>\n",
       "      <td>4.00</td>\n",
       "      <td>1.00</td>\n",
       "      <td>1.00</td>\n",
       "      <td>1.00</td>\n",
       "      <td>1.67</td>\n",
       "      <td>2</td>\n",
       "      <td>1</td>\n",
       "      <td>1</td>\n",
       "      <td>...</td>\n",
       "      <td>Não</td>\n",
       "      <td>Sim</td>\n",
       "      <td>Entre 201 e 500 matrículas de escolarização</td>\n",
       "      <td>Ensino Fundamental</td>\n",
       "      <td>Atendimento Educacional Especializado</td>\n",
       "      <td>3</td>\n",
       "      <td>ALMEIRIM</td>\n",
       "      <td>BAIXO AMAZONAS</td>\n",
       "      <td>Norte</td>\n",
       "      <td>15</td>\n",
       "    </tr>\n",
       "    <tr>\n",
       "      <th>...</th>\n",
       "      <td>...</td>\n",
       "      <td>...</td>\n",
       "      <td>...</td>\n",
       "      <td>...</td>\n",
       "      <td>...</td>\n",
       "      <td>...</td>\n",
       "      <td>...</td>\n",
       "      <td>...</td>\n",
       "      <td>...</td>\n",
       "      <td>...</td>\n",
       "      <td>...</td>\n",
       "      <td>...</td>\n",
       "      <td>...</td>\n",
       "      <td>...</td>\n",
       "      <td>...</td>\n",
       "      <td>...</td>\n",
       "      <td>...</td>\n",
       "      <td>...</td>\n",
       "      <td>...</td>\n",
       "      <td>...</td>\n",
       "      <td>...</td>\n",
       "    </tr>\n",
       "    <tr>\n",
       "      <th>57</th>\n",
       "      <td>24</td>\n",
       "      <td>19010</td>\n",
       "      <td>2.33</td>\n",
       "      <td>3.00</td>\n",
       "      <td>4.17</td>\n",
       "      <td>2.78</td>\n",
       "      <td>3.56</td>\n",
       "      <td>1</td>\n",
       "      <td>2</td>\n",
       "      <td>2</td>\n",
       "      <td>...</td>\n",
       "      <td>Não</td>\n",
       "      <td>Sim</td>\n",
       "      <td>Entre 201 e 500 matrículas de escolarização</td>\n",
       "      <td>Ensino Fundamental, Educação de Jovens Adultos</td>\n",
       "      <td>Atendimento Educacional Especializado</td>\n",
       "      <td>3</td>\n",
       "      <td>ALMEIRIM</td>\n",
       "      <td>BAIXO AMAZONAS</td>\n",
       "      <td>Norte</td>\n",
       "      <td>15</td>\n",
       "    </tr>\n",
       "    <tr>\n",
       "      <th>58</th>\n",
       "      <td>23</td>\n",
       "      <td>18999</td>\n",
       "      <td>1.00</td>\n",
       "      <td>3.00</td>\n",
       "      <td>3.83</td>\n",
       "      <td>1.67</td>\n",
       "      <td>2.89</td>\n",
       "      <td>1</td>\n",
       "      <td>2</td>\n",
       "      <td>2</td>\n",
       "      <td>...</td>\n",
       "      <td>Não</td>\n",
       "      <td>Sim</td>\n",
       "      <td>Entre 201 e 500 matrículas de escolarização</td>\n",
       "      <td>Ensino Fundamental, Educação de Jovens Adultos</td>\n",
       "      <td>Atendimento Educacional Especializado</td>\n",
       "      <td>3</td>\n",
       "      <td>ALMEIRIM</td>\n",
       "      <td>BAIXO AMAZONAS</td>\n",
       "      <td>Norte</td>\n",
       "      <td>15</td>\n",
       "    </tr>\n",
       "    <tr>\n",
       "      <th>59</th>\n",
       "      <td>22</td>\n",
       "      <td>18994</td>\n",
       "      <td>1.00</td>\n",
       "      <td>2.33</td>\n",
       "      <td>4.33</td>\n",
       "      <td>3.22</td>\n",
       "      <td>4.67</td>\n",
       "      <td>1</td>\n",
       "      <td>1</td>\n",
       "      <td>3</td>\n",
       "      <td>...</td>\n",
       "      <td>Não</td>\n",
       "      <td>Sim</td>\n",
       "      <td>Entre 201 e 500 matrículas de escolarização</td>\n",
       "      <td>Ensino Fundamental, Educação de Jovens Adultos</td>\n",
       "      <td>Atendimento Educacional Especializado</td>\n",
       "      <td>3</td>\n",
       "      <td>ALMEIRIM</td>\n",
       "      <td>BAIXO AMAZONAS</td>\n",
       "      <td>Norte</td>\n",
       "      <td>15</td>\n",
       "    </tr>\n",
       "    <tr>\n",
       "      <th>60</th>\n",
       "      <td>21</td>\n",
       "      <td>18993</td>\n",
       "      <td>2.67</td>\n",
       "      <td>1.50</td>\n",
       "      <td>1.83</td>\n",
       "      <td>2.00</td>\n",
       "      <td>3.56</td>\n",
       "      <td>1</td>\n",
       "      <td>1</td>\n",
       "      <td>1</td>\n",
       "      <td>...</td>\n",
       "      <td>Não</td>\n",
       "      <td>Sim</td>\n",
       "      <td>Entre 201 e 500 matrículas de escolarização</td>\n",
       "      <td>Ensino Fundamental, Educação de Jovens Adultos</td>\n",
       "      <td>Atendimento Educacional Especializado</td>\n",
       "      <td>3</td>\n",
       "      <td>ALMEIRIM</td>\n",
       "      <td>BAIXO AMAZONAS</td>\n",
       "      <td>Norte</td>\n",
       "      <td>15</td>\n",
       "    </tr>\n",
       "    <tr>\n",
       "      <th>61</th>\n",
       "      <td>1</td>\n",
       "      <td>4734</td>\n",
       "      <td>4.75</td>\n",
       "      <td>3.00</td>\n",
       "      <td>4.67</td>\n",
       "      <td>4.33</td>\n",
       "      <td>3.83</td>\n",
       "      <td>3</td>\n",
       "      <td>2</td>\n",
       "      <td>3</td>\n",
       "      <td>...</td>\n",
       "      <td>Não</td>\n",
       "      <td>Sim</td>\n",
       "      <td>Entre 51 e 200 matrículas de escolarização</td>\n",
       "      <td>Ensino Fundamental</td>\n",
       "      <td>Atendimento Educacional Especializado, Ativida...</td>\n",
       "      <td>2</td>\n",
       "      <td>BAIXO CURU</td>\n",
       "      <td>CENTRO-SUL CEARENSE</td>\n",
       "      <td>Nordeste</td>\n",
       "      <td>23</td>\n",
       "    </tr>\n",
       "  </tbody>\n",
       "</table>\n",
       "<p>62 rows × 49 columns</p>\n",
       "</div>"
      ],
      "text/plain": [
       "    id  id_aluno  E_ESCV  E_PROFV  E_FAMV  E_COMV  E_ESTV E_ESCC E_PROFC  \\\n",
       "0   62     14799    0.00     0.00    0.00    0.00    0.00      1       1   \n",
       "1   31     19175    2.00     1.00    2.00    1.00    1.78      1       1   \n",
       "2   30     19174    2.50     1.00    3.50    1.89    2.89      1       1   \n",
       "3   29     19152    2.00     1.50    3.33    1.89    2.89      1       1   \n",
       "4   28     19150    4.00     1.00    1.00    1.00    1.67      2       1   \n",
       "..  ..       ...     ...      ...     ...     ...     ...    ...     ...   \n",
       "57  24     19010    2.33     3.00    4.17    2.78    3.56      1       2   \n",
       "58  23     18999    1.00     3.00    3.83    1.67    2.89      1       2   \n",
       "59  22     18994    1.00     2.33    4.33    3.22    4.67      1       1   \n",
       "60  21     18993    2.67     1.50    1.83    2.00    3.56      1       1   \n",
       "61   1      4734    4.75     3.00    4.67    4.33    3.83      3       2   \n",
       "\n",
       "   E_FAMC  ... conveniada_poder_publico regulamentacao_conselho  \\\n",
       "0       1  ...                      Não                     Sim   \n",
       "1       1  ...                      Não                     Sim   \n",
       "2       2  ...                      Não                     Sim   \n",
       "3       1  ...                      Não                     Sim   \n",
       "4       1  ...                      Não                     Sim   \n",
       "..    ...  ...                      ...                     ...   \n",
       "57      2  ...                      Não                     Sim   \n",
       "58      2  ...                      Não                     Sim   \n",
       "59      3  ...                      Não                     Sim   \n",
       "60      1  ...                      Não                     Sim   \n",
       "61      3  ...                      Não                     Sim   \n",
       "\n",
       "                                           porte  \\\n",
       "0   Entre 501 e 1000 matrículas de escolarização   \n",
       "1    Entre 201 e 500 matrículas de escolarização   \n",
       "2    Entre 201 e 500 matrículas de escolarização   \n",
       "3    Entre 201 e 500 matrículas de escolarização   \n",
       "4    Entre 201 e 500 matrículas de escolarização   \n",
       "..                                           ...   \n",
       "57   Entre 201 e 500 matrículas de escolarização   \n",
       "58   Entre 201 e 500 matrículas de escolarização   \n",
       "59   Entre 201 e 500 matrículas de escolarização   \n",
       "60   Entre 201 e 500 matrículas de escolarização   \n",
       "61    Entre 51 e 200 matrículas de escolarização   \n",
       "\n",
       "                        etapas_e_modalidade_ensino  \\\n",
       "0   Ensino Fundamental, Educação de Jovens Adultos   \n",
       "1                               Ensino Fundamental   \n",
       "2                               Ensino Fundamental   \n",
       "3                               Ensino Fundamental   \n",
       "4                               Ensino Fundamental   \n",
       "..                                             ...   \n",
       "57  Ensino Fundamental, Educação de Jovens Adultos   \n",
       "58  Ensino Fundamental, Educação de Jovens Adultos   \n",
       "59  Ensino Fundamental, Educação de Jovens Adultos   \n",
       "60  Ensino Fundamental, Educação de Jovens Adultos   \n",
       "61                              Ensino Fundamental   \n",
       "\n",
       "                                       outras_ofertas  cod_regiao  \\\n",
       "0                                                None           3   \n",
       "1               Atendimento Educacional Especializado           3   \n",
       "2               Atendimento Educacional Especializado           3   \n",
       "3               Atendimento Educacional Especializado           3   \n",
       "4               Atendimento Educacional Especializado           3   \n",
       "..                                                ...         ...   \n",
       "57              Atendimento Educacional Especializado           3   \n",
       "58              Atendimento Educacional Especializado           3   \n",
       "59              Atendimento Educacional Especializado           3   \n",
       "60              Atendimento Educacional Especializado           3   \n",
       "61  Atendimento Educacional Especializado, Ativida...           2   \n",
       "\n",
       "               micro                 meso    regiao cod_estado  \n",
       "0   ALVORADA D'OESTE    LESTE RONDONIENSE     Norte         11  \n",
       "1           ALMEIRIM       BAIXO AMAZONAS     Norte         15  \n",
       "2           ALMEIRIM       BAIXO AMAZONAS     Norte         15  \n",
       "3           ALMEIRIM       BAIXO AMAZONAS     Norte         15  \n",
       "4           ALMEIRIM       BAIXO AMAZONAS     Norte         15  \n",
       "..               ...                  ...       ...        ...  \n",
       "57          ALMEIRIM       BAIXO AMAZONAS     Norte         15  \n",
       "58          ALMEIRIM       BAIXO AMAZONAS     Norte         15  \n",
       "59          ALMEIRIM       BAIXO AMAZONAS     Norte         15  \n",
       "60          ALMEIRIM       BAIXO AMAZONAS     Norte         15  \n",
       "61        BAIXO CURU  CENTRO-SUL CEARENSE  Nordeste         23  \n",
       "\n",
       "[62 rows x 49 columns]"
      ]
     },
     "execution_count": 24,
     "metadata": {},
     "output_type": "execute_result"
    }
   ],
   "source": [
    "df2 = df2.round(2)\n",
    "df2"
   ]
  },
  {
   "cell_type": "code",
   "execution_count": 28,
   "id": "simplified-director",
   "metadata": {},
   "outputs": [
    {
     "data": {
      "text/plain": [
       "2.3935714285714282"
      ]
     },
     "execution_count": 28,
     "metadata": {},
     "output_type": "execute_result"
    }
   ],
   "source": [
    "df2 = df2.round(2)\n",
    "df3 = df2.copy()\n",
    "df3 = df3.loc[df2['id_escola'] == 15562158]\n",
    "\n",
    "df3['E_ESCV'].mean()"
   ]
  },
  {
   "cell_type": "code",
   "execution_count": null,
   "id": "nutritional-accreditation",
   "metadata": {},
   "outputs": [],
   "source": []
  },
  {
   "cell_type": "code",
   "execution_count": null,
   "id": "thorough-chess",
   "metadata": {
    "scrolled": false
   },
   "outputs": [],
   "source": []
  },
  {
   "cell_type": "code",
   "execution_count": 32,
   "id": "regular-information",
   "metadata": {},
   "outputs": [
    {
     "name": "stdout",
     "output_type": "stream",
     "text": [
      "15562158\n"
     ]
    },
    {
     "ename": "NameError",
     "evalue": "name 'index' is not defined",
     "output_type": "error",
     "traceback": [
      "\u001b[1;31m---------------------------------------------------------------------------\u001b[0m",
      "\u001b[1;31mNameError\u001b[0m                                 Traceback (most recent call last)",
      "\u001b[1;32m<ipython-input-32-e8d7c92e78bd>\u001b[0m in \u001b[0;36m<module>\u001b[1;34m\u001b[0m\n\u001b[0;32m      5\u001b[0m     \u001b[0mbusca\u001b[0m \u001b[1;33m=\u001b[0m \u001b[1;34m\"id_escola == \"\u001b[0m \u001b[1;33m+\u001b[0m \u001b[0mstr\u001b[0m\u001b[1;33m(\u001b[0m\u001b[0mrow\u001b[0m\u001b[1;33m[\u001b[0m\u001b[1;34m'id_escola'\u001b[0m\u001b[1;33m]\u001b[0m\u001b[1;33m)\u001b[0m\u001b[1;33m\u001b[0m\u001b[1;33m\u001b[0m\u001b[0m\n\u001b[0;32m      6\u001b[0m     \u001b[0mesc\u001b[0m \u001b[1;33m=\u001b[0m \u001b[0mdf2\u001b[0m\u001b[1;33m.\u001b[0m\u001b[0mquery\u001b[0m\u001b[1;33m(\u001b[0m\u001b[0mbusca\u001b[0m\u001b[1;33m)\u001b[0m\u001b[1;33m\u001b[0m\u001b[1;33m\u001b[0m\u001b[0m\n\u001b[1;32m----> 7\u001b[1;33m     \u001b[0mrow\u001b[0m\u001b[1;33m[\u001b[0m\u001b[0mindex\u001b[0m\u001b[1;33m,\u001b[0m \u001b[1;34m'E_ESCV'\u001b[0m\u001b[1;33m]\u001b[0m \u001b[1;33m=\u001b[0m \u001b[0mesc\u001b[0m\u001b[1;33m[\u001b[0m\u001b[1;34m'E_ESCV'\u001b[0m\u001b[1;33m]\u001b[0m\u001b[1;33m.\u001b[0m\u001b[0mmean\u001b[0m\u001b[1;33m(\u001b[0m\u001b[1;33m)\u001b[0m\u001b[1;33m\u001b[0m\u001b[1;33m\u001b[0m\u001b[0m\n\u001b[0m\u001b[0;32m      8\u001b[0m     \u001b[0mrow\u001b[0m\u001b[1;33m[\u001b[0m\u001b[0mindex\u001b[0m\u001b[1;33m,\u001b[0m \u001b[1;34m'E_PROFV'\u001b[0m\u001b[1;33m]\u001b[0m \u001b[1;33m=\u001b[0m \u001b[0mesc\u001b[0m\u001b[1;33m[\u001b[0m\u001b[1;34m'E_PROFV'\u001b[0m\u001b[1;33m]\u001b[0m\u001b[1;33m.\u001b[0m\u001b[0mmean\u001b[0m\u001b[1;33m(\u001b[0m\u001b[1;33m)\u001b[0m\u001b[1;33m\u001b[0m\u001b[1;33m\u001b[0m\u001b[0m\n\u001b[0;32m      9\u001b[0m     \u001b[0mrow\u001b[0m\u001b[1;33m[\u001b[0m\u001b[0mindex\u001b[0m\u001b[1;33m,\u001b[0m \u001b[1;34m'E_FAMV'\u001b[0m\u001b[1;33m]\u001b[0m \u001b[1;33m=\u001b[0m \u001b[0mesc\u001b[0m\u001b[1;33m[\u001b[0m\u001b[1;34m'E_FAMV'\u001b[0m\u001b[1;33m]\u001b[0m\u001b[1;33m.\u001b[0m\u001b[0mmean\u001b[0m\u001b[1;33m(\u001b[0m\u001b[1;33m)\u001b[0m\u001b[1;33m\u001b[0m\u001b[1;33m\u001b[0m\u001b[0m\n",
      "\u001b[1;31mNameError\u001b[0m: name 'index' is not defined"
     ]
    }
   ],
   "source": [
    "df_for = ['E_ESCV', 'E_PROFV', 'E_FAMV', 'E_COMV', 'E_ESTV']\n",
    "\n",
    "for indez, row in df_escolas.iterrows():\n",
    "    print(row['id_escola'])\n",
    "    busca = \"id_escola == \" + str(row['id_escola'])\n",
    "    esc = df2.query(busca)\n",
    "    row[index, 'E_ESCV'] = esc['E_ESCV'].mean()\n",
    "    row[index, 'E_PROFV'] = esc['E_PROFV'].mean()\n",
    "    row[index, 'E_FAMV'] = esc['E_FAMV'].mean()\n",
    "    row[index, 'E_COMV'] = esc['E_COMV'].mean()\n",
    "    row[index, 'E_ESTV'] = esc['E_ESTV'].mean()\n",
    "    #print(esc)\n",
    "    \n",
    "    \n",
    "    \n",
    "    "
   ]
  },
  {
   "cell_type": "code",
   "execution_count": 9,
   "id": "necessary-integer",
   "metadata": {},
   "outputs": [
    {
     "data": {
      "text/plain": [
       "5"
      ]
     },
     "execution_count": 9,
     "metadata": {},
     "output_type": "execute_result"
    }
   ],
   "source": []
  },
  {
   "cell_type": "code",
   "execution_count": 4,
   "id": "military-european",
   "metadata": {},
   "outputs": [
    {
     "data": {
      "text/plain": [
       "158742"
      ]
     },
     "execution_count": 4,
     "metadata": {},
     "output_type": "execute_result"
    }
   ],
   "source": [
    "df = df[df['Latitude'].notna()]\n",
    "df = df[df['Longitude'].notna()]\n",
    "df = df[df['Escola'].notna()]\n",
    "len(df)"
   ]
  },
  {
   "cell_type": "code",
   "execution_count": null,
   "id": "transsexual-registrar",
   "metadata": {},
   "outputs": [],
   "source": []
  },
  {
   "cell_type": "code",
   "execution_count": 6,
   "id": "quantitative-adobe",
   "metadata": {},
   "outputs": [
    {
     "data": {
      "text/plain": [
       "['Restrição de Atendimento',\n",
       " 'Escola',\n",
       " 'Código INEP',\n",
       " 'UF',\n",
       " 'Município',\n",
       " 'Localização',\n",
       " 'Localidade Diferenciada',\n",
       " 'Categoria Administrativa',\n",
       " 'Endereço',\n",
       " 'Telefone',\n",
       " 'Dependência Administrativa',\n",
       " 'Categoria Escola Privada',\n",
       " 'Conveniada Poder Público',\n",
       " 'Regulamentação pelo Conselho de Educação',\n",
       " 'Porte da Escola',\n",
       " 'Etapas e Modalidade de Ensino Oferecidas',\n",
       " 'Outras Ofertas Educacionais',\n",
       " 'Latitude',\n",
       " 'Longitude']"
      ]
     },
     "execution_count": 6,
     "metadata": {},
     "output_type": "execute_result"
    }
   ],
   "source": [
    "list(df)"
   ]
  },
  {
   "cell_type": "code",
   "execution_count": 7,
   "id": "absent-thousand",
   "metadata": {},
   "outputs": [
    {
     "data": {
      "text/plain": [
       "196"
      ]
     },
     "execution_count": 7,
     "metadata": {},
     "output_type": "execute_result"
    }
   ],
   "source": [
    "df2 = df.loc[df['UF'] == 'RS']\n",
    "df2 = df.loc[df['Município'] == 'Pelotas']\n",
    "len(df2)"
   ]
  },
  {
   "cell_type": "code",
   "execution_count": 14,
   "id": "9686ed07",
   "metadata": {},
   "outputs": [
    {
     "data": {
      "text/plain": [
       "158742"
      ]
     },
     "execution_count": 14,
     "metadata": {},
     "output_type": "execute_result"
    }
   ],
   "source": [
    "len(df)"
   ]
  },
  {
   "cell_type": "code",
   "execution_count": 12,
   "id": "1815efcb",
   "metadata": {},
   "outputs": [
    {
     "data": {
      "text/plain": [
       "Categoria Administrativa\n",
       "Privada     34545\n",
       "Pública    124197\n",
       "Name: Escola, dtype: int64"
      ]
     },
     "execution_count": 12,
     "metadata": {},
     "output_type": "execute_result"
    }
   ],
   "source": [
    "df.groupby(['Categoria Administrativa'])['Escola'].count()"
   ]
  },
  {
   "cell_type": "code",
   "execution_count": 16,
   "id": "48112a77",
   "metadata": {},
   "outputs": [
    {
     "data": {
      "text/plain": [
       "Porte da Escola\n",
       "Até 50 matrículas de escolarização              26492\n",
       "Entre 201 e 500 matrículas de escolarização     42247\n",
       "Entre 501 e 1000 matrículas de escolarização    20335\n",
       "Entre 51 e 200 matrículas de escolarização      53570\n",
       "Escola sem matrícula de escolarização            1368\n",
       "Mais de 1000 matrículas de escolarização         5524\n",
       "Name: Escola, dtype: int64"
      ]
     },
     "execution_count": 16,
     "metadata": {},
     "output_type": "execute_result"
    }
   ],
   "source": [
    "df.groupby(['Porte da Escola'])['Escola'].count()"
   ]
  },
  {
   "cell_type": "code",
   "execution_count": 20,
   "id": "e4845114",
   "metadata": {},
   "outputs": [
    {
     "data": {
      "text/plain": [
       "Entre 51 e 200 matrículas de escolarização      53570\n",
       "Entre 201 e 500 matrículas de escolarização     42247\n",
       "Até 50 matrículas de escolarização              26492\n",
       "Entre 501 e 1000 matrículas de escolarização    20335\n",
       "Mais de 1000 matrículas de escolarização         5524\n",
       "Escola sem matrícula de escolarização            1368\n",
       "Name: Porte da Escola, dtype: int64"
      ]
     },
     "execution_count": 20,
     "metadata": {},
     "output_type": "execute_result"
    }
   ],
   "source": [
    "df['Porte da Escola'].value_counts()"
   ]
  },
  {
   "cell_type": "code",
   "execution_count": 23,
   "id": "902338b9",
   "metadata": {},
   "outputs": [
    {
     "data": {
      "text/html": [
       "<div>\n",
       "<style scoped>\n",
       "    .dataframe tbody tr th:only-of-type {\n",
       "        vertical-align: middle;\n",
       "    }\n",
       "\n",
       "    .dataframe tbody tr th {\n",
       "        vertical-align: top;\n",
       "    }\n",
       "\n",
       "    .dataframe thead th {\n",
       "        text-align: right;\n",
       "    }\n",
       "</style>\n",
       "<table border=\"1\" class=\"dataframe\">\n",
       "  <thead>\n",
       "    <tr style=\"text-align: right;\">\n",
       "      <th></th>\n",
       "      <th>Código INEP</th>\n",
       "      <th>Latitude</th>\n",
       "      <th>Longitude</th>\n",
       "    </tr>\n",
       "  </thead>\n",
       "  <tbody>\n",
       "    <tr>\n",
       "      <th>count</th>\n",
       "      <td>1.587420e+05</td>\n",
       "      <td>158742.000000</td>\n",
       "      <td>158742.000000</td>\n",
       "    </tr>\n",
       "    <tr>\n",
       "      <th>mean</th>\n",
       "      <td>3.085995e+07</td>\n",
       "      <td>-15.618903</td>\n",
       "      <td>-45.715318</td>\n",
       "    </tr>\n",
       "    <tr>\n",
       "      <th>std</th>\n",
       "      <td>9.469767e+06</td>\n",
       "      <td>8.780543</td>\n",
       "      <td>6.115467</td>\n",
       "    </tr>\n",
       "    <tr>\n",
       "      <th>min</th>\n",
       "      <td>1.100002e+07</td>\n",
       "      <td>-33.692120</td>\n",
       "      <td>-73.005554</td>\n",
       "    </tr>\n",
       "    <tr>\n",
       "      <th>25%</th>\n",
       "      <td>2.400194e+07</td>\n",
       "      <td>-23.119590</td>\n",
       "      <td>-49.217934</td>\n",
       "    </tr>\n",
       "    <tr>\n",
       "      <th>50%</th>\n",
       "      <td>3.127616e+07</td>\n",
       "      <td>-18.211475</td>\n",
       "      <td>-46.312286</td>\n",
       "    </tr>\n",
       "    <tr>\n",
       "      <th>75%</th>\n",
       "      <td>3.541755e+07</td>\n",
       "      <td>-7.151610</td>\n",
       "      <td>-41.599918</td>\n",
       "    </tr>\n",
       "    <tr>\n",
       "      <th>max</th>\n",
       "      <td>5.308500e+07</td>\n",
       "      <td>4.789615</td>\n",
       "      <td>-32.409753</td>\n",
       "    </tr>\n",
       "  </tbody>\n",
       "</table>\n",
       "</div>"
      ],
      "text/plain": [
       "        Código INEP       Latitude      Longitude\n",
       "count  1.587420e+05  158742.000000  158742.000000\n",
       "mean   3.085995e+07     -15.618903     -45.715318\n",
       "std    9.469767e+06       8.780543       6.115467\n",
       "min    1.100002e+07     -33.692120     -73.005554\n",
       "25%    2.400194e+07     -23.119590     -49.217934\n",
       "50%    3.127616e+07     -18.211475     -46.312286\n",
       "75%    3.541755e+07      -7.151610     -41.599918\n",
       "max    5.308500e+07       4.789615     -32.409753"
      ]
     },
     "execution_count": 23,
     "metadata": {},
     "output_type": "execute_result"
    }
   ],
   "source": [
    "df.describe()"
   ]
  },
  {
   "cell_type": "code",
   "execution_count": 24,
   "id": "7f98aa22",
   "metadata": {},
   "outputs": [
    {
     "data": {
      "text/plain": [
       "9206"
      ]
     },
     "execution_count": 24,
     "metadata": {},
     "output_type": "execute_result"
    }
   ],
   "source": [
    "df['Porte da Escola'].isna().sum()"
   ]
  },
  {
   "cell_type": "code",
   "execution_count": 25,
   "id": "70e95944",
   "metadata": {},
   "outputs": [],
   "source": [
    "df['Porte da Escola'] = df['Porte da Escola'].fillna('Não definido')"
   ]
  },
  {
   "cell_type": "code",
   "execution_count": 26,
   "id": "b68df0df",
   "metadata": {},
   "outputs": [
    {
     "data": {
      "text/plain": [
       "Entre 51 e 200 matrículas de escolarização      53570\n",
       "Entre 201 e 500 matrículas de escolarização     42247\n",
       "Até 50 matrículas de escolarização              26492\n",
       "Entre 501 e 1000 matrículas de escolarização    20335\n",
       "Não definido                                     9206\n",
       "Mais de 1000 matrículas de escolarização         5524\n",
       "Escola sem matrícula de escolarização            1368\n",
       "Name: Porte da Escola, dtype: int64"
      ]
     },
     "execution_count": 26,
     "metadata": {},
     "output_type": "execute_result"
    }
   ],
   "source": [
    "df['Porte da Escola'].value_counts()"
   ]
  },
  {
   "cell_type": "code",
   "execution_count": 8,
   "id": "competent-public",
   "metadata": {},
   "outputs": [],
   "source": [
    "#df2.to_csv('pelotas2.csv', sep='|')"
   ]
  },
  {
   "cell_type": "code",
   "execution_count": 9,
   "id": "employed-cleveland",
   "metadata": {},
   "outputs": [],
   "source": [
    "#EMEF MARCIO DIAS\n",
    "\n",
    "#df3 = df2.loc[df['Escola'] != 'EMEF MARCIO DIAS']\n",
    "#len(df3)"
   ]
  },
  {
   "cell_type": "code",
   "execution_count": 10,
   "id": "functional-prayer",
   "metadata": {},
   "outputs": [
    {
     "data": {
      "text/html": [
       "<div>\n",
       "<style scoped>\n",
       "    .dataframe tbody tr th:only-of-type {\n",
       "        vertical-align: middle;\n",
       "    }\n",
       "\n",
       "    .dataframe tbody tr th {\n",
       "        vertical-align: top;\n",
       "    }\n",
       "\n",
       "    .dataframe thead th {\n",
       "        text-align: right;\n",
       "    }\n",
       "</style>\n",
       "<table border=\"1\" class=\"dataframe\">\n",
       "  <thead>\n",
       "    <tr style=\"text-align: right;\">\n",
       "      <th></th>\n",
       "      <th>Escola</th>\n",
       "      <th>Latitude</th>\n",
       "      <th>Longitude</th>\n",
       "      <th>Porte da Escola</th>\n",
       "    </tr>\n",
       "  </thead>\n",
       "  <tbody>\n",
       "    <tr>\n",
       "      <th>193767</th>\n",
       "      <td>COLEGIO TIRADENTES PELOTAS</td>\n",
       "      <td>-31.756633</td>\n",
       "      <td>-52.373175</td>\n",
       "      <td>Entre 51 e 200 matrículas de escolarização</td>\n",
       "    </tr>\n",
       "    <tr>\n",
       "      <th>193828</th>\n",
       "      <td>EEI MUNDO DO MICKEY</td>\n",
       "      <td>-31.771390</td>\n",
       "      <td>-52.329940</td>\n",
       "      <td>Até 50 matrículas de escolarização</td>\n",
       "    </tr>\n",
       "    <tr>\n",
       "      <th>193902</th>\n",
       "      <td>EEI CHAPEUZINHO VERMELHO</td>\n",
       "      <td>-31.762210</td>\n",
       "      <td>-52.343580</td>\n",
       "      <td>Até 50 matrículas de escolarização</td>\n",
       "    </tr>\n",
       "    <tr>\n",
       "      <th>193985</th>\n",
       "      <td>EEF TRES VENDAS</td>\n",
       "      <td>-31.731438</td>\n",
       "      <td>-52.346365</td>\n",
       "      <td>Entre 501 e 1000 matrículas de escolarização</td>\n",
       "    </tr>\n",
       "    <tr>\n",
       "      <th>193987</th>\n",
       "      <td>EEI REINO AZUL</td>\n",
       "      <td>-31.758710</td>\n",
       "      <td>-52.363290</td>\n",
       "      <td>Até 50 matrículas de escolarização</td>\n",
       "    </tr>\n",
       "    <tr>\n",
       "      <th>...</th>\n",
       "      <td>...</td>\n",
       "      <td>...</td>\n",
       "      <td>...</td>\n",
       "      <td>...</td>\n",
       "    </tr>\n",
       "    <tr>\n",
       "      <th>204971</th>\n",
       "      <td>EEI TAGARELAS</td>\n",
       "      <td>-31.761200</td>\n",
       "      <td>-52.239370</td>\n",
       "      <td>Até 50 matrículas de escolarização</td>\n",
       "    </tr>\n",
       "    <tr>\n",
       "      <th>204973</th>\n",
       "      <td>CENTRO INF BRICANDO DE APRENDER</td>\n",
       "      <td>-31.743850</td>\n",
       "      <td>-52.342600</td>\n",
       "      <td>NaN</td>\n",
       "    </tr>\n",
       "    <tr>\n",
       "      <th>204978</th>\n",
       "      <td>EEI DOCE MEL</td>\n",
       "      <td>-31.761920</td>\n",
       "      <td>-52.343230</td>\n",
       "      <td>NaN</td>\n",
       "    </tr>\n",
       "    <tr>\n",
       "      <th>204980</th>\n",
       "      <td>EEI MUNDO CRIATIVO</td>\n",
       "      <td>-31.756190</td>\n",
       "      <td>-52.331390</td>\n",
       "      <td>Até 50 matrículas de escolarização</td>\n",
       "    </tr>\n",
       "    <tr>\n",
       "      <th>205061</th>\n",
       "      <td>EEI TURMINHA DA EMILIA</td>\n",
       "      <td>-31.743930</td>\n",
       "      <td>-52.320980</td>\n",
       "      <td>NaN</td>\n",
       "    </tr>\n",
       "  </tbody>\n",
       "</table>\n",
       "<p>196 rows × 4 columns</p>\n",
       "</div>"
      ],
      "text/plain": [
       "                                 Escola   Latitude  Longitude  \\\n",
       "193767       COLEGIO TIRADENTES PELOTAS -31.756633 -52.373175   \n",
       "193828              EEI MUNDO DO MICKEY -31.771390 -52.329940   \n",
       "193902         EEI CHAPEUZINHO VERMELHO -31.762210 -52.343580   \n",
       "193985                  EEF TRES VENDAS -31.731438 -52.346365   \n",
       "193987                   EEI REINO AZUL -31.758710 -52.363290   \n",
       "...                                 ...        ...        ...   \n",
       "204971                    EEI TAGARELAS -31.761200 -52.239370   \n",
       "204973  CENTRO INF BRICANDO DE APRENDER -31.743850 -52.342600   \n",
       "204978                     EEI DOCE MEL -31.761920 -52.343230   \n",
       "204980               EEI MUNDO CRIATIVO -31.756190 -52.331390   \n",
       "205061           EEI TURMINHA DA EMILIA -31.743930 -52.320980   \n",
       "\n",
       "                                     Porte da Escola  \n",
       "193767    Entre 51 e 200 matrículas de escolarização  \n",
       "193828            Até 50 matrículas de escolarização  \n",
       "193902            Até 50 matrículas de escolarização  \n",
       "193985  Entre 501 e 1000 matrículas de escolarização  \n",
       "193987            Até 50 matrículas de escolarização  \n",
       "...                                              ...  \n",
       "204971            Até 50 matrículas de escolarização  \n",
       "204973                                           NaN  \n",
       "204978                                           NaN  \n",
       "204980            Até 50 matrículas de escolarização  \n",
       "205061                                           NaN  \n",
       "\n",
       "[196 rows x 4 columns]"
      ]
     },
     "execution_count": 10,
     "metadata": {},
     "output_type": "execute_result"
    }
   ],
   "source": [
    "new = df2.filter(['Escola','Latitude','Longitude', 'Porte da Escola',], axis=1)\n",
    "new"
   ]
  },
  {
   "cell_type": "code",
   "execution_count": null,
   "id": "heard-bones",
   "metadata": {},
   "outputs": [],
   "source": []
  },
  {
   "cell_type": "code",
   "execution_count": 27,
   "id": "sustained-bundle",
   "metadata": {},
   "outputs": [],
   "source": [
    "def map_escolas():\n",
    "    fig = px.scatter_mapbox(df, \n",
    "                            title=\"Escolas BR\",\n",
    "                            zoom=3, center={\"lat\": -11.44, \"lon\": -52.01},\n",
    "                            lat=\"Latitude\", lon=\"Longitude\",\n",
    "                            color='Porte da Escola',\n",
    "                            hover_name=\"Escola\", \n",
    "                            hover_data=['Restrição de Atendimento',\n",
    "                             'Escola',\n",
    "                             'Código INEP',\n",
    "                             'UF',\n",
    "                             'Município',\n",
    "                             'Localização',\n",
    "                             'Localidade Diferenciada',\n",
    "                             'Categoria Administrativa',\n",
    "                             'Endereço',\n",
    "                             'Telefone',\n",
    "                             'Dependência Administrativa',\n",
    "                             'Categoria Escola Privada',\n",
    "                             'Conveniada Poder Público',\n",
    "                             'Regulamentação pelo Conselho de Educação',\n",
    "                             'Porte da Escola',\n",
    "                             'Etapas e Modalidade de Ensino Oferecidas',\n",
    "                             'Outras Ofertas Educacionais',\n",
    "                             'Latitude',\n",
    "                             'Longitude']\n",
    "                            \n",
    "                                )\n",
    "    #fig.update_layout(mapbox_style=\"open-street-map\")\n",
    "    fig.update_layout(mapbox_style=\"carto-positron\")\n",
    "    fig.update_traces(marker=dict(sizemin=2))\n",
    "    return fig\n",
    "\n",
    "fig = map_escolas()\n",
    "#export_fig_html(fig, \"locais_votacao_2022.html\")\n",
    "#fig.show()\n",
    "fig.write_html(\"maps_escola.html\")"
   ]
  },
  {
   "cell_type": "code",
   "execution_count": null,
   "id": "crude-trinidad",
   "metadata": {},
   "outputs": [],
   "source": []
  },
  {
   "cell_type": "code",
   "execution_count": null,
   "id": "arabic-drove",
   "metadata": {},
   "outputs": [],
   "source": []
  },
  {
   "cell_type": "code",
   "execution_count": null,
   "id": "working-trigger",
   "metadata": {},
   "outputs": [],
   "source": []
  }
 ],
 "metadata": {
  "kernelspec": {
   "display_name": "Python 3",
   "language": "python",
   "name": "python3"
  },
  "language_info": {
   "codemirror_mode": {
    "name": "ipython",
    "version": 3
   },
   "file_extension": ".py",
   "mimetype": "text/x-python",
   "name": "python",
   "nbconvert_exporter": "python",
   "pygments_lexer": "ipython3",
   "version": "3.8.5"
  }
 },
 "nbformat": 4,
 "nbformat_minor": 5
}
