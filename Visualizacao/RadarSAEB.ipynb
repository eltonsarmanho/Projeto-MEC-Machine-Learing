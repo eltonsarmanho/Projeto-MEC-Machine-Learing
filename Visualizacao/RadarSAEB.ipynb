{
 "cells": [
  {
   "cell_type": "code",
   "execution_count": 4,
   "id": "de395db3",
   "metadata": {},
   "outputs": [],
   "source": [
    "import pandas as pd\n",
    "import numpy as np\n",
    "import scipy.stats as st\n",
    "import plotly.express as px\n",
    "import plotly.graph_objects as go\n",
    "import psycopg2\n",
    "import random\n",
    "import sys"
   ]
  },
  {
   "cell_type": "code",
   "execution_count": 5,
   "id": "bccd6685",
   "metadata": {},
   "outputs": [],
   "source": [
    "def loadData(url):\n",
    "    try:\n",
    "        dataset = pd.read_csv(url,delimiter='\\t',)\n",
    "        print(dataset.shape)\n",
    "        dict_uf= {11:'RO',12:'AC',13:'AM',14:'RR',15:'PA',16:'AP',17:'TO',21:'MA',22:'PI',23:'CE',24:'RN',\n",
    "              25:'PB',26:'PE',27:'AL',28:'SE',29:'BA',31:'MG',32:'ES',33:'RJ',35:'SP',41:'PR',42:'SC',43:'RS',50:'MS',\n",
    "              51:'MT',52:'GO',53:'DF',}\n",
    "        dataset = dataset.replace({\"ID_UF\": dict_uf})\n",
    "        return dataset;\n",
    "    except:\n",
    "        print(\"Oops!\", sys.exc_info()[0], \"occurred.\")"
   ]
  },
  {
   "cell_type": "code",
   "execution_count": 6,
   "id": "453e74a4",
   "metadata": {},
   "outputs": [
    {
     "name": "stdout",
     "output_type": "stream",
     "text": [
      "(62668, 197)\n"
     ]
    }
   ],
   "source": [
    "path_file = '../Dataset/inep_saeb_merge_fatorial_2019.csv'\n",
    "df = loadData(path_file)\n"
   ]
  },
  {
   "cell_type": "code",
   "execution_count": 4,
   "id": "4069640e",
   "metadata": {},
   "outputs": [
    {
     "data": {
      "text/html": [
       "<div>\n",
       "<style scoped>\n",
       "    .dataframe tbody tr th:only-of-type {\n",
       "        vertical-align: middle;\n",
       "    }\n",
       "\n",
       "    .dataframe tbody tr th {\n",
       "        vertical-align: top;\n",
       "    }\n",
       "\n",
       "    .dataframe thead th {\n",
       "        text-align: right;\n",
       "    }\n",
       "</style>\n",
       "<table border=\"1\" class=\"dataframe\">\n",
       "  <thead>\n",
       "    <tr style=\"text-align: right;\">\n",
       "      <th></th>\n",
       "      <th>ID_SAEB</th>\n",
       "      <th>ID_REGIAO</th>\n",
       "      <th>ID_UF</th>\n",
       "      <th>CO_ENTIDADE</th>\n",
       "      <th>NU_PRESENTES_5EF</th>\n",
       "      <th>NU_PRESENTES_9EF</th>\n",
       "      <th>NU_PRESENTES_EMT</th>\n",
       "      <th>NU_PRESENTES_EMI</th>\n",
       "      <th>NU_PRESENTES_EM</th>\n",
       "      <th>MEDIA_5EF_LP</th>\n",
       "      <th>...</th>\n",
       "      <th>IN_ESP_EXCLUSIVA_FUND_AF</th>\n",
       "      <th>IN_ESP_EXCLUSIVA_MEDIO_MEDIO</th>\n",
       "      <th>Estrutura</th>\n",
       "      <th>PED</th>\n",
       "      <th>LibrasBraile</th>\n",
       "      <th>TratamentoLixo</th>\n",
       "      <th>PCD</th>\n",
       "      <th>Acessibilidade</th>\n",
       "      <th>Internet</th>\n",
       "      <th>Transporte</th>\n",
       "    </tr>\n",
       "  </thead>\n",
       "  <tbody>\n",
       "    <tr>\n",
       "      <th>0</th>\n",
       "      <td>2019</td>\n",
       "      <td>1</td>\n",
       "      <td>RO</td>\n",
       "      <td>11024666</td>\n",
       "      <td>18.0</td>\n",
       "      <td>13.0</td>\n",
       "      <td>NaN</td>\n",
       "      <td>NaN</td>\n",
       "      <td>NaN</td>\n",
       "      <td>184.83</td>\n",
       "      <td>...</td>\n",
       "      <td>0.0</td>\n",
       "      <td>0.0</td>\n",
       "      <td>-1.09</td>\n",
       "      <td>-0.29</td>\n",
       "      <td>-0.28</td>\n",
       "      <td>-0.22</td>\n",
       "      <td>0.29</td>\n",
       "      <td>-1.51</td>\n",
       "      <td>0.14</td>\n",
       "      <td>0.32</td>\n",
       "    </tr>\n",
       "    <tr>\n",
       "      <th>1</th>\n",
       "      <td>2019</td>\n",
       "      <td>1</td>\n",
       "      <td>RO</td>\n",
       "      <td>11024682</td>\n",
       "      <td>149.0</td>\n",
       "      <td>NaN</td>\n",
       "      <td>NaN</td>\n",
       "      <td>NaN</td>\n",
       "      <td>NaN</td>\n",
       "      <td>223.45</td>\n",
       "      <td>...</td>\n",
       "      <td>0.0</td>\n",
       "      <td>0.0</td>\n",
       "      <td>-0.97</td>\n",
       "      <td>-0.28</td>\n",
       "      <td>-0.50</td>\n",
       "      <td>0.73</td>\n",
       "      <td>1.53</td>\n",
       "      <td>-1.18</td>\n",
       "      <td>0.58</td>\n",
       "      <td>0.16</td>\n",
       "    </tr>\n",
       "    <tr>\n",
       "      <th>2</th>\n",
       "      <td>2019</td>\n",
       "      <td>1</td>\n",
       "      <td>RO</td>\n",
       "      <td>11024828</td>\n",
       "      <td>21.0</td>\n",
       "      <td>14.0</td>\n",
       "      <td>NaN</td>\n",
       "      <td>NaN</td>\n",
       "      <td>NaN</td>\n",
       "      <td>158.06</td>\n",
       "      <td>...</td>\n",
       "      <td>0.0</td>\n",
       "      <td>0.0</td>\n",
       "      <td>-1.06</td>\n",
       "      <td>-0.29</td>\n",
       "      <td>-0.14</td>\n",
       "      <td>-0.23</td>\n",
       "      <td>-0.50</td>\n",
       "      <td>-1.40</td>\n",
       "      <td>0.04</td>\n",
       "      <td>0.28</td>\n",
       "    </tr>\n",
       "    <tr>\n",
       "      <th>3</th>\n",
       "      <td>2019</td>\n",
       "      <td>1</td>\n",
       "      <td>RO</td>\n",
       "      <td>11024968</td>\n",
       "      <td>NaN</td>\n",
       "      <td>NaN</td>\n",
       "      <td>66.0</td>\n",
       "      <td>NaN</td>\n",
       "      <td>66.0</td>\n",
       "      <td>NaN</td>\n",
       "      <td>...</td>\n",
       "      <td>0.0</td>\n",
       "      <td>0.0</td>\n",
       "      <td>-1.01</td>\n",
       "      <td>-0.29</td>\n",
       "      <td>-0.17</td>\n",
       "      <td>-0.24</td>\n",
       "      <td>-0.70</td>\n",
       "      <td>-1.49</td>\n",
       "      <td>0.55</td>\n",
       "      <td>-0.17</td>\n",
       "    </tr>\n",
       "    <tr>\n",
       "      <th>4</th>\n",
       "      <td>2019</td>\n",
       "      <td>1</td>\n",
       "      <td>RO</td>\n",
       "      <td>11025077</td>\n",
       "      <td>13.0</td>\n",
       "      <td>9.0</td>\n",
       "      <td>NaN</td>\n",
       "      <td>NaN</td>\n",
       "      <td>NaN</td>\n",
       "      <td>173.45</td>\n",
       "      <td>...</td>\n",
       "      <td>0.0</td>\n",
       "      <td>0.0</td>\n",
       "      <td>-1.09</td>\n",
       "      <td>-0.30</td>\n",
       "      <td>-0.29</td>\n",
       "      <td>-0.22</td>\n",
       "      <td>0.08</td>\n",
       "      <td>-1.36</td>\n",
       "      <td>-0.03</td>\n",
       "      <td>0.33</td>\n",
       "    </tr>\n",
       "  </tbody>\n",
       "</table>\n",
       "<p>5 rows × 197 columns</p>\n",
       "</div>"
      ],
      "text/plain": [
       "   ID_SAEB  ID_REGIAO ID_UF  CO_ENTIDADE  NU_PRESENTES_5EF  NU_PRESENTES_9EF  \\\n",
       "0     2019          1    RO     11024666              18.0              13.0   \n",
       "1     2019          1    RO     11024682             149.0               NaN   \n",
       "2     2019          1    RO     11024828              21.0              14.0   \n",
       "3     2019          1    RO     11024968               NaN               NaN   \n",
       "4     2019          1    RO     11025077              13.0               9.0   \n",
       "\n",
       "   NU_PRESENTES_EMT  NU_PRESENTES_EMI  NU_PRESENTES_EM  MEDIA_5EF_LP  ...  \\\n",
       "0               NaN               NaN              NaN        184.83  ...   \n",
       "1               NaN               NaN              NaN        223.45  ...   \n",
       "2               NaN               NaN              NaN        158.06  ...   \n",
       "3              66.0               NaN             66.0           NaN  ...   \n",
       "4               NaN               NaN              NaN        173.45  ...   \n",
       "\n",
       "   IN_ESP_EXCLUSIVA_FUND_AF  IN_ESP_EXCLUSIVA_MEDIO_MEDIO  Estrutura   PED  \\\n",
       "0                       0.0                           0.0      -1.09 -0.29   \n",
       "1                       0.0                           0.0      -0.97 -0.28   \n",
       "2                       0.0                           0.0      -1.06 -0.29   \n",
       "3                       0.0                           0.0      -1.01 -0.29   \n",
       "4                       0.0                           0.0      -1.09 -0.30   \n",
       "\n",
       "   LibrasBraile  TratamentoLixo   PCD  Acessibilidade  Internet  Transporte  \n",
       "0         -0.28           -0.22  0.29           -1.51      0.14        0.32  \n",
       "1         -0.50            0.73  1.53           -1.18      0.58        0.16  \n",
       "2         -0.14           -0.23 -0.50           -1.40      0.04        0.28  \n",
       "3         -0.17           -0.24 -0.70           -1.49      0.55       -0.17  \n",
       "4         -0.29           -0.22  0.08           -1.36     -0.03        0.33  \n",
       "\n",
       "[5 rows x 197 columns]"
      ]
     },
     "execution_count": 4,
     "metadata": {},
     "output_type": "execute_result"
    }
   ],
   "source": [
    "dict_uf= {11:'RO',12:'AC',13:'AM',14:'RR',15:'PA',16:'AP',17:'TO',21:'MA',22:'PI',23:'CE',24:'RN',\n",
    "              25:'PB',26:'PE',27:'AL',28:'SE',29:'BA',31:'MG',32:'ES',33:'RJ',35:'SP',41:'PR',42:'SC',43:'RS',50:'MS',\n",
    "              51:'MT',52:'GO',53:'DF',}\n",
    "df = df.replace({\"ID_UF\": dict_uf})\n",
    "df.head()"
   ]
  },
  {
   "cell_type": "code",
   "execution_count": 167,
   "id": "97aeb7b2",
   "metadata": {},
   "outputs": [
    {
     "data": {
      "text/html": [
       "<div>\n",
       "<style scoped>\n",
       "    .dataframe tbody tr th:only-of-type {\n",
       "        vertical-align: middle;\n",
       "    }\n",
       "\n",
       "    .dataframe tbody tr th {\n",
       "        vertical-align: top;\n",
       "    }\n",
       "\n",
       "    .dataframe thead th {\n",
       "        text-align: right;\n",
       "    }\n",
       "</style>\n",
       "<table border=\"1\" class=\"dataframe\">\n",
       "  <thead>\n",
       "    <tr style=\"text-align: right;\">\n",
       "      <th></th>\n",
       "      <th>Estrutura</th>\n",
       "      <th>PED</th>\n",
       "      <th>LibrasBraile</th>\n",
       "      <th>TratamentoLixo</th>\n",
       "      <th>PCD</th>\n",
       "      <th>Acessibilidade</th>\n",
       "      <th>Internet</th>\n",
       "      <th>Transporte</th>\n",
       "    </tr>\n",
       "  </thead>\n",
       "  <tbody>\n",
       "    <tr>\n",
       "      <th>62667</th>\n",
       "      <td>-0.000006</td>\n",
       "      <td>-0.000005</td>\n",
       "      <td>0.000009</td>\n",
       "      <td>0.000014</td>\n",
       "      <td>0.000002</td>\n",
       "      <td>-0.000007</td>\n",
       "      <td>0.000005</td>\n",
       "      <td>-0.000011</td>\n",
       "    </tr>\n",
       "  </tbody>\n",
       "</table>\n",
       "</div>"
      ],
      "text/plain": [
       "       Estrutura       PED  LibrasBraile  TratamentoLixo       PCD  \\\n",
       "62667  -0.000006 -0.000005      0.000009        0.000014  0.000002   \n",
       "\n",
       "       Acessibilidade  Internet  Transporte  \n",
       "62667       -0.000007  0.000005   -0.000011  "
      ]
     },
     "execution_count": 167,
     "metadata": {},
     "output_type": "execute_result"
    }
   ],
   "source": [
    "#Agrupar por Nacional\n",
    "#Veririfcar Estado com maior/menor pontuacao \n",
    "cols = ['Estrutura','PED','LibrasBraile','TratamentoLixo','PCD','Acessibilidade','Internet','Transporte']\n",
    "#data_brasil_fatores = df[cols].mean()\n",
    "\n",
    "data_brasil_fatores = pd.DataFrame(df[cols].mean().to_dict(),index=[df[cols].index.values[-1]])\n",
    "\n",
    "data_brasil_fatores.head()"
   ]
  },
  {
   "cell_type": "code",
   "execution_count": 12,
   "id": "30a98fec",
   "metadata": {},
   "outputs": [
    {
     "data": {
      "text/html": [
       "<div>\n",
       "<style scoped>\n",
       "    .dataframe tbody tr th:only-of-type {\n",
       "        vertical-align: middle;\n",
       "    }\n",
       "\n",
       "    .dataframe tbody tr th {\n",
       "        vertical-align: top;\n",
       "    }\n",
       "\n",
       "    .dataframe thead th {\n",
       "        text-align: right;\n",
       "    }\n",
       "</style>\n",
       "<table border=\"1\" class=\"dataframe\">\n",
       "  <thead>\n",
       "    <tr style=\"text-align: right;\">\n",
       "      <th></th>\n",
       "      <th>Estrutura</th>\n",
       "      <th>PED</th>\n",
       "      <th>LibrasBraile</th>\n",
       "      <th>TratamentoLixo</th>\n",
       "      <th>PCD</th>\n",
       "      <th>Acessibilidade</th>\n",
       "      <th>Internet</th>\n",
       "      <th>Transporte</th>\n",
       "    </tr>\n",
       "  </thead>\n",
       "  <tbody>\n",
       "    <tr>\n",
       "      <th>5541</th>\n",
       "      <td>-0.575539</td>\n",
       "      <td>0.043245</td>\n",
       "      <td>0.30105</td>\n",
       "      <td>-0.024661</td>\n",
       "      <td>0.27091</td>\n",
       "      <td>-1.60798</td>\n",
       "      <td>-0.187623</td>\n",
       "      <td>-0.328272</td>\n",
       "    </tr>\n",
       "  </tbody>\n",
       "</table>\n",
       "</div>"
      ],
      "text/plain": [
       "      Estrutura       PED  LibrasBraile  TratamentoLixo      PCD  \\\n",
       "5541  -0.575539  0.043245       0.30105       -0.024661  0.27091   \n",
       "\n",
       "      Acessibilidade  Internet  Transporte  \n",
       "5541        -1.60798 -0.187623   -0.328272  "
      ]
     },
     "execution_count": 12,
     "metadata": {},
     "output_type": "execute_result"
    }
   ],
   "source": [
    "#Agrupar por Estado\n",
    "#Veririfcar Estado com maior/menor pontuacao \n",
    "filter = (df['ID_UF'] == 'PA')\n",
    "data_estado_ = df[filter]\n",
    "\n",
    "cols = ['Estrutura','PED','LibrasBraile','TratamentoLixo','PCD','Acessibilidade','Internet','Transporte']\n",
    "\n",
    "\n",
    "data_estado_fatores = pd.DataFrame(data_estado_[cols].mean().to_dict(),index=[data_estado_[cols].index.values[-1]])\n",
    "data_estado_fatores.head()\n",
    "\n"
   ]
  },
  {
   "cell_type": "code",
   "execution_count": 22,
   "id": "a9e0be0b",
   "metadata": {},
   "outputs": [
    {
     "data": {
      "text/plain": [
       "['E M E I F CAMINHO DA ESPERANCA',\n",
       " 'EEEFM SAO FRANCISCO XAVIER',\n",
       " 'EMEIF SAO JOSE',\n",
       " 'E M E I F CRIANCA ESPERANCA',\n",
       " 'EEEFM PROF BERNARDINO PEREIRA DE BARROS',\n",
       " 'EEEFM PROF CARMEM CARDOSO FERREIRA',\n",
       " 'EEEFM PROF BASILIO DE CARVALHO',\n",
       " 'EEEFM TEREZINHA DE JESUS F LIMA',\n",
       " 'E M E I F N SRA DO PERPETUO SOCORRO',\n",
       " 'EEEFM PROF LAURA DOS SANTOS RIBEIRO',\n",
       " 'EEEFM PEDRO TEIXEIRA',\n",
       " 'EEEFM PROF LEONARDO NEGRAO DE SOUSA',\n",
       " 'E M E I F NOSSA SRA DAS GRACAS',\n",
       " 'E M E F PROF MAXIMIANO ANTONIO RODRIGUES',\n",
       " 'E M E I F DR JOAO MIRANDA',\n",
       " 'EEEF ESMERINA BOU HABIB',\n",
       " 'E M E I F N SRA DO CARMO',\n",
       " 'E M E I F PE MARIO LANCIOTTI',\n",
       " 'EEEFM PROF LEONIDAS MONTE',\n",
       " 'E M E I F DIONISIO HAGE',\n",
       " 'E M E I EF DR RONALD REIS FERREIRA',\n",
       " 'E M E I F PROF MANOEL P FERREIRA',\n",
       " 'E M E I F PROF MAXIMIANO ANTONIO RODRIGUES',\n",
       " 'E M E F MARIUADIR SANTOS',\n",
       " 'E M E I F SAO SEBASTIAO',\n",
       " 'E M E I F COMANDANTE GERMANO',\n",
       " 'E M E I F CRISTO REDENTOR',\n",
       " 'E M E I F SAO BENEDITO',\n",
       " 'E M E I F PEDRO FERREIRA COSTA',\n",
       " 'E M E I F PE ANCHIETA',\n",
       " 'E M E I F SAO FRANCISCO DE ASSIS',\n",
       " 'E M E I F SANTA MARIA',\n",
       " 'E M E I F DOM ANGELO FROSI',\n",
       " 'E M E F JOAQUIM MENDES CONTENTE',\n",
       " 'E M E I F MARIUADIR SANTOS',\n",
       " 'E M E I F NSRA DO PERPETUO SOCORRO',\n",
       " 'E M E I F PE PIO',\n",
       " 'E M E I F PROF MARIA DA CONCEICAO CARDOSO FEIO',\n",
       " 'E M E F PROF MARIA ZAIDE CARDOSO',\n",
       " 'E M E I F RAIMUNDO SARGES DA ROCHA',\n",
       " 'E M E I E F SANTA ANASTACIA',\n",
       " 'E M E I F SAO JOAO BATISTA',\n",
       " 'EEEFM CRISTO REDENTOR',\n",
       " 'E M E I E F CARLAIDE CARDOSO FERREIRA JORGE',\n",
       " 'E M E I F N SRA DO PERPETUO SOCORRO',\n",
       " 'EEEFM SAO MIGUEL DE BEJA',\n",
       " 'E M E F MARIA DO CARMO ARAUJO DOS SANTOS',\n",
       " 'EEEFM CRISTO TRABALHADOR',\n",
       " 'E M E F ACENDENDO AS LUZES',\n",
       " 'EMEIF VALDECIR SANTANA NASCIMENTO DOS SANTOS',\n",
       " 'EEEFM DO CAMPO PROFESSORA BENEDITA LIMA ARAUJO',\n",
       " 'EEFM PROF BASILIO DE CARVALHO - ANEXO',\n",
       " 'EEEFM PEDRO TEIXEIRA - ANEXO I',\n",
       " 'EEEFM PROF LEONARDO NEGRAO DE SOUSA - ANEXO',\n",
       " 'EEEM IRMA STELLA MARIA - ANEXO I',\n",
       " 'EEEFM BENVINDA DE ARAUJO PONTES-ANEXO I',\n",
       " 'E M E I F SAO FRANCISCO DE ASSIS',\n",
       " 'E M E I F NSRA DO GUADALUPE',\n",
       " 'E M E I F RIO URUCURI',\n",
       " 'E M E F DR VICENTE MAUES',\n",
       " 'E M E F PROF LAURA DOS SANTOS RIBEIRO',\n",
       " 'E M E I F N SRA DA PAZ',\n",
       " 'EMEIF D ANGELO FROSI',\n",
       " 'ESCOLA MUNICIPAL DE ENSINO FUNDAMENTAL CONEGO LUIS VARELA',\n",
       " 'E M E F GOV MAGALHAES BARATA',\n",
       " 'E M E F DR FRANCISCO LEITE LOPES',\n",
       " 'E M EI F STA CLARA',\n",
       " 'EMEF BOM PASTOR',\n",
       " 'E M E F FRANCISCO MARQUES FERREIRA',\n",
       " 'EEEFM PROF BENVINDA DE ARAUJO PONTES',\n",
       " 'E M E I F GERACAO 2000',\n",
       " 'E M E F SANTA LUZIA',\n",
       " 'EMEIF CENTRO EDUCACIONAL EVANGELICO',\n",
       " 'EMEF DOM PEDRO II',\n",
       " 'EEEM PROF HELIO FROTA LIMA',\n",
       " 'E M E F ALACID DA SILVA NUNES',\n",
       " 'E M E F PROF HELIO FROTA LIMA',\n",
       " 'E M E F PROFESSORA LYDIA LIMA',\n",
       " 'E M E F CORONEL SAMPAIO',\n",
       " 'E M E F PROFESSORA LUCIMAR DE JESUS SILVA LIMA',\n",
       " 'E M E I F PAULINO ANTONIO PENINCHE',\n",
       " 'E M E I F CACULA',\n",
       " 'E M E I F DOUTORA RUTH PASSARINHO',\n",
       " 'E M E I F ESPIRITO SANTO',\n",
       " 'E M E I F JULIO CEZAR',\n",
       " 'E M E I F JOAO TRIGUEIRO',\n",
       " 'E M E I F MONTE HOREBE',\n",
       " 'E M E I F NOSSA SENHORA DO BOM REMEDIO I',\n",
       " 'E M E I F NOSSA SENHORA DO PERPETUO SOCORRO I',\n",
       " 'E M E I F PAIVA MELO',\n",
       " 'E M E I F SAO BENEDITO III',\n",
       " 'E M E I F SANTA MARIA III',\n",
       " 'E M E I F BOA VISTA I',\n",
       " 'E M E I F URUCURE',\n",
       " 'E M E I F CASEMIRO FRANCISCO DE PAIVA',\n",
       " 'E M E I F 13 DE MAIO',\n",
       " 'E M E I E F PROFESSORA MARIA ANTONIETA DE PAIVA',\n",
       " 'E M E I F SANTA LUZIA I',\n",
       " 'E M E I F SHALLON',\n",
       " 'E M E I F NOVA ALIANCA',\n",
       " 'E M E F DR JARBAS CAVALCANTE',\n",
       " 'E M E F CLODOVIO COELHO',\n",
       " 'E M E F AUGUSTO JOSE MONTEIRO',\n",
       " 'E M E F BELKISS SANTOS',\n",
       " 'E M E F OTACILIO BAIA SANTANA',\n",
       " 'E M E F RAIMUNDO NUNES COELHO',\n",
       " 'E M E F EDIVALDO RODRIGUES LACERDA',\n",
       " 'E M E F HEROI DA FE',\n",
       " 'E M E F JOAQUIM MATIAS',\n",
       " 'E M E F JOSE PEREIRA MONTORIL',\n",
       " 'E M E F NOSSA SENHORA DE LOURDES',\n",
       " 'E M E F PROF RAIMUNDA BARAUNA',\n",
       " 'E M E F PASTOR MANOEL MARIA CARDOSO',\n",
       " 'E M E F SAO BENEDITO',\n",
       " 'E M E F MELQUIADES NEGREIRO',\n",
       " 'E M E F PAULO SA',\n",
       " 'E M E F PR CRISPINIANO F DE MELO',\n",
       " 'E M E F MARCELINO RODRIGUES DO MONTE',\n",
       " 'E M E F CARLOS RODRIGUES',\n",
       " 'E M E F FREI FAUSTINO LEGARDA',\n",
       " 'E M E F ELIZIA DA CONCEICAO BAIA DA SILVA',\n",
       " 'EMEF LEOPOLDINA GUERREIRO',\n",
       " 'E M E F ABILIO RODRIGUES DE MONCAO',\n",
       " 'E M E F JUSSARA II',\n",
       " 'E M E F OSVALDO ROGERIO DE SOUZA',\n",
       " 'E M E F DIVA BATISTA DA SILVA',\n",
       " 'E M E F AGUA AZUL',\n",
       " 'E M E F ETERIO TEIXEIRA',\n",
       " 'EEEFM SANTO ANTONIO',\n",
       " 'EEEF MONTEIRO LOBATO',\n",
       " 'EEEF DR JOSE JORGE HAGE',\n",
       " 'EEEF FULGENCIO SIMOES',\n",
       " 'EEEF PROFA MARIA VALMONT',\n",
       " 'EEEM AMADEU BURLAMAQUI SIMOES',\n",
       " 'E M E I F FREI GUIDO',\n",
       " 'E M E I F JORGE SADALA',\n",
       " 'E M E I F MARIO BATISTA DE MACEDO',\n",
       " 'E M E I F BOA ESPERANCA II',\n",
       " 'E M E I F CHAPEUZINHO VERMELHO',\n",
       " 'E M E I F LUZIA MICHEL',\n",
       " 'E M E I F MARIA COSTA DOMINGUES',\n",
       " 'E M E F PROF VERIDIANA DE OLIVEIRA CORREA',\n",
       " 'E M E F VEREADOR JOAQUIM VALENTE',\n",
       " 'E M E I F EMANUEL',\n",
       " 'E M E I F ESPIRITO SANTO',\n",
       " 'E M E I F IZOLINA DASSUNCAO LOPES VALENTE',\n",
       " 'E M E I E F JOSE FARIAS',\n",
       " 'E M E I F MARIOLINO LOPES LOBO',\n",
       " 'E M E I F NOR MICHEL GANTUSS',\n",
       " 'E M E I E F NOSSA SENHORA DA CONCEICAO I',\n",
       " 'E M E I F RAMIRO BRITO',\n",
       " 'E M E I F SAO DAMIAO',\n",
       " 'E M E I F SANTA LUZIA I',\n",
       " 'E M E I F SAO FRANCISCO I',\n",
       " 'E M E I F SAO MIGUEL II',\n",
       " 'E M E I F SANTA RITA DE CASSIA I',\n",
       " 'E M E F MARTINHO NUNES',\n",
       " 'E M E I F CRISTO REI I',\n",
       " 'E M E I E F PROF MARIA BARRETO VINHOTE',\n",
       " 'EMEIF TIAGO OLIVEIRA',\n",
       " 'E M E I F BOM JESUS IV',\n",
       " 'E M E I F JESUS CONOSCO',\n",
       " 'E M E I F NOVA ESPERANCA I',\n",
       " 'E M E I F MENINO DEUS',\n",
       " 'E M E I F SEMENTINHA DO SABER',\n",
       " 'E M E I E F DULCINEIA CAMPOS DOS SANTOS SA',\n",
       " 'E R C DE ENS FUND NOSSA SENHORA DA CONCEICAO',\n",
       " 'EEEM FREI CONSTANCIO',\n",
       " 'E M E F MENDONCA FURTADO',\n",
       " 'E M E F PROF ELEY D ELLERES',\n",
       " 'E M E F DR PEDRO BATISTA DE SOUZA',\n",
       " 'E M E F 31 DE MARCO - BOTAFOGO',\n",
       " 'E M E F FREI FRAGOSO - RECREIO',\n",
       " 'E M E F PROF IERECE DA SILVA SANTOS',\n",
       " 'ESCOLA MUNICIPAL DE EDUCACAO INFANTIL E ENSINO FUNDAMENTAL DE SAO MIGUEL',\n",
       " 'E M E I E F PROF ANTONIO GOMES MOREIRA JUNIOR',\n",
       " 'E M E F SAO SEBASTIAO - COMANDAI GRANDE',\n",
       " 'E M E F PROF RAIMUNDO DOS SANTOS',\n",
       " 'E M E F PEDRO CALDAS BATISTA',\n",
       " 'E M E F PROFª FLAVIA SMITH DE MORAES',\n",
       " 'EMEIF RUI BARBOSA',\n",
       " 'EMEF ESTHER DE FIGUEIREDO FERRAZ',\n",
       " 'ESCOLA SESI ALTAMIRA',\n",
       " 'EMEF DA FRATERNIDADE ANTONIO INACIO DE LUCENA',\n",
       " 'EEEM PROFA DAIRCE PEDROSA TORRES',\n",
       " 'EEEM POLIVALENTE',\n",
       " 'EMEF DEODORO DA FONSECA',\n",
       " 'E M E F DOM CLEMENTE GEIGER',\n",
       " 'E M E F PROF ANTONIO GONDIM LINS',\n",
       " 'E M E F SAINT CLAIR PASSARINHO',\n",
       " 'E M E F PRINCESA DO XINGU',\n",
       " 'EMEF DR OCTACILIO LINO',\n",
       " 'E M E F CARLOS LEOCARPIO SOARES',\n",
       " 'EMEF JOAO RODRIGUES DA SILVA',\n",
       " 'EMEIF NOVA COLINA',\n",
       " 'EMEF NOVA VIDA',\n",
       " 'EMEF LEO HECK',\n",
       " 'EMEF ARTUR PESSOA',\n",
       " 'E M E F ANISIO DE ARAUJO UCHOA',\n",
       " 'E M E F JOSE DE ALENCAR',\n",
       " 'EMEF PROFESSORA NAIR DE NAZARE LEMOS',\n",
       " 'E M E F NOSSA SENHORA APARECIDA',\n",
       " 'EMEIF PROF MARIA FARIAS FERREIRA',\n",
       " 'EEEFM GETULIO VARGAS',\n",
       " 'E M E F PROF RILZA MARIA DE MOURA ACACIO',\n",
       " 'EEEM BARTOLOMEU MORAES DA SILVA',\n",
       " 'E M E F ARTUR TEIXEIRA',\n",
       " 'EMEF PAULO BENICIO DOS SANTOS',\n",
       " 'EMEIF RAIMUNDO MARIO CASTELO SANTANA',\n",
       " 'EMEF SEBASTIAO DE OLIVEIRA',\n",
       " 'EEEM ODILA DE SOUSA',\n",
       " 'EMEF SANTA BENEDITA',\n",
       " 'EMEIF RAIMUNDA RODRIGUES MOTA',\n",
       " 'EMEIF MARIA LUIZA DA SILVA HOLANDA',\n",
       " 'EMEF INSTITUTO MARIA DE MATTIAS',\n",
       " 'EMEF SOL NASCENTE',\n",
       " 'E M E I F JOAO E MARIA',\n",
       " 'E M E I F FRANCISCO CARNEIRO FREITAS',\n",
       " 'EMEIF GETULIO VARGAS',\n",
       " 'EMEF JOAO PAULO II',\n",
       " 'E M E F GERALDO EMIDIO BEZERRA',\n",
       " 'EMEIF CACHOEIRA DA SERRA',\n",
       " 'EEEM PROFA DUCILLA ALMEIDA DO NASCIMENTO',\n",
       " 'EMEIF DR ULYSSES GUIMARAES',\n",
       " 'EMEIF IDEAL',\n",
       " 'EMEIEF FLORENCIO FILHO',\n",
       " 'E M E F BERNARDINO CARDOSO',\n",
       " 'E M E F CASA GRANDE',\n",
       " 'E M E F DAVID GONCALVES',\n",
       " 'E M E F LAURA DE PAIVA MESQUITA',\n",
       " 'E M E F LEOVEGILDO TABOSA',\n",
       " 'E M E F MARIA IRANEDE COUTINHO',\n",
       " 'E M E F PARAISO DO ARAMA',\n",
       " 'E M E F VISTA ALEGRE',\n",
       " 'E M E F SANTO ANDRE',\n",
       " 'E M E F MARIO DE VASCONCELOS BARROS',\n",
       " 'E M E F MAJOR PAIVA',\n",
       " 'E M E F FE EM DEUS',\n",
       " 'E M E F ROSELI PAIVA',\n",
       " 'EEEF PRINCESA ISABEL - CENTRO',\n",
       " 'EEEF XV DE OUTUBRO',\n",
       " 'EEEFM NOVO HORIZONTE',\n",
       " 'EEEF CINDERELA',\n",
       " 'EEEF C MAES NOSSA SENHORA APAR PARQUE S FRANCISCO',\n",
       " 'EMEF EDUARDA TEIXEIRA PEREIRA',\n",
       " 'EEEFM DOM ALBERTO GALDENCIO RAMOS',\n",
       " 'EEEFM PROF JOSE VALENTE RIBEIRO',\n",
       " 'EMEF JOAO PAULO II',\n",
       " 'EEEF CENTRO EDUCACIONAL FLAVIANO GOMES',\n",
       " 'EEEFM PRINCIPE DA PAZ',\n",
       " 'EMEF MACHADO DE ASSIS',\n",
       " 'EEEFM MINISTRO ALCIDES CARNEIRO',\n",
       " 'EEEF GONCALVES DIAS',\n",
       " 'EEEF CANDIDO HORACIO EVELIN',\n",
       " 'EEEF CELINA DEL TETTO',\n",
       " 'EEEF ANTONIO BEZERRA FALCAO',\n",
       " 'EEEFM ONEIDE DE SOUZA TAVARES',\n",
       " 'EEEFM JOAO CARLOS BATISTA',\n",
       " 'EEEF PROF GELMIREZ MELO E SILVA',\n",
       " 'EEEFM MADRE CELESTE',\n",
       " 'EEEFM ANTONIO TEIXEIRA GUEIROS',\n",
       " 'EEEF ARIRI',\n",
       " 'EEEFM JOAQUIM VIANA',\n",
       " 'EEEF PRES TANCREDO DE ALMEIDA NEVES',\n",
       " 'EEEF PROFA EUGENIA CAVALLEIRO DE MACEDO',\n",
       " 'EEEF PROF JOSE ASSIS RIBEIRO',\n",
       " 'EEEFM PROFA MARIA ARAUJO FIGUEIREDO',\n",
       " 'EEEFM REGINA COELI SOUZA SILVA',\n",
       " 'EEEF JOAO ALVES ANDRADE',\n",
       " 'EEEF BOM JARDIM',\n",
       " 'EEEF DEPUTADO ARMANDO CORREA',\n",
       " 'EEEFM AGOSTINHO MONTEIRO',\n",
       " 'EEEF DR GASPAR VIANNA',\n",
       " 'EEEFM JADERLANDIA',\n",
       " 'EEEFM JULIA SEFFER',\n",
       " 'EEEFM LUIZ NUNES DIREITO',\n",
       " 'EEEF MARIA ENCARNACAO DE ARAUJO',\n",
       " 'EEEF MAGUARI',\n",
       " 'EEEFM PRESIDENTE DUTRA',\n",
       " 'EEEF RAMIRO OLAVO RIBEIRO DE CASTRO',\n",
       " 'EEEFM JOSE MARCELINO DE OLIVEIRA',\n",
       " 'EEEF LUCY CORREA DE ARAUJO',\n",
       " 'EEEFM PRINCESA ISABEL - ATALAIA',\n",
       " 'EEEFM EROTILDES FROTA AGUIAR',\n",
       " 'EEEF GREGORIO DE ALMEIDA BRITO',\n",
       " 'EEEF COMANDANTE LAURINDO CANDIDO AZEITONA',\n",
       " 'EEEFM PROF ZULIMA VERGOLINO DIAS',\n",
       " 'EEEF RUI BARATA',\n",
       " 'EMEF AMELIA REIS FREITAS',\n",
       " 'EMEF ANDRE AVELINO PIEDADE',\n",
       " 'EMEF DR BENEDITO MAIA',\n",
       " 'EMEF CANDIDA SANTOS DE SOUZA',\n",
       " 'EMEF CLODOMIR DE LIMA BEGOT',\n",
       " 'EMEF CLOVIS DE SOUZA BEGOT',\n",
       " 'EMEF EVANGELHO QUADRANGULAR',\n",
       " 'E M E F DOMICIANO DE FARIAS',\n",
       " 'EEEF ELCIONE BARBALHO',\n",
       " 'EMEF GERALDO MANSO PALMEIRA',\n",
       " 'EMEF HILDEGARDA CALDAS DE MIRANDA',\n",
       " 'EMEF JOAO NUNES DE SOUZA',\n",
       " 'EMEF JOAO RAFAEL CARDOSO TEIXEIRA',\n",
       " 'EMEF JULIA BARBALHO',\n",
       " 'EMEF MANOEL JOSE SANCHES DE BRITO',\n",
       " 'EMEF MANOEL LOBATO MAUES',\n",
       " 'EMEF MONTE SIAO',\n",
       " 'EMEF NILCE ALVES BRANCO',\n",
       " 'EMEF NOVA REPUBLICA',\n",
       " 'EMEF NOVO BRASIL',\n",
       " 'EMEF PADRE GABRIEL BULGARELLI',\n",
       " 'EEEFM PE ORIONE',\n",
       " 'EMEF ANTONIO TEIXEIRA GUEIROS',\n",
       " 'EMEF PROF MARIA DO CARMO BARBOSA MONTEIRO',\n",
       " 'EMEF PROF LUCIA WANDERLEY',\n",
       " 'EMEF PROF RAIMUNDA PINTO',\n",
       " 'EMEF RAUL VICENTE',\n",
       " 'E M E F SAO JUDAS TADEU',\n",
       " 'EMEF SAO PAULO',\n",
       " 'EMEF SENADOR ALVARO ADOLFO',\n",
       " 'EMEF SANTA INES',\n",
       " 'EMEF SANTA TEREZINHA',\n",
       " 'EMEF UNIAO E FRATERNIDADE',\n",
       " 'EMEF VEREADOR MANOEL FERNANDES DE OLIVEIRA',\n",
       " 'EMEF WALDEMAR MENDES',\n",
       " 'EMEIF PROF YACTA REBELO',\n",
       " 'EEEF ELAINE ISMAELINO DE FREITAS',\n",
       " 'EEEF ANTONIO SAMPAIO',\n",
       " 'EEEFM RAINHA DA PAZ',\n",
       " 'EEEFM INSTITUTO BOM PASTOR',\n",
       " 'EEEF JOAO XXIII',\n",
       " 'EEEFM CRISTO REDENTOR',\n",
       " 'EEEFM JORNALISTA ROMULO MAIORANA',\n",
       " 'EEEFM CONEGO BATISTA CAMPOS',\n",
       " 'EEEF MARIA DE NAZARE MARQUES RIOS',\n",
       " 'EEEF NOVAS AGUAS LINDAS',\n",
       " 'EEEF CLUBE DE MAES JARDIM JADER BARBALHO',\n",
       " 'EEEFM SAO GERALDO',\n",
       " 'EEEFM ENEIDA DE MORAES',\n",
       " 'EEEF ICUI LARANJEIRA',\n",
       " 'EEEF NEDAULINO VIANA DA SILVEIRA',\n",
       " 'EMEF NELSON PEREIRA DIAS',\n",
       " 'EMEF DAMAS SALESIANAS',\n",
       " 'EMEF AIMEE SEMPLE MCPHERSON',\n",
       " 'EMEF NUCLEO DE ESTUDOS OLIVEIRA',\n",
       " 'EMEF NOVA UNIAO',\n",
       " 'EMEF BELO SABER ANANIN',\n",
       " 'EMEF MARIA CREUZA SOUZA',\n",
       " 'EMEF FREDERICO SANTOS DE SOUZA',\n",
       " 'EMEF AMMA',\n",
       " 'EMEF NOVO CRISTO',\n",
       " 'EMEF JOSE MARIA MORAIS E SILVA',\n",
       " 'EEEF CENTRO EDUCACIONAL AMAZONIA',\n",
       " 'EMEF HELIOLANDIA',\n",
       " 'EMEF LIBERDADE',\n",
       " 'EEEF ANANI',\n",
       " 'EEEF NAIR RODRIGUES DE CALDAS BRITO ZALUTH',\n",
       " 'EEEF ESPIRITO SANTO',\n",
       " 'EMEF NOVO TAUARI',\n",
       " 'EEEFM CONSUELO COELHO E SOUZA',\n",
       " 'EEEF CENTRO COMUNITARIO VILA ESPERANCA',\n",
       " 'EEEF PADRE PIETRO GEROSA',\n",
       " 'EMEF PADRE PIETRO GEROSA',\n",
       " 'EMEF INSTITUTO NOSSA SENHORA AUXILIADORA',\n",
       " 'EEEF SAO VICENTE',\n",
       " 'EEEF MORADORES CRISTO REI',\n",
       " 'EEEF CONEGO BATISTA CAMPOS',\n",
       " 'EMEF MARIA EMILIA ANTUNES',\n",
       " 'EMEF SARE',\n",
       " 'EEEFM PROF FRANCISCO PAULO DO NASCIMENTO MENDES',\n",
       " 'EMEF HERMINIO CALVINHO FILHO',\n",
       " 'EEEF BENEDITO CELSO PADUA COSTA',\n",
       " 'EMEF CENTRO EDUCACIONAL BRASILEIRINHO',\n",
       " 'EMEIF IVANY NASSAR PALMEIRA',\n",
       " 'EEEFM RAIMUNDO VERA CRUZ',\n",
       " 'EEEM PROFA MARIA HELENA VALENTE TAVARES',\n",
       " 'EMEF LAERCIO WILSON BARBALHO',\n",
       " 'EEEFM PARAENSE',\n",
       " 'EEEFM PROF MANOEL SATURNINO DE ANDRADE FAVACHO',\n",
       " 'E M E F DR ACY DE JESUS BARROS PEREIRA',\n",
       " 'E M E F STA JULIA',\n",
       " 'E M E F OSVALDO CRUZ',\n",
       " 'EMEF PINGO DE GENTE II',\n",
       " 'EMEIF PROFESSORA MARIA HELENA DA CRUZ DE OLIVEIRA',\n",
       " 'CASA FAMILIAR RURAL DE ANAPU DOROTHY STANG',\n",
       " 'E M E F PROF RICARDO OLIVEIRA JUNIOR',\n",
       " 'E M E F SAO JOSE II',\n",
       " 'E M E F MARIA DAS DORES',\n",
       " 'E M E F BRASIL GRANDE',\n",
       " 'E M E F IRMA SERAFINA',\n",
       " 'EMEF FRANCISCO ASSIS PEREIRA SILVA',\n",
       " 'E M E F SANTO ANTONIO',\n",
       " 'EEEM SANTA CLARA',\n",
       " 'E M E F MARIANO CANDIDO SARAIVA',\n",
       " 'E M E F BELARMINO LELO',\n",
       " 'E M E I F VIRGILIO CORREA',\n",
       " 'E M E F PROF GENESIA ALENCAR DA SILVA',\n",
       " 'E M E I F MARIA BENEDITA MOTA',\n",
       " 'E M E F MARIA DA SILVA NUNES',\n",
       " 'E M E F MATILDE TEIXEIRA DE ASSIS',\n",
       " 'E M E F AMANCIO BRITO',\n",
       " 'E M E F ALVARO DE BRITO PRATA',\n",
       " 'E M E F EMANOEL DA COSTA NEVES',\n",
       " 'E M E F BELARMINO ALVES CORREA',\n",
       " 'E M E F PAULINO ALVES CORREA DE BRITO',\n",
       " 'E M E F MARIA DA CONCEICAO SANTANA',\n",
       " 'E M E F MARIA FERNANDES',\n",
       " 'E M E F PROF VALENTINA PINHEIRO DA SILVA',\n",
       " 'E M E F LAURO BARBOSA DOS SANTOS CORDEIRO',\n",
       " 'E M E F PROF CARMEM DILCE GOMES DE ASSUNCAO',\n",
       " 'E M E F RAIMUNDO RODRIGUES DA SILVA',\n",
       " 'E M E F NOSSA SENHORA DA SOLEDADE',\n",
       " 'E M E F ANTONIO SILVEIRA DA CUNHA',\n",
       " 'E M E F ANDRE ALVES',\n",
       " 'E M E F EMILIANO PICANCO DA COSTA',\n",
       " 'ESCOLA EM REGIME DE CONVENIO PARAISO DA CRIANCA',\n",
       " 'E M E F JOAO MONTEIRO DA SILVA',\n",
       " 'E M E F MANOEL SADY DA COSTA REIS',\n",
       " 'E M E F LIRIOS DO VALE',\n",
       " 'E M E I F CAJUEIRO',\n",
       " 'EEEFM PROF HILDEBERTO REIS',\n",
       " 'EEEFM MANOEL EMILIO PANTOJA',\n",
       " 'E M E I F PROF MARIA JOSE PENICHE MOURA',\n",
       " 'E M E I F DR RAUL VILELA DE CARVALHO',\n",
       " 'E M E I F MARIO CRESCENCIO FURTADO',\n",
       " 'E M E I F NSRA DE FATIMA CASULO',\n",
       " 'E M E F NOVA ESPERANCA',\n",
       " 'E M E I F RAIMUNDO TRAJANO DE LIMA',\n",
       " 'E M E F SANTA TEREZINHA',\n",
       " 'E M E I F SAGRADO CORACAO DE JESUS',\n",
       " 'E M E I E F RAIMUNDA MENDES QUEIROZ',\n",
       " 'E M E F ZILMA BARBOSA',\n",
       " 'E M E I F RAUL PASTANA PANTOJA',\n",
       " 'E M E I F RIO JABUTI',\n",
       " 'E M E I F MANOEL EMILIO PANTOJA II',\n",
       " 'E M E F N SRA DA CONCEICAO',\n",
       " 'E M E F ANTONIO CARVALHO DA SILVA',\n",
       " 'E M E I F PR DANIEL BERG',\n",
       " 'E M E F OSVALDO MELO',\n",
       " 'E M E I F PROF MARIA DA GLORIA RODRIGUES PAIXAO',\n",
       " 'E M E I F PRINCESA IZABEL',\n",
       " 'E M E I F SANTA TEREZINHA',\n",
       " 'E M E F SAGRADO CORACAO DE JESUS',\n",
       " 'E M E I F PROFA OLGARICE DA SILVA RODRIGUES',\n",
       " 'E M E I F PROF MARIA DA SILVA NUNES',\n",
       " 'EEEM JULIAO BERTOLDO DE CASTRO',\n",
       " 'E M E F PROFA PERUCIA FERREIRA CASTRO',\n",
       " 'E M E F SAO JOAO',\n",
       " 'EMEF RUI ANTONIO FARIAS LOBATO FILHO',\n",
       " 'EMEF PROFª INES FARIA MAIA',\n",
       " 'E M E F TEOTONIO NONATO DO CARMO',\n",
       " 'E M E F ARACI CORREA SANTA MARIA',\n",
       " 'E M E F DE BAIXINHA',\n",
       " 'E M E F JOSE CORREA DE MEDEIROS - CALADOS',\n",
       " 'E M E F DE CARDOSO',\n",
       " 'E M E F DE ENGENHO',\n",
       " 'E M E F DE MATACURA',\n",
       " 'E M E F DE UMARIZAL',\n",
       " 'EEEM FRANCISCA NOGUEIRA DA COSTA RAMOS',\n",
       " 'ALZERINA DE CARVALHO',\n",
       " 'E M E F E PROF GENEROSA',\n",
       " 'E M E F PROF PASTOR ANTENOR RODRIGUES DE FREITAS',\n",
       " 'E M E F MARIA ISABEL FURTADO BANNACH',\n",
       " 'EEEF CONEGO BATISTA CAMPOS',\n",
       " 'EEEFM EDUARDO ANGELIM',\n",
       " 'E M E F SANTA SOFIA',\n",
       " 'E M E I F CHECRALLA SALIM KHAYAT',\n",
       " 'E M E F NORONHA DE BARROS',\n",
       " 'E M E F MARIA ROSANGELA CARVALHO DA CONCEICAO',\n",
       " 'E M E F SAO FRANCISCO XAVIER',\n",
       " 'E M E F PREFEITO WANDICK GUTIERREZ',\n",
       " 'E M E I F ANTONIO CLARINDO MAGNO JUNIOR',\n",
       " 'E M E F CONEGO FRANCISCO DA SILVA CRAVO',\n",
       " 'E M E I F DOM PEDRO I',\n",
       " 'E M E F ARAPARI',\n",
       " 'E M E F MARIA CECILIA VASCONCELOS RIBEIRO',\n",
       " 'E M E F JARBAS PASSARINHO',\n",
       " 'E M E F PROF ALOYSIO DA COSTA CHAVES',\n",
       " 'E M E F NOSSA SENHORA APARECIDA',\n",
       " 'E M E I F NSRA DA CONCEICAO',\n",
       " 'EEEF BATISTA CAMPOS',\n",
       " 'EEEF SANTA HELENA',\n",
       " 'E M E I F VEREADOR GENARO APOLLARO',\n",
       " 'E M E F ZITA CONTENTE MAGNO CUNHA',\n",
       " 'E M E F BAIRRO INDUSTRIAL',\n",
       " 'E M E F PREFEITO LAURIVAL CAMPOS CUNHA',\n",
       " 'E M E F PREFEITO LAURIVAL MAGNO CUNHA',\n",
       " 'E M E F VEREADOR MARCOS MARTINS MAGNO',\n",
       " 'EEEFM JARDIM SIDERAL',\n",
       " 'EEEFM MARIA GABRIELA RAMOS DE OLIVEIRA',\n",
       " 'EEEF PEDRO MARQUES DE MESQUITA',\n",
       " 'EEEF CARLOS DRUMMOND DE ANDRADE',\n",
       " 'EEEF MORADORES VILA NOVA P MOURA CARVALHO',\n",
       " 'EEEF CASA DA CRIANCA SANTA INES',\n",
       " 'ESCOLA DE APLICACAO DA UFPA',\n",
       " 'EEEF PROFA MARLUCE PACHECO FERREIRA',\n",
       " 'EEEFM VISCONDE DE SOUZA FRANCO',\n",
       " 'EEEF MORADORES DA TERRA FIRME',\n",
       " 'EEEFM BARAO DE IGARAPE MIRI',\n",
       " 'EEEF MADRE ZARIFE SALES',\n",
       " 'EEEF PROF VIRGILIO LIBONATI',\n",
       " 'EEEF MARIA LUIZA',\n",
       " 'E E I F M TENENTE REGO BARROS',\n",
       " 'EEEF BENTO XV',\n",
       " 'EEEF MARIA LUIZA VELLA ALVES',\n",
       " 'EEEFM PAULINO DE BRITO',\n",
       " 'EEEIF PROFA EMILIANA SARMENTO FERREIRA',\n",
       " 'EEEFM PROFA HILDA VIEIRA',\n",
       " 'E M INES MAROJA',\n",
       " 'EEEF VIRGINIA ALVES DA CUNHA',\n",
       " 'EEEM ALEXANDRE ZACARIAS DE ASSUNCAO',\n",
       " 'EEEF PROF WALDEMAR RIBEIRO',\n",
       " 'EEEFM VERA SIMPLICIO',\n",
       " 'EEEF PROFA ANESIA',\n",
       " 'EEEFM ALDEBARO KLAUTAU',\n",
       " 'EEEIF ALMIRANTE TAMANDARE',\n",
       " 'EEEF DONA ALZIRA TEIXEIRA DE SOUZA',\n",
       " 'EEEFM AMILCAR ALVES TUPIASSU',\n",
       " 'EEEFM AUGUSTO MONTENEGRO',\n",
       " 'EEEIF BARAO DO RIO BRANCO',\n",
       " 'EEEF BENJAMIN CONSTANT',\n",
       " 'EEEF CALDEIRA CASTELO BRANCO',\n",
       " 'EEEFM ACACIO FELICIO SOBRAL',\n",
       " 'EEEFM LAURO SODRE',\n",
       " 'EEEFM ARTHUR PORTO',\n",
       " 'EEEFM PADRE BENEDITO CHAVES',\n",
       " 'EEEF AMAZONAS DE FIGUEIREDO',\n",
       " 'EEEFM AUGUSTO OLIMPIO',\n",
       " 'EEEF DOMINGOS ACATAUASSU NUNES',\n",
       " 'EEEF MAROJA NETO',\n",
       " 'EEEF PROF JOAO RENATO FRANCO',\n",
       " 'EEEFM PROFA PLACIDIA CARDOSO',\n",
       " 'EEEFM MONSENHOR AZEVEDO',\n",
       " 'EEEF SANTOS DUMONT',\n",
       " 'EEEF STELIO MAROJA',\n",
       " 'EEEFM PROF SANTANA MARQUES',\n",
       " 'EEEFM PROF ANTONIA PAES DA SILVA',\n",
       " 'EEEF CABANAGEM',\n",
       " 'EEEF DR CARLOS GUIMARAES',\n",
       " 'EEEFM DR FREITAS',\n",
       " 'EEEF DR MARIO CHERMONT',\n",
       " 'EEEFM DUQUE DE CAXIAS',\n",
       " 'EEEFM FREI DANIEL',\n",
       " 'EEEF GENERAL GURJAO',\n",
       " 'EEEF VEREADOR GONCALO DUARTE',\n",
       " 'EEEFM JARBAS PASSARINHO SOUSA',\n",
       " 'EEEFM JARBAS PASSARINHO',\n",
       " 'EEEF JOSE BONIFACIO',\n",
       " 'EEEF JOSE VERISSIMO',\n",
       " 'EEEF MATEUS DO CARMO',\n",
       " 'EEEF PAULO MARANHAO',\n",
       " 'EEEIF PINTO MARQUES',\n",
       " 'EEEFM S PROF CAMILO SALGADO',\n",
       " 'EEEIF PROFA NORMA MORHY',\n",
       " 'EEEIF PROFA LEONOR NOGUEIRA',\n",
       " 'EEEFM RUI BARBOSA',\n",
       " 'EEEF RUTH PASSARINHO',\n",
       " 'EEEFM SANTA LUZIA',\n",
       " 'EEEFM PROF RUTH ROSITA DE NAZARE GONZALES',\n",
       " 'EEEIFM BRIGADEIRO FONTENELLE',\n",
       " 'EEEFM GRAZIELA MOURA RIBEIRO',\n",
       " 'EEEF DR ANIBAL DUARTE',\n",
       " 'EEEFM EDGAR PINHEIRO PORTO',\n",
       " 'COLEGIO ESTADUAL DE ENSINO MEDIO PAES DE CARVALHO',\n",
       " 'EEEFM DR ULYSSES GUIMARAES',\n",
       " 'EEEFM JOSE ALVES MAIA',\n",
       " 'EEEF MANOEL DE JESUS MORAES',\n",
       " 'EEEF MARIO CARNEIRO DE MIRANDA',\n",
       " 'EEEFMT PRESIDENTE COSTA E SILVA',\n",
       " 'EEEIFM PROF ACY DE JESUS BARROS PEREIRA',\n",
       " 'EEEF PROF CELINA ANGLADA',\n",
       " 'EEEF PROFA DONATILA SANTANA LOPES',\n",
       " 'EEEIF PROFA ESTHER BANDEIRA GOMES',\n",
       " 'EEEF PROFA ROSALINA ALVARES SILVA CRUZ',\n",
       " 'EEEFM PROF TEMISTOCLES DE ARAUJO',\n",
       " 'EEEFM RODRIGUES PINAGE',\n",
       " 'EEEF SANTA HELENA',\n",
       " 'EEEFM TEODORA BENTES',\n",
       " 'E M AUGUSTO MEIRA FILHO',\n",
       " 'E M MARIA STELLINA VALMONT',\n",
       " 'E M AMALIA PAUMGARTTEN',\n",
       " 'E M AMANCIA PANTOJA',\n",
       " 'E M MARIA AMORAS DE OLIVEIRA',\n",
       " 'E M HONORATO FILGUEIRAS',\n",
       " 'EMEIF PROFESSOR MIGUEL PERNAMBUCO FILHO',\n",
       " 'E M ROTARY',\n",
       " 'E M MANUELA FREITAS',\n",
       " 'E M FRANCISCO DA SILVA NUNES',\n",
       " 'E M NESTOR NONATO LIMA',\n",
       " 'E M PALMIRA GABRIEL',\n",
       " 'E M ALMERINDO TRINDADE',\n",
       " 'E M ALZIRA PERNAMBUCO',\n",
       " 'E M ANTONIO CARVALHO BRASIL',\n",
       " 'E M BENVINDA DE FRANCA MESSIAS',\n",
       " 'E M ERNESTINA RODRIGUES',\n",
       " 'E M JOAO NELSON RIBEIRO',\n",
       " 'E M JOSINO VIANA',\n",
       " 'E M MARIA LUIZA PINTO AMARAL',\n",
       " 'E M PADRE LEANDRO PINHEIRO',\n",
       " 'E M RUY DA SILVEIRA BRITTO',\n",
       " 'E M SILVIO NASCIMENTO',\n",
       " 'E M SOLERNO MOREIRA',\n",
       " 'E M REPUBLICA DE PORTUGAL',\n",
       " 'E M COMANDANTE KLAUTAU',\n",
       " 'EEEFM NOSSA SENHORA DA CONCEICAO APARECIDA',\n",
       " 'EEEF FONTE VIVA',\n",
       " 'EEEF HUMBERTO DE CAMPOS',\n",
       " 'EEEF LAR DE MARIA',\n",
       " 'EEEF NOSSA SENHORA DAS GRACAS GUAMA',\n",
       " 'EEEF PAULA FRASSINETTI',\n",
       " 'EEEF PREVENTORIO SANTA TEREZINHA',\n",
       " 'EEEF ROSA GATTORNO',\n",
       " 'EEEFM SALESIANA DO TRABALHO',\n",
       " 'EEEF SAO PIO X',\n",
       " 'EEEF SANTO AFONSO',\n",
       " 'EEEF SANTO AGOSTINHO',\n",
       " 'EEEFM TIRADENTES I',\n",
       " 'EEEF SAO VICENTE DE PAULO',\n",
       " 'EEEF SAO JERONIMO',\n",
       " 'EEEF PROFA GUAJARINA DE SOUZA DA SILVA',\n",
       " 'EEEFM PROF PALMIRA GABRIEL',\n",
       " 'EEEF CLUBE MAES SANTA RITA DE CASSIA',\n",
       " 'EEEFM ALMIRANTE JOAO FARIA DE LIMA',\n",
       " 'EEEFM TENONE',\n",
       " 'EEEF NOSSA SENHORA DA CONCEICAO',\n",
       " 'EEEFM PADRE FRANCISCO BERTON',\n",
       " 'EEEF MARILDA NUNES',\n",
       " 'EEEFM CIDADE DE EMAUS',\n",
       " 'EEEF SAO FRANCISCO DE ASSIS',\n",
       " 'EEEF RODOLFO TOURINHO',\n",
       " 'EEEFM NOSSA SENHORA DO CARMO',\n",
       " 'EEEF GENY GABRIEL AMARAL',\n",
       " 'EEEFM MARIA ANTONIETA SERRA FREIRE',\n",
       " 'EEEF VEREADOR MANOEL MATOS COSTA',\n",
       " 'EEEFM BRASILIA',\n",
       " 'EEEF AMERICO SOUZA DE OLIVEIRA',\n",
       " 'EEEF COLONIA DO FIDELIS',\n",
       " 'EEEFM DO OUTEIRO',\n",
       " 'EEEFM PROF ODETE MARVAO',\n",
       " 'EEEFM SUBOFICIAL EDVALDO BRANDAO DE JESUS',\n",
       " 'EEEF YOLANDA LEDUC PERALTA',\n",
       " 'EEEFM CEL SARMENTO',\n",
       " 'EEEF XV DE NOVEMBRO',\n",
       " 'EEEFM DONA HELENA GUILHON',\n",
       " 'EEEFM IZABEL DOS SANTOS DIAS',\n",
       " 'EEEFM PROF PORANGA JUCA',\n",
       " 'EEEFM PROFA DILMA DE SOUZA CATTETE',\n",
       " 'EEEFM PROFA MARIA LUIZA DA COSTA REGO',\n",
       " 'E M MARIA MADALENA RAAD',\n",
       " 'E M ALFREDO CHAVES',\n",
       " 'E M MARIA HELOISA DE CASTRO',\n",
       " 'E M AVERTANO ROCHA',\n",
       " 'EEEF EUCLIDES DA CUNHA',\n",
       " 'E M MONSENHOR JOSE MARIA AZEVEDO',\n",
       " 'LICEU ESCOLA MESTRE RAIMUNDO CARDOSO',\n",
       " 'E M GABRIEL LAGE DA SILVA',\n",
       " 'E M WALTER LEITE CAMINHA',\n",
       " 'EEEF PROF MARIDALVA PANTOJA',\n",
       " 'EEEF SAO JOAO BATISTA',\n",
       " 'EEEF ASSOC CRISTA DO BENGUI',\n",
       " 'EEEF NOSSA SENHORA DE FATIMA II',\n",
       " 'EEEF PADRE JOSE GRISMONT',\n",
       " 'EEEF SANTA BARBARA',\n",
       " 'E M ABEL MARTINS',\n",
       " 'EEEFM HONORATO FILGUEIRAS',\n",
       " 'EEEF INGLES DE SOUZA',\n",
       " 'EEEFM PROF ABELARDO LEAO CONDURU',\n",
       " 'EEEF PROF LUIZA DE BARROS PIRES',\n",
       " 'E M ANNA BARRAU MENINEA',\n",
       " 'E M MAROJA NETO',\n",
       " 'E M LAURO CHAVES',\n",
       " 'E M ANGELUS NASCIMENTO',\n",
       " 'E M DONATILA SANTANA LOPES',\n",
       " 'E M DE EDUCACAO DO CAMPO MARIA CLEMILDES',\n",
       " 'E M REMIGIO FERNANDEZ',\n",
       " 'EEEFM PROF RENATO PINHEIRO CONDURU',\n",
       " 'EEEFM EUNICE WEAVER',\n",
       " 'EEEFM JONATHAS PONTES ATHIAS',\n",
       " 'EEEF NOSSA SENHORA DE FATIMA I',\n",
       " 'EEEIF ALMIRANTE GUILLOBEL',\n",
       " 'EEEFM DOM PEDRO I',\n",
       " 'EEEF PRESIDENTE CASTELO BRANCO',\n",
       " 'E M PROF IDA OLIVEIRA',\n",
       " 'EEEF BENEDITO MONTEIRO',\n",
       " 'EEEF PROF LENIRA TEIXEIRA MOURA',\n",
       " 'E M THEODOR BADOTTI',\n",
       " 'EEEFM WALDOMIRO RODRIGUES OLIVEIRA',\n",
       " 'EEEF SAO PEDRO',\n",
       " 'EEEF PANORAMA XXI',\n",
       " 'EEEFM MARIO BARBOSA',\n",
       " 'BOSQUE ESCOLA PROF EIDORFE MOREIRA',\n",
       " 'E M PALMIRA LINS DE CARVALHO',\n",
       " 'EEEFM FELIZ LUZITANIA',\n",
       " 'EEEFM FE EM DEUS',\n",
       " 'ESCOLA ESTADUAL DE ENSINO FUNDAMENTAL BIRA BARBOSA',\n",
       " 'EEEF RAINHA DOS CORACOES',\n",
       " 'E M PARQUE AMAZONIA',\n",
       " 'EEEIF PROF BRUNO DE MENEZES',\n",
       " 'EEEF LINDANOR CELINA COELHO CASSHA',\n",
       " 'E M PROF PEDRO DEMO',\n",
       " 'EEEF NOSSA SENHORA DAS GRACAS',\n",
       " 'E M DUAS IRMAS BIANCA E ADRIELY',\n",
       " 'E M DE ED INFANTIL E ENS FUNDAMENTAL MILTON MONTE',\n",
       " 'E M PARQUE BOLONHA',\n",
       " 'EEEM MANOEL LEITE CARNEIRO',\n",
       " 'E M AYRTON SENNA',\n",
       " 'E M NOVA ALIANCA',\n",
       " 'E M SANTANA DO AURA',\n",
       " 'E M PAULO ALMEIDA BRASIL',\n",
       " 'E M MARIA LUCIA OLIVEIRA MONTEIRO',\n",
       " 'EEEF NUREMBERG BORJA DE BRITO FILHO',\n",
       " 'E M DE EDUCACAO DO CAMPO SEBASTIAO DOS SANTOS QUARESMA',\n",
       " 'E E E T PROF ANISIO TEIXEIRA',\n",
       " 'EEEF MONTE SERRAT',\n",
       " 'EEEF ESTRADA NOVA',\n",
       " 'EEEF PROFA CLAUDINE GABRIELE LIMA E SILVA',\n",
       " 'E M OGILVANISE MOREIRA DE MOURA',\n",
       " 'EEEF ALEXANDRE NICOMEDES DA CUNHA',\n",
       " 'EEEF PADRE MARCOS',\n",
       " 'EEEF ASSOC DOS MORADORES DO JARDIM RESID JADERLAR',\n",
       " 'EEEFM DAVID SALOMAO MUFARREJ',\n",
       " 'EEEF GENERAL HENRIQUE GURJAO',\n",
       " 'EEEFM PROF RUTH DOS SANTOS ALMEIDA',\n",
       " 'E M JOAO CARLOS BATISTA',\n",
       " 'EEEF MARIA ESTELITA BARBOSA DA SILVA',\n",
       " 'EE DE ENSINO TECNICO DE NIVEL MEDIO DR CELSO MALCHER',\n",
       " 'E M CIRO PIMENTA',\n",
       " 'EEEIFM PROF ANTONIO GOMES MOREIRA JUNIOR',\n",
       " 'EEEIF RUY PARANATINGA BARATA',\n",
       " 'E M EDSON LUIS',\n",
       " 'E M PAULO FREIRE',\n",
       " 'E M FLORESTAN FERNANDES',\n",
       " 'E M SILVIO LEANDRO',\n",
       " 'EEEFM PROFA ALBANIZIA DE OLIVEIRA LIMA',\n",
       " 'E M JOSE ALVES CUNHA',\n",
       " 'E M TEREZINHA SOUZA',\n",
       " 'EEEFM PROF NAGIB COELHO MATNI',\n",
       " 'EEEFM PROF JORGE LOPES RAPOSO',\n",
       " 'E M PROF HELDER FIALHO DIAS',\n",
       " 'E M CORDOLINA FONTELLES DE LIMA',\n",
       " 'EEEF PARACURI II',\n",
       " 'EEEF SANTA LUZIA DE MARILAC',\n",
       " 'EEEF CARANANDUBA',\n",
       " 'EEEF XV DE OUTUBRO - GUAMA',\n",
       " 'EEEF FRANKLIN DE MENEZES',\n",
       " 'EEEF CRUZEIRO DO SUL',\n",
       " 'E M OLGA BENARIO',\n",
       " 'EEEFM NOSSA SENHORA DE GUADALUPE',\n",
       " 'EEEM MAGALHAES BARATA',\n",
       " 'EEEF PRATINHA II',\n",
       " 'EEEF DR MARIA ESTER MOUTA DE OLIVEIRA',\n",
       " 'EEEFM DR JOSE MARCIO AYRES',\n",
       " 'EEEF CANARINHO',\n",
       " 'E M E F FREI FABIANO',\n",
       " 'E M E F NOSSA SENHORA DO PERPETUO SOCORRO',\n",
       " 'E M E F PROFESSORA VITALINA MOTTA',\n",
       " 'E M E F SAO JORGE',\n",
       " 'E M E F SAO PEDRO',\n",
       " 'E M E F SANTA FILOMENA',\n",
       " 'E M E F SANTA TEREZINHA',\n",
       " 'E M E F SANTO ANTONIO',\n",
       " 'E M E F DARCY VARGAS',\n",
       " 'E M E F MANOEL GARCIA DE PAIVA',\n",
       " 'EEEM WALDEMAR MAUES',\n",
       " 'E M E F SAGRADA FAMILIA',\n",
       " 'E M E F ENY ATAIDE DE SOUSA CASTRO',\n",
       " 'EEEF SANTA MARIA BERTILLA',\n",
       " 'EEEF CENECISTA FRANCOIS PAUL BEGOT',\n",
       " 'EMEIF NOSSA SENHORA DO CARMO',\n",
       " 'EEEMT PROF ANA TELES',\n",
       " 'EEEFM PROF DEUSARINA NASCIMENTO SOUZA',\n",
       " 'EEEF DA TERCEIRA TRAVESSA',\n",
       " 'EEEF DE CANUTAMA',\n",
       " 'EEEM DR OTAVIO MEIRA',\n",
       " 'EMEIF ANGELICA DE SOUZA SALES',\n",
       " 'EMEIF DEPUTADO GERSON PERES',\n",
       " 'EMEIF MARIA AMELIA',\n",
       " 'EMEF PIRILAMPO',\n",
       " 'EMEF RAFAEL FERNANDES GOMES',\n",
       " 'UPEIF NUCLEO EDUCACIONAL FIORE',\n",
       " 'EEEF ALICE FANJAS',\n",
       " 'EMEIF ANTONINA GARCIA',\n",
       " 'EEEFM JOAO BATISTA DE MOURA CARVALHO',\n",
       " 'EEEF LEAO IRINEU HAUSSLER DELGADO',\n",
       " 'EEEF DE MURININ',\n",
       " 'EMEIF MADRESSILVA',\n",
       " 'EMEIF PASTOR MANOEL TRAJANO DE FIGUEIREDO',\n",
       " 'EMEF SAO FRANCISCO DE ASSIS',\n",
       " 'EMEIF PROFESSORA JANETE DA SILVA LOPES',\n",
       " 'EMEIF PROFESSORA MARA BEGOT',\n",
       " 'EMEF ENGENHEIRO RONALDO ROSSI',\n",
       " 'EMEIF MARTINHO DOMIENSE PINTO BRAGA',\n",
       " 'EMEIF PARAISO DO MURININ',\n",
       " 'EEEF LEAO IRINEU HAUSSLER DELGADO - ANEXO I',\n",
       " 'EMEF JOSE LEONCIO FERREIRA DE SIQUEIRA',\n",
       " 'EMEIF MADRE TEREZA DE CALCUTA',\n",
       " 'EMEIF ABELARDO CRUZ DA SILVA',\n",
       " 'EMEIF PROFESSORA DIDI',\n",
       " 'EEEF PADRE JOSIMO TAVARES',\n",
       " 'EMEF SANTA LUZIA',\n",
       " 'EMEIF PROFESSOR RAIMUNDO GILSON DA SILVA SOUZA',\n",
       " 'EMEF PAULINA RAMOS',\n",
       " 'EMEF JOSE SALOMAO SOLON',\n",
       " 'EEEM PROF RUTH GUIMARAES FERREIRA',\n",
       " 'EEEFM PROFA MARIA SYLVIA DOS SANTOS SEDE',\n",
       " 'E M E F RAULINO DE OLIVEIRA PINTO',\n",
       " 'EMEF DUQUE DE CAXIAS',\n",
       " 'E M E F NSRA DE FATIMA',\n",
       " 'EMEF JUSCELINO KUBITSCHEK',\n",
       " 'EEEFM CHARLES ASSAD',\n",
       " 'EEEF SANTO ANTONIO DO CUMARU',\n",
       " 'E M E F SANTO ANTONIO DO CUMARU',\n",
       " 'E M E I F CASULO NILMA ASSAD',\n",
       " 'EEEF CENTRO EDUCACIONAL CORACAO DE JESUS',\n",
       " 'EEEF JOAO PAULO II',\n",
       " 'EEEFM AUGUSTO CORREA',\n",
       " 'EEEFM LUIZ PAULINO MARTIRES',\n",
       " 'EEEFM MANOEL JULIAO GARCIA CASTANHO',\n",
       " 'EEEFM PROF BOLIVAR BORDALLO DA SILVA',\n",
       " 'EEEF PROFA ARGENTINA PEREIRA',\n",
       " 'EEEFM DO ROCHA',\n",
       " 'EEEFM CEL ALUIZIO PINHEIRO FERREIRA',\n",
       " 'EEEFM MARIO QUEIROZ DO ROSARIO',\n",
       " 'EEEFM MONSENHOR MANCIO RIBEIRO',\n",
       " 'EEEFM PROF YOLANDA CHAVES',\n",
       " 'EEEFM LEANDRO LOBAO DA SILVEIRA',\n",
       " 'EEEFM PROF MARIA DE NAZARE CEZAR PINHEIRO',\n",
       " 'EEEFM PATALINO',\n",
       " 'EEEFM PADRE LUIZ GONZAGA',\n",
       " 'E M E I F JOSEFA ALVAO',\n",
       " 'E M E I F BRASILIANO FELICIO DA SILVA',\n",
       " 'E M E I F MIGUEL GOUVEIA',\n",
       " 'E M E F CRISTIANO JOSE DE MEDEIROS ROSA',\n",
       " 'E M E I F EMILIO DIAS RAMOS',\n",
       " 'E M E I F MANOEL GREGORIO DE SOUSA QUADROS',\n",
       " 'E M E I F DR AUGUSTO MONTENEGRO',\n",
       " 'E M E I F DR SIMPLICIANO FERNANDES DE MEDEIROS JUNIOR',\n",
       " 'E M E I F PROF YOLANDA PEREIRA DA SILVA',\n",
       " 'E M E I F JOAO BEZERRA CASTELO BRANCO',\n",
       " 'E M E F PROF JULIA QUADROS PEINADO',\n",
       " 'E M E I F REGINA GONCALVES FERREIRA',\n",
       " 'E M E F CRISTINA MARIA DOS SANTOS',\n",
       " 'E M E I F ANTONIA CAVALCANTE DO NASCIMENTO',\n",
       " 'E M E I F PE PAULO COROLLI',\n",
       " 'E M E I F PROF DOMINGAS DA COSTA SOUSA',\n",
       " 'E M E I F PROF JESUINA DO ROSARIO MELO',\n",
       " 'E M E F PROF JORGE DANIEL SOUZA RAMOS',\n",
       " 'E M E F PROF RAIMUNDO FERREIRA',\n",
       " 'E M E I F PROF THEODOMIRA RAIMUNDA DA SILVA LIMA',\n",
       " 'EEEF CASA DA AMIZADE',\n",
       " 'EEEF EXTERNATO SANTO ANTONIO',\n",
       " 'EEEFM DOMINGAS DA COSTA SOUSA',\n",
       " 'EEEFM ALBINO CARDOSO',\n",
       " 'E M E F LUCIA DE FATIMA MIRANDA DO ROSARIO',\n",
       " 'E M E I F PADRE ANGELO MARIA ABENI',\n",
       " 'E M E F RAIMUNDO MARTINS FILHO',\n",
       " 'E M E I F SANTOS DUMONT',\n",
       " 'E M E I F AMERICA MIRANDA TORRES',\n",
       " 'E M E I F MARIA FRANCISCA DE PAULA FELIPE',\n",
       " 'EMEF ANDRE ROSA DE MELO',\n",
       " 'E M E I F AMIGOS PARA SEMPRE',\n",
       " 'E M E I F PROF TARCILA CORREA DA GAMA',\n",
       " 'EEEFM RIO CAETE',\n",
       " 'EEEF SANTA TEREZINHA',\n",
       " 'E M E I F DOMINGOS DE SOUZA MELO',\n",
       " 'E M E F PROF MARIA JOSE DOS SANTOS MARTINS',\n",
       " 'E M E F AGRICOLA DR EDGAR DE SOUZA CORDEIRO',\n",
       " 'E M E I F PROF MARIA AUGUSTA CORREA DA SILVA',\n",
       " 'E M E I F PROF AMERICA RAMOS LOBAO DA SILVEIRA',\n",
       " 'E M E I F PROF FERNANDO DE BRITO',\n",
       " 'E M E I F CASA DOS ANJOS',\n",
       " 'E M E F CARLOS PENA FILHO',\n",
       " 'EEEM BRASIL NOVO',\n",
       " 'E M E F GRANDE ESPERANCA',\n",
       " 'E M E F SANTA TEREZINHA',\n",
       " 'E M E F PE LEO SCHINEIDER',\n",
       " 'E M E F IRMA TEREZINHA BACK',\n",
       " 'E M E F BRASIL NOVO',\n",
       " 'E M E F PARAISO',\n",
       " 'E M E F 15 DE NOVEMBRO',\n",
       " 'E M E F BREJO GRANDE DO ARAGUAIA',\n",
       " 'E M E F CILIRA VIEIRA DE SOUSA',\n",
       " 'EEEM PROF LICIO SOLHEIRO',\n",
       " 'E M E F SILVANA MOURA',\n",
       " 'E M E F NSRA DA PENHA',\n",
       " 'E M E I F VO JOAO',\n",
       " 'E M E F ANTONIO OLIVEIRA SANTANA',\n",
       " 'E M E I E F JUTAI',\n",
       " 'E M E I F ANTONIO RIBEIRO',\n",
       " 'E M E F MAXIMIANO SANTANA',\n",
       " 'E M E I E F SAO SEBASTIAO',\n",
       " 'E M E I F MARIA DA CONCEICAO CATOIA',\n",
       " 'E M E F JOAO BATISTA DE OLIVEIRA',\n",
       " 'E M E I E F TOCANTINS',\n",
       " 'E M E I F LEONARDO MENDES DE AZEVEDO',\n",
       " 'E M E F LUZIA GARCES DA COSTA CARDOSO',\n",
       " 'E M E I F MURU I',\n",
       " 'E M E F GONCALO VIEIRA',\n",
       " 'E M E F JOSE LOURENCO',\n",
       " 'E M E I F PARAISO',\n",
       " 'EMEE ADRIANA ALMEIDA MARINHO',\n",
       " 'E M E F FRANCISCO DE ASSIS ROSA DE JESUS',\n",
       " 'E M E F JORGE AMADO',\n",
       " 'E M E F VEREADOR GELMIREZ LAZARO DA FONSECA',\n",
       " 'EMEIF SANTO AGOSTINHO',\n",
       " 'E M E F EMERENTINA MOREIRA DE SOUZA',\n",
       " 'E M E F MARIA DE LOURDES C SALES',\n",
       " 'E M E F DR LAURO SODRE',\n",
       " 'E M E F PROF ODIZIA CORREA FARIAS',\n",
       " 'EEEM PROFA MARIA ELIZETE FONA NUNES',\n",
       " 'E M E F MIGUEL BITAR',\n",
       " 'E M E F PROFESSOR ESTEVAO GOMES',\n",
       " 'E M E F PAULO RODRIGUES DOS SANTOS',\n",
       " 'E M E F PROF ROSSILDA FERREIRA',\n",
       " 'E M E F PROF AUREA MARIA DA SILVA CUNHA',\n",
       " 'E M E I F JOAO PEREIRA SEIXAS RIO JABURUZINHO',\n",
       " 'E M E F NOVA VIDA RIO MACUJUBIM',\n",
       " 'E M E F PALACIO DE CRISTAL RIO JABURU',\n",
       " 'E M E I F SAO PAULO RIO BAIANO',\n",
       " 'E M E I F IDEVALDO DOS SANTOS PAES RIO JABURU',\n",
       " 'E M E F LAURA MARQUES DA SILVA RIO MARIAIZINHO',\n",
       " 'E M E F MACHADO PAES RIO JACARE GRANDE',\n",
       " 'E M E I F MARIO CARDOSO BARROS RIO ITUQUARA',\n",
       " 'E M E F SAO JORGE RIO ITUQUARA',\n",
       " 'E M E I F TALISMA RIO CONTRA MARE',\n",
       " 'EEEM SANTO AGOSTINHO',\n",
       " 'CENTRO EDUC DA ILHA MARAJOCEDIM',\n",
       " 'E M E I F JUSTINO COSTA',\n",
       " 'E M E F JOSE DE MATOS - RIO OLERIA',\n",
       " 'E M E F SAO FRANCISCO - CORRE DO ARANAI',\n",
       " 'E M E I F SANTA RITA RIO CUMARU',\n",
       " 'IFPA - CAMPUS BREVES',\n",
       " 'E M E I F ANTONIO DE JESUS MACHADO DA SILVA RIO ITUQUARA',\n",
       " 'C E M E F PROFESSOR RAIMUNDO PEREIRA PINHEIRO',\n",
       " 'EMEF SANTA MONICA',\n",
       " 'EMEF DOLORES GOUVEIA CAMARA RIO FURO DO GIL',\n",
       " 'E M E F LICA ALVES RIO JACAREZINHO',\n",
       " 'E M E F NSRA DA PIEDADE - RIO PARUACA',\n",
       " 'E M E F PROFA MARGARIDA AZEVEDO NEMER',\n",
       " 'E M E F SAO FELIX RIO ARAMA',\n",
       " 'E M E I F SANTA MARIA RIO MAPUA',\n",
       " 'E M E F ADVENTISTA DE BREVES',\n",
       " 'E M E I F EURICO NELSON',\n",
       " 'EEEM PROF GERSON PERES',\n",
       " 'E M E I F MANOEL SENA',\n",
       " 'EEEFM DOM MARIO DE MIRANDA VILAS BOAS',\n",
       " 'E M E I E F NOSSA SENHORA DA CONCEICAO',\n",
       " 'E M E F LAZARO CONCEICAO SANTOS',\n",
       " 'E M E F NOSSA SENHORA DO PERPETUO SOCORRO',\n",
       " 'E M E F ONEIDE AVELINO DE FRANCA',\n",
       " 'E M E I F PROFA IZOLINA REIS DA SILVA',\n",
       " 'E M E F ROSILA TRINDADE',\n",
       " 'E M E I F SAO BENEDITO',\n",
       " 'E M E I E F SANTO ANDRE',\n",
       " 'E M E F DOM ANGELO FROSI',\n",
       " 'E M E F SAO RAIMUNDO',\n",
       " 'E M E F SAO BENEDITO',\n",
       " 'EMEF SAO SEBASTIAO',\n",
       " 'E M E F SAO FRANCISCO',\n",
       " 'EEEFM RAIMUNDO DE CAMPOS LOPES',\n",
       " 'E M E F PROFª ISABEL BRAGA DE SOUSA',\n",
       " 'E M E F MARIA JOSE OLIVEIRA FARO',\n",
       " 'EEEFM ADRIANO GONCALVES',\n",
       " 'E M E F BOA ESPERANCA GUAJARA',\n",
       " 'E M E F JIBOIA',\n",
       " 'E M E F IGARAPE DE AREIA',\n",
       " 'E M E F JOSE GUIMARAES DE FREITAS',\n",
       " 'E M E F QUILOMBOLA PROFESSORA RAIMUNDA BEZERRA RAMOS',\n",
       " 'E M E F PROFESSOR DOMINGOS QUEIROZ',\n",
       " 'E M E F PROFESSOR JOSE CAVALCANTE',\n",
       " 'E M E F BOLIVAR BARREIRA',\n",
       " 'E M E F ESPERANCA',\n",
       " 'E M E F MARIA BEZERRA PONTES',\n",
       " 'E M E F MANOEL ALEXANDRE PONTES',\n",
       " 'E M E I F SEBASTIAO OLIVEIRA',\n",
       " 'E M E F ANTENOR OLIVEIRA',\n",
       " 'E M E F JARBAS PASSARINHO',\n",
       " 'E M E F NELSON CORDEIRO DE LIMA',\n",
       " 'EEEFM JOSE RODRIGUES VIANA',\n",
       " 'EEEFM RETIRO GRANDE',\n",
       " 'EEEF CAMARA',\n",
       " 'EEEFM DELGADO LEAO SEDE',\n",
       " 'E M E F ADALTINO PARAENSE',\n",
       " 'E M E I F DE ARANAI',\n",
       " 'E M E F BOCA PEQUENA',\n",
       " 'E M E I F BOM JESUS RETIRO GRANDE',\n",
       " 'E M E F JOSE AFONSO VIANA',\n",
       " 'E M E F MARIA LEOPOLDINA DE CASTRO',\n",
       " 'E M E I F SAO JOSE',\n",
       " 'E M E I F UMARIZAL',\n",
       " 'EEEF MAGNO DA SILVA BAHIA',\n",
       " 'CENTRO INTEGRADO DE FORMACAO PROFISSIONAL DE CAMETA',\n",
       " 'E M E F CORONEL RAIMUNDO LEAO',\n",
       " 'E M E I F PROFESSORA MARIA DE NAZARE PERES',\n",
       " 'E M E F RAIMUNDA DA SILVA BARROS',\n",
       " 'E M E I F PROFESSORA FRANCISCA ARNAUD DE PINA',\n",
       " 'E M E F GENERAL OSORIO',\n",
       " 'EEEM JULIA PASSARINHO',\n",
       " 'E M E I F PROFESSORA OSMARINA ANDRADE DOS SANTOS',\n",
       " 'EEEM OSVALDINA MUNIZ',\n",
       " 'E M E I F DE BOM JARDIM',\n",
       " 'E M E I F DE CAMETA TAPERA',\n",
       " ...]"
      ]
     },
     "execution_count": 22,
     "metadata": {},
     "output_type": "execute_result"
    }
   ],
   "source": [
    "list(data_estado_.NO_ENTIDADE)"
   ]
  },
  {
   "cell_type": "code",
   "execution_count": 169,
   "id": "e9ab84da",
   "metadata": {},
   "outputs": [
    {
     "data": {
      "text/html": [
       "<div>\n",
       "<style scoped>\n",
       "    .dataframe tbody tr th:only-of-type {\n",
       "        vertical-align: middle;\n",
       "    }\n",
       "\n",
       "    .dataframe tbody tr th {\n",
       "        vertical-align: top;\n",
       "    }\n",
       "\n",
       "    .dataframe thead th {\n",
       "        text-align: right;\n",
       "    }\n",
       "</style>\n",
       "<table border=\"1\" class=\"dataframe\">\n",
       "  <thead>\n",
       "    <tr style=\"text-align: right;\">\n",
       "      <th></th>\n",
       "      <th>Regiao</th>\n",
       "      <th>Estrutura</th>\n",
       "      <th>PED</th>\n",
       "      <th>LibrasBraile</th>\n",
       "      <th>TratamentoLixo</th>\n",
       "      <th>PCD</th>\n",
       "      <th>Acessibilidade</th>\n",
       "      <th>Internet</th>\n",
       "      <th>Transporte</th>\n",
       "    </tr>\n",
       "  </thead>\n",
       "  <tbody>\n",
       "    <tr>\n",
       "      <th>0</th>\n",
       "      <td>1</td>\n",
       "      <td>-0.692924</td>\n",
       "      <td>-0.054526</td>\n",
       "      <td>0.049831</td>\n",
       "      <td>-0.075289</td>\n",
       "      <td>0.353805</td>\n",
       "      <td>-1.493830</td>\n",
       "      <td>-0.014121</td>\n",
       "      <td>-0.372056</td>\n",
       "    </tr>\n",
       "    <tr>\n",
       "      <th>1</th>\n",
       "      <td>2</td>\n",
       "      <td>-0.324657</td>\n",
       "      <td>-0.033245</td>\n",
       "      <td>-0.072131</td>\n",
       "      <td>0.047310</td>\n",
       "      <td>-0.028739</td>\n",
       "      <td>-0.615854</td>\n",
       "      <td>-0.242183</td>\n",
       "      <td>0.051074</td>\n",
       "    </tr>\n",
       "    <tr>\n",
       "      <th>2</th>\n",
       "      <td>3</td>\n",
       "      <td>1.027076</td>\n",
       "      <td>0.070140</td>\n",
       "      <td>-0.023575</td>\n",
       "      <td>-0.002644</td>\n",
       "      <td>-0.008133</td>\n",
       "      <td>0.234359</td>\n",
       "      <td>0.076328</td>\n",
       "      <td>-0.010067</td>\n",
       "    </tr>\n",
       "    <tr>\n",
       "      <th>3</th>\n",
       "      <td>4</td>\n",
       "      <td>-0.536984</td>\n",
       "      <td>0.009790</td>\n",
       "      <td>0.026490</td>\n",
       "      <td>-0.010544</td>\n",
       "      <td>-0.157284</td>\n",
       "      <td>1.160835</td>\n",
       "      <td>0.310241</td>\n",
       "      <td>0.128019</td>\n",
       "    </tr>\n",
       "    <tr>\n",
       "      <th>4</th>\n",
       "      <td>5</td>\n",
       "      <td>-0.992818</td>\n",
       "      <td>-0.100813</td>\n",
       "      <td>0.361023</td>\n",
       "      <td>-0.098031</td>\n",
       "      <td>-0.007505</td>\n",
       "      <td>1.872333</td>\n",
       "      <td>0.249869</td>\n",
       "      <td>0.070062</td>\n",
       "    </tr>\n",
       "  </tbody>\n",
       "</table>\n",
       "</div>"
      ],
      "text/plain": [
       "   Regiao  Estrutura       PED  LibrasBraile  TratamentoLixo       PCD  \\\n",
       "0       1  -0.692924 -0.054526      0.049831       -0.075289  0.353805   \n",
       "1       2  -0.324657 -0.033245     -0.072131        0.047310 -0.028739   \n",
       "2       3   1.027076  0.070140     -0.023575       -0.002644 -0.008133   \n",
       "3       4  -0.536984  0.009790      0.026490       -0.010544 -0.157284   \n",
       "4       5  -0.992818 -0.100813      0.361023       -0.098031 -0.007505   \n",
       "\n",
       "   Acessibilidade  Internet  Transporte  \n",
       "0       -1.493830 -0.014121   -0.372056  \n",
       "1       -0.615854 -0.242183    0.051074  \n",
       "2        0.234359  0.076328   -0.010067  \n",
       "3        1.160835  0.310241    0.128019  \n",
       "4        1.872333  0.249869    0.070062  "
      ]
     },
     "execution_count": 169,
     "metadata": {},
     "output_type": "execute_result"
    }
   ],
   "source": [
    "#Agrupar por Regiao\n",
    "#Veririfcar Estado com maior/menor pontuacao \n",
    "data_regiao_fatores = df.groupby(['ID_REGIAO',]).agg({\"Estrutura\": [\"mean\"],\n",
    "                                                  \"PED\": [\"mean\"],\n",
    "                                                  \"LibrasBraile\": [\"mean\"],\n",
    "                                                 \"TratamentoLixo\": [\"mean\"],\n",
    "                                                 \"PCD\": [\"mean\"],\n",
    "                                                 \"Acessibilidade\": [\"mean\"],\n",
    "                                                  \"Internet\": [\"mean\"],\n",
    "                                                  \"Transporte\": [\"mean\"],\n",
    "                                                  \n",
    "                                                 },\n",
    "                                                                                 split_out=4)\n",
    "\n",
    "data_regiao_fatores = data_regiao_fatores.reset_index()\n",
    "data_regiao_fatores.columns = ['Regiao','Estrutura','PED',\n",
    "                               'LibrasBraile','TratamentoLixo','PCD','Acessibilidade','Internet','Transporte']\n",
    "data_regiao_fatores.sort_values(['Estrutura'], ascending=[True])\n",
    "data_regiao_fatores.head()"
   ]
  },
  {
   "cell_type": "code",
   "execution_count": 170,
   "id": "af963517",
   "metadata": {
    "scrolled": true
   },
   "outputs": [
    {
     "data": {
      "text/html": [
       "<div>\n",
       "<style scoped>\n",
       "    .dataframe tbody tr th:only-of-type {\n",
       "        vertical-align: middle;\n",
       "    }\n",
       "\n",
       "    .dataframe tbody tr th {\n",
       "        vertical-align: top;\n",
       "    }\n",
       "\n",
       "    .dataframe thead th {\n",
       "        text-align: right;\n",
       "    }\n",
       "</style>\n",
       "<table border=\"1\" class=\"dataframe\">\n",
       "  <thead>\n",
       "    <tr style=\"text-align: right;\">\n",
       "      <th></th>\n",
       "      <th>Estrutura</th>\n",
       "      <th>PED</th>\n",
       "      <th>LibrasBraile</th>\n",
       "      <th>TratamentoLixo</th>\n",
       "      <th>PCD</th>\n",
       "      <th>Acessibilidade</th>\n",
       "      <th>Internet</th>\n",
       "      <th>Transporte</th>\n",
       "    </tr>\n",
       "  </thead>\n",
       "  <tbody>\n",
       "    <tr>\n",
       "      <th>3423</th>\n",
       "      <td>-0.52</td>\n",
       "      <td>-0.29</td>\n",
       "      <td>-0.1</td>\n",
       "      <td>-0.23</td>\n",
       "      <td>-0.46</td>\n",
       "      <td>-1.36</td>\n",
       "      <td>-0.2</td>\n",
       "      <td>-1.76</td>\n",
       "    </tr>\n",
       "  </tbody>\n",
       "</table>\n",
       "</div>"
      ],
      "text/plain": [
       "      Estrutura   PED  LibrasBraile  TratamentoLixo   PCD  Acessibilidade  \\\n",
       "3423      -0.52 -0.29          -0.1           -0.23 -0.46           -1.36   \n",
       "\n",
       "      Internet  Transporte  \n",
       "3423      -0.2       -1.76  "
      ]
     },
     "execution_count": 170,
     "metadata": {},
     "output_type": "execute_result"
    }
   ],
   "source": [
    "#Agrupar por Escola\n",
    "#Veririfcar Estado com maior/menor pontuacao \n",
    "nome_Escola='E M E F PROFESSORA DALILA LEAO'\n",
    "filter = ((df['ID_UF'] == 'PA') & (df.NO_ENTIDADE == nome_Escola))\n",
    "data_escola_ = df[filter]\n",
    "\n",
    "cols = ['Estrutura','PED','LibrasBraile','TratamentoLixo','PCD','Acessibilidade','Internet','Transporte']\n",
    "#data_brasil_fatores = df[cols].mean()\n",
    "\n",
    "data_escola_fatores = pd.DataFrame(data_escola_[cols].mean().to_dict(),\n",
    "                                   index=[data_escola_[cols].index.values[-1]])\n",
    "\n",
    "data_escola_fatores.head()\n"
   ]
  },
  {
   "cell_type": "code",
   "execution_count": 9,
   "id": "d1ea2244",
   "metadata": {},
   "outputs": [],
   "source": [
    "def plotRadarCensoSaeb():\n",
    "   \n",
    "    #Carrega dados\n",
    "    #path_file = 'https://raw.githubusercontent.com/eltonsarmanho/GoogleFitDataFlow/main/data/inep_saeb_merge_fatorial_2019.csv'\n",
    "    path_file = '../Dataset/inep_saeb_merge_fatorial_2019.csv'\n",
    "\n",
    "    dataset = pd.read_csv(path_file, delimiter='\\t', )\n",
    "    dict_uf = {11: 'RO', 12: 'AC', 13: 'AM', 14: 'RR', 15: 'PA', 16: 'AP', 17: 'TO', 21: 'MA', 22: 'PI', 23: 'CE',\n",
    "               24: 'RN',\n",
    "               25: 'PB', 26: 'PE', 27: 'AL', 28: 'SE', 29: 'BA', 31: 'MG', 32: 'ES', 33: 'RJ', 35: 'SP', 41: 'PR',\n",
    "               42: 'SC', 43: 'RS', 50: 'MS',\n",
    "               51: 'MT', 52: 'GO', 53: 'DF', }\n",
    "    df = dataset.replace({\"ID_UF\": dict_uf})\n",
    "    \n",
    "    #Processamento no contexto nacional\n",
    "    #Agrupar por Nacional\n",
    "    cols = ['Estrutura','PED','LibrasBraile','TratamentoLixo','PCD','Acessibilidade','Internet','Transporte']\n",
    "    \n",
    "    data_brasil_fatores = pd.DataFrame(df[cols].mean().to_dict(),index=[df[cols].index.values[-1]])\n",
    "\n",
    "    \n",
    "    dimensoes = list(data_brasil_fatores.columns)\n",
    "    dimensoes = [*dimensoes, dimensoes[0]]\n",
    "\n",
    "    esc = data_brasil_fatores.values.flatten().tolist()\n",
    "    esc = [*esc, esc[0]]\n",
    "    \n",
    "    \n",
    "    #Processamento no contexto Estadual\n",
    "    filter = (df['ID_UF'] == 'PA')\n",
    "    data_estado_ = df[filter]\n",
    "\n",
    "    data_estado_fatores = pd.DataFrame(data_estado_[cols].mean().to_dict(),index=[data_estado_[cols].index.values[-1]])\n",
    "\n",
    "    \n",
    "    dimensoes_estado = list(data_estado_fatores.columns)\n",
    "    dimensoes_estado = [*dimensoes_estado, dimensoes_estado[0]]\n",
    "\n",
    "    esc_estado = data_estado_fatores.values.flatten().tolist()\n",
    "    esc_estado = [*esc_estado, esc_estado[0]]    \n",
    "    \n",
    "    \n",
    "    #Processamento no contexto Escolar    \n",
    "    \n",
    "       \n",
    "    nome_Escola='E M E F PROFESSORA DALILA LEAO'\n",
    "    #nome_Escola = 'E M E F E PROF GENEROSA'\n",
    "    filter = ((df['ID_UF'] == 'PA') & (df.NO_ENTIDADE == nome_Escola))\n",
    "    data_escola_ = df[filter]\n",
    "\n",
    "    data_escola_fatores = pd.DataFrame(data_escola_[cols].mean().to_dict(),\n",
    "                                       index=[data_escola_[cols].index.values[-1]])\n",
    "\n",
    "    dimensoes_escola = list(data_escola_fatores.columns)\n",
    "    dimensoes_escola = [*dimensoes_escola, dimensoes_escola[0]]\n",
    "\n",
    "    esc_escola = data_escola_fatores.values.flatten().tolist()\n",
    "    esc_escola = [*esc_escola, esc_escola[0]]\n",
    "    \n",
    "    fig = go.Figure(\n",
    "        data=[\n",
    "            go.Scatterpolar(r=esc_estado, theta=dimensoes_estado, name='Estado'),\n",
    "            go.Scatterpolar(r=esc_escola, theta=dimensoes_escola, name='Escola'),\n",
    "            go.Scatterpolar(r=esc, theta=dimensoes, name='Nacional'),\n",
    "           \n",
    "        ],\n",
    "        layout=go.Layout(\n",
    "            title_y=0.98,title_x=0.25,\n",
    "            title=go.layout.Title(text='Fatores SAEB-CENSO - '+nome_Escola),\n",
    "            polar={'radialaxis': {'visible': False}},\n",
    "            showlegend=True\n",
    "        )\n",
    "    )\n",
    "    return fig"
   ]
  },
  {
   "cell_type": "code",
   "execution_count": 10,
   "id": "ddae6ea4",
   "metadata": {},
   "outputs": [
    {
     "data": {
      "application/vnd.plotly.v1+json": {
       "config": {
        "plotlyServerURL": "https://plot.ly"
       },
       "data": [
        {
         "name": "Estado",
         "r": [
          -0.5755392936684696,
          0.043245307031497024,
          0.3010499522748968,
          -0.024661151765828976,
          0.2709099586382447,
          -1.607979637289216,
          -0.1876232898504608,
          -0.3282723512567621,
          -0.5755392936684696
         ],
         "theta": [
          "Estrutura",
          "PED",
          "LibrasBraile",
          "TratamentoLixo",
          "PCD",
          "Acessibilidade",
          "Internet",
          "Transporte",
          "Estrutura"
         ],
         "type": "scatterpolar"
        },
        {
         "name": "Escola",
         "r": [
          -0.52,
          -0.29,
          -0.1,
          -0.23,
          -0.46,
          -1.36,
          -0.2,
          -1.76,
          -0.52
         ],
         "theta": [
          "Estrutura",
          "PED",
          "LibrasBraile",
          "TratamentoLixo",
          "PCD",
          "Acessibilidade",
          "Internet",
          "Transporte",
          "Estrutura"
         ],
         "type": "scatterpolar"
        },
        {
         "name": "Nacional",
         "r": [
          -5.9041297004890375e-06,
          -5.425416477336493e-06,
          9.095551158528199e-06,
          1.3723112274184789e-05,
          1.5957107299725879e-06,
          -7.1806982847094196e-06,
          4.94670326104066e-06,
          -1.0691261887539252e-05,
          -5.9041297004890375e-06
         ],
         "theta": [
          "Estrutura",
          "PED",
          "LibrasBraile",
          "TratamentoLixo",
          "PCD",
          "Acessibilidade",
          "Internet",
          "Transporte",
          "Estrutura"
         ],
         "type": "scatterpolar"
        }
       ],
       "layout": {
        "polar": {
         "radialaxis": {
          "visible": false
         }
        },
        "showlegend": true,
        "template": {
         "data": {
          "bar": [
           {
            "error_x": {
             "color": "#2a3f5f"
            },
            "error_y": {
             "color": "#2a3f5f"
            },
            "marker": {
             "line": {
              "color": "#E5ECF6",
              "width": 0.5
             },
             "pattern": {
              "fillmode": "overlay",
              "size": 10,
              "solidity": 0.2
             }
            },
            "type": "bar"
           }
          ],
          "barpolar": [
           {
            "marker": {
             "line": {
              "color": "#E5ECF6",
              "width": 0.5
             },
             "pattern": {
              "fillmode": "overlay",
              "size": 10,
              "solidity": 0.2
             }
            },
            "type": "barpolar"
           }
          ],
          "carpet": [
           {
            "aaxis": {
             "endlinecolor": "#2a3f5f",
             "gridcolor": "white",
             "linecolor": "white",
             "minorgridcolor": "white",
             "startlinecolor": "#2a3f5f"
            },
            "baxis": {
             "endlinecolor": "#2a3f5f",
             "gridcolor": "white",
             "linecolor": "white",
             "minorgridcolor": "white",
             "startlinecolor": "#2a3f5f"
            },
            "type": "carpet"
           }
          ],
          "choropleth": [
           {
            "colorbar": {
             "outlinewidth": 0,
             "ticks": ""
            },
            "type": "choropleth"
           }
          ],
          "contour": [
           {
            "colorbar": {
             "outlinewidth": 0,
             "ticks": ""
            },
            "colorscale": [
             [
              0,
              "#0d0887"
             ],
             [
              0.1111111111111111,
              "#46039f"
             ],
             [
              0.2222222222222222,
              "#7201a8"
             ],
             [
              0.3333333333333333,
              "#9c179e"
             ],
             [
              0.4444444444444444,
              "#bd3786"
             ],
             [
              0.5555555555555556,
              "#d8576b"
             ],
             [
              0.6666666666666666,
              "#ed7953"
             ],
             [
              0.7777777777777778,
              "#fb9f3a"
             ],
             [
              0.8888888888888888,
              "#fdca26"
             ],
             [
              1,
              "#f0f921"
             ]
            ],
            "type": "contour"
           }
          ],
          "contourcarpet": [
           {
            "colorbar": {
             "outlinewidth": 0,
             "ticks": ""
            },
            "type": "contourcarpet"
           }
          ],
          "heatmap": [
           {
            "colorbar": {
             "outlinewidth": 0,
             "ticks": ""
            },
            "colorscale": [
             [
              0,
              "#0d0887"
             ],
             [
              0.1111111111111111,
              "#46039f"
             ],
             [
              0.2222222222222222,
              "#7201a8"
             ],
             [
              0.3333333333333333,
              "#9c179e"
             ],
             [
              0.4444444444444444,
              "#bd3786"
             ],
             [
              0.5555555555555556,
              "#d8576b"
             ],
             [
              0.6666666666666666,
              "#ed7953"
             ],
             [
              0.7777777777777778,
              "#fb9f3a"
             ],
             [
              0.8888888888888888,
              "#fdca26"
             ],
             [
              1,
              "#f0f921"
             ]
            ],
            "type": "heatmap"
           }
          ],
          "heatmapgl": [
           {
            "colorbar": {
             "outlinewidth": 0,
             "ticks": ""
            },
            "colorscale": [
             [
              0,
              "#0d0887"
             ],
             [
              0.1111111111111111,
              "#46039f"
             ],
             [
              0.2222222222222222,
              "#7201a8"
             ],
             [
              0.3333333333333333,
              "#9c179e"
             ],
             [
              0.4444444444444444,
              "#bd3786"
             ],
             [
              0.5555555555555556,
              "#d8576b"
             ],
             [
              0.6666666666666666,
              "#ed7953"
             ],
             [
              0.7777777777777778,
              "#fb9f3a"
             ],
             [
              0.8888888888888888,
              "#fdca26"
             ],
             [
              1,
              "#f0f921"
             ]
            ],
            "type": "heatmapgl"
           }
          ],
          "histogram": [
           {
            "marker": {
             "pattern": {
              "fillmode": "overlay",
              "size": 10,
              "solidity": 0.2
             }
            },
            "type": "histogram"
           }
          ],
          "histogram2d": [
           {
            "colorbar": {
             "outlinewidth": 0,
             "ticks": ""
            },
            "colorscale": [
             [
              0,
              "#0d0887"
             ],
             [
              0.1111111111111111,
              "#46039f"
             ],
             [
              0.2222222222222222,
              "#7201a8"
             ],
             [
              0.3333333333333333,
              "#9c179e"
             ],
             [
              0.4444444444444444,
              "#bd3786"
             ],
             [
              0.5555555555555556,
              "#d8576b"
             ],
             [
              0.6666666666666666,
              "#ed7953"
             ],
             [
              0.7777777777777778,
              "#fb9f3a"
             ],
             [
              0.8888888888888888,
              "#fdca26"
             ],
             [
              1,
              "#f0f921"
             ]
            ],
            "type": "histogram2d"
           }
          ],
          "histogram2dcontour": [
           {
            "colorbar": {
             "outlinewidth": 0,
             "ticks": ""
            },
            "colorscale": [
             [
              0,
              "#0d0887"
             ],
             [
              0.1111111111111111,
              "#46039f"
             ],
             [
              0.2222222222222222,
              "#7201a8"
             ],
             [
              0.3333333333333333,
              "#9c179e"
             ],
             [
              0.4444444444444444,
              "#bd3786"
             ],
             [
              0.5555555555555556,
              "#d8576b"
             ],
             [
              0.6666666666666666,
              "#ed7953"
             ],
             [
              0.7777777777777778,
              "#fb9f3a"
             ],
             [
              0.8888888888888888,
              "#fdca26"
             ],
             [
              1,
              "#f0f921"
             ]
            ],
            "type": "histogram2dcontour"
           }
          ],
          "mesh3d": [
           {
            "colorbar": {
             "outlinewidth": 0,
             "ticks": ""
            },
            "type": "mesh3d"
           }
          ],
          "parcoords": [
           {
            "line": {
             "colorbar": {
              "outlinewidth": 0,
              "ticks": ""
             }
            },
            "type": "parcoords"
           }
          ],
          "pie": [
           {
            "automargin": true,
            "type": "pie"
           }
          ],
          "scatter": [
           {
            "marker": {
             "colorbar": {
              "outlinewidth": 0,
              "ticks": ""
             }
            },
            "type": "scatter"
           }
          ],
          "scatter3d": [
           {
            "line": {
             "colorbar": {
              "outlinewidth": 0,
              "ticks": ""
             }
            },
            "marker": {
             "colorbar": {
              "outlinewidth": 0,
              "ticks": ""
             }
            },
            "type": "scatter3d"
           }
          ],
          "scattercarpet": [
           {
            "marker": {
             "colorbar": {
              "outlinewidth": 0,
              "ticks": ""
             }
            },
            "type": "scattercarpet"
           }
          ],
          "scattergeo": [
           {
            "marker": {
             "colorbar": {
              "outlinewidth": 0,
              "ticks": ""
             }
            },
            "type": "scattergeo"
           }
          ],
          "scattergl": [
           {
            "marker": {
             "colorbar": {
              "outlinewidth": 0,
              "ticks": ""
             }
            },
            "type": "scattergl"
           }
          ],
          "scattermapbox": [
           {
            "marker": {
             "colorbar": {
              "outlinewidth": 0,
              "ticks": ""
             }
            },
            "type": "scattermapbox"
           }
          ],
          "scatterpolar": [
           {
            "marker": {
             "colorbar": {
              "outlinewidth": 0,
              "ticks": ""
             }
            },
            "type": "scatterpolar"
           }
          ],
          "scatterpolargl": [
           {
            "marker": {
             "colorbar": {
              "outlinewidth": 0,
              "ticks": ""
             }
            },
            "type": "scatterpolargl"
           }
          ],
          "scatterternary": [
           {
            "marker": {
             "colorbar": {
              "outlinewidth": 0,
              "ticks": ""
             }
            },
            "type": "scatterternary"
           }
          ],
          "surface": [
           {
            "colorbar": {
             "outlinewidth": 0,
             "ticks": ""
            },
            "colorscale": [
             [
              0,
              "#0d0887"
             ],
             [
              0.1111111111111111,
              "#46039f"
             ],
             [
              0.2222222222222222,
              "#7201a8"
             ],
             [
              0.3333333333333333,
              "#9c179e"
             ],
             [
              0.4444444444444444,
              "#bd3786"
             ],
             [
              0.5555555555555556,
              "#d8576b"
             ],
             [
              0.6666666666666666,
              "#ed7953"
             ],
             [
              0.7777777777777778,
              "#fb9f3a"
             ],
             [
              0.8888888888888888,
              "#fdca26"
             ],
             [
              1,
              "#f0f921"
             ]
            ],
            "type": "surface"
           }
          ],
          "table": [
           {
            "cells": {
             "fill": {
              "color": "#EBF0F8"
             },
             "line": {
              "color": "white"
             }
            },
            "header": {
             "fill": {
              "color": "#C8D4E3"
             },
             "line": {
              "color": "white"
             }
            },
            "type": "table"
           }
          ]
         },
         "layout": {
          "annotationdefaults": {
           "arrowcolor": "#2a3f5f",
           "arrowhead": 0,
           "arrowwidth": 1
          },
          "autotypenumbers": "strict",
          "coloraxis": {
           "colorbar": {
            "outlinewidth": 0,
            "ticks": ""
           }
          },
          "colorscale": {
           "diverging": [
            [
             0,
             "#8e0152"
            ],
            [
             0.1,
             "#c51b7d"
            ],
            [
             0.2,
             "#de77ae"
            ],
            [
             0.3,
             "#f1b6da"
            ],
            [
             0.4,
             "#fde0ef"
            ],
            [
             0.5,
             "#f7f7f7"
            ],
            [
             0.6,
             "#e6f5d0"
            ],
            [
             0.7,
             "#b8e186"
            ],
            [
             0.8,
             "#7fbc41"
            ],
            [
             0.9,
             "#4d9221"
            ],
            [
             1,
             "#276419"
            ]
           ],
           "sequential": [
            [
             0,
             "#0d0887"
            ],
            [
             0.1111111111111111,
             "#46039f"
            ],
            [
             0.2222222222222222,
             "#7201a8"
            ],
            [
             0.3333333333333333,
             "#9c179e"
            ],
            [
             0.4444444444444444,
             "#bd3786"
            ],
            [
             0.5555555555555556,
             "#d8576b"
            ],
            [
             0.6666666666666666,
             "#ed7953"
            ],
            [
             0.7777777777777778,
             "#fb9f3a"
            ],
            [
             0.8888888888888888,
             "#fdca26"
            ],
            [
             1,
             "#f0f921"
            ]
           ],
           "sequentialminus": [
            [
             0,
             "#0d0887"
            ],
            [
             0.1111111111111111,
             "#46039f"
            ],
            [
             0.2222222222222222,
             "#7201a8"
            ],
            [
             0.3333333333333333,
             "#9c179e"
            ],
            [
             0.4444444444444444,
             "#bd3786"
            ],
            [
             0.5555555555555556,
             "#d8576b"
            ],
            [
             0.6666666666666666,
             "#ed7953"
            ],
            [
             0.7777777777777778,
             "#fb9f3a"
            ],
            [
             0.8888888888888888,
             "#fdca26"
            ],
            [
             1,
             "#f0f921"
            ]
           ]
          },
          "colorway": [
           "#636efa",
           "#EF553B",
           "#00cc96",
           "#ab63fa",
           "#FFA15A",
           "#19d3f3",
           "#FF6692",
           "#B6E880",
           "#FF97FF",
           "#FECB52"
          ],
          "font": {
           "color": "#2a3f5f"
          },
          "geo": {
           "bgcolor": "white",
           "lakecolor": "white",
           "landcolor": "#E5ECF6",
           "showlakes": true,
           "showland": true,
           "subunitcolor": "white"
          },
          "hoverlabel": {
           "align": "left"
          },
          "hovermode": "closest",
          "mapbox": {
           "style": "light"
          },
          "paper_bgcolor": "white",
          "plot_bgcolor": "#E5ECF6",
          "polar": {
           "angularaxis": {
            "gridcolor": "white",
            "linecolor": "white",
            "ticks": ""
           },
           "bgcolor": "#E5ECF6",
           "radialaxis": {
            "gridcolor": "white",
            "linecolor": "white",
            "ticks": ""
           }
          },
          "scene": {
           "xaxis": {
            "backgroundcolor": "#E5ECF6",
            "gridcolor": "white",
            "gridwidth": 2,
            "linecolor": "white",
            "showbackground": true,
            "ticks": "",
            "zerolinecolor": "white"
           },
           "yaxis": {
            "backgroundcolor": "#E5ECF6",
            "gridcolor": "white",
            "gridwidth": 2,
            "linecolor": "white",
            "showbackground": true,
            "ticks": "",
            "zerolinecolor": "white"
           },
           "zaxis": {
            "backgroundcolor": "#E5ECF6",
            "gridcolor": "white",
            "gridwidth": 2,
            "linecolor": "white",
            "showbackground": true,
            "ticks": "",
            "zerolinecolor": "white"
           }
          },
          "shapedefaults": {
           "line": {
            "color": "#2a3f5f"
           }
          },
          "ternary": {
           "aaxis": {
            "gridcolor": "white",
            "linecolor": "white",
            "ticks": ""
           },
           "baxis": {
            "gridcolor": "white",
            "linecolor": "white",
            "ticks": ""
           },
           "bgcolor": "#E5ECF6",
           "caxis": {
            "gridcolor": "white",
            "linecolor": "white",
            "ticks": ""
           }
          },
          "title": {
           "x": 0.05
          },
          "xaxis": {
           "automargin": true,
           "gridcolor": "white",
           "linecolor": "white",
           "ticks": "",
           "title": {
            "standoff": 15
           },
           "zerolinecolor": "white",
           "zerolinewidth": 2
          },
          "yaxis": {
           "automargin": true,
           "gridcolor": "white",
           "linecolor": "white",
           "ticks": "",
           "title": {
            "standoff": 15
           },
           "zerolinecolor": "white",
           "zerolinewidth": 2
          }
         }
        },
        "title": {
         "text": "Fatores SAEB-CENSO - E M E F PROFESSORA DALILA LEAO",
         "x": 0.25,
         "y": 0.98
        }
       }
      },
      "text/html": [
       "<div>                            <div id=\"656f8924-3160-4665-a575-0843236383fd\" class=\"plotly-graph-div\" style=\"height:525px; width:100%;\"></div>            <script type=\"text/javascript\">                require([\"plotly\"], function(Plotly) {                    window.PLOTLYENV=window.PLOTLYENV || {};                                    if (document.getElementById(\"656f8924-3160-4665-a575-0843236383fd\")) {                    Plotly.newPlot(                        \"656f8924-3160-4665-a575-0843236383fd\",                        [{\"name\":\"Estado\",\"r\":[-0.5755392936684696,0.043245307031497024,0.3010499522748968,-0.024661151765828976,0.2709099586382447,-1.607979637289216,-0.1876232898504608,-0.3282723512567621,-0.5755392936684696],\"theta\":[\"Estrutura\",\"PED\",\"LibrasBraile\",\"TratamentoLixo\",\"PCD\",\"Acessibilidade\",\"Internet\",\"Transporte\",\"Estrutura\"],\"type\":\"scatterpolar\"},{\"name\":\"Escola\",\"r\":[-0.52,-0.29,-0.1,-0.23,-0.46,-1.36,-0.2,-1.76,-0.52],\"theta\":[\"Estrutura\",\"PED\",\"LibrasBraile\",\"TratamentoLixo\",\"PCD\",\"Acessibilidade\",\"Internet\",\"Transporte\",\"Estrutura\"],\"type\":\"scatterpolar\"},{\"name\":\"Nacional\",\"r\":[-5.9041297004890375e-06,-5.425416477336493e-06,9.095551158528199e-06,1.3723112274184789e-05,1.5957107299725879e-06,-7.1806982847094196e-06,4.94670326104066e-06,-1.0691261887539252e-05,-5.9041297004890375e-06],\"theta\":[\"Estrutura\",\"PED\",\"LibrasBraile\",\"TratamentoLixo\",\"PCD\",\"Acessibilidade\",\"Internet\",\"Transporte\",\"Estrutura\"],\"type\":\"scatterpolar\"}],                        {\"polar\":{\"radialaxis\":{\"visible\":false}},\"showlegend\":true,\"title\":{\"text\":\"Fatores SAEB-CENSO - E M E F PROFESSORA DALILA LEAO\",\"x\":0.25,\"y\":0.98},\"template\":{\"data\":{\"bar\":[{\"error_x\":{\"color\":\"#2a3f5f\"},\"error_y\":{\"color\":\"#2a3f5f\"},\"marker\":{\"line\":{\"color\":\"#E5ECF6\",\"width\":0.5},\"pattern\":{\"fillmode\":\"overlay\",\"size\":10,\"solidity\":0.2}},\"type\":\"bar\"}],\"barpolar\":[{\"marker\":{\"line\":{\"color\":\"#E5ECF6\",\"width\":0.5},\"pattern\":{\"fillmode\":\"overlay\",\"size\":10,\"solidity\":0.2}},\"type\":\"barpolar\"}],\"carpet\":[{\"aaxis\":{\"endlinecolor\":\"#2a3f5f\",\"gridcolor\":\"white\",\"linecolor\":\"white\",\"minorgridcolor\":\"white\",\"startlinecolor\":\"#2a3f5f\"},\"baxis\":{\"endlinecolor\":\"#2a3f5f\",\"gridcolor\":\"white\",\"linecolor\":\"white\",\"minorgridcolor\":\"white\",\"startlinecolor\":\"#2a3f5f\"},\"type\":\"carpet\"}],\"choropleth\":[{\"colorbar\":{\"outlinewidth\":0,\"ticks\":\"\"},\"type\":\"choropleth\"}],\"contour\":[{\"colorbar\":{\"outlinewidth\":0,\"ticks\":\"\"},\"colorscale\":[[0.0,\"#0d0887\"],[0.1111111111111111,\"#46039f\"],[0.2222222222222222,\"#7201a8\"],[0.3333333333333333,\"#9c179e\"],[0.4444444444444444,\"#bd3786\"],[0.5555555555555556,\"#d8576b\"],[0.6666666666666666,\"#ed7953\"],[0.7777777777777778,\"#fb9f3a\"],[0.8888888888888888,\"#fdca26\"],[1.0,\"#f0f921\"]],\"type\":\"contour\"}],\"contourcarpet\":[{\"colorbar\":{\"outlinewidth\":0,\"ticks\":\"\"},\"type\":\"contourcarpet\"}],\"heatmap\":[{\"colorbar\":{\"outlinewidth\":0,\"ticks\":\"\"},\"colorscale\":[[0.0,\"#0d0887\"],[0.1111111111111111,\"#46039f\"],[0.2222222222222222,\"#7201a8\"],[0.3333333333333333,\"#9c179e\"],[0.4444444444444444,\"#bd3786\"],[0.5555555555555556,\"#d8576b\"],[0.6666666666666666,\"#ed7953\"],[0.7777777777777778,\"#fb9f3a\"],[0.8888888888888888,\"#fdca26\"],[1.0,\"#f0f921\"]],\"type\":\"heatmap\"}],\"heatmapgl\":[{\"colorbar\":{\"outlinewidth\":0,\"ticks\":\"\"},\"colorscale\":[[0.0,\"#0d0887\"],[0.1111111111111111,\"#46039f\"],[0.2222222222222222,\"#7201a8\"],[0.3333333333333333,\"#9c179e\"],[0.4444444444444444,\"#bd3786\"],[0.5555555555555556,\"#d8576b\"],[0.6666666666666666,\"#ed7953\"],[0.7777777777777778,\"#fb9f3a\"],[0.8888888888888888,\"#fdca26\"],[1.0,\"#f0f921\"]],\"type\":\"heatmapgl\"}],\"histogram\":[{\"marker\":{\"pattern\":{\"fillmode\":\"overlay\",\"size\":10,\"solidity\":0.2}},\"type\":\"histogram\"}],\"histogram2d\":[{\"colorbar\":{\"outlinewidth\":0,\"ticks\":\"\"},\"colorscale\":[[0.0,\"#0d0887\"],[0.1111111111111111,\"#46039f\"],[0.2222222222222222,\"#7201a8\"],[0.3333333333333333,\"#9c179e\"],[0.4444444444444444,\"#bd3786\"],[0.5555555555555556,\"#d8576b\"],[0.6666666666666666,\"#ed7953\"],[0.7777777777777778,\"#fb9f3a\"],[0.8888888888888888,\"#fdca26\"],[1.0,\"#f0f921\"]],\"type\":\"histogram2d\"}],\"histogram2dcontour\":[{\"colorbar\":{\"outlinewidth\":0,\"ticks\":\"\"},\"colorscale\":[[0.0,\"#0d0887\"],[0.1111111111111111,\"#46039f\"],[0.2222222222222222,\"#7201a8\"],[0.3333333333333333,\"#9c179e\"],[0.4444444444444444,\"#bd3786\"],[0.5555555555555556,\"#d8576b\"],[0.6666666666666666,\"#ed7953\"],[0.7777777777777778,\"#fb9f3a\"],[0.8888888888888888,\"#fdca26\"],[1.0,\"#f0f921\"]],\"type\":\"histogram2dcontour\"}],\"mesh3d\":[{\"colorbar\":{\"outlinewidth\":0,\"ticks\":\"\"},\"type\":\"mesh3d\"}],\"parcoords\":[{\"line\":{\"colorbar\":{\"outlinewidth\":0,\"ticks\":\"\"}},\"type\":\"parcoords\"}],\"pie\":[{\"automargin\":true,\"type\":\"pie\"}],\"scatter\":[{\"marker\":{\"colorbar\":{\"outlinewidth\":0,\"ticks\":\"\"}},\"type\":\"scatter\"}],\"scatter3d\":[{\"line\":{\"colorbar\":{\"outlinewidth\":0,\"ticks\":\"\"}},\"marker\":{\"colorbar\":{\"outlinewidth\":0,\"ticks\":\"\"}},\"type\":\"scatter3d\"}],\"scattercarpet\":[{\"marker\":{\"colorbar\":{\"outlinewidth\":0,\"ticks\":\"\"}},\"type\":\"scattercarpet\"}],\"scattergeo\":[{\"marker\":{\"colorbar\":{\"outlinewidth\":0,\"ticks\":\"\"}},\"type\":\"scattergeo\"}],\"scattergl\":[{\"marker\":{\"colorbar\":{\"outlinewidth\":0,\"ticks\":\"\"}},\"type\":\"scattergl\"}],\"scattermapbox\":[{\"marker\":{\"colorbar\":{\"outlinewidth\":0,\"ticks\":\"\"}},\"type\":\"scattermapbox\"}],\"scatterpolar\":[{\"marker\":{\"colorbar\":{\"outlinewidth\":0,\"ticks\":\"\"}},\"type\":\"scatterpolar\"}],\"scatterpolargl\":[{\"marker\":{\"colorbar\":{\"outlinewidth\":0,\"ticks\":\"\"}},\"type\":\"scatterpolargl\"}],\"scatterternary\":[{\"marker\":{\"colorbar\":{\"outlinewidth\":0,\"ticks\":\"\"}},\"type\":\"scatterternary\"}],\"surface\":[{\"colorbar\":{\"outlinewidth\":0,\"ticks\":\"\"},\"colorscale\":[[0.0,\"#0d0887\"],[0.1111111111111111,\"#46039f\"],[0.2222222222222222,\"#7201a8\"],[0.3333333333333333,\"#9c179e\"],[0.4444444444444444,\"#bd3786\"],[0.5555555555555556,\"#d8576b\"],[0.6666666666666666,\"#ed7953\"],[0.7777777777777778,\"#fb9f3a\"],[0.8888888888888888,\"#fdca26\"],[1.0,\"#f0f921\"]],\"type\":\"surface\"}],\"table\":[{\"cells\":{\"fill\":{\"color\":\"#EBF0F8\"},\"line\":{\"color\":\"white\"}},\"header\":{\"fill\":{\"color\":\"#C8D4E3\"},\"line\":{\"color\":\"white\"}},\"type\":\"table\"}]},\"layout\":{\"annotationdefaults\":{\"arrowcolor\":\"#2a3f5f\",\"arrowhead\":0,\"arrowwidth\":1},\"autotypenumbers\":\"strict\",\"coloraxis\":{\"colorbar\":{\"outlinewidth\":0,\"ticks\":\"\"}},\"colorscale\":{\"diverging\":[[0,\"#8e0152\"],[0.1,\"#c51b7d\"],[0.2,\"#de77ae\"],[0.3,\"#f1b6da\"],[0.4,\"#fde0ef\"],[0.5,\"#f7f7f7\"],[0.6,\"#e6f5d0\"],[0.7,\"#b8e186\"],[0.8,\"#7fbc41\"],[0.9,\"#4d9221\"],[1,\"#276419\"]],\"sequential\":[[0.0,\"#0d0887\"],[0.1111111111111111,\"#46039f\"],[0.2222222222222222,\"#7201a8\"],[0.3333333333333333,\"#9c179e\"],[0.4444444444444444,\"#bd3786\"],[0.5555555555555556,\"#d8576b\"],[0.6666666666666666,\"#ed7953\"],[0.7777777777777778,\"#fb9f3a\"],[0.8888888888888888,\"#fdca26\"],[1.0,\"#f0f921\"]],\"sequentialminus\":[[0.0,\"#0d0887\"],[0.1111111111111111,\"#46039f\"],[0.2222222222222222,\"#7201a8\"],[0.3333333333333333,\"#9c179e\"],[0.4444444444444444,\"#bd3786\"],[0.5555555555555556,\"#d8576b\"],[0.6666666666666666,\"#ed7953\"],[0.7777777777777778,\"#fb9f3a\"],[0.8888888888888888,\"#fdca26\"],[1.0,\"#f0f921\"]]},\"colorway\":[\"#636efa\",\"#EF553B\",\"#00cc96\",\"#ab63fa\",\"#FFA15A\",\"#19d3f3\",\"#FF6692\",\"#B6E880\",\"#FF97FF\",\"#FECB52\"],\"font\":{\"color\":\"#2a3f5f\"},\"geo\":{\"bgcolor\":\"white\",\"lakecolor\":\"white\",\"landcolor\":\"#E5ECF6\",\"showlakes\":true,\"showland\":true,\"subunitcolor\":\"white\"},\"hoverlabel\":{\"align\":\"left\"},\"hovermode\":\"closest\",\"mapbox\":{\"style\":\"light\"},\"paper_bgcolor\":\"white\",\"plot_bgcolor\":\"#E5ECF6\",\"polar\":{\"angularaxis\":{\"gridcolor\":\"white\",\"linecolor\":\"white\",\"ticks\":\"\"},\"bgcolor\":\"#E5ECF6\",\"radialaxis\":{\"gridcolor\":\"white\",\"linecolor\":\"white\",\"ticks\":\"\"}},\"scene\":{\"xaxis\":{\"backgroundcolor\":\"#E5ECF6\",\"gridcolor\":\"white\",\"gridwidth\":2,\"linecolor\":\"white\",\"showbackground\":true,\"ticks\":\"\",\"zerolinecolor\":\"white\"},\"yaxis\":{\"backgroundcolor\":\"#E5ECF6\",\"gridcolor\":\"white\",\"gridwidth\":2,\"linecolor\":\"white\",\"showbackground\":true,\"ticks\":\"\",\"zerolinecolor\":\"white\"},\"zaxis\":{\"backgroundcolor\":\"#E5ECF6\",\"gridcolor\":\"white\",\"gridwidth\":2,\"linecolor\":\"white\",\"showbackground\":true,\"ticks\":\"\",\"zerolinecolor\":\"white\"}},\"shapedefaults\":{\"line\":{\"color\":\"#2a3f5f\"}},\"ternary\":{\"aaxis\":{\"gridcolor\":\"white\",\"linecolor\":\"white\",\"ticks\":\"\"},\"baxis\":{\"gridcolor\":\"white\",\"linecolor\":\"white\",\"ticks\":\"\"},\"bgcolor\":\"#E5ECF6\",\"caxis\":{\"gridcolor\":\"white\",\"linecolor\":\"white\",\"ticks\":\"\"}},\"title\":{\"x\":0.05},\"xaxis\":{\"automargin\":true,\"gridcolor\":\"white\",\"linecolor\":\"white\",\"ticks\":\"\",\"title\":{\"standoff\":15},\"zerolinecolor\":\"white\",\"zerolinewidth\":2},\"yaxis\":{\"automargin\":true,\"gridcolor\":\"white\",\"linecolor\":\"white\",\"ticks\":\"\",\"title\":{\"standoff\":15},\"zerolinecolor\":\"white\",\"zerolinewidth\":2}}}},                        {\"responsive\": true}                    ).then(function(){\n",
       "                            \n",
       "var gd = document.getElementById('656f8924-3160-4665-a575-0843236383fd');\n",
       "var x = new MutationObserver(function (mutations, observer) {{\n",
       "        var display = window.getComputedStyle(gd).display;\n",
       "        if (!display || display === 'none') {{\n",
       "            console.log([gd, 'removed!']);\n",
       "            Plotly.purge(gd);\n",
       "            observer.disconnect();\n",
       "        }}\n",
       "}});\n",
       "\n",
       "// Listen for the removal of the full notebook cells\n",
       "var notebookContainer = gd.closest('#notebook-container');\n",
       "if (notebookContainer) {{\n",
       "    x.observe(notebookContainer, {childList: true});\n",
       "}}\n",
       "\n",
       "// Listen for the clearing of the current output cell\n",
       "var outputEl = gd.closest('.output');\n",
       "if (outputEl) {{\n",
       "    x.observe(outputEl, {childList: true});\n",
       "}}\n",
       "\n",
       "                        })                };                });            </script>        </div>"
      ]
     },
     "metadata": {},
     "output_type": "display_data"
    }
   ],
   "source": [
    "fig = plotRadarCensoSaeb()\n",
    "fig.show()"
   ]
  },
  {
   "cell_type": "code",
   "execution_count": null,
   "id": "be85e801",
   "metadata": {},
   "outputs": [],
   "source": []
  }
 ],
 "metadata": {
  "kernelspec": {
   "display_name": "Python 3 (ipykernel)",
   "language": "python",
   "name": "python3"
  },
  "language_info": {
   "codemirror_mode": {
    "name": "ipython",
    "version": 3
   },
   "file_extension": ".py",
   "mimetype": "text/x-python",
   "name": "python",
   "nbconvert_exporter": "python",
   "pygments_lexer": "ipython3",
   "version": "3.9.12"
  }
 },
 "nbformat": 4,
 "nbformat_minor": 5
}
